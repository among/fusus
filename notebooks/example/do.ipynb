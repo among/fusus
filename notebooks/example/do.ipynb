{
 "cells": [
  {
   "cell_type": "markdown",
   "metadata": {},
   "source": [
    "How to read this notebook:\n",
    "\n",
    "1.  *best experience*\n",
    "    get this repository on your computer and run `jupyter lab`.\n",
    "    Also install the table of contents extension in Jupyter Lab, since this is a lengthy notebook\n",
    "    You can run the code cells now.\n",
    "1.  *good reading experience*\n",
    "    read it on [NbViewer](https://nbviewer.jupyter.org/github/among/fusus/blob/master/example/doExample.ipynb)\n",
    "1.  *suboptimal*\n",
    "    read it directly on [GitHub](https://github.com/among/fusus/blob/master/example/doExample.ipynb)\n",
    "    (long time to load)\n",
    "   "
   ]
  },
  {
   "cell_type": "markdown",
   "metadata": {},
   "source": [
    "# Quick and dirty way to process pages of a book.\n",
    "\n",
    "We process the some or all example pages in the *example* directory, without and without the OCR step.\n",
    "\n",
    "Reference: [book](https://among.github.io/fusus/fusus/book.html)."
   ]
  },
  {
   "cell_type": "markdown",
   "metadata": {},
   "source": [
    "Import the `fusus` package.\n",
    "If you do not have it yet, see\n",
    "[get `fusus`](https://among.github.io/fusus/fusus/about/install.html#get-the-software)."
   ]
  },
  {
   "cell_type": "code",
   "execution_count": 1,
   "metadata": {},
   "outputs": [],
   "source": [
    "from fusus.book import Book"
   ]
  },
  {
   "cell_type": "code",
   "execution_count": 2,
   "metadata": {},
   "outputs": [],
   "source": [
    "B = Book(cd=\"~/github/among/fusus/example\")"
   ]
  },
  {
   "cell_type": "code",
   "execution_count": 3,
   "metadata": {},
   "outputs": [],
   "source": [
    "# cd to the book directory\n",
    "!cd `pwd`"
   ]
  },
  {
   "cell_type": "code",
   "execution_count": 4,
   "metadata": {},
   "outputs": [
    {
     "name": "stdout",
     "output_type": "stream",
     "text": [
      "  1.19s 18 pages: 47-48,58-59,63,67,101-102,111-113,121-122,131-132,200,300,400\n"
     ]
    }
   ],
   "source": [
    "B.availablePages()"
   ]
  },
  {
   "cell_type": "code",
   "execution_count": 5,
   "metadata": {},
   "outputs": [
    {
     "name": "stdout",
     "output_type": "stream",
     "text": [
      "  0.00s Batch of 1 pages: 47\n",
      "  0.00s Start batch processing images\n",
      "   |     0.87s     1 047.tif                                 \n",
      "  0.88s all done\n"
     ]
    }
   ],
   "source": [
    "lastPage = B.process(pages=47, doOcr=False)"
   ]
  },
  {
   "cell_type": "code",
   "execution_count": 6,
   "metadata": {},
   "outputs": [
    {
     "name": "stdout",
     "output_type": "stream",
     "text": [
      "  0.00s Batch of 2 pages: 47,58\n",
      "  0.00s Start batch processing images\n",
      "   |     0.79s     1 047.tif                                 \n",
      "   |     0.80s     2 058.tif                                 \n",
      "  1.59s all done\n"
     ]
    }
   ],
   "source": [
    "lastPage = B.process(pages=\"47,58\", doOcr=False)"
   ]
  },
  {
   "cell_type": "code",
   "execution_count": 7,
   "metadata": {},
   "outputs": [
    {
     "name": "stdout",
     "output_type": "stream",
     "text": [
      "  0.00s Batch of 6 pages: 47,58,122,131-132,200\n",
      "  0.00s Start batch processing images\n",
      "   |     0.79s     1 047.tif                                 \n",
      "   |     0.72s     2 058.tif                                 \n",
      "   |     1.08s     3 122.jpg                                 \n",
      "   |     1.56s     4 131.jpg                                 \n",
      "   |     1.09s     5 132.jpg                                 \n",
      "   |     3.20s     6 200.tif                                 \n",
      "  8.44s all done\n"
     ]
    }
   ],
   "source": [
    "lastPage = B.process(pages=\"47,58,122-250\", doOcr=False)"
   ]
  },
  {
   "cell_type": "markdown",
   "metadata": {},
   "source": [
    "All pages, but no OCR:"
   ]
  },
  {
   "cell_type": "code",
   "execution_count": 8,
   "metadata": {},
   "outputs": [
    {
     "name": "stdout",
     "output_type": "stream",
     "text": [
      "  0.00s Batch of 18 pages: 47-48,58-59,63,67,101-102,111-113,121-122,131-132,200,300,400\n",
      "  0.00s Start batch processing images\n",
      "   |     1.19s     1 047.tif                                 \n",
      "   |     1.24s     2 048.tif                                 \n",
      "   |     1.23s     3 058.tif                                 \n",
      "   |     1.24s     4 059.tif                                 \n",
      "   |     1.26s     5 063.tif                                 \n",
      "   |     1.29s     6 067.tif                                 \n",
      "   |     0.99s     7 101.jpg                                 \n",
      "   |     1.11s     8 102.jpg                                 \n",
      "   |     1.54s     9 111.jpg                                 \n",
      "   |     1.60s    10 112.jpg                                 \n",
      "   |     1.52s    11 113.jpg                                 \n",
      "   |     1.44s    12 121.jpg                                 \n",
      "   |     1.47s    13 122.jpg                                 \n",
      "   |     2.04s    14 131.jpg                                 \n",
      "   |     1.89s    15 132.jpg                                 \n",
      "   |     6.15s    16 200.tif                                 \n",
      "   |     5.44s    17 300.tif                                 \n",
      "   |     6.34s    18 400.tif                                 \n",
      "    39s all done\n"
     ]
    }
   ],
   "source": [
    "lastPage = B.process(doOcr=False)"
   ]
  },
  {
   "cell_type": "markdown",
   "metadata": {},
   "source": [
    "Finally, all pages, the complete pipeline.\n",
    "\n",
    "Note that the Kraken model for Arabic printed text is loaded on demand and then kept in memory."
   ]
  },
  {
   "cell_type": "code",
   "execution_count": 9,
   "metadata": {},
   "outputs": [
    {
     "name": "stdout",
     "output_type": "stream",
     "text": [
      "  0.00s Batch of 18 pages: 47-48,58-59,63,67,101-102,111-113,121-122,131-132,200,300,400\n",
      "  0.00s Start batch processing images\n",
      "   |     0.96s Loading for Kraken: ~/github/among/fusus/model/arabic_generalized.mlmodel\n",
      "   |     8.43s model loaded\n",
      "   |       11s     1 047.tif                                 \n",
      "   |     2.80s     2 048.tif                                 \n",
      "   |     2.69s     3 058.tif                                 \n",
      "   |     3.71s     4 059.tif                                 \n",
      "   |     3.70s     5 063.tif                                 \n",
      "   |     3.58s     6 067.tif                                 \n",
      "   |     4.51s     7 101.jpg                                 \n",
      "   |     5.32s     8 102.jpg                                 \n",
      "   |     8.14s     9 111.jpg                                 \n",
      "   |     7.75s    10 112.jpg                                 \n",
      "   |     7.16s    11 113.jpg                                 \n",
      "   |     6.61s    12 121.jpg                                 \n",
      "   |     6.18s    13 122.jpg                                 \n",
      "   |     9.09s    14 131.jpg                                 \n",
      "   |     7.42s    15 132.jpg                                 \n",
      "   |       26s    16 200.tif                                 \n",
      "   |       16s    17 300.tif                                 \n",
      "   |       19s    18 400.tif                                 \n",
      " 2m 30s all done\n"
     ]
    }
   ],
   "source": [
    "lastPage = B.process()"
   ]
  },
  {
   "cell_type": "code",
   "execution_count": null,
   "metadata": {},
   "outputs": [],
   "source": []
  }
 ],
 "metadata": {
  "kernelspec": {
   "display_name": "Python 3 (ipykernel)",
   "language": "python",
   "name": "python3"
  },
  "language_info": {
   "codemirror_mode": {
    "name": "ipython",
    "version": 3
   },
   "file_extension": ".py",
   "mimetype": "text/x-python",
   "name": "python",
   "nbconvert_exporter": "python",
   "pygments_lexer": "ipython3",
   "version": "3.12.0"
  },
  "toc-autonumbering": false
 },
 "nbformat": 4,
 "nbformat_minor": 4
}
