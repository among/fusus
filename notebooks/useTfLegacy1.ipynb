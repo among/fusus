{
 "cells": [
  {
   "cell_type": "markdown",
   "metadata": {
    "tags": []
   },
   "source": [
    "# Use Text-Fabric\n",
    "\n",
    "Text-Fabric is a rich API.\n",
    "\n",
    "It might pay off to look at tutorials for\n",
    "[various different corpora in TF](https://annotation.github.io/text-fabric/tf/about/corpora.html).\n",
    "\n",
    "Or see this one for [Fusus (Lakhnawi)](https://nbviewer.org/github/annotation/tutorials/blob/master/fususl/start.ipynb)."
   ]
  },
  {
   "cell_type": "code",
   "execution_count": 1,
   "metadata": {},
   "outputs": [],
   "source": [
    "from tf.app import use"
   ]
  },
  {
   "cell_type": "code",
   "execution_count": 2,
   "metadata": {},
   "outputs": [
    {
     "data": {
      "text/html": [
       "<b title=\"local github\">TF-app:</b> <span title=\"repo clone offline under ~/github\">~/github/annotation/app-fususl/code</span>"
      ],
      "text/plain": [
       "<IPython.core.display.HTML object>"
      ]
     },
     "metadata": {},
     "output_type": "display_data"
    },
    {
     "name": "stdout",
     "output_type": "stream",
     "text": [
      "The requested data is not available offline\n",
      "\t~/text-fabric-data/among/fusus/tf/Lakhnawi not found\n",
      "rate limit is 5000 requests per hour, with 5000 left for this hour\n",
      "\tconnecting to online GitHub repo among/fusus ... connected\n",
      "\tdownloading https://github.com/among/fusus/releases/download/v0.5/tf-Lakhnawi-0.5.zip ... \n",
      "\tunzipping ... \n",
      "\tsaving data\n"
     ]
    },
    {
     "data": {
      "text/html": [
       "<b title=\"latest release\">data:</b> <span title=\"rv0.5=#ad85ef7807876bb7c47e73734064cc750067d98b\">~/text-fabric-data/among/fusus/tf/Lakhnawi/0.5</span>"
      ],
      "text/plain": [
       "<IPython.core.display.HTML object>"
      ]
     },
     "metadata": {},
     "output_type": "display_data"
    },
    {
     "name": "stdout",
     "output_type": "stream",
     "text": [
      "This is Text-Fabric 9.1.1\n",
      "Api reference : https://annotation.github.io/text-fabric/tf/cheatsheet.html\n",
      "\n",
      "18 features found and 0 ignored\n",
      "   |     0.03s T otype                from ~/text-fabric-data/among/fusus/tf/Lakhnawi/0.5\n",
      "   |     0.22s T oslots               from ~/text-fabric-data/among/fusus/tf/Lakhnawi/0.5\n",
      "   |     0.12s T lettersp             from ~/text-fabric-data/among/fusus/tf/Lakhnawi/0.5\n",
      "   |     0.10s T punca                from ~/text-fabric-data/among/fusus/tf/Lakhnawi/0.5\n",
      "   |     0.10s T punc                 from ~/text-fabric-data/among/fusus/tf/Lakhnawi/0.5\n",
      "   |     0.13s T letters              from ~/text-fabric-data/among/fusus/tf/Lakhnawi/0.5\n",
      "   |     0.02s T n                    from ~/text-fabric-data/among/fusus/tf/Lakhnawi/0.5\n",
      "   |     0.13s T letterst             from ~/text-fabric-data/among/fusus/tf/Lakhnawi/0.5\n",
      "   |     0.13s T lettersn             from ~/text-fabric-data/among/fusus/tf/Lakhnawi/0.5\n",
      "   |     0.01s T ln                   from ~/text-fabric-data/among/fusus/tf/Lakhnawi/0.5\n",
      "   |      |     0.01s C __levels__           from otype, oslots, otext\n",
      "   |      |     0.56s C __order__            from otype, oslots, __levels__\n",
      "   |      |     0.03s C __rank__             from otype, __order__\n",
      "   |      |     0.59s C __levUp__            from otype, oslots, __rank__\n",
      "   |      |     0.07s C __levDown__          from otype, __levUp__, __rank__\n",
      "   |      |     0.19s C __boundary__         from otype, oslots, __rank__\n",
      "   |      |     0.02s C __sections__         from otype, oslots, otext, __levUp__, __levels__, n, n, ln\n",
      "   |     0.12s T boxb                 from ~/text-fabric-data/among/fusus/tf/Lakhnawi/0.5\n",
      "   |     0.11s T boxl                 from ~/text-fabric-data/among/fusus/tf/Lakhnawi/0.5\n",
      "   |     0.11s T boxr                 from ~/text-fabric-data/among/fusus/tf/Lakhnawi/0.5\n",
      "   |     0.11s T boxt                 from ~/text-fabric-data/among/fusus/tf/Lakhnawi/0.5\n",
      "   |     0.01s T dir                  from ~/text-fabric-data/among/fusus/tf/Lakhnawi/0.5\n",
      "   |     0.00s T np                   from ~/text-fabric-data/among/fusus/tf/Lakhnawi/0.5\n",
      "   |     0.00s T title                from ~/text-fabric-data/among/fusus/tf/Lakhnawi/0.5\n"
     ]
    },
    {
     "data": {
      "text/html": [
       "<b>Text-Fabric:</b> <a target=\"_blank\" href=\"https://annotation.github.io/text-fabric/tf/cheatsheet.html\" title=\"text-fabric-api\">Text-Fabric API 9.1.1</a>, <a target=\"_blank\" href=\"https://github.com/annotation/app-fususl\" title=\"fususl TF-app\">app-fususl v3</a>, <a target=\"_blank\" href=\"https://annotation.github.io/text-fabric/tf/about/searchusage.html\" title=\"Search Templates Introduction and Reference\">Search Reference</a><br><b>Data:</b> <a target=\"_blank\" href=\"https://among.github.io/fusus/fusus/lakhnawi.html\" title=\"provenance of Fusus Al Hikam, by Ibn Arabi, edition Lakhnawi\">FUSUS</a>, <a target=\"_blank\" href=\"https://annotation.github.io/text-fabric/tf/writing/arabic.html\" title=\"How TF features represent text\">Character table</a>, <a target=\"_blank\" href=\"https://among.github.io/fusus/fusus/about/transcriptionl\" title=\"FUSUS feature documentation\">Feature docs</a><br><b>Features:</b><br><details><summary><b>Fusus Al Hikam, by Ibn Arabi, edition Lakhnawi</b></summary><a target=\"_blank\" href=\"https://among.github.io/fusus/fusus/about/transcriptionl\" title=\"~/text-fabric-data/among/fusus/tf/Lakhnawi/0.5/boxb.tf\">boxb</a><br><a target=\"_blank\" href=\"https://among.github.io/fusus/fusus/about/transcriptionl\" title=\"~/text-fabric-data/among/fusus/tf/Lakhnawi/0.5/boxl.tf\">boxl</a><br><a target=\"_blank\" href=\"https://among.github.io/fusus/fusus/about/transcriptionl\" title=\"~/text-fabric-data/among/fusus/tf/Lakhnawi/0.5/boxr.tf\">boxr</a><br><a target=\"_blank\" href=\"https://among.github.io/fusus/fusus/about/transcriptionl\" title=\"~/text-fabric-data/among/fusus/tf/Lakhnawi/0.5/boxt.tf\">boxt</a><br><a target=\"_blank\" href=\"https://among.github.io/fusus/fusus/about/transcriptionl\" title=\"~/text-fabric-data/among/fusus/tf/Lakhnawi/0.5/dir.tf\">dir</a><br><a target=\"_blank\" href=\"https://among.github.io/fusus/fusus/about/transcriptionl\" title=\"~/text-fabric-data/among/fusus/tf/Lakhnawi/0.5/letters.tf\">letters</a><br><a target=\"_blank\" href=\"https://among.github.io/fusus/fusus/about/transcriptionl\" title=\"~/text-fabric-data/among/fusus/tf/Lakhnawi/0.5/lettersn.tf\">lettersn</a><br><a target=\"_blank\" href=\"https://among.github.io/fusus/fusus/about/transcriptionl\" title=\"~/text-fabric-data/among/fusus/tf/Lakhnawi/0.5/lettersp.tf\">lettersp</a><br><a target=\"_blank\" href=\"https://among.github.io/fusus/fusus/about/transcriptionl\" title=\"~/text-fabric-data/among/fusus/tf/Lakhnawi/0.5/letterst.tf\">letterst</a><br><a target=\"_blank\" href=\"https://among.github.io/fusus/fusus/about/transcriptionl\" title=\"~/text-fabric-data/among/fusus/tf/Lakhnawi/0.5/ln.tf\">ln</a><br><a target=\"_blank\" href=\"https://among.github.io/fusus/fusus/about/transcriptionl\" title=\"~/text-fabric-data/among/fusus/tf/Lakhnawi/0.5/n.tf\">n</a><br><a target=\"_blank\" href=\"https://among.github.io/fusus/fusus/about/transcriptionl\" title=\"~/text-fabric-data/among/fusus/tf/Lakhnawi/0.5/np.tf\">np</a><br><a target=\"_blank\" href=\"https://among.github.io/fusus/fusus/about/transcriptionl\" title=\"~/text-fabric-data/among/fusus/tf/Lakhnawi/0.5/otype.tf\">otype</a><br><a target=\"_blank\" href=\"https://among.github.io/fusus/fusus/about/transcriptionl\" title=\"~/text-fabric-data/among/fusus/tf/Lakhnawi/0.5/punc.tf\">punc</a><br><a target=\"_blank\" href=\"https://among.github.io/fusus/fusus/about/transcriptionl\" title=\"~/text-fabric-data/among/fusus/tf/Lakhnawi/0.5/punca.tf\">punca</a><br><a target=\"_blank\" href=\"https://among.github.io/fusus/fusus/about/transcriptionl\" title=\"~/text-fabric-data/among/fusus/tf/Lakhnawi/0.5/title.tf\">title</a><br><b><i><a target=\"_blank\" href=\"https://among.github.io/fusus/fusus/about/transcriptionl\" title=\"~/text-fabric-data/among/fusus/tf/Lakhnawi/0.5/oslots.tf\">oslots</a></i></b><br></details>"
      ],
      "text/plain": [
       "<IPython.core.display.HTML object>"
      ]
     },
     "metadata": {},
     "output_type": "display_data"
    },
    {
     "data": {
      "text/html": [
       "<style>tr.tf.ltr, td.tf.ltr, th.tf.ltr { text-align: left ! important;}\n",
       "tr.tf.rtl, td.tf.rtl, th.tf.rtl { text-align: right ! important;}\n",
       "@font-face {\n",
       "  font-family: \"Gentium Plus\";\n",
       "  src: local('Gentium Plus'), local('GentiumPlus'),\n",
       "    url('/server/static/fonts/GentiumPlus-R.woff') format('woff'),\n",
       "    url('https://github.com/annotation/text-fabric/blob/master/tf/server/static/fonts/GentiumPlus-R.woff?raw=true') format('woff');\n",
       "}\n",
       "\n",
       "@font-face {\n",
       "  font-family: \"Ezra SIL\";\n",
       "  src: local('Ezra SIL'), local('EzraSIL'),\n",
       "    url('/server/static/fonts/SILEOT.woff') format('woff'),\n",
       "    url('https://github.com/annotation/text-fabric/blob/master/tf/server/static/fonts/SILEOT.woff?raw=true') format('woff');\n",
       "}\n",
       "\n",
       "@font-face {\n",
       "  font-family: \"SBL Hebrew\";\n",
       "  src: local('SBL Hebrew'), local('SBLHebrew'),\n",
       "    url('/server/static/fonts/SBL_Hbrw.woff') format('woff'),\n",
       "    url('https://github.com/annotation/text-fabric/blob/master/tf/server/static/fonts/SBL_Hbrw.woff?raw=true') format('woff');\n",
       "}\n",
       "\n",
       "@font-face {\n",
       "  font-family: \"Estrangelo Edessa\";\n",
       "  src: local('Estrangelo Edessa'), local('EstrangeloEdessa');\n",
       "    url('/server/static/fonts/SyrCOMEdessa.woff') format('woff'),\n",
       "    url('https://github.com/annotation/text-fabric/blob/master/tf/server/static/fonts/SyrCOMEdessa.woff?raw=true') format('woff');\n",
       "}\n",
       "\n",
       "@font-face {\n",
       "  font-family: AmiriQuran;\n",
       "  font-style: normal;\n",
       "  font-weight: 400;\n",
       "  src: local('Amiri Quran'), local('AmiriQuran'),\n",
       "    url('/server/static/fonts/AmiriQuran.woff') format('woff'),\n",
       "    url('https://github.com/annotation/text-fabric/blob/master/tf/server/static/fonts/AmiriQuran.woff?raw=true') format('woff');\n",
       "}\n",
       "\n",
       "@font-face {\n",
       "  font-family: AmiriQuranColored;\n",
       "  font-style: normal;\n",
       "  font-weight: 400;\n",
       "  src: local('Amiri Quran Colored'), local('AmiriQuranColored'),\n",
       "    url('/server/static/fonts/AmiriQuranColored.woff') format('woff'),\n",
       "    url('https://github.com/annotation/text-fabric/blob/master/tf/server/static/fonts/AmiriQuranColored.woff?raw=true') format('woff');\n",
       "}\n",
       "\n",
       "@font-face {\n",
       "  font-family: \"Santakku\";\n",
       "  src: local('Santakku'),\n",
       "    url('/server/static/fonts/Santakku.woff') format('woff'),\n",
       "    url('https://github.com/annotation/text-fabric/blob/master/tf/server/static/fonts/Santakku.woff?raw=true') format('woff');\n",
       "}\n",
       "\n",
       "@font-face {\n",
       "  font-family: \"SantakkuM\";\n",
       "  src: local('SantakkuM'),\n",
       "    url('/server/static/fonts/SantakkuM.woff') format('woff'),\n",
       "    url('https://github.com/annotation/text-fabric/blob/master/tf/server/static/fonts/SantakkuM.woff?raw=true') format('woff');\n",
       "}\n",
       "/* bypassing some classical notebook settings */\n",
       "div#notebook {\n",
       "  line-height: unset;\n",
       "}\n",
       "/* neutral text */\n",
       ".txtn,.txtn a:visited,.txtn a:link {\n",
       "    font-family: sans-serif;\n",
       "    font-size: medium;\n",
       "    direction: ltr;\n",
       "    unicode-bidi: embed;\n",
       "    text-decoration: none;\n",
       "    color: var(--text-color);\n",
       "}\n",
       "/* transcription text */\n",
       ".txtt,.txtt a:visited,.txtt a:link {\n",
       "    font-family: monospace;\n",
       "    font-size: medium;\n",
       "    direction: ltr;\n",
       "    unicode-bidi: embed;\n",
       "    text-decoration: none;\n",
       "    color: var(--text-color);\n",
       "}\n",
       "/* source text */\n",
       ".txto,.txto a:visited,.txto a:link {\n",
       "    font-family: serif;\n",
       "    font-size: medium;\n",
       "    direction: ltr;\n",
       "    unicode-bidi: embed;\n",
       "    text-decoration: none;\n",
       "    color: var(--text-color);\n",
       "}\n",
       "/* phonetic text */\n",
       ".txtp,.txtp a:visited,.txtp a:link {\n",
       "    font-family: Gentium, sans-serif;\n",
       "    font-size: medium;\n",
       "    direction: ltr;\n",
       "    unicode-bidi: embed;\n",
       "    text-decoration: none;\n",
       "    color: var(--text-color);\n",
       "}\n",
       "/* original script text */\n",
       ".txtu,.txtu a:visited,.txtu a:link {\n",
       "    font-family: Gentium, sans-serif;\n",
       "    font-size: medium;\n",
       "    text-decoration: none;\n",
       "    color: var(--text-color);\n",
       "}\n",
       "/* hebrew */\n",
       ".txtu.hbo,.lex.hbo {\n",
       "    font-family: \"Ezra SIL\", \"SBL Hebrew\", sans-serif;\n",
       "    font-size: large;\n",
       "    direction: rtl ! important;\n",
       "    unicode-bidi: embed;\n",
       "}\n",
       "/* syriac */\n",
       ".txtu.syc,.lex.syc {\n",
       "    font-family: \"Estrangelo Edessa\", sans-serif;\n",
       "    font-size: medium;\n",
       "    direction: rtl ! important;\n",
       "    unicode-bidi: embed;\n",
       "}\n",
       "/* neo aramaic */\n",
       ".txtu.cld,.lex.cld {\n",
       "    font-family: \"CharisSIL-R\", sans-serif;\n",
       "    font-size: medium;\n",
       "    direction: ltr ! important;\n",
       "    unicode-bidi: embed;\n",
       "}\n",
       "/* standard arabic */\n",
       ".txtu.ara,.lex.ara {\n",
       "    font-family: \"AmiriQuran\", sans-serif;\n",
       "    font-size: large;\n",
       "    direction: rtl ! important;\n",
       "    unicode-bidi: embed;\n",
       "}\n",
       "/* cuneiform */\n",
       ".txtu.akk,.lex.akk {\n",
       "    font-family: Santakku, sans-serif;\n",
       "    font-size: large;\n",
       "    direction: ltr ! important;\n",
       "    unicode-bidi: embed;\n",
       "}\n",
       "/* greek */\n",
       ".txtu.grc,.lex.grc a:link {\n",
       "    font-family: Gentium, sans-serif;\n",
       "    font-size: medium;\n",
       "    direction: ltr ! important;\n",
       "    unicode-bidi: embed;\n",
       "}\n",
       "a:hover {\n",
       "    text-decoration: underline | important;\n",
       "    color: #0000ff | important;\n",
       "}\n",
       ".ltr {\n",
       "    direction: ltr ! important;\n",
       "    unicode-bidi: embed;\n",
       "}\n",
       ".rtl {\n",
       "    direction: rtl ! important;\n",
       "    unicode-bidi: embed;\n",
       "}\n",
       ".ubd {\n",
       "    unicode-bidi: embed;\n",
       "}\n",
       ".col {\n",
       "   display: inline-block;\n",
       "}\n",
       ".features {\n",
       "    font-family: monospace;\n",
       "    font-size: medium;\n",
       "    font-weight: bold;\n",
       "    color: var(--features);\n",
       "    display: flex;\n",
       "    flex-flow: column nowrap;\n",
       "    justify-content: flex-start;\n",
       "    align-items: flex-start;\n",
       "    align-content: flex-start;\n",
       "    padding: 2px;\n",
       "    margin: 2px;\n",
       "    direction: ltr;\n",
       "    unicode-bidi: embed;\n",
       "    border: var(--meta-width) solid var(--meta-color);\n",
       "    border-radius: var(--meta-width);\n",
       "}\n",
       ".features div,.features span {\n",
       "    padding: 0;\n",
       "    margin: -2px 0;\n",
       "}\n",
       ".features .f {\n",
       "    font-family: sans-serif;\n",
       "    font-size: small;\n",
       "    font-weight: normal;\n",
       "    color: #5555bb;\n",
       "}\n",
       ".features .xft {\n",
       "  color: #000000;\n",
       "  background-color: #eeeeee;\n",
       "  font-size: medium;\n",
       "  margin: 2px 0px;\n",
       "}\n",
       ".features .xft .f {\n",
       "  color: #000000;\n",
       "  background-color: #eeeeee;\n",
       "  font-size: small;\n",
       "  font-weight: normal;\n",
       "}\n",
       ".tfsechead {\n",
       "    font-family: sans-serif;\n",
       "    font-size: small;\n",
       "    font-weight: bold;\n",
       "    color: var(--tfsechead);\n",
       "    unicode-bidi: embed;\n",
       "    text-align: start;\n",
       "}\n",
       ".structure {\n",
       "    font-family: sans-serif;\n",
       "    font-size: small;\n",
       "    font-weight: bold;\n",
       "    color: var(--structure);\n",
       "    unicode-bidi: embed;\n",
       "    text-align: start;\n",
       "}\n",
       ".comments {\n",
       "    display: flex;\n",
       "    justify-content: flex-start;\n",
       "    align-items: flex-start;\n",
       "    align-content: flex-start;\n",
       "    flex-flow: column nowrap;\n",
       "}\n",
       ".nd, a:link.nd {\n",
       "    font-family: sans-serif;\n",
       "    font-size: small;\n",
       "    color: var(--node);\n",
       "    vertical-align: super;\n",
       "    direction: ltr ! important;\n",
       "    unicode-bidi: embed;\n",
       "}\n",
       ".lex {\n",
       "  color: var(--lex-color);;\n",
       "}\n",
       ".children,.children.ltr {\n",
       "    display: flex;\n",
       "    border: 0;\n",
       "    background-color: #ffffff;\n",
       "    justify-content: flex-start;\n",
       "    align-items: flex-start;\n",
       "    align-content: flex-start;\n",
       "}\n",
       ".children.stretch {\n",
       "    align-items: stretch;\n",
       "}\n",
       ".children.hor {\n",
       "    flex-flow: row nowrap;\n",
       "}\n",
       ".children.hor.wrap {\n",
       "    flex-flow: row wrap;\n",
       "}\n",
       ".children.ver {\n",
       "    flex-flow: column nowrap;\n",
       "}\n",
       ".children.ver.wrap {\n",
       "    flex-flow: column wrap;\n",
       "}\n",
       ".contnr {\n",
       "    width: fit-content;\n",
       "    display: flex;\n",
       "    justify-content: flex-start;\n",
       "    align-items: flex-start;\n",
       "    align-content: flex-start;\n",
       "    flex-flow: column nowrap;\n",
       "    background: #ffffff none repeat scroll 0 0;\n",
       "    padding:  10px 2px 2px 2px;\n",
       "    margin: 16px 2px 2px 2px;\n",
       "    border-style: solid;\n",
       "    font-size: small;\n",
       "}\n",
       ".contnr.trm {\n",
       "    background-attachment: local;\n",
       "}\n",
       ".contnr.cnul {\n",
       "    padding:  0;\n",
       "    margin: 0;\n",
       "    border-style: solid;\n",
       "    font-size: xx-small;\n",
       "}\n",
       ".contnr.cnul,.lbl.cnul {\n",
       "    border-color: var(--border-color-nul);\n",
       "    border-width: var(--border-width-nul);\n",
       "    border-radius: var(--border-width-nul);\n",
       "}\n",
       ".contnr.c0,.lbl.c0 {\n",
       "    border-color: var(--border-color0);\n",
       "    border-width: var(--border-width0);\n",
       "    border-radius: var(--border-width0);\n",
       "}\n",
       ".contnr.c1,.lbl.c1 {\n",
       "    border-color: var(--border-color1);\n",
       "    border-width: var(--border-width1);\n",
       "    border-radius: var(--border-width1);\n",
       "}\n",
       ".contnr.c2,.lbl.c2 {\n",
       "    border-color: var(--border-color2);\n",
       "    border-width: var(--border-width2);\n",
       "    border-radius: var(--border-width2);\n",
       "}\n",
       ".contnr.c3,.lbl.c3 {\n",
       "    border-color: var(--border-color3);\n",
       "    border-width: var(--border-width3);\n",
       "    border-radius: var(--border-width3);\n",
       "}\n",
       ".contnr.c4,.lbl.c4 {\n",
       "    border-color: var(--border-color4);\n",
       "    border-width: var(--border-width4);\n",
       "    border-radius: var(--border-width4);\n",
       "}\n",
       "span.plain {\n",
       "    display: inline-block;\n",
       "    white-space: pre-wrap;\n",
       "}\n",
       ".plain {\n",
       "    background-color: #ffffff;\n",
       "}\n",
       ".plain.l,.contnr.l,.contnr.l>.lbl {\n",
       "    border-left-style: dotted\n",
       "}\n",
       ".plain.r,.contnr.r,.contnr.r>.lbl {\n",
       "    border-right-style: dotted\n",
       "}\n",
       ".plain.lno,.contnr.lno,.contnr.lno>.lbl {\n",
       "    border-left-style: none\n",
       "}\n",
       ".plain.rno,.contnr.rno,.contnr.rno>.lbl {\n",
       "    border-right-style: none\n",
       "}\n",
       ".plain.l {\n",
       "    padding-left: 4px;\n",
       "    margin-left: 2px;\n",
       "    border-width: var(--border-width-plain);\n",
       "}\n",
       ".plain.r {\n",
       "    padding-right: 4px;\n",
       "    margin-right: 2px;\n",
       "    border-width: var(--border-width-plain);\n",
       "}\n",
       ".lbl {\n",
       "    font-family: monospace;\n",
       "    margin-top: -24px;\n",
       "    margin-left: 20px;\n",
       "    background: #ffffff none repeat scroll 0 0;\n",
       "    padding: 0 6px;\n",
       "    border-style: solid;\n",
       "    display: block;\n",
       "    color: var(--label)\n",
       "}\n",
       ".lbl.trm {\n",
       "    background-attachment: local;\n",
       "    margin-top: 2px;\n",
       "    margin-left: 2px;\n",
       "    padding: 2px 2px;\n",
       "    border-style: none;\n",
       "}\n",
       ".lbl.cnul {\n",
       "    font-size: xx-small;\n",
       "}\n",
       ".lbl.c0 {\n",
       "    font-size: small;\n",
       "}\n",
       ".lbl.c1 {\n",
       "    font-size: small;\n",
       "}\n",
       ".lbl.c2 {\n",
       "    font-size: medium;\n",
       "}\n",
       ".lbl.c3 {\n",
       "    font-size: medium;\n",
       "}\n",
       ".lbl.c4 {\n",
       "    font-size: large;\n",
       "}\n",
       ".occs, a:link.occs {\n",
       "    font-size: small;\n",
       "}\n",
       "\n",
       "/* PROVENANCE */\n",
       "\n",
       "div.prov {\n",
       "\tmargin: 40px;\n",
       "\tpadding: 20px;\n",
       "\tborder: 2px solid var(--fog-rim);\n",
       "}\n",
       "div.pline {\n",
       "\tdisplay: flex;\n",
       "\tflex-flow: row nowrap;\n",
       "\tjustify-content: stretch;\n",
       "\talign-items: baseline;\n",
       "}\n",
       "div.p2line {\n",
       "\tmargin-left: 2em;\n",
       "\tdisplay: flex;\n",
       "\tflex-flow: row nowrap;\n",
       "\tjustify-content: stretch;\n",
       "\talign-items: baseline;\n",
       "}\n",
       "div.psline {\n",
       "\tdisplay: flex;\n",
       "\tflex-flow: row nowrap;\n",
       "\tjustify-content: stretch;\n",
       "\talign-items: baseline;\n",
       "\tbackground-color: var(--gold-mist-back);\n",
       "}\n",
       "div.pname {\n",
       "\tflex: 0 0 5rem;\n",
       "\tfont-weight: bold;\n",
       "}\n",
       "div.pval {\n",
       "    flex: 1 1 auto;\n",
       "}\n",
       "\n",
       ":root {\n",
       "\t--node:               hsla(120, 100%,  20%, 1.0  );\n",
       "\t--label:              hsla(  0, 100%,  20%, 1.0  );\n",
       "\t--tfsechead:          hsla(  0, 100%,  25%, 1.0  );\n",
       "\t--structure:          hsla(120, 100%,  25%, 1.0  );\n",
       "\t--features:           hsla(  0,   0%,  30%, 1.0  );\n",
       "  --text-color:         hsla( 60,  80%,  10%, 1.0  );\n",
       "  --lex-color:          hsla(220,  90%,  60%, 1.0  );\n",
       "  --meta-color:         hsla(  0,   0%,  90%, 0.7  );\n",
       "  --meta-width:         3px;\n",
       "  --border-color-nul:   hsla(  0,   0%,  90%, 0.5  );\n",
       "  --border-color0:      hsla(  0,   0%,  90%, 0.9  );\n",
       "  --border-color1:      hsla(  0,   0%,  80%, 0.9  );\n",
       "  --border-color2:      hsla(  0,   0%,  70%, 0.9  );\n",
       "  --border-color3:      hsla(  0,   0%,  80%, 0.8  );\n",
       "  --border-color4:      hsla(  0,   0%,  60%, 0.9  );\n",
       "  --border-width-nul:   2px;\n",
       "  --border-width0:      2px;\n",
       "  --border-width1:      3px;\n",
       "  --border-width2:      4px;\n",
       "  --border-width3:      6px;\n",
       "  --border-width4:      5px;\n",
       "  --border-width-plain: 2px;\n",
       "}\n",
       ".hl {\n",
       "  background-color: var(--hl-strong);\n",
       "}\n",
       "span.hl {\n",
       "\tbackground-color: var(--hl-strong);\n",
       "\tborder-width: 0;\n",
       "\tborder-radius: 2px;\n",
       "\tborder-style: solid;\n",
       "}\n",
       "div.contnr.hl,div.lbl.hl {\n",
       "  background-color: var(--hl-strong);\n",
       "}\n",
       "div.contnr.hl {\n",
       "  border-color: var(--hl-rim) ! important;\n",
       "\tborder-width: 4px ! important;\n",
       "}\n",
       "\n",
       "span.hlbx {\n",
       "\tborder-color: var(--hl-rim);\n",
       "\tborder-width: 4px ! important;\n",
       "\tborder-style: solid;\n",
       "\tborder-radius: 6px;\n",
       "  padding: 4px;\n",
       "  margin: 4px;\n",
       "}\n",
       "\n",
       "span.plain {\n",
       "  display: inline-block;\n",
       "  white-space: pre-wrap;\n",
       "}\n",
       "\n",
       ":root {\n",
       "\t--hl-strong:        hsla( 60, 100%,  70%, 0.9  );\n",
       "\t--hl-rim:           hsla( 55,  80%,  50%, 1.0  );\n",
       "}\n",
       "</style>"
      ],
      "text/plain": [
       "<IPython.core.display.HTML object>"
      ]
     },
     "metadata": {},
     "output_type": "display_data"
    },
    {
     "data": {
      "text/html": [
       "<div><b>Text-Fabric API:</b> names <a target=\"_blank\" href=\"https://annotation.github.io/text-fabric/tf/cheatsheet.html\" title=\"doc\">N F E L T S C TF</a> directly usable</div><hr>"
      ],
      "text/plain": [
       "<IPython.core.display.HTML object>"
      ]
     },
     "metadata": {},
     "output_type": "display_data"
    }
   ],
   "source": [
    "A = use(\"among/fususl:clone\",  hoist=globals())"
   ]
  },
  {
   "cell_type": "code",
   "execution_count": 3,
   "metadata": {},
   "outputs": [
    {
     "data": {
      "text/plain": [
       "('piece', 'page', 'sentence', 'line', 'column', 'span', 'word')"
      ]
     },
     "execution_count": 3,
     "metadata": {},
     "output_type": "execute_result"
    }
   ],
   "source": [
    "F.otype.all"
   ]
  },
  {
   "cell_type": "code",
   "execution_count": 4,
   "metadata": {},
   "outputs": [
    {
     "data": {
      "text/plain": [
       "57138"
      ]
     },
     "execution_count": 4,
     "metadata": {},
     "output_type": "execute_result"
    }
   ],
   "source": [
    "F.otype.maxSlot"
   ]
  },
  {
   "cell_type": "markdown",
   "metadata": {},
   "source": [
    "Show the pieces"
   ]
  },
  {
   "cell_type": "code",
   "execution_count": 5,
   "metadata": {},
   "outputs": [
    {
     "name": "stdout",
     "output_type": "stream",
     "text": [
      "  0.00s 33 results\n"
     ]
    },
    {
     "data": {
      "text/html": [
       "<p><b>result</b> <i>1</i></p>"
      ],
      "text/plain": [
       "<IPython.core.display.HTML object>"
      ]
     },
     "metadata": {},
     "output_type": "display_data"
    },
    {
     "data": {
      "text/html": [
       "<div class=\"tfsechead rtl\"><span class=\"ltr\"><a target=\"_blank\" href=\"https://github.com/among/fusus/blob/master/ur/Lakhnawi/html/p1.html\" title=\"show this passage in the the original (html derived from pdf)\" sec=\"1\">1</a></span></div><div class=\"rtl children\"><div class=\"contnr c4 trm rtl  \" ><div class=\"lbl c4 trm \" ><span class=\"nd\">piece</span> <span class=\"txtu ara\"><span class=\"tfsechead rtl\"><span class=\"ltr\">1</span></span></span></div><div class='features'><span class=\"n xft\" ><span class=\"f\">n=</span>1</span><span class=\"title xft\" ><span class=\"f\">title=</span>front</span></div></div></div>"
      ],
      "text/plain": [
       "<IPython.core.display.HTML object>"
      ]
     },
     "metadata": {},
     "output_type": "display_data"
    },
    {
     "data": {
      "text/html": [
       "<p><b>result</b> <i>2</i></p>"
      ],
      "text/plain": [
       "<IPython.core.display.HTML object>"
      ]
     },
     "metadata": {},
     "output_type": "display_data"
    },
    {
     "data": {
      "text/html": [
       "<div class=\"tfsechead rtl\"><span class=\"ltr\"><a target=\"_blank\" href=\"https://github.com/among/fusus/blob/master/ur/Lakhnawi/html/p6.html\" title=\"show this passage in the the original (html derived from pdf)\" sec=\"2\">2</a></span></div><div class=\"rtl children\"><div class=\"contnr c4 trm rtl  \" ><div class=\"lbl c4 trm \" ><span class=\"nd\">piece</span> <span class=\"txtu ara\"><span class=\"tfsechead rtl\"><span class=\"ltr\">2</span></span></span></div><div class='features'><span class=\"n xft\" ><span class=\"f\">n=</span>2</span><span class=\"title xft\" ><span class=\"f\">title=</span>عنوان كتاب فصوص الحكم وخصوص الكلم</span></div></div></div>"
      ],
      "text/plain": [
       "<IPython.core.display.HTML object>"
      ]
     },
     "metadata": {},
     "output_type": "display_data"
    },
    {
     "data": {
      "text/html": [
       "<p><b>result</b> <i>3</i></p>"
      ],
      "text/plain": [
       "<IPython.core.display.HTML object>"
      ]
     },
     "metadata": {},
     "output_type": "display_data"
    },
    {
     "data": {
      "text/html": [
       "<div class=\"tfsechead rtl\"><span class=\"ltr\"><a target=\"_blank\" href=\"https://github.com/among/fusus/blob/master/ur/Lakhnawi/html/p8.html\" title=\"show this passage in the the original (html derived from pdf)\" sec=\"3\">3</a></span></div><div class=\"rtl children\"><div class=\"contnr c4 trm rtl  \" ><div class=\"lbl c4 trm \" ><span class=\"nd\">piece</span> <span class=\"txtu ara\"><span class=\"tfsechead rtl\"><span class=\"ltr\">3</span></span></span></div><div class='features'><span class=\"n xft\" ><span class=\"f\">n=</span>3</span><span class=\"title xft\" ><span class=\"f\">title=</span>خطبة كتاب فصوص الحكم وخصوص الكلم</span></div></div></div>"
      ],
      "text/plain": [
       "<IPython.core.display.HTML object>"
      ]
     },
     "metadata": {},
     "output_type": "display_data"
    },
    {
     "data": {
      "text/html": [
       "<p><b>result</b> <i>4</i></p>"
      ],
      "text/plain": [
       "<IPython.core.display.HTML object>"
      ]
     },
     "metadata": {},
     "output_type": "display_data"
    },
    {
     "data": {
      "text/html": [
       "<div class=\"tfsechead rtl\"><span class=\"ltr\"><a target=\"_blank\" href=\"https://github.com/among/fusus/blob/master/ur/Lakhnawi/html/p14.html\" title=\"show this passage in the the original (html derived from pdf)\" sec=\"4\">4</a></span></div><div class=\"rtl children\"><div class=\"contnr c4 trm rtl  \" ><div class=\"lbl c4 trm \" ><span class=\"nd\">piece</span> <span class=\"txtu ara\"><span class=\"tfsechead rtl\"><span class=\"ltr\">4</span></span></span></div><div class='features'><span class=\"n xft\" ><span class=\"f\">n=</span>4</span><span class=\"np xft\" ><span class=\"f\">np=</span>1</span><span class=\"title xft\" ><span class=\"f\">title=</span>فصّ حكمة إلٰهيّة في كلمة آدميّة.</span></div></div></div>"
      ],
      "text/plain": [
       "<IPython.core.display.HTML object>"
      ]
     },
     "metadata": {},
     "output_type": "display_data"
    },
    {
     "data": {
      "text/html": [
       "<p><b>result</b> <i>5</i></p>"
      ],
      "text/plain": [
       "<IPython.core.display.HTML object>"
      ]
     },
     "metadata": {},
     "output_type": "display_data"
    },
    {
     "data": {
      "text/html": [
       "<div class=\"tfsechead rtl\"><span class=\"ltr\"><a target=\"_blank\" href=\"https://github.com/among/fusus/blob/master/ur/Lakhnawi/html/p32.html\" title=\"show this passage in the the original (html derived from pdf)\" sec=\"5\">5</a></span></div><div class=\"rtl children\"><div class=\"contnr c4 trm rtl  \" ><div class=\"lbl c4 trm \" ><span class=\"nd\">piece</span> <span class=\"txtu ara\"><span class=\"tfsechead rtl\"><span class=\"ltr\">5</span></span></span></div><div class='features'><span class=\"n xft\" ><span class=\"f\">n=</span>5</span><span class=\"np xft\" ><span class=\"f\">np=</span>2</span><span class=\"title xft\" ><span class=\"f\">title=</span>فصّ حكمة نَفْثِيَّة في كلمة شِـيثِيّة</span></div></div></div>"
      ],
      "text/plain": [
       "<IPython.core.display.HTML object>"
      ]
     },
     "metadata": {},
     "output_type": "display_data"
    },
    {
     "data": {
      "text/html": [
       "<p><b>result</b> <i>6</i></p>"
      ],
      "text/plain": [
       "<IPython.core.display.HTML object>"
      ]
     },
     "metadata": {},
     "output_type": "display_data"
    },
    {
     "data": {
      "text/html": [
       "<div class=\"tfsechead rtl\"><span class=\"ltr\"><a target=\"_blank\" href=\"https://github.com/among/fusus/blob/master/ur/Lakhnawi/html/p52.html\" title=\"show this passage in the the original (html derived from pdf)\" sec=\"6\">6</a></span></div><div class=\"rtl children\"><div class=\"contnr c4 trm rtl  \" ><div class=\"lbl c4 trm \" ><span class=\"nd\">piece</span> <span class=\"txtu ara\"><span class=\"tfsechead rtl\"><span class=\"ltr\">6</span></span></span></div><div class='features'><span class=\"n xft\" ><span class=\"f\">n=</span>6</span><span class=\"np xft\" ><span class=\"f\">np=</span>3</span><span class=\"title xft\" ><span class=\"f\">title=</span>فصّ حكمة سُـبُّوحِيّة في كلمة نوحيّة</span></div></div></div>"
      ],
      "text/plain": [
       "<IPython.core.display.HTML object>"
      ]
     },
     "metadata": {},
     "output_type": "display_data"
    },
    {
     "data": {
      "text/html": [
       "<p><b>result</b> <i>7</i></p>"
      ],
      "text/plain": [
       "<IPython.core.display.HTML object>"
      ]
     },
     "metadata": {},
     "output_type": "display_data"
    },
    {
     "data": {
      "text/html": [
       "<div class=\"tfsechead rtl\"><span class=\"ltr\"><a target=\"_blank\" href=\"https://github.com/among/fusus/blob/master/ur/Lakhnawi/html/p71.html\" title=\"show this passage in the the original (html derived from pdf)\" sec=\"7\">7</a></span></div><div class=\"rtl children\"><div class=\"contnr c4 trm rtl  \" ><div class=\"lbl c4 trm \" ><span class=\"nd\">piece</span> <span class=\"txtu ara\"><span class=\"tfsechead rtl\"><span class=\"ltr\">7</span></span></span></div><div class='features'><span class=\"n xft\" ><span class=\"f\">n=</span>7</span><span class=\"np xft\" ><span class=\"f\">np=</span>4</span><span class=\"title xft\" ><span class=\"f\">title=</span>فصّ حكمة قُدُّوسِيّة في كلمة إدريسيّة</span></div></div></div>"
      ],
      "text/plain": [
       "<IPython.core.display.HTML object>"
      ]
     },
     "metadata": {},
     "output_type": "display_data"
    },
    {
     "data": {
      "text/html": [
       "<p><b>result</b> <i>8</i></p>"
      ],
      "text/plain": [
       "<IPython.core.display.HTML object>"
      ]
     },
     "metadata": {},
     "output_type": "display_data"
    },
    {
     "data": {
      "text/html": [
       "<div class=\"tfsechead rtl\"><span class=\"ltr\"><a target=\"_blank\" href=\"https://github.com/among/fusus/blob/master/ur/Lakhnawi/html/p84.html\" title=\"show this passage in the the original (html derived from pdf)\" sec=\"8\">8</a></span></div><div class=\"rtl children\"><div class=\"contnr c4 trm rtl  \" ><div class=\"lbl c4 trm \" ><span class=\"nd\">piece</span> <span class=\"txtu ara\"><span class=\"tfsechead rtl\"><span class=\"ltr\">8</span></span></span></div><div class='features'><span class=\"n xft\" ><span class=\"f\">n=</span>8</span><span class=\"np xft\" ><span class=\"f\">np=</span>5</span><span class=\"title xft\" ><span class=\"f\">title=</span>فصّ حكمة مُهَيْمِيّة في كلمة إبـراهيميّة</span></div></div></div>"
      ],
      "text/plain": [
       "<IPython.core.display.HTML object>"
      ]
     },
     "metadata": {},
     "output_type": "display_data"
    },
    {
     "data": {
      "text/html": [
       "<p><b>result</b> <i>9</i></p>"
      ],
      "text/plain": [
       "<IPython.core.display.HTML object>"
      ]
     },
     "metadata": {},
     "output_type": "display_data"
    },
    {
     "data": {
      "text/html": [
       "<div class=\"tfsechead rtl\"><span class=\"ltr\"><a target=\"_blank\" href=\"https://github.com/among/fusus/blob/master/ur/Lakhnawi/html/p95.html\" title=\"show this passage in the the original (html derived from pdf)\" sec=\"9\">9</a></span></div><div class=\"rtl children\"><div class=\"contnr c4 trm rtl  \" ><div class=\"lbl c4 trm \" ><span class=\"nd\">piece</span> <span class=\"txtu ara\"><span class=\"tfsechead rtl\"><span class=\"ltr\">9</span></span></span></div><div class='features'><span class=\"n xft\" ><span class=\"f\">n=</span>9</span><span class=\"np xft\" ><span class=\"f\">np=</span>6</span><span class=\"title xft\" ><span class=\"f\">title=</span>فصّ حكمة حَقِـيّة في كلمة إسحاقـيّة</span></div></div></div>"
      ],
      "text/plain": [
       "<IPython.core.display.HTML object>"
      ]
     },
     "metadata": {},
     "output_type": "display_data"
    },
    {
     "data": {
      "text/html": [
       "<p><b>result</b> <i>10</i></p>"
      ],
      "text/plain": [
       "<IPython.core.display.HTML object>"
      ]
     },
     "metadata": {},
     "output_type": "display_data"
    },
    {
     "data": {
      "text/html": [
       "<div class=\"tfsechead rtl\"><span class=\"ltr\"><a target=\"_blank\" href=\"https://github.com/among/fusus/blob/master/ur/Lakhnawi/html/p111.html\" title=\"show this passage in the the original (html derived from pdf)\" sec=\"10\">10</a></span></div><div class=\"rtl children\"><div class=\"contnr c4 trm rtl  \" ><div class=\"lbl c4 trm \" ><span class=\"nd\">piece</span> <span class=\"txtu ara\"><span class=\"tfsechead rtl\"><span class=\"ltr\">10</span></span></span></div><div class='features'><span class=\"n xft\" ><span class=\"f\">n=</span>10</span><span class=\"title xft\" ><span class=\"f\">title=</span>  [٧]فصّ حكمة عَلِيَّة في كلمة إسماعيلـيّة</span></div></div></div>"
      ],
      "text/plain": [
       "<IPython.core.display.HTML object>"
      ]
     },
     "metadata": {},
     "output_type": "display_data"
    },
    {
     "data": {
      "text/html": [
       "<p><b>result</b> <i>11</i></p>"
      ],
      "text/plain": [
       "<IPython.core.display.HTML object>"
      ]
     },
     "metadata": {},
     "output_type": "display_data"
    },
    {
     "data": {
      "text/html": [
       "<div class=\"tfsechead rtl\"><span class=\"ltr\"><a target=\"_blank\" href=\"https://github.com/among/fusus/blob/master/ur/Lakhnawi/html/p121.html\" title=\"show this passage in the the original (html derived from pdf)\" sec=\"11\">11</a></span></div><div class=\"rtl children\"><div class=\"contnr c4 trm rtl  \" ><div class=\"lbl c4 trm \" ><span class=\"nd\">piece</span> <span class=\"txtu ara\"><span class=\"tfsechead rtl\"><span class=\"ltr\">11</span></span></span></div><div class='features'><span class=\"n xft\" ><span class=\"f\">n=</span>11</span><span class=\"title xft\" ><span class=\"f\">title=</span>  [٨]فصّ حكمة رُوحيّة في كلمة يعقوبـيّة</span></div></div></div>"
      ],
      "text/plain": [
       "<IPython.core.display.HTML object>"
      ]
     },
     "metadata": {},
     "output_type": "display_data"
    },
    {
     "data": {
      "text/html": [
       "<p><b>result</b> <i>12</i></p>"
      ],
      "text/plain": [
       "<IPython.core.display.HTML object>"
      ]
     },
     "metadata": {},
     "output_type": "display_data"
    },
    {
     "data": {
      "text/html": [
       "<div class=\"tfsechead rtl\"><span class=\"ltr\"><a target=\"_blank\" href=\"https://github.com/among/fusus/blob/master/ur/Lakhnawi/html/p147.html\" title=\"show this passage in the the original (html derived from pdf)\" sec=\"13\">13</a></span></div><div class=\"rtl children\"><div class=\"contnr c4 trm rtl  \" ><div class=\"lbl c4 trm \" ><span class=\"nd\">piece</span> <span class=\"txtu ara\"><span class=\"tfsechead rtl\"><span class=\"ltr\">13</span></span></span></div><div class='features'><span class=\"n xft\" ><span class=\"f\">n=</span>13</span><span class=\"title xft\" ><span class=\"f\">title=</span>  [٠١]  فصّ حكمة أحديّة في كلمة هوديّة</span></div></div></div>"
      ],
      "text/plain": [
       "<IPython.core.display.HTML object>"
      ]
     },
     "metadata": {},
     "output_type": "display_data"
    },
    {
     "data": {
      "text/html": [
       "<p><b>result</b> <i>13</i></p>"
      ],
      "text/plain": [
       "<IPython.core.display.HTML object>"
      ]
     },
     "metadata": {},
     "output_type": "display_data"
    },
    {
     "data": {
      "text/html": [
       "<div class=\"tfsechead rtl\"><span class=\"ltr\"><a target=\"_blank\" href=\"https://github.com/among/fusus/blob/master/ur/Lakhnawi/html/p166.html\" title=\"show this passage in the the original (html derived from pdf)\" sec=\"14\">14</a></span></div><div class=\"rtl children\"><div class=\"contnr c4 trm rtl  \" ><div class=\"lbl c4 trm \" ><span class=\"nd\">piece</span> <span class=\"txtu ara\"><span class=\"tfsechead rtl\"><span class=\"ltr\">14</span></span></span></div><div class='features'><span class=\"n xft\" ><span class=\"f\">n=</span>14</span><span class=\"title xft\" ><span class=\"f\">title=</span>  [١١]  فصّ حكمة فاتحيّة في كلمة صالحيّة</span></div></div></div>"
      ],
      "text/plain": [
       "<IPython.core.display.HTML object>"
      ]
     },
     "metadata": {},
     "output_type": "display_data"
    },
    {
     "data": {
      "text/html": [
       "<p><b>result</b> <i>14</i></p>"
      ],
      "text/plain": [
       "<IPython.core.display.HTML object>"
      ]
     },
     "metadata": {},
     "output_type": "display_data"
    },
    {
     "data": {
      "text/html": [
       "<div class=\"tfsechead rtl\"><span class=\"ltr\"><a target=\"_blank\" href=\"https://github.com/among/fusus/blob/master/ur/Lakhnawi/html/p173.html\" title=\"show this passage in the the original (html derived from pdf)\" sec=\"15\">15</a></span></div><div class=\"rtl children\"><div class=\"contnr c4 trm rtl  \" ><div class=\"lbl c4 trm \" ><span class=\"nd\">piece</span> <span class=\"txtu ara\"><span class=\"tfsechead rtl\"><span class=\"ltr\">15</span></span></span></div><div class='features'><span class=\"n xft\" ><span class=\"f\">n=</span>15</span><span class=\"title xft\" ><span class=\"f\">title=</span>  [٢١]  فصّ حكمة قـلبـيّة في كلمة شعيبيّة</span></div></div></div>"
      ],
      "text/plain": [
       "<IPython.core.display.HTML object>"
      ]
     },
     "metadata": {},
     "output_type": "display_data"
    },
    {
     "data": {
      "text/html": [
       "<p><b>result</b> <i>15</i></p>"
      ],
      "text/plain": [
       "<IPython.core.display.HTML object>"
      ]
     },
     "metadata": {},
     "output_type": "display_data"
    },
    {
     "data": {
      "text/html": [
       "<div class=\"tfsechead rtl\"><span class=\"ltr\"><a target=\"_blank\" href=\"https://github.com/among/fusus/blob/master/ur/Lakhnawi/html/p189.html\" title=\"show this passage in the the original (html derived from pdf)\" sec=\"16\">16</a></span></div><div class=\"rtl children\"><div class=\"contnr c4 trm rtl  \" ><div class=\"lbl c4 trm \" ><span class=\"nd\">piece</span> <span class=\"txtu ara\"><span class=\"tfsechead rtl\"><span class=\"ltr\">16</span></span></span></div><div class='features'><span class=\"n xft\" ><span class=\"f\">n=</span>16</span><span class=\"title xft\" ><span class=\"f\">title=</span>  [٣١]  فصّ حكمة مَلَـكِيّة في كلمة لوطيّة</span></div></div></div>"
      ],
      "text/plain": [
       "<IPython.core.display.HTML object>"
      ]
     },
     "metadata": {},
     "output_type": "display_data"
    },
    {
     "data": {
      "text/html": [
       "<p><b>result</b> <i>16</i></p>"
      ],
      "text/plain": [
       "<IPython.core.display.HTML object>"
      ]
     },
     "metadata": {},
     "output_type": "display_data"
    },
    {
     "data": {
      "text/html": [
       "<div class=\"tfsechead rtl\"><span class=\"ltr\"><a target=\"_blank\" href=\"https://github.com/among/fusus/blob/master/ur/Lakhnawi/html/p198.html\" title=\"show this passage in the the original (html derived from pdf)\" sec=\"17\">17</a></span></div><div class=\"rtl children\"><div class=\"contnr c4 trm rtl  \" ><div class=\"lbl c4 trm \" ><span class=\"nd\">piece</span> <span class=\"txtu ara\"><span class=\"tfsechead rtl\"><span class=\"ltr\">17</span></span></span></div><div class='features'><span class=\"n xft\" ><span class=\"f\">n=</span>17</span><span class=\"title xft\" ><span class=\"f\">title=</span>  [٤١]  فصّ حكمة قَدَرِيّة في كلمة عُـزيريّة</span></div></div></div>"
      ],
      "text/plain": [
       "<IPython.core.display.HTML object>"
      ]
     },
     "metadata": {},
     "output_type": "display_data"
    },
    {
     "data": {
      "text/html": [
       "<p><b>result</b> <i>17</i></p>"
      ],
      "text/plain": [
       "<IPython.core.display.HTML object>"
      ]
     },
     "metadata": {},
     "output_type": "display_data"
    },
    {
     "data": {
      "text/html": [
       "<div class=\"tfsechead rtl\"><span class=\"ltr\"><a target=\"_blank\" href=\"https://github.com/among/fusus/blob/master/ur/Lakhnawi/html/p211.html\" title=\"show this passage in the the original (html derived from pdf)\" sec=\"18\">18</a></span></div><div class=\"rtl children\"><div class=\"contnr c4 trm rtl  \" ><div class=\"lbl c4 trm \" ><span class=\"nd\">piece</span> <span class=\"txtu ara\"><span class=\"tfsechead rtl\"><span class=\"ltr\">18</span></span></span></div><div class='features'><span class=\"n xft\" ><span class=\"f\">n=</span>18</span><span class=\"title xft\" ><span class=\"f\">title=</span>  [٥١]  فصّ حكمة نبويّة في كلمة عيسويّة</span></div></div></div>"
      ],
      "text/plain": [
       "<IPython.core.display.HTML object>"
      ]
     },
     "metadata": {},
     "output_type": "display_data"
    },
    {
     "data": {
      "text/html": [
       "<p><b>result</b> <i>18</i></p>"
      ],
      "text/plain": [
       "<IPython.core.display.HTML object>"
      ]
     },
     "metadata": {},
     "output_type": "display_data"
    },
    {
     "data": {
      "text/html": [
       "<div class=\"tfsechead rtl\"><span class=\"ltr\"><a target=\"_blank\" href=\"https://github.com/among/fusus/blob/master/ur/Lakhnawi/html/p242.html\" title=\"show this passage in the the original (html derived from pdf)\" sec=\"19\">19</a></span></div><div class=\"rtl children\"><div class=\"contnr c4 trm rtl  \" ><div class=\"lbl c4 trm \" ><span class=\"nd\">piece</span> <span class=\"txtu ara\"><span class=\"tfsechead rtl\"><span class=\"ltr\">19</span></span></span></div><div class='features'><span class=\"n xft\" ><span class=\"f\">n=</span>19</span><span class=\"title xft\" ><span class=\"f\">title=</span>  [٦١]  فصّ حكمة رحمانيّة في كلمة سليمانيّة</span></div></div></div>"
      ],
      "text/plain": [
       "<IPython.core.display.HTML object>"
      ]
     },
     "metadata": {},
     "output_type": "display_data"
    },
    {
     "data": {
      "text/html": [
       "<p><b>result</b> <i>19</i></p>"
      ],
      "text/plain": [
       "<IPython.core.display.HTML object>"
      ]
     },
     "metadata": {},
     "output_type": "display_data"
    },
    {
     "data": {
      "text/html": [
       "<div class=\"tfsechead rtl\"><span class=\"ltr\"><a target=\"_blank\" href=\"https://github.com/among/fusus/blob/master/ur/Lakhnawi/html/p262.html\" title=\"show this passage in the the original (html derived from pdf)\" sec=\"20\">20</a></span></div><div class=\"rtl children\"><div class=\"contnr c4 trm rtl  \" ><div class=\"lbl c4 trm \" ><span class=\"nd\">piece</span> <span class=\"txtu ara\"><span class=\"tfsechead rtl\"><span class=\"ltr\">20</span></span></span></div><div class='features'><span class=\"n xft\" ><span class=\"f\">n=</span>20</span><span class=\"title xft\" ><span class=\"f\">title=</span>  [٧١]  فصّ حكمة وجوديّة في كلمة داوديّة</span></div></div></div>"
      ],
      "text/plain": [
       "<IPython.core.display.HTML object>"
      ]
     },
     "metadata": {},
     "output_type": "display_data"
    },
    {
     "data": {
      "text/html": [
       "<p><b>result</b> <i>20</i></p>"
      ],
      "text/plain": [
       "<IPython.core.display.HTML object>"
      ]
     },
     "metadata": {},
     "output_type": "display_data"
    },
    {
     "data": {
      "text/html": [
       "<div class=\"tfsechead rtl\"><span class=\"ltr\"><a target=\"_blank\" href=\"https://github.com/among/fusus/blob/master/ur/Lakhnawi/html/p278.html\" title=\"show this passage in the the original (html derived from pdf)\" sec=\"21\">21</a></span></div><div class=\"rtl children\"><div class=\"contnr c4 trm rtl  \" ><div class=\"lbl c4 trm \" ><span class=\"nd\">piece</span> <span class=\"txtu ara\"><span class=\"tfsechead rtl\"><span class=\"ltr\">21</span></span></span></div><div class='features'><span class=\"n xft\" ><span class=\"f\">n=</span>21</span><span class=\"title xft\" ><span class=\"f\">title=</span>  [٨١]  فصّ حكمة نَفْسِيّة في كلمة يونسيّة</span></div></div></div>"
      ],
      "text/plain": [
       "<IPython.core.display.HTML object>"
      ]
     },
     "metadata": {},
     "output_type": "display_data"
    },
    {
     "data": {
      "text/html": [
       "<p><b>result</b> <i>21</i></p>"
      ],
      "text/plain": [
       "<IPython.core.display.HTML object>"
      ]
     },
     "metadata": {},
     "output_type": "display_data"
    },
    {
     "data": {
      "text/html": [
       "<div class=\"tfsechead rtl\"><span class=\"ltr\"><a target=\"_blank\" href=\"https://github.com/among/fusus/blob/master/ur/Lakhnawi/html/p287.html\" title=\"show this passage in the the original (html derived from pdf)\" sec=\"22\">22</a></span></div><div class=\"rtl children\"><div class=\"contnr c4 trm rtl  \" ><div class=\"lbl c4 trm \" ><span class=\"nd\">piece</span> <span class=\"txtu ara\"><span class=\"tfsechead rtl\"><span class=\"ltr\">22</span></span></span></div><div class='features'><span class=\"n xft\" ><span class=\"f\">n=</span>22</span><span class=\"title xft\" ><span class=\"f\">title=</span>  [٩١]  فصّ حكمة غيبيّة في كلمة أيّوبيّة</span></div></div></div>"
      ],
      "text/plain": [
       "<IPython.core.display.HTML object>"
      ]
     },
     "metadata": {},
     "output_type": "display_data"
    },
    {
     "data": {
      "text/html": [
       "<p><b>result</b> <i>22</i></p>"
      ],
      "text/plain": [
       "<IPython.core.display.HTML object>"
      ]
     },
     "metadata": {},
     "output_type": "display_data"
    },
    {
     "data": {
      "text/html": [
       "<div class=\"tfsechead rtl\"><span class=\"ltr\"><a target=\"_blank\" href=\"https://github.com/among/fusus/blob/master/ur/Lakhnawi/html/p296.html\" title=\"show this passage in the the original (html derived from pdf)\" sec=\"23\">23</a></span></div><div class=\"rtl children\"><div class=\"contnr c4 trm rtl  \" ><div class=\"lbl c4 trm \" ><span class=\"nd\">piece</span> <span class=\"txtu ara\"><span class=\"tfsechead rtl\"><span class=\"ltr\">23</span></span></span></div><div class='features'><span class=\"n xft\" ><span class=\"f\">n=</span>23</span><span class=\"title xft\" ><span class=\"f\">title=</span>  [٠٢]  فصّ حكمة جلاليّة في كلمة يَحْـيَوِيَّة</span></div></div></div>"
      ],
      "text/plain": [
       "<IPython.core.display.HTML object>"
      ]
     },
     "metadata": {},
     "output_type": "display_data"
    },
    {
     "data": {
      "text/html": [
       "<p><b>result</b> <i>23</i></p>"
      ],
      "text/plain": [
       "<IPython.core.display.HTML object>"
      ]
     },
     "metadata": {},
     "output_type": "display_data"
    },
    {
     "data": {
      "text/html": [
       "<div class=\"tfsechead rtl\"><span class=\"ltr\"><a target=\"_blank\" href=\"https://github.com/among/fusus/blob/master/ur/Lakhnawi/html/p301.html\" title=\"show this passage in the the original (html derived from pdf)\" sec=\"24\">24</a></span></div><div class=\"rtl children\"><div class=\"contnr c4 trm rtl  \" ><div class=\"lbl c4 trm \" ><span class=\"nd\">piece</span> <span class=\"txtu ara\"><span class=\"tfsechead rtl\"><span class=\"ltr\">24</span></span></span></div><div class='features'><span class=\"n xft\" ><span class=\"f\">n=</span>24</span><span class=\"title xft\" ><span class=\"f\">title=</span>  [١٢]  فصّ حكمة ما لكيّة في كلمة زكـريّاويّة</span></div></div></div>"
      ],
      "text/plain": [
       "<IPython.core.display.HTML object>"
      ]
     },
     "metadata": {},
     "output_type": "display_data"
    },
    {
     "data": {
      "text/html": [
       "<p><b>result</b> <i>24</i></p>"
      ],
      "text/plain": [
       "<IPython.core.display.HTML object>"
      ]
     },
     "metadata": {},
     "output_type": "display_data"
    },
    {
     "data": {
      "text/html": [
       "<div class=\"tfsechead rtl\"><span class=\"ltr\"><a target=\"_blank\" href=\"https://github.com/among/fusus/blob/master/ur/Lakhnawi/html/p311.html\" title=\"show this passage in the the original (html derived from pdf)\" sec=\"25\">25</a></span></div><div class=\"rtl children\"><div class=\"contnr c4 trm rtl  \" ><div class=\"lbl c4 trm \" ><span class=\"nd\">piece</span> <span class=\"txtu ara\"><span class=\"tfsechead rtl\"><span class=\"ltr\">25</span></span></span></div><div class='features'><span class=\"n xft\" ><span class=\"f\">n=</span>25</span><span class=\"title xft\" ><span class=\"f\">title=</span>  [٢٢]  فصّ حكمة إيـناسيّة في كلمة إلياسيّة</span></div></div></div>"
      ],
      "text/plain": [
       "<IPython.core.display.HTML object>"
      ]
     },
     "metadata": {},
     "output_type": "display_data"
    },
    {
     "data": {
      "text/html": [
       "<p><b>result</b> <i>25</i></p>"
      ],
      "text/plain": [
       "<IPython.core.display.HTML object>"
      ]
     },
     "metadata": {},
     "output_type": "display_data"
    },
    {
     "data": {
      "text/html": [
       "<div class=\"tfsechead rtl\"><span class=\"ltr\"><a target=\"_blank\" href=\"https://github.com/among/fusus/blob/master/ur/Lakhnawi/html/p324.html\" title=\"show this passage in the the original (html derived from pdf)\" sec=\"26\">26</a></span></div><div class=\"rtl children\"><div class=\"contnr c4 trm rtl  \" ><div class=\"lbl c4 trm \" ><span class=\"nd\">piece</span> <span class=\"txtu ara\"><span class=\"tfsechead rtl\"><span class=\"ltr\">26</span></span></span></div><div class='features'><span class=\"n xft\" ><span class=\"f\">n=</span>26</span><span class=\"title xft\" ><span class=\"f\">title=</span>  [٣٢]  فصّ حكمة إحسانيّة في كلمة لقمانيّة</span></div></div></div>"
      ],
      "text/plain": [
       "<IPython.core.display.HTML object>"
      ]
     },
     "metadata": {},
     "output_type": "display_data"
    },
    {
     "data": {
      "text/html": [
       "<p><b>result</b> <i>26</i></p>"
      ],
      "text/plain": [
       "<IPython.core.display.HTML object>"
      ]
     },
     "metadata": {},
     "output_type": "display_data"
    },
    {
     "data": {
      "text/html": [
       "<div class=\"tfsechead rtl\"><span class=\"ltr\"><a target=\"_blank\" href=\"https://github.com/among/fusus/blob/master/ur/Lakhnawi/html/p331.html\" title=\"show this passage in the the original (html derived from pdf)\" sec=\"27\">27</a></span></div><div class=\"rtl children\"><div class=\"contnr c4 trm rtl  \" ><div class=\"lbl c4 trm \" ><span class=\"nd\">piece</span> <span class=\"txtu ara\"><span class=\"tfsechead rtl\"><span class=\"ltr\">27</span></span></span></div><div class='features'><span class=\"n xft\" ><span class=\"f\">n=</span>27</span><span class=\"title xft\" ><span class=\"f\">title=</span>  [٤٢]  فصّ حكمة إماميّة في كلمة هارونيّة</span></div></div></div>"
      ],
      "text/plain": [
       "<IPython.core.display.HTML object>"
      ]
     },
     "metadata": {},
     "output_type": "display_data"
    },
    {
     "data": {
      "text/html": [
       "<p><b>result</b> <i>27</i></p>"
      ],
      "text/plain": [
       "<IPython.core.display.HTML object>"
      ]
     },
     "metadata": {},
     "output_type": "display_data"
    },
    {
     "data": {
      "text/html": [
       "<div class=\"tfsechead rtl\"><span class=\"ltr\"><a target=\"_blank\" href=\"https://github.com/among/fusus/blob/master/ur/Lakhnawi/html/p342.html\" title=\"show this passage in the the original (html derived from pdf)\" sec=\"28\">28</a></span></div><div class=\"rtl children\"><div class=\"contnr c4 trm rtl  \" ><div class=\"lbl c4 trm \" ><span class=\"nd\">piece</span> <span class=\"txtu ara\"><span class=\"tfsechead rtl\"><span class=\"ltr\">28</span></span></span></div><div class='features'><span class=\"n xft\" ><span class=\"f\">n=</span>28</span><span class=\"title xft\" ><span class=\"f\">title=</span>  [٥٢]  فصّ حكمة عُـلـويّة في كلمة موسويّة</span></div></div></div>"
      ],
      "text/plain": [
       "<IPython.core.display.HTML object>"
      ]
     },
     "metadata": {},
     "output_type": "display_data"
    },
    {
     "data": {
      "text/html": [
       "<p><b>result</b> <i>28</i></p>"
      ],
      "text/plain": [
       "<IPython.core.display.HTML object>"
      ]
     },
     "metadata": {},
     "output_type": "display_data"
    },
    {
     "data": {
      "text/html": [
       "<div class=\"tfsechead rtl\"><span class=\"ltr\"><a target=\"_blank\" href=\"https://github.com/among/fusus/blob/master/ur/Lakhnawi/html/p375.html\" title=\"show this passage in the the original (html derived from pdf)\" sec=\"30\">30</a></span></div><div class=\"rtl children\"><div class=\"contnr c4 trm rtl  \" ><div class=\"lbl c4 trm \" ><span class=\"nd\">piece</span> <span class=\"txtu ara\"><span class=\"tfsechead rtl\"><span class=\"ltr\">30</span></span></span></div><div class='features'><span class=\"n xft\" ><span class=\"f\">n=</span>30</span><span class=\"title xft\" ><span class=\"f\">title=</span>  [٧٢]  فصّ حكمة فرديّة في كلمة محمديّة</span></div></div></div>"
      ],
      "text/plain": [
       "<IPython.core.display.HTML object>"
      ]
     },
     "metadata": {},
     "output_type": "display_data"
    },
    {
     "data": {
      "text/html": [
       "<p><b>result</b> <i>29</i></p>"
      ],
      "text/plain": [
       "<IPython.core.display.HTML object>"
      ]
     },
     "metadata": {},
     "output_type": "display_data"
    },
    {
     "data": {
      "text/html": [
       "<div class=\"tfsechead rtl\"><span class=\"ltr\"><a target=\"_blank\" href=\"https://github.com/among/fusus/blob/master/ur/Lakhnawi/html/p408.html\" title=\"show this passage in the the original (html derived from pdf)\" sec=\"34\">34</a></span></div><div class=\"rtl children\"><div class=\"contnr c4 trm rtl  \" ><div class=\"lbl c4 trm \" ><span class=\"nd\">piece</span> <span class=\"txtu ara\"><span class=\"tfsechead rtl\"><span class=\"ltr\">34</span></span></span></div><div class='features'><span class=\"n xft\" ><span class=\"f\">n=</span>34</span><span class=\"title xft\" ><span class=\"f\">title=</span>  الملحقات</span></div></div></div>"
      ],
      "text/plain": [
       "<IPython.core.display.HTML object>"
      ]
     },
     "metadata": {},
     "output_type": "display_data"
    },
    {
     "data": {
      "text/html": [
       "<p><b>result</b> <i>30</i></p>"
      ],
      "text/plain": [
       "<IPython.core.display.HTML object>"
      ]
     },
     "metadata": {},
     "output_type": "display_data"
    },
    {
     "data": {
      "text/html": [
       "<div class=\"tfsechead rtl\"><span class=\"ltr\"><a target=\"_blank\" href=\"https://github.com/among/fusus/blob/master/ur/Lakhnawi/html/p409.html\" title=\"show this passage in the the original (html derived from pdf)\" sec=\"35\">35</a></span></div><div class=\"rtl children\"><div class=\"contnr c4 trm rtl  \" ><div class=\"lbl c4 trm \" ><span class=\"nd\">piece</span> <span class=\"txtu ara\"><span class=\"tfsechead rtl\"><span class=\"ltr\">35</span></span></span></div><div class='features'><span class=\"n xft\" ><span class=\"f\">n=</span>35</span><span class=\"title xft\" ><span class=\"f\">title=</span>  ملحق ١:  تعليقات داخل المخطوط</span></div></div></div>"
      ],
      "text/plain": [
       "<IPython.core.display.HTML object>"
      ]
     },
     "metadata": {},
     "output_type": "display_data"
    },
    {
     "data": {
      "text/html": [
       "<p><b>result</b> <i>31</i></p>"
      ],
      "text/plain": [
       "<IPython.core.display.HTML object>"
      ]
     },
     "metadata": {},
     "output_type": "display_data"
    },
    {
     "data": {
      "text/html": [
       "<div class=\"tfsechead rtl\"><span class=\"ltr\"><a target=\"_blank\" href=\"https://github.com/among/fusus/blob/master/ur/Lakhnawi/html/p421.html\" title=\"show this passage in the the original (html derived from pdf)\" sec=\"36\">36</a></span></div><div class=\"rtl children\"><div class=\"contnr c4 trm rtl  \" ><div class=\"lbl c4 trm \" ><span class=\"nd\">piece</span> <span class=\"txtu ara\"><span class=\"tfsechead rtl\"><span class=\"ltr\">36</span></span></span></div><div class='features'><span class=\"n xft\" ><span class=\"f\">n=</span>36</span><span class=\"title xft\" ><span class=\"f\">title=</span>  ملحق ٢:  تحقيق في مسألة الذبيح</span></div></div></div>"
      ],
      "text/plain": [
       "<IPython.core.display.HTML object>"
      ]
     },
     "metadata": {},
     "output_type": "display_data"
    },
    {
     "data": {
      "text/html": [
       "<p><b>result</b> <i>32</i></p>"
      ],
      "text/plain": [
       "<IPython.core.display.HTML object>"
      ]
     },
     "metadata": {},
     "output_type": "display_data"
    },
    {
     "data": {
      "text/html": [
       "<div class=\"tfsechead rtl\"><span class=\"ltr\"><a target=\"_blank\" href=\"https://github.com/among/fusus/blob/master/ur/Lakhnawi/html/p426.html\" title=\"show this passage in the the original (html derived from pdf)\" sec=\"37\">37</a></span></div><div class=\"rtl children\"><div class=\"contnr c4 trm rtl  \" ><div class=\"lbl c4 trm \" ><span class=\"nd\">piece</span> <span class=\"txtu ara\"><span class=\"tfsechead rtl\"><span class=\"ltr\">37</span></span></span></div><div class='features'><span class=\"n xft\" ><span class=\"f\">n=</span>37</span><span class=\"title xft\" ><span class=\"f\">title=</span>  ملحق ٣:  تحقيق في خالد بن سنان</span></div></div></div>"
      ],
      "text/plain": [
       "<IPython.core.display.HTML object>"
      ]
     },
     "metadata": {},
     "output_type": "display_data"
    },
    {
     "data": {
      "text/html": [
       "<p><b>result</b> <i>33</i></p>"
      ],
      "text/plain": [
       "<IPython.core.display.HTML object>"
      ]
     },
     "metadata": {},
     "output_type": "display_data"
    },
    {
     "data": {
      "text/html": [
       "<div class=\"tfsechead rtl\"><span class=\"ltr\"><a target=\"_blank\" href=\"https://github.com/among/fusus/blob/master/ur/Lakhnawi/html/p433.html\" title=\"show this passage in the the original (html derived from pdf)\" sec=\"38\">38</a></span></div><div class=\"rtl children\"><div class=\"contnr c4 trm rtl  \" ><div class=\"lbl c4 trm \" ><span class=\"nd\">piece</span> <span class=\"txtu ara\"><span class=\"tfsechead rtl\"><span class=\"ltr\">38</span></span></span></div><div class='features'><span class=\"n xft\" ><span class=\"f\">n=</span>38</span><span class=\"title xft\" ><span class=\"f\">title=</span>  ملحق ٤:  تخريج حديث التحول</span></div></div></div>"
      ],
      "text/plain": [
       "<IPython.core.display.HTML object>"
      ]
     },
     "metadata": {},
     "output_type": "display_data"
    }
   ],
   "source": [
    "results = A.search(\"\"\"\n",
    "piece n* np* title*\n",
    "\"\"\")\n",
    "A.show(results)"
   ]
  },
  {
   "cell_type": "code",
   "execution_count": 8,
   "metadata": {},
   "outputs": [
    {
     "data": {
      "text/plain": [
       "[(63039,),\n",
       " (63040,),\n",
       " (63041,),\n",
       " (63042,),\n",
       " (63043,),\n",
       " (63044,),\n",
       " (63045,),\n",
       " (63046,),\n",
       " (63047,),\n",
       " (63048,),\n",
       " (63049,),\n",
       " (63050,),\n",
       " (63051,),\n",
       " (63052,),\n",
       " (63053,),\n",
       " (63054,),\n",
       " (63055,),\n",
       " (63056,),\n",
       " (63057,),\n",
       " (63058,),\n",
       " (63059,),\n",
       " (63060,),\n",
       " (63061,),\n",
       " (63062,),\n",
       " (63063,),\n",
       " (63064,),\n",
       " (63065,),\n",
       " (63066,),\n",
       " (63067,),\n",
       " (63068,),\n",
       " (63069,),\n",
       " (63070,),\n",
       " (63071,),\n",
       " (63072,),\n",
       " (63073,)]"
      ]
     },
     "execution_count": 8,
     "metadata": {},
     "output_type": "execute_result"
    }
   ],
   "source": [
    "results"
   ]
  },
  {
   "cell_type": "markdown",
   "metadata": {},
   "source": [
    "All words on the first line of every page"
   ]
  },
  {
   "cell_type": "code",
   "execution_count": 6,
   "metadata": {},
   "outputs": [],
   "source": [
    "template = \"\"\"\n",
    "line ln=1\n",
    "  word\n",
    "\"\"\""
   ]
  },
  {
   "cell_type": "code",
   "execution_count": 7,
   "metadata": {},
   "outputs": [
    {
     "name": "stdout",
     "output_type": "stream",
     "text": [
      "  0.06s 4852 results\n"
     ]
    }
   ],
   "source": [
    "results = A.search(template)"
   ]
  },
  {
   "cell_type": "code",
   "execution_count": 8,
   "metadata": {},
   "outputs": [
    {
     "data": {
      "text/plain": [
       "[(62361, 1),\n",
       " (62361, 2),\n",
       " (62371, 27),\n",
       " (62371, 28),\n",
       " (62371, 29),\n",
       " (62374, 33),\n",
       " (62374, 34),\n",
       " (62374, 35),\n",
       " (62374, 36),\n",
       " (62385, 91)]"
      ]
     },
     "execution_count": 8,
     "metadata": {},
     "output_type": "execute_result"
    }
   ],
   "source": [
    "results[0:10]"
   ]
  },
  {
   "cell_type": "code",
   "execution_count": 9,
   "metadata": {},
   "outputs": [
    {
     "data": {
      "text/html": [
       "<table><tr class=\"tf rtl\"><th class=\"tf rtl\">n</th><th class=\"tf rtl\">p</th><th class=\"tf rtl\">line</th><th class=\"tf\">word</th></tr>\n",
       "<tr class=\"tf rtl\"><td class=\"tf rtl\">1</td><td class=\"tf rtl\"><span class=\"tfsechead rtl\"><span class=\"ltr\"><a target=\"_blank\" href=\"https://github.com/among/fusus/blob/master/ur/Lakhnawi/html/p1.html\" title=\"show this passage in the the original (html derived from pdf)\" sec=\"1 1:1\">1 1:1</a></span></span></td><td class=\"tf rtl\"><span class=\"rtl ubd\"></span></td><td class=\"tf rtl\"><span class=\"rtl ubd\"><span class=\"plain rtl  hl\" ><span class=\"txtu ara\">فصوص </span></span></span></td></tr>\n",
       "<tr class=\"tf rtl\"><td class=\"tf rtl\">2</td><td class=\"tf rtl\"><span class=\"tfsechead rtl\"><span class=\"ltr\"><a target=\"_blank\" href=\"https://github.com/among/fusus/blob/master/ur/Lakhnawi/html/p1.html\" title=\"show this passage in the the original (html derived from pdf)\" sec=\"1 1:1\">1 1:1</a></span></span></td><td class=\"tf rtl\"><span class=\"rtl ubd\"></span></td><td class=\"tf rtl\"><span class=\"rtl ubd\"><span class=\"plain rtl  hl\" ><span class=\"txtu ara\">الحكم </span></span></span></td></tr>\n",
       "<tr class=\"tf rtl\"><td class=\"tf rtl\">3</td><td class=\"tf rtl\"><span class=\"tfsechead rtl\"><span class=\"ltr\"><a target=\"_blank\" href=\"https://github.com/among/fusus/blob/master/ur/Lakhnawi/html/p2.html\" title=\"show this passage in the the original (html derived from pdf)\" sec=\"1 2:1\">1 2:1</a></span></span></td><td class=\"tf rtl\"><span class=\"rtl ubd\"></span></td><td class=\"tf rtl\"><span class=\"rtl ubd\"><span class=\"plain rtl  hl\" ><span class=\"txtu ara\">جميع </span></span></span></td></tr>\n",
       "<tr class=\"tf rtl\"><td class=\"tf rtl\">4</td><td class=\"tf rtl\"><span class=\"tfsechead rtl\"><span class=\"ltr\"><a target=\"_blank\" href=\"https://github.com/among/fusus/blob/master/ur/Lakhnawi/html/p2.html\" title=\"show this passage in the the original (html derived from pdf)\" sec=\"1 2:1\">1 2:1</a></span></span></td><td class=\"tf rtl\"><span class=\"rtl ubd\"></span></td><td class=\"tf rtl\"><span class=\"rtl ubd\"><span class=\"plain rtl  hl\" ><span class=\"txtu ara\">الحقوق </span></span></span></td></tr>\n",
       "<tr class=\"tf rtl\"><td class=\"tf rtl\">5</td><td class=\"tf rtl\"><span class=\"tfsechead rtl\"><span class=\"ltr\"><a target=\"_blank\" href=\"https://github.com/among/fusus/blob/master/ur/Lakhnawi/html/p2.html\" title=\"show this passage in the the original (html derived from pdf)\" sec=\"1 2:1\">1 2:1</a></span></span></td><td class=\"tf rtl\"><span class=\"rtl ubd\"></span></td><td class=\"tf rtl\"><span class=\"rtl ubd\"><span class=\"plain rtl  hl\" ><span class=\"txtu ara\">محفوظة </span></span></span></td></tr>\n",
       "<tr class=\"tf rtl\"><td class=\"tf rtl\">6</td><td class=\"tf rtl\"><span class=\"tfsechead rtl\"><span class=\"ltr\"><a target=\"_blank\" href=\"https://github.com/among/fusus/blob/master/ur/Lakhnawi/html/p3.html\" title=\"show this passage in the the original (html derived from pdf)\" sec=\"1 3:1\">1 3:1</a></span></span></td><td class=\"tf rtl\"><span class=\"rtl ubd\"></span></td><td class=\"tf rtl\"><span class=\"rtl ubd\"><span class=\"plain rtl  hl\" ><span class=\"txtu ara\">بِسمِ </span></span></span></td></tr>\n",
       "<tr class=\"tf rtl\"><td class=\"tf rtl\">7</td><td class=\"tf rtl\"><span class=\"tfsechead rtl\"><span class=\"ltr\"><a target=\"_blank\" href=\"https://github.com/among/fusus/blob/master/ur/Lakhnawi/html/p3.html\" title=\"show this passage in the the original (html derived from pdf)\" sec=\"1 3:1\">1 3:1</a></span></span></td><td class=\"tf rtl\"><span class=\"rtl ubd\"></span></td><td class=\"tf rtl\"><span class=\"rtl ubd\"><span class=\"plain rtl  hl\" ><span class=\"txtu ara\">اللهِ </span></span></span></td></tr>\n",
       "<tr class=\"tf rtl\"><td class=\"tf rtl\">8</td><td class=\"tf rtl\"><span class=\"tfsechead rtl\"><span class=\"ltr\"><a target=\"_blank\" href=\"https://github.com/among/fusus/blob/master/ur/Lakhnawi/html/p3.html\" title=\"show this passage in the the original (html derived from pdf)\" sec=\"1 3:1\">1 3:1</a></span></span></td><td class=\"tf rtl\"><span class=\"rtl ubd\"></span></td><td class=\"tf rtl\"><span class=\"rtl ubd\"><span class=\"plain rtl  hl\" ><span class=\"txtu ara\">الرَّحْمٰـنِ </span></span></span></td></tr>\n",
       "<tr class=\"tf rtl\"><td class=\"tf rtl\">9</td><td class=\"tf rtl\"><span class=\"tfsechead rtl\"><span class=\"ltr\"><a target=\"_blank\" href=\"https://github.com/among/fusus/blob/master/ur/Lakhnawi/html/p3.html\" title=\"show this passage in the the original (html derived from pdf)\" sec=\"1 3:1\">1 3:1</a></span></span></td><td class=\"tf rtl\"><span class=\"rtl ubd\"></span></td><td class=\"tf rtl\"><span class=\"rtl ubd\"><span class=\"plain rtl  hl\" ><span class=\"txtu ara\">الرَّحِيمِ </span></span></span></td></tr>\n",
       "<tr class=\"tf rtl\"><td class=\"tf rtl\">10</td><td class=\"tf rtl\"><span class=\"tfsechead rtl\"><span class=\"ltr\"><a target=\"_blank\" href=\"https://github.com/among/fusus/blob/master/ur/Lakhnawi/html/p4.html\" title=\"show this passage in the the original (html derived from pdf)\" sec=\"1 4:1\">1 4:1</a></span></span></td><td class=\"tf rtl\"><span class=\"rtl ubd\"></span></td><td class=\"tf rtl\"><span class=\"rtl ubd\"><span class=\"plain rtl  hl\" ><span class=\"txtu ara\">الفهرست </span></span></span></td></tr>\n",
       "<tr class=\"tf rtl\"><td class=\"tf rtl\">11</td><td class=\"tf rtl\"><span class=\"tfsechead rtl\"><span class=\"ltr\"><a target=\"_blank\" href=\"https://github.com/among/fusus/blob/master/ur/Lakhnawi/html/p5.html\" title=\"show this passage in the the original (html derived from pdf)\" sec=\"1 5:1\">1 5:1</a></span></span></td><td class=\"tf rtl\"><span class=\"rtl ubd\"></span></td><td class=\"tf rtl\"><span class=\"rtl ubd\"><span class=\"plain rtl  hl\" ><span class=\"txtu ara\">٩١‐ </span></span></span></td></tr>\n",
       "<tr class=\"tf rtl\"><td class=\"tf rtl\">12</td><td class=\"tf rtl\"><span class=\"tfsechead rtl\"><span class=\"ltr\"><a target=\"_blank\" href=\"https://github.com/among/fusus/blob/master/ur/Lakhnawi/html/p5.html\" title=\"show this passage in the the original (html derived from pdf)\" sec=\"1 5:1\">1 5:1</a></span></span></td><td class=\"tf rtl\"><span class=\"rtl ubd\"></span></td><td class=\"tf rtl\"><span class=\"rtl ubd\"><span class=\"plain rtl  hl\" ><span class=\"txtu ara\"> [</span></span></span></td></tr>\n",
       "<tr class=\"tf rtl\"><td class=\"tf rtl\">13</td><td class=\"tf rtl\"><span class=\"tfsechead rtl\"><span class=\"ltr\"><a target=\"_blank\" href=\"https://github.com/among/fusus/blob/master/ur/Lakhnawi/html/p5.html\" title=\"show this passage in the the original (html derived from pdf)\" sec=\"1 5:1\">1 5:1</a></span></span></td><td class=\"tf rtl\"><span class=\"rtl ubd\"></span></td><td class=\"tf rtl\"><span class=\"rtl ubd\"><span class=\"plain rtl  hl\" ><span class=\"txtu ara\">٦١] </span></span></span></td></tr>\n",
       "<tr class=\"tf rtl\"><td class=\"tf rtl\">14</td><td class=\"tf rtl\"><span class=\"tfsechead rtl\"><span class=\"ltr\"><a target=\"_blank\" href=\"https://github.com/among/fusus/blob/master/ur/Lakhnawi/html/p5.html\" title=\"show this passage in the the original (html derived from pdf)\" sec=\"1 5:1\">1 5:1</a></span></span></td><td class=\"tf rtl\"><span class=\"rtl ubd\"></span></td><td class=\"tf rtl\"><span class=\"rtl ubd\"><span class=\"plain rtl  hl\" ><span class=\"txtu ara\"> فصّ </span></span></span></td></tr>\n",
       "<tr class=\"tf rtl\"><td class=\"tf rtl\">15</td><td class=\"tf rtl\"><span class=\"tfsechead rtl\"><span class=\"ltr\"><a target=\"_blank\" href=\"https://github.com/among/fusus/blob/master/ur/Lakhnawi/html/p5.html\" title=\"show this passage in the the original (html derived from pdf)\" sec=\"1 5:1\">1 5:1</a></span></span></td><td class=\"tf rtl\"><span class=\"rtl ubd\"></span></td><td class=\"tf rtl\"><span class=\"rtl ubd\"><span class=\"plain rtl  hl\" ><span class=\"txtu ara\">حكمة </span></span></span></td></tr>\n",
       "<tr class=\"tf rtl\"><td class=\"tf rtl\">16</td><td class=\"tf rtl\"><span class=\"tfsechead rtl\"><span class=\"ltr\"><a target=\"_blank\" href=\"https://github.com/among/fusus/blob/master/ur/Lakhnawi/html/p5.html\" title=\"show this passage in the the original (html derived from pdf)\" sec=\"1 5:1\">1 5:1</a></span></span></td><td class=\"tf rtl\"><span class=\"rtl ubd\"></span></td><td class=\"tf rtl\"><span class=\"rtl ubd\"><span class=\"plain rtl  hl\" ><span class=\"txtu ara\">رحمانيّة </span></span></span></td></tr>\n",
       "<tr class=\"tf rtl\"><td class=\"tf rtl\">17</td><td class=\"tf rtl\"><span class=\"tfsechead rtl\"><span class=\"ltr\"><a target=\"_blank\" href=\"https://github.com/among/fusus/blob/master/ur/Lakhnawi/html/p5.html\" title=\"show this passage in the the original (html derived from pdf)\" sec=\"1 5:1\">1 5:1</a></span></span></td><td class=\"tf rtl\"><span class=\"rtl ubd\"></span></td><td class=\"tf rtl\"><span class=\"rtl ubd\"><span class=\"plain rtl  hl\" ><span class=\"txtu ara\">في </span></span></span></td></tr>\n",
       "<tr class=\"tf rtl\"><td class=\"tf rtl\">18</td><td class=\"tf rtl\"><span class=\"tfsechead rtl\"><span class=\"ltr\"><a target=\"_blank\" href=\"https://github.com/among/fusus/blob/master/ur/Lakhnawi/html/p5.html\" title=\"show this passage in the the original (html derived from pdf)\" sec=\"1 5:1\">1 5:1</a></span></span></td><td class=\"tf rtl\"><span class=\"rtl ubd\"></span></td><td class=\"tf rtl\"><span class=\"rtl ubd\"><span class=\"plain rtl  hl\" ><span class=\"txtu ara\">كلمة </span></span></span></td></tr>\n",
       "<tr class=\"tf rtl\"><td class=\"tf rtl\">19</td><td class=\"tf rtl\"><span class=\"tfsechead rtl\"><span class=\"ltr\"><a target=\"_blank\" href=\"https://github.com/among/fusus/blob/master/ur/Lakhnawi/html/p5.html\" title=\"show this passage in the the original (html derived from pdf)\" sec=\"1 5:1\">1 5:1</a></span></span></td><td class=\"tf rtl\"><span class=\"rtl ubd\"></span></td><td class=\"tf rtl\"><span class=\"rtl ubd\"><span class=\"plain rtl  hl\" ><span class=\"txtu ara\">سليمانيّة……………………</span></span></span></td></tr>\n",
       "<tr class=\"tf rtl\"><td class=\"tf rtl\">20</td><td class=\"tf rtl\"><span class=\"tfsechead rtl\"><span class=\"ltr\"><a target=\"_blank\" href=\"https://github.com/among/fusus/blob/master/ur/Lakhnawi/html/p5.html\" title=\"show this passage in the the original (html derived from pdf)\" sec=\"1 5:1\">1 5:1</a></span></span></td><td class=\"tf rtl\"><span class=\"rtl ubd\"></span></td><td class=\"tf rtl\"><span class=\"rtl ubd\"><span class=\"plain rtl  hl\" ><span class=\"txtu ara\">٢٤٢</span></span></span></td></tr></table>"
      ],
      "text/plain": [
       "<IPython.core.display.HTML object>"
      ]
     },
     "metadata": {},
     "output_type": "display_data"
    }
   ],
   "source": [
    "A.table(results, end=20)"
   ]
  },
  {
   "cell_type": "markdown",
   "metadata": {},
   "source": [
    "All first words of the first line of every page"
   ]
  },
  {
   "cell_type": "code",
   "execution_count": 10,
   "metadata": {},
   "outputs": [
    {
     "name": "stdout",
     "output_type": "stream",
     "text": [
      "  0.06s 438 results\n"
     ]
    },
    {
     "data": {
      "text/html": [
       "<table><tr class=\"tf rtl\"><th class=\"tf rtl\">n</th><th class=\"tf rtl\">p</th><th class=\"tf rtl\">line</th><th class=\"tf\">word</th></tr>\n",
       "<tr class=\"tf rtl\"><td class=\"tf rtl\">1</td><td class=\"tf rtl\"><span class=\"tfsechead rtl\"><span class=\"ltr\"><a target=\"_blank\" href=\"https://github.com/among/fusus/blob/master/ur/Lakhnawi/html/p1.html\" title=\"show this passage in the the original (html derived from pdf)\" sec=\"1 1:1\">1 1:1</a></span></span></td><td class=\"tf rtl\"><span class=\"rtl ubd\"></span></td><td class=\"tf rtl\"><span class=\"rtl ubd\"><span class=\"plain rtl  hl\" ><span class=\"txtu ara\">فصوص </span></span></span></td></tr>\n",
       "<tr class=\"tf rtl\"><td class=\"tf rtl\">2</td><td class=\"tf rtl\"><span class=\"tfsechead rtl\"><span class=\"ltr\"><a target=\"_blank\" href=\"https://github.com/among/fusus/blob/master/ur/Lakhnawi/html/p2.html\" title=\"show this passage in the the original (html derived from pdf)\" sec=\"1 2:1\">1 2:1</a></span></span></td><td class=\"tf rtl\"><span class=\"rtl ubd\"></span></td><td class=\"tf rtl\"><span class=\"rtl ubd\"><span class=\"plain rtl  hl\" ><span class=\"txtu ara\">جميع </span></span></span></td></tr>\n",
       "<tr class=\"tf rtl\"><td class=\"tf rtl\">3</td><td class=\"tf rtl\"><span class=\"tfsechead rtl\"><span class=\"ltr\"><a target=\"_blank\" href=\"https://github.com/among/fusus/blob/master/ur/Lakhnawi/html/p3.html\" title=\"show this passage in the the original (html derived from pdf)\" sec=\"1 3:1\">1 3:1</a></span></span></td><td class=\"tf rtl\"><span class=\"rtl ubd\"></span></td><td class=\"tf rtl\"><span class=\"rtl ubd\"><span class=\"plain rtl  hl\" ><span class=\"txtu ara\">بِسمِ </span></span></span></td></tr>\n",
       "<tr class=\"tf rtl\"><td class=\"tf rtl\">4</td><td class=\"tf rtl\"><span class=\"tfsechead rtl\"><span class=\"ltr\"><a target=\"_blank\" href=\"https://github.com/among/fusus/blob/master/ur/Lakhnawi/html/p4.html\" title=\"show this passage in the the original (html derived from pdf)\" sec=\"1 4:1\">1 4:1</a></span></span></td><td class=\"tf rtl\"><span class=\"rtl ubd\"></span></td><td class=\"tf rtl\"><span class=\"rtl ubd\"><span class=\"plain rtl  hl\" ><span class=\"txtu ara\">الفهرست </span></span></span></td></tr>\n",
       "<tr class=\"tf rtl\"><td class=\"tf rtl\">5</td><td class=\"tf rtl\"><span class=\"tfsechead rtl\"><span class=\"ltr\"><a target=\"_blank\" href=\"https://github.com/among/fusus/blob/master/ur/Lakhnawi/html/p5.html\" title=\"show this passage in the the original (html derived from pdf)\" sec=\"1 5:1\">1 5:1</a></span></span></td><td class=\"tf rtl\"><span class=\"rtl ubd\"></span></td><td class=\"tf rtl\"><span class=\"rtl ubd\"><span class=\"plain rtl  hl\" ><span class=\"txtu ara\">٩١‐ </span></span></span></td></tr>\n",
       "<tr class=\"tf rtl\"><td class=\"tf rtl\">6</td><td class=\"tf rtl\"><span class=\"tfsechead rtl\"><span class=\"ltr\"><a target=\"_blank\" href=\"https://github.com/among/fusus/blob/master/ur/Lakhnawi/html/p6.html\" title=\"show this passage in the the original (html derived from pdf)\" sec=\"2 6:1\">2 6:1</a></span></span></td><td class=\"tf rtl\"><span class=\"rtl ubd\"></span></td><td class=\"tf rtl\"><span class=\"rtl ubd\"><span class=\"plain rtl  hl\" ><span class=\"txtu ara\">[</span></span></span></td></tr>\n",
       "<tr class=\"tf rtl\"><td class=\"tf rtl\">7</td><td class=\"tf rtl\"><span class=\"tfsechead rtl\"><span class=\"ltr\"><a target=\"_blank\" href=\"https://github.com/among/fusus/blob/master/ur/Lakhnawi/html/p7.html\" title=\"show this passage in the the original (html derived from pdf)\" sec=\"2 7:1\">2 7:1</a></span></span></td><td class=\"tf rtl\"><span class=\"rtl ubd\"></span></td><td class=\"tf rtl\"><span class=\"rtl ubd\"><span class=\"plain rtl  hl\" ><span class=\"txtu ara\">[</span></span></span></td></tr>\n",
       "<tr class=\"tf rtl\"><td class=\"tf rtl\">8</td><td class=\"tf rtl\"><span class=\"tfsechead rtl\"><span class=\"ltr\"><a target=\"_blank\" href=\"https://github.com/among/fusus/blob/master/ur/Lakhnawi/html/p8.html\" title=\"show this passage in the the original (html derived from pdf)\" sec=\"3 8:1\">3 8:1</a></span></span></td><td class=\"tf rtl\"><span class=\"rtl ubd\"></span></td><td class=\"tf rtl\"><span class=\"rtl ubd\"><span class=\"plain rtl  hl\" ><span class=\"txtu ara\">[</span></span></span></td></tr>\n",
       "<tr class=\"tf rtl\"><td class=\"tf rtl\">9</td><td class=\"tf rtl\"><span class=\"tfsechead rtl\"><span class=\"ltr\"><a target=\"_blank\" href=\"https://github.com/among/fusus/blob/master/ur/Lakhnawi/html/p9.html\" title=\"show this passage in the the original (html derived from pdf)\" sec=\"3 9:1\">3 9:1</a></span></span></td><td class=\"tf rtl\"><span class=\"rtl ubd\"></span></td><td class=\"tf rtl\"><span class=\"rtl ubd\"><span class=\"plain rtl  hl\" ><span class=\"txtu ara\">وَصَلَّىٰ </span></span></span></td></tr>\n",
       "<tr class=\"tf rtl\"><td class=\"tf rtl\">10</td><td class=\"tf rtl\"><span class=\"tfsechead rtl\"><span class=\"ltr\"><a target=\"_blank\" href=\"https://github.com/among/fusus/blob/master/ur/Lakhnawi/html/p10.html\" title=\"show this passage in the the original (html derived from pdf)\" sec=\"3 10:1\">3 10:1</a></span></span></td><td class=\"tf rtl\"><span class=\"rtl ubd\"></span></td><td class=\"tf rtl\"><span class=\"rtl ubd\"><span class=\"plain rtl  hl\" ><span class=\"txtu ara\">فَقُلْتُ: </span></span></span></td></tr>\n",
       "<tr class=\"tf rtl\"><td class=\"tf rtl\">11</td><td class=\"tf rtl\"><span class=\"tfsechead rtl\"><span class=\"ltr\"><a target=\"_blank\" href=\"https://github.com/among/fusus/blob/master/ur/Lakhnawi/html/p11.html\" title=\"show this passage in the the original (html derived from pdf)\" sec=\"3 11:1\">3 11:1</a></span></span></td><td class=\"tf rtl\"><span class=\"rtl ubd\"></span></td><td class=\"tf rtl\"><span class=\"rtl ubd\"><span class=\"plain rtl  hl\" ><span class=\"txtu ara\">الرُّوعِ </span></span></span></td></tr>\n",
       "<tr class=\"tf rtl\"><td class=\"tf rtl\">12</td><td class=\"tf rtl\"><span class=\"tfsechead rtl\"><span class=\"ltr\"><a target=\"_blank\" href=\"https://github.com/among/fusus/blob/master/ur/Lakhnawi/html/p12.html\" title=\"show this passage in the the original (html derived from pdf)\" sec=\"3 12:1\">3 12:1</a></span></span></td><td class=\"tf rtl\"><span class=\"rtl ubd\"></span></td><td class=\"tf rtl\"><span class=\"rtl ubd\"><span class=\"plain rtl  hl\" ><span class=\"txtu ara\">يُنْزَلُ </span></span></span></td></tr>\n",
       "<tr class=\"tf rtl\"><td class=\"tf rtl\">13</td><td class=\"tf rtl\"><span class=\"tfsechead rtl\"><span class=\"ltr\"><a target=\"_blank\" href=\"https://github.com/among/fusus/blob/master/ur/Lakhnawi/html/p13.html\" title=\"show this passage in the the original (html derived from pdf)\" sec=\"3 13:1\">3 13:1</a></span></span></td><td class=\"tf rtl\"><span class=\"rtl ubd\"></span></td><td class=\"tf rtl\"><span class=\"rtl ubd\"><span class=\"plain rtl  hl\" ><span class=\"txtu ara\">وَمِنَ </span></span></span></td></tr>\n",
       "<tr class=\"tf rtl\"><td class=\"tf rtl\">14</td><td class=\"tf rtl\"><span class=\"tfsechead rtl\"><span class=\"ltr\"><a target=\"_blank\" href=\"https://github.com/among/fusus/blob/master/ur/Lakhnawi/html/p14.html\" title=\"show this passage in the the original (html derived from pdf)\" sec=\"4 14:1\">4 14:1</a></span></span></td><td class=\"tf rtl\"><span class=\"rtl ubd\"></span></td><td class=\"tf rtl\"><span class=\"rtl ubd\"><span class=\"plain rtl  hl\" ><span class=\"txtu ara\">[</span></span></span></td></tr>\n",
       "<tr class=\"tf rtl\"><td class=\"tf rtl\">15</td><td class=\"tf rtl\"><span class=\"tfsechead rtl\"><span class=\"ltr\"><a target=\"_blank\" href=\"https://github.com/among/fusus/blob/master/ur/Lakhnawi/html/p15.html\" title=\"show this passage in the the original (html derived from pdf)\" sec=\"4 15:1\">4 15:1</a></span></span></td><td class=\"tf rtl\"><span class=\"rtl ubd\"></span></td><td class=\"tf rtl\"><span class=\"rtl ubd\"><span class=\"plain rtl  hl\" ><span class=\"txtu ara\">جَامِـعٍ </span></span></span></td></tr>\n",
       "<tr class=\"tf rtl\"><td class=\"tf rtl\">16</td><td class=\"tf rtl\"><span class=\"tfsechead rtl\"><span class=\"ltr\"><a target=\"_blank\" href=\"https://github.com/among/fusus/blob/master/ur/Lakhnawi/html/p16.html\" title=\"show this passage in the the original (html derived from pdf)\" sec=\"4 16:1\">4 16:1</a></span></span></td><td class=\"tf rtl\"><span class=\"rtl ubd\"></span></td><td class=\"tf rtl\"><span class=\"rtl ubd\"><span class=\"plain rtl  hl\" ><span class=\"txtu ara\">فَـكَانَ </span></span></span></td></tr>\n",
       "<tr class=\"tf rtl\"><td class=\"tf rtl\">17</td><td class=\"tf rtl\"><span class=\"tfsechead rtl\"><span class=\"ltr\"><a target=\"_blank\" href=\"https://github.com/among/fusus/blob/master/ur/Lakhnawi/html/p17.html\" title=\"show this passage in the the original (html derived from pdf)\" sec=\"4 17:1\">4 17:1</a></span></span></td><td class=\"tf rtl\"><span class=\"rtl ubd\"></span></td><td class=\"tf rtl\"><span class=\"rtl ubd\"><span class=\"plain rtl  hl\" ><span class=\"txtu ara\">فَـكَانَتِ </span></span></span></td></tr>\n",
       "<tr class=\"tf rtl\"><td class=\"tf rtl\">18</td><td class=\"tf rtl\"><span class=\"tfsechead rtl\"><span class=\"ltr\"><a target=\"_blank\" href=\"https://github.com/among/fusus/blob/master/ur/Lakhnawi/html/p18.html\" title=\"show this passage in the the original (html derived from pdf)\" sec=\"4 18:1\">4 18:1</a></span></span></td><td class=\"tf rtl\"><span class=\"rtl ubd\"></span></td><td class=\"tf rtl\"><span class=\"rtl ubd\"><span class=\"plain rtl  hl\" ><span class=\"txtu ara\">وَهٰذَا </span></span></span></td></tr>\n",
       "<tr class=\"tf rtl\"><td class=\"tf rtl\">19</td><td class=\"tf rtl\"><span class=\"tfsechead rtl\"><span class=\"ltr\"><a target=\"_blank\" href=\"https://github.com/among/fusus/blob/master/ur/Lakhnawi/html/p19.html\" title=\"show this passage in the the original (html derived from pdf)\" sec=\"4 19:1\">4 19:1</a></span></span></td><td class=\"tf rtl\"><span class=\"rtl ubd\"></span></td><td class=\"tf rtl\"><span class=\"rtl ubd\"><span class=\"plain rtl  hl\" ><span class=\"txtu ara\">أَلَا </span></span></span></td></tr>\n",
       "<tr class=\"tf rtl\"><td class=\"tf rtl\">20</td><td class=\"tf rtl\"><span class=\"tfsechead rtl\"><span class=\"ltr\"><a target=\"_blank\" href=\"https://github.com/among/fusus/blob/master/ur/Lakhnawi/html/p20.html\" title=\"show this passage in the the original (html derived from pdf)\" sec=\"4 20:1\">4 20:1</a></span></span></td><td class=\"tf rtl\"><span class=\"rtl ubd\"></span></td><td class=\"tf rtl\"><span class=\"rtl ubd\"><span class=\"plain rtl  hl\" ><span class=\"txtu ara\">فَإِنَّهُ </span></span></span></td></tr></table>"
      ],
      "text/plain": [
       "<IPython.core.display.HTML object>"
      ]
     },
     "metadata": {},
     "output_type": "display_data"
    }
   ],
   "source": [
    "template = \"\"\"\n",
    "line ln=1\n",
    "  =: word\n",
    "\"\"\"\n",
    "results = A.search(template)\n",
    "A.table(results, end=20)"
   ]
  },
  {
   "cell_type": "markdown",
   "metadata": {},
   "source": [
    "All last words of the first line of every page"
   ]
  },
  {
   "cell_type": "code",
   "execution_count": 11,
   "metadata": {},
   "outputs": [
    {
     "name": "stdout",
     "output_type": "stream",
     "text": [
      "  0.06s 438 results\n"
     ]
    },
    {
     "data": {
      "text/html": [
       "<table><tr class=\"tf rtl\"><th class=\"tf rtl\">n</th><th class=\"tf rtl\">p</th><th class=\"tf rtl\">line</th><th class=\"tf\">word</th></tr>\n",
       "<tr class=\"tf rtl\"><td class=\"tf rtl\">1</td><td class=\"tf rtl\"><span class=\"tfsechead rtl\"><span class=\"ltr\"><a target=\"_blank\" href=\"https://github.com/among/fusus/blob/master/ur/Lakhnawi/html/p1.html\" title=\"show this passage in the the original (html derived from pdf)\" sec=\"1 1:1\">1 1:1</a></span></span></td><td class=\"tf rtl\"><span class=\"rtl ubd\"></span></td><td class=\"tf rtl\"><span class=\"rtl ubd\"><span class=\"plain rtl  hl\" ><span class=\"txtu ara\">الحكم </span></span></span></td></tr>\n",
       "<tr class=\"tf rtl\"><td class=\"tf rtl\">2</td><td class=\"tf rtl\"><span class=\"tfsechead rtl\"><span class=\"ltr\"><a target=\"_blank\" href=\"https://github.com/among/fusus/blob/master/ur/Lakhnawi/html/p2.html\" title=\"show this passage in the the original (html derived from pdf)\" sec=\"1 2:1\">1 2:1</a></span></span></td><td class=\"tf rtl\"><span class=\"rtl ubd\"></span></td><td class=\"tf rtl\"><span class=\"rtl ubd\"><span class=\"plain rtl  hl\" ><span class=\"txtu ara\">محفوظة </span></span></span></td></tr>\n",
       "<tr class=\"tf rtl\"><td class=\"tf rtl\">3</td><td class=\"tf rtl\"><span class=\"tfsechead rtl\"><span class=\"ltr\"><a target=\"_blank\" href=\"https://github.com/among/fusus/blob/master/ur/Lakhnawi/html/p3.html\" title=\"show this passage in the the original (html derived from pdf)\" sec=\"1 3:1\">1 3:1</a></span></span></td><td class=\"tf rtl\"><span class=\"rtl ubd\"></span></td><td class=\"tf rtl\"><span class=\"rtl ubd\"><span class=\"plain rtl  hl\" ><span class=\"txtu ara\">الرَّحِيمِ </span></span></span></td></tr>\n",
       "<tr class=\"tf rtl\"><td class=\"tf rtl\">4</td><td class=\"tf rtl\"><span class=\"tfsechead rtl\"><span class=\"ltr\"><a target=\"_blank\" href=\"https://github.com/among/fusus/blob/master/ur/Lakhnawi/html/p4.html\" title=\"show this passage in the the original (html derived from pdf)\" sec=\"1 4:1\">1 4:1</a></span></span></td><td class=\"tf rtl\"><span class=\"rtl ubd\"></span></td><td class=\"tf rtl\"><span class=\"rtl ubd\"><span class=\"plain rtl  hl\" ><span class=\"txtu ara\">الفهرست </span></span></span></td></tr>\n",
       "<tr class=\"tf rtl\"><td class=\"tf rtl\">5</td><td class=\"tf rtl\"><span class=\"tfsechead rtl\"><span class=\"ltr\"><a target=\"_blank\" href=\"https://github.com/among/fusus/blob/master/ur/Lakhnawi/html/p5.html\" title=\"show this passage in the the original (html derived from pdf)\" sec=\"1 5:1\">1 5:1</a></span></span></td><td class=\"tf rtl\"><span class=\"rtl ubd\"></span></td><td class=\"tf rtl\"><span class=\"rtl ubd\"><span class=\"plain rtl  hl\" ><span class=\"txtu ara\">٢٤٢</span></span></span></td></tr>\n",
       "<tr class=\"tf rtl\"><td class=\"tf rtl\">6</td><td class=\"tf rtl\"><span class=\"tfsechead rtl\"><span class=\"ltr\"><a target=\"_blank\" href=\"https://github.com/among/fusus/blob/master/ur/Lakhnawi/html/p6.html\" title=\"show this passage in the the original (html derived from pdf)\" sec=\"2 6:1\">2 6:1</a></span></span></td><td class=\"tf rtl\"><span class=\"rtl ubd\"></span></td><td class=\"tf rtl\"><span class=\"rtl ubd\"><span class=\"plain rtl  hl\" ><span class=\"txtu ara\">١وجه]</span></span></span></td></tr>\n",
       "<tr class=\"tf rtl\"><td class=\"tf rtl\">7</td><td class=\"tf rtl\"><span class=\"tfsechead rtl\"><span class=\"ltr\"><a target=\"_blank\" href=\"https://github.com/among/fusus/blob/master/ur/Lakhnawi/html/p7.html\" title=\"show this passage in the the original (html derived from pdf)\" sec=\"2 7:1\">2 7:1</a></span></span></td><td class=\"tf rtl\"><span class=\"rtl ubd\"></span></td><td class=\"tf rtl\"><span class=\"rtl ubd\"><span class=\"plain rtl  hl\" ><span class=\"txtu ara\">١ظهر]</span></span></span></td></tr>\n",
       "<tr class=\"tf rtl\"><td class=\"tf rtl\">8</td><td class=\"tf rtl\"><span class=\"tfsechead rtl\"><span class=\"ltr\"><a target=\"_blank\" href=\"https://github.com/among/fusus/blob/master/ur/Lakhnawi/html/p8.html\" title=\"show this passage in the the original (html derived from pdf)\" sec=\"3 8:1\">3 8:1</a></span></span></td><td class=\"tf rtl\"><span class=\"rtl ubd\"></span></td><td class=\"tf rtl\"><span class=\"rtl ubd\"><span class=\"plain rtl  hl\" ><span class=\"txtu ara\">المُؤلِّفِ]</span></span></span></td></tr>\n",
       "<tr class=\"tf rtl\"><td class=\"tf rtl\">9</td><td class=\"tf rtl\"><span class=\"tfsechead rtl\"><span class=\"ltr\"><a target=\"_blank\" href=\"https://github.com/among/fusus/blob/master/ur/Lakhnawi/html/p9.html\" title=\"show this passage in the the original (html derived from pdf)\" sec=\"3 9:1\">3 9:1</a></span></span></td><td class=\"tf rtl\"><span class=\"rtl ubd\"></span></td><td class=\"tf rtl\"><span class=\"rtl ubd\"><span class=\"plain rtl  hl\" ><span class=\"txtu ara\">بِالقِيلِ </span></span></span></td></tr>\n",
       "<tr class=\"tf rtl\"><td class=\"tf rtl\">10</td><td class=\"tf rtl\"><span class=\"tfsechead rtl\"><span class=\"ltr\"><a target=\"_blank\" href=\"https://github.com/among/fusus/blob/master/ur/Lakhnawi/html/p10.html\" title=\"show this passage in the the original (html derived from pdf)\" sec=\"3 10:1\">3 10:1</a></span></span></td><td class=\"tf rtl\"><span class=\"rtl ubd\"></span></td><td class=\"tf rtl\"><span class=\"rtl ubd\"><span class=\"plain rtl  hl\" ><span class=\"txtu ara\"> </span></span></span></td></tr>\n",
       "<tr class=\"tf rtl\"><td class=\"tf rtl\">11</td><td class=\"tf rtl\"><span class=\"tfsechead rtl\"><span class=\"ltr\"><a target=\"_blank\" href=\"https://github.com/among/fusus/blob/master/ur/Lakhnawi/html/p11.html\" title=\"show this passage in the the original (html derived from pdf)\" sec=\"3 11:1\">3 11:1</a></span></span></td><td class=\"tf rtl\"><span class=\"rtl ubd\"></span></td><td class=\"tf rtl\"><span class=\"rtl ubd\"><span class=\"plain rtl  hl\" ><span class=\"txtu ara\"> </span></span></span></td></tr>\n",
       "<tr class=\"tf rtl\"><td class=\"tf rtl\">12</td><td class=\"tf rtl\"><span class=\"tfsechead rtl\"><span class=\"ltr\"><a target=\"_blank\" href=\"https://github.com/among/fusus/blob/master/ur/Lakhnawi/html/p12.html\" title=\"show this passage in the the original (html derived from pdf)\" sec=\"3 12:1\">3 12:1</a></span></span></td><td class=\"tf rtl\"><span class=\"rtl ubd\"></span></td><td class=\"tf rtl\"><span class=\"rtl ubd\"><span class=\"plain rtl  hl\" ><span class=\"txtu ara\"> </span></span></span></td></tr>\n",
       "<tr class=\"tf rtl\"><td class=\"tf rtl\">13</td><td class=\"tf rtl\"><span class=\"tfsechead rtl\"><span class=\"ltr\"><a target=\"_blank\" href=\"https://github.com/among/fusus/blob/master/ur/Lakhnawi/html/p13.html\" title=\"show this passage in the the original (html derived from pdf)\" sec=\"3 13:1\">3 13:1</a></span></span></td><td class=\"tf rtl\"><span class=\"rtl ubd\"></span></td><td class=\"tf rtl\"><span class=\"rtl ubd\"><span class=\"plain rtl  hl\" ><span class=\"txtu ara\">بِالشَّرْعِ</span></span></span></td></tr>\n",
       "<tr class=\"tf rtl\"><td class=\"tf rtl\">14</td><td class=\"tf rtl\"><span class=\"tfsechead rtl\"><span class=\"ltr\"><a target=\"_blank\" href=\"https://github.com/among/fusus/blob/master/ur/Lakhnawi/html/p14.html\" title=\"show this passage in the the original (html derived from pdf)\" sec=\"4 14:1\">4 14:1</a></span></span></td><td class=\"tf rtl\"><span class=\"rtl ubd\"></span></td><td class=\"tf rtl\"><span class=\"rtl ubd\"><span class=\"plain rtl  hl\" ><span class=\"txtu ara\">آدَمِيَّةٍ﴾</span></span></span></td></tr>\n",
       "<tr class=\"tf rtl\"><td class=\"tf rtl\">15</td><td class=\"tf rtl\"><span class=\"tfsechead rtl\"><span class=\"ltr\"><a target=\"_blank\" href=\"https://github.com/among/fusus/blob/master/ur/Lakhnawi/html/p15.html\" title=\"show this passage in the the original (html derived from pdf)\" sec=\"4 15:1\">4 15:1</a></span></span></td><td class=\"tf rtl\"><span class=\"rtl ubd\"></span></td><td class=\"tf rtl\"><span class=\"rtl ubd\"><span class=\"plain rtl  hl\" ><span class=\"txtu ara\"> </span></span></span></td></tr>\n",
       "<tr class=\"tf rtl\"><td class=\"tf rtl\">16</td><td class=\"tf rtl\"><span class=\"tfsechead rtl\"><span class=\"ltr\"><a target=\"_blank\" href=\"https://github.com/among/fusus/blob/master/ur/Lakhnawi/html/p16.html\" title=\"show this passage in the the original (html derived from pdf)\" sec=\"4 16:1\">4 16:1</a></span></span></td><td class=\"tf rtl\"><span class=\"rtl ubd\"></span></td><td class=\"tf rtl\"><span class=\"rtl ubd\"><span class=\"plain rtl  hl\" ><span class=\"txtu ara\">إِلَّا</span></span></span></td></tr>\n",
       "<tr class=\"tf rtl\"><td class=\"tf rtl\">17</td><td class=\"tf rtl\"><span class=\"tfsechead rtl\"><span class=\"ltr\"><a target=\"_blank\" href=\"https://github.com/among/fusus/blob/master/ur/Lakhnawi/html/p17.html\" title=\"show this passage in the the original (html derived from pdf)\" sec=\"4 17:1\">4 17:1</a></span></span></td><td class=\"tf rtl\"><span class=\"rtl ubd\"></span></td><td class=\"tf rtl\"><span class=\"rtl ubd\"><span class=\"plain rtl  hl\" ><span class=\"txtu ara\">النَّشْأَةِ</span></span></span></td></tr>\n",
       "<tr class=\"tf rtl\"><td class=\"tf rtl\">18</td><td class=\"tf rtl\"><span class=\"tfsechead rtl\"><span class=\"ltr\"><a target=\"_blank\" href=\"https://github.com/among/fusus/blob/master/ur/Lakhnawi/html/p18.html\" title=\"show this passage in the the original (html derived from pdf)\" sec=\"4 18:1\">4 18:1</a></span></span></td><td class=\"tf rtl\"><span class=\"rtl ubd\"></span></td><td class=\"tf rtl\"><span class=\"rtl ubd\"><span class=\"plain rtl  hl\" ><span class=\"txtu ara\">الإِدْرَاكِ</span></span></span></td></tr>\n",
       "<tr class=\"tf rtl\"><td class=\"tf rtl\">19</td><td class=\"tf rtl\"><span class=\"tfsechead rtl\"><span class=\"ltr\"><a target=\"_blank\" href=\"https://github.com/among/fusus/blob/master/ur/Lakhnawi/html/p19.html\" title=\"show this passage in the the original (html derived from pdf)\" sec=\"4 19:1\">4 19:1</a></span></span></td><td class=\"tf rtl\"><span class=\"rtl ubd\"></span></td><td class=\"tf rtl\"><span class=\"rtl ubd\"><span class=\"plain rtl  hl\" ><span class=\"txtu ara\">الحَقُّ </span></span></span></td></tr>\n",
       "<tr class=\"tf rtl\"><td class=\"tf rtl\">20</td><td class=\"tf rtl\"><span class=\"tfsechead rtl\"><span class=\"ltr\"><a target=\"_blank\" href=\"https://github.com/among/fusus/blob/master/ur/Lakhnawi/html/p20.html\" title=\"show this passage in the the original (html derived from pdf)\" sec=\"4 20:1\">4 20:1</a></span></span></td><td class=\"tf rtl\"><span class=\"rtl ubd\"></span></td><td class=\"tf rtl\"><span class=\"rtl ubd\"><span class=\"plain rtl  hl\" ><span class=\"txtu ara\">ْعِيَّةُ </span></span></span></td></tr></table>"
      ],
      "text/plain": [
       "<IPython.core.display.HTML object>"
      ]
     },
     "metadata": {},
     "output_type": "display_data"
    }
   ],
   "source": [
    "template = \"\"\"\n",
    "line ln=1\n",
    "  := word\n",
    "\"\"\"\n",
    "results = A.search(template)\n",
    "A.table(results, end=20)"
   ]
  },
  {
   "cell_type": "markdown",
   "metadata": {},
   "source": [
    "All first words of a piece"
   ]
  },
  {
   "cell_type": "code",
   "execution_count": 12,
   "metadata": {},
   "outputs": [
    {
     "name": "stdout",
     "output_type": "stream",
     "text": [
      "  0.07s 33 results\n"
     ]
    },
    {
     "data": {
      "text/html": [
       "<table><tr class=\"tf rtl\"><th class=\"tf rtl\">n</th><th class=\"tf rtl\">p</th><th class=\"tf rtl\">piece</th><th class=\"tf\">word</th></tr>\n",
       "<tr class=\"tf rtl\"><td class=\"tf rtl\">1</td><td class=\"tf rtl\"><span class=\"tfsechead rtl\"><span class=\"ltr\"><a target=\"_blank\" href=\"https://github.com/among/fusus/blob/master/ur/Lakhnawi/html/p1.html\" title=\"show this passage in the the original (html derived from pdf)\" sec=\"1 1:1\">1 1:1</a></span></span></td><td class=\"tf rtl\"><span class=\"rtl ubd\"><span class=\"txtu ara rtl\"><span class=\"tfsechead rtl\"><span class=\"ltr\">1</span></span></span></span></td><td class=\"tf rtl\"><span class=\"rtl ubd\"><span class=\"plain rtl  hl\" ><span class=\"txtu ara\">فصوص </span></span></span></td></tr>\n",
       "<tr class=\"tf rtl\"><td class=\"tf rtl\">2</td><td class=\"tf rtl\"><span class=\"tfsechead rtl\"><span class=\"ltr\"><a target=\"_blank\" href=\"https://github.com/among/fusus/blob/master/ur/Lakhnawi/html/p6.html\" title=\"show this passage in the the original (html derived from pdf)\" sec=\"2 6:1\">2 6:1</a></span></span></td><td class=\"tf rtl\"><span class=\"rtl ubd\"><span class=\"txtu ara rtl\"><span class=\"tfsechead rtl\"><span class=\"ltr\">2</span></span></span></span></td><td class=\"tf rtl\"><span class=\"rtl ubd\"><span class=\"plain rtl  hl\" ><span class=\"txtu ara\">[</span></span></span></td></tr>\n",
       "<tr class=\"tf rtl\"><td class=\"tf rtl\">3</td><td class=\"tf rtl\"><span class=\"tfsechead rtl\"><span class=\"ltr\"><a target=\"_blank\" href=\"https://github.com/among/fusus/blob/master/ur/Lakhnawi/html/p8.html\" title=\"show this passage in the the original (html derived from pdf)\" sec=\"3 8:1\">3 8:1</a></span></span></td><td class=\"tf rtl\"><span class=\"rtl ubd\"><span class=\"txtu ara rtl\"><span class=\"tfsechead rtl\"><span class=\"ltr\">3</span></span></span></span></td><td class=\"tf rtl\"><span class=\"rtl ubd\"><span class=\"plain rtl  hl\" ><span class=\"txtu ara\">[</span></span></span></td></tr>\n",
       "<tr class=\"tf rtl\"><td class=\"tf rtl\">4</td><td class=\"tf rtl\"><span class=\"tfsechead rtl\"><span class=\"ltr\"><a target=\"_blank\" href=\"https://github.com/among/fusus/blob/master/ur/Lakhnawi/html/p14.html\" title=\"show this passage in the the original (html derived from pdf)\" sec=\"4 14:1\">4 14:1</a></span></span></td><td class=\"tf rtl\"><span class=\"rtl ubd\"><span class=\"txtu ara rtl\"><span class=\"tfsechead rtl\"><span class=\"ltr\">4</span></span></span></span></td><td class=\"tf rtl\"><span class=\"rtl ubd\"><span class=\"plain rtl  hl\" ><span class=\"txtu ara\">[</span></span></span></td></tr>\n",
       "<tr class=\"tf rtl\"><td class=\"tf rtl\">5</td><td class=\"tf rtl\"><span class=\"tfsechead rtl\"><span class=\"ltr\"><a target=\"_blank\" href=\"https://github.com/among/fusus/blob/master/ur/Lakhnawi/html/p32.html\" title=\"show this passage in the the original (html derived from pdf)\" sec=\"5 32:1\">5 32:1</a></span></span></td><td class=\"tf rtl\"><span class=\"rtl ubd\"><span class=\"txtu ara rtl\"><span class=\"tfsechead rtl\"><span class=\"ltr\">5</span></span></span></span></td><td class=\"tf rtl\"><span class=\"rtl ubd\"><span class=\"plain rtl  hl\" ><span class=\"txtu ara\">[</span></span></span></td></tr>\n",
       "<tr class=\"tf rtl\"><td class=\"tf rtl\">6</td><td class=\"tf rtl\"><span class=\"tfsechead rtl\"><span class=\"ltr\"><a target=\"_blank\" href=\"https://github.com/among/fusus/blob/master/ur/Lakhnawi/html/p52.html\" title=\"show this passage in the the original (html derived from pdf)\" sec=\"6 52:1\">6 52:1</a></span></span></td><td class=\"tf rtl\"><span class=\"rtl ubd\"><span class=\"txtu ara rtl\"><span class=\"tfsechead rtl\"><span class=\"ltr\">6</span></span></span></span></td><td class=\"tf rtl\"><span class=\"rtl ubd\"><span class=\"plain rtl  hl\" ><span class=\"txtu ara\">وَهُوَ </span></span></span></td></tr>\n",
       "<tr class=\"tf rtl\"><td class=\"tf rtl\">7</td><td class=\"tf rtl\"><span class=\"tfsechead rtl\"><span class=\"ltr\"><a target=\"_blank\" href=\"https://github.com/among/fusus/blob/master/ur/Lakhnawi/html/p71.html\" title=\"show this passage in the the original (html derived from pdf)\" sec=\"7 71:1\">7 71:1</a></span></span></td><td class=\"tf rtl\"><span class=\"rtl ubd\"><span class=\"txtu ara rtl\"><span class=\"tfsechead rtl\"><span class=\"ltr\">7</span></span></span></span></td><td class=\"tf rtl\"><span class=\"rtl ubd\"><span class=\"plain rtl  hl\" ><span class=\"txtu ara\">المَنَازِلِ، </span></span></span></td></tr>\n",
       "<tr class=\"tf rtl\"><td class=\"tf rtl\">8</td><td class=\"tf rtl\"><span class=\"tfsechead rtl\"><span class=\"ltr\"><a target=\"_blank\" href=\"https://github.com/among/fusus/blob/master/ur/Lakhnawi/html/p84.html\" title=\"show this passage in the the original (html derived from pdf)\" sec=\"8 84:1\">8 84:1</a></span></span></td><td class=\"tf rtl\"><span class=\"rtl ubd\"><span class=\"txtu ara rtl\"><span class=\"tfsechead rtl\"><span class=\"ltr\">8</span></span></span></span></td><td class=\"tf rtl\"><span class=\"rtl ubd\"><span class=\"plain rtl  hl\" ><span class=\"txtu ara\">كَمَا </span></span></span></td></tr>\n",
       "<tr class=\"tf rtl\"><td class=\"tf rtl\">9</td><td class=\"tf rtl\"><span class=\"tfsechead rtl\"><span class=\"ltr\"><a target=\"_blank\" href=\"https://github.com/among/fusus/blob/master/ur/Lakhnawi/html/p95.html\" title=\"show this passage in the the original (html derived from pdf)\" sec=\"9 95:1\">9 95:1</a></span></span></td><td class=\"tf rtl\"><span class=\"rtl ubd\"><span class=\"txtu ara rtl\"><span class=\"tfsechead rtl\"><span class=\"ltr\">9</span></span></span></span></td><td class=\"tf rtl\"><span class=\"rtl ubd\"><span class=\"plain rtl  hl\" ><span class=\"txtu ara\">٣‐</span></span></span></td></tr>\n",
       "<tr class=\"tf rtl\"><td class=\"tf rtl\">10</td><td class=\"tf rtl\"><span class=\"tfsechead rtl\"><span class=\"ltr\"><a target=\"_blank\" href=\"https://github.com/among/fusus/blob/master/ur/Lakhnawi/html/p111.html\" title=\"show this passage in the the original (html derived from pdf)\" sec=\"10 111:1\">10 111:1</a></span></span></td><td class=\"tf rtl\"><span class=\"rtl ubd\"><span class=\"txtu ara rtl\"><span class=\"tfsechead rtl\"><span class=\"ltr\">10</span></span></span></span></td><td class=\"tf rtl\"><span class=\"rtl ubd\"><span class=\"plain rtl  hl\" ><span class=\"txtu ara\">وَلِهٰذَا </span></span></span></td></tr>\n",
       "<tr class=\"tf rtl\"><td class=\"tf rtl\">11</td><td class=\"tf rtl\"><span class=\"tfsechead rtl\"><span class=\"ltr\"><a target=\"_blank\" href=\"https://github.com/among/fusus/blob/master/ur/Lakhnawi/html/p121.html\" title=\"show this passage in the the original (html derived from pdf)\" sec=\"11 121:1\">11 121:1</a></span></span></td><td class=\"tf rtl\"><span class=\"rtl ubd\"><span class=\"txtu ara rtl\"><span class=\"tfsechead rtl\"><span class=\"ltr\">11</span></span></span></span></td><td class=\"tf rtl\"><span class=\"rtl ubd\"><span class=\"plain rtl  hl\" ><span class=\"txtu ara\">إِنَّ </span></span></span></td></tr>\n",
       "<tr class=\"tf rtl\"><td class=\"tf rtl\">12</td><td class=\"tf rtl\"><span class=\"tfsechead rtl\"><span class=\"ltr\"><a target=\"_blank\" href=\"https://github.com/among/fusus/blob/master/ur/Lakhnawi/html/p147.html\" title=\"show this passage in the the original (html derived from pdf)\" sec=\"13 147:1\">13 147:1</a></span></span></td><td class=\"tf rtl\"><span class=\"rtl ubd\"><span class=\"txtu ara rtl\"><span class=\"tfsechead rtl\"><span class=\"ltr\">13</span></span></span></span></td><td class=\"tf rtl\"><span class=\"rtl ubd\"><span class=\"plain rtl  hl\" ><span class=\"txtu ara\">فَأَسْمَاؤُنَا </span></span></span></td></tr>\n",
       "<tr class=\"tf rtl\"><td class=\"tf rtl\">13</td><td class=\"tf rtl\"><span class=\"tfsechead rtl\"><span class=\"ltr\"><a target=\"_blank\" href=\"https://github.com/among/fusus/blob/master/ur/Lakhnawi/html/p166.html\" title=\"show this passage in the the original (html derived from pdf)\" sec=\"14 166:1\">14 166:1</a></span></span></td><td class=\"tf rtl\"><span class=\"rtl ubd\"><span class=\"txtu ara rtl\"><span class=\"tfsechead rtl\"><span class=\"ltr\">14</span></span></span></span></td><td class=\"tf rtl\"><span class=\"rtl ubd\"><span class=\"plain rtl  hl\" ><span class=\"txtu ara\">تُسَمَّىٰ </span></span></span></td></tr>\n",
       "<tr class=\"tf rtl\"><td class=\"tf rtl\">14</td><td class=\"tf rtl\"><span class=\"tfsechead rtl\"><span class=\"ltr\"><a target=\"_blank\" href=\"https://github.com/among/fusus/blob/master/ur/Lakhnawi/html/p173.html\" title=\"show this passage in the the original (html derived from pdf)\" sec=\"15 173:1\">15 173:1</a></span></span></td><td class=\"tf rtl\"><span class=\"rtl ubd\"><span class=\"txtu ara rtl\"><span class=\"tfsechead rtl\"><span class=\"ltr\">15</span></span></span></span></td><td class=\"tf rtl\"><span class=\"rtl ubd\"><span class=\"plain rtl  hl\" ><span class=\"txtu ara\">الأَشْقِيَاءٍِ: </span></span></span></td></tr>\n",
       "<tr class=\"tf rtl\"><td class=\"tf rtl\">15</td><td class=\"tf rtl\"><span class=\"tfsechead rtl\"><span class=\"ltr\"><a target=\"_blank\" href=\"https://github.com/among/fusus/blob/master/ur/Lakhnawi/html/p189.html\" title=\"show this passage in the the original (html derived from pdf)\" sec=\"16 189:1\">16 189:1</a></span></span></td><td class=\"tf rtl\"><span class=\"rtl ubd\"><span class=\"txtu ara rtl\"><span class=\"tfsechead rtl\"><span class=\"ltr\">16</span></span></span></span></td><td class=\"tf rtl\"><span class=\"rtl ubd\"><span class=\"plain rtl  hl\" ><span class=\"txtu ara\">وَلَا </span></span></span></td></tr>\n",
       "<tr class=\"tf rtl\"><td class=\"tf rtl\">16</td><td class=\"tf rtl\"><span class=\"tfsechead rtl\"><span class=\"ltr\"><a target=\"_blank\" href=\"https://github.com/among/fusus/blob/master/ur/Lakhnawi/html/p198.html\" title=\"show this passage in the the original (html derived from pdf)\" sec=\"17 198:1\">17 198:1</a></span></span></td><td class=\"tf rtl\"><span class=\"rtl ubd\"><span class=\"txtu ara rtl\"><span class=\"tfsechead rtl\"><span class=\"ltr\">17</span></span></span></span></td><td class=\"tf rtl\"><span class=\"rtl ubd\"><span class=\"plain rtl  hl\" ><span class=\"txtu ara\">هِي </span></span></span></td></tr>\n",
       "<tr class=\"tf rtl\"><td class=\"tf rtl\">17</td><td class=\"tf rtl\"><span class=\"tfsechead rtl\"><span class=\"ltr\"><a target=\"_blank\" href=\"https://github.com/among/fusus/blob/master/ur/Lakhnawi/html/p211.html\" title=\"show this passage in the the original (html derived from pdf)\" sec=\"18 211:1\">18 211:1</a></span></span></td><td class=\"tf rtl\"><span class=\"rtl ubd\"><span class=\"txtu ara rtl\"><span class=\"tfsechead rtl\"><span class=\"ltr\">18</span></span></span></span></td><td class=\"tf rtl\"><span class=\"rtl ubd\"><span class=\"plain rtl  hl\" ><span class=\"txtu ara\">وَغَيْرِهِ. </span></span></span></td></tr>\n",
       "<tr class=\"tf rtl\"><td class=\"tf rtl\">18</td><td class=\"tf rtl\"><span class=\"tfsechead rtl\"><span class=\"ltr\"><a target=\"_blank\" href=\"https://github.com/among/fusus/blob/master/ur/Lakhnawi/html/p242.html\" title=\"show this passage in the the original (html derived from pdf)\" sec=\"19 242:1\">19 242:1</a></span></span></td><td class=\"tf rtl\"><span class=\"rtl ubd\"><span class=\"txtu ara rtl\"><span class=\"tfsechead rtl\"><span class=\"ltr\">19</span></span></span></span></td><td class=\"tf rtl\"><span class=\"rtl ubd\"><span class=\"plain rtl  hl\" ><span class=\"txtu ara\">هٰذِهِ </span></span></span></td></tr>\n",
       "<tr class=\"tf rtl\"><td class=\"tf rtl\">19</td><td class=\"tf rtl\"><span class=\"tfsechead rtl\"><span class=\"ltr\"><a target=\"_blank\" href=\"https://github.com/among/fusus/blob/master/ur/Lakhnawi/html/p262.html\" title=\"show this passage in the the original (html derived from pdf)\" sec=\"20 262:1\">20 262:1</a></span></span></td><td class=\"tf rtl\"><span class=\"rtl ubd\"><span class=\"txtu ara rtl\"><span class=\"tfsechead rtl\"><span class=\"ltr\">20</span></span></span></span></td><td class=\"tf rtl\"><span class=\"rtl ubd\"><span class=\"plain rtl  hl\" ><span class=\"txtu ara\">وَإذِا </span></span></span></td></tr>\n",
       "<tr class=\"tf rtl\"><td class=\"tf rtl\">20</td><td class=\"tf rtl\"><span class=\"tfsechead rtl\"><span class=\"ltr\"><a target=\"_blank\" href=\"https://github.com/among/fusus/blob/master/ur/Lakhnawi/html/p278.html\" title=\"show this passage in the the original (html derived from pdf)\" sec=\"21 278:1\">21 278:1</a></span></span></td><td class=\"tf rtl\"><span class=\"rtl ubd\"><span class=\"txtu ara rtl\"><span class=\"tfsechead rtl\"><span class=\"ltr\">21</span></span></span></span></td><td class=\"tf rtl\"><span class=\"rtl ubd\"><span class=\"plain rtl  hl\" ><span class=\"txtu ara\">وَمَا </span></span></span></td></tr></table>"
      ],
      "text/plain": [
       "<IPython.core.display.HTML object>"
      ]
     },
     "metadata": {},
     "output_type": "display_data"
    }
   ],
   "source": [
    "template = \"\"\"\n",
    "piece\n",
    "  =: word\n",
    "\"\"\"\n",
    "results = A.search(template)\n",
    "A.table(results, end=20)"
   ]
  },
  {
   "cell_type": "code",
   "execution_count": 13,
   "metadata": {},
   "outputs": [
    {
     "data": {
      "text/html": [
       "<div class=\"rtl\"><span class=\"tfsechead rtl\"><span class=\"ltr\"><a target=\"_blank\" href=\"https://github.com/among/fusus/blob/master/ur/Lakhnawi/html/p14.html\" title=\"show this passage in the the original (html derived from pdf)\" sec=\"4 14:1\">4 14:1</a></span></span>  <span class=\"txtu ara\">[</span><span class=\"txtu ara\">١]﴿</span><span class=\"txtu ara\">فَصُّ </span><span class=\"txtu ara\">حِكْمَةٍ </span><span class=\"txtu ara\">إِلٰهِيَّةٍ </span><span class=\"txtu ara\">فِي </span><span class=\"txtu ara\">كَلِمَةٍ </span><span class=\"txtu ara\">آدَمِيَّةٍ﴾</span></div>"
      ],
      "text/plain": [
       "<IPython.core.display.HTML object>"
      ]
     },
     "metadata": {},
     "output_type": "display_data"
    }
   ],
   "source": [
    "ln = A.nodeFromSectionStr(\"4 14:1\")\n",
    "A.plain(ln)"
   ]
  },
  {
   "cell_type": "markdown",
   "metadata": {},
   "source": [
    "Pick line 500"
   ]
  },
  {
   "cell_type": "code",
   "execution_count": 14,
   "metadata": {},
   "outputs": [
    {
     "data": {
      "text/plain": [
       "62860"
      ]
     },
     "execution_count": 14,
     "metadata": {},
     "output_type": "execute_result"
    }
   ],
   "source": [
    "l = F.otype.s(\"line\")[499]\n",
    "l"
   ]
  },
  {
   "cell_type": "markdown",
   "metadata": {},
   "source": [
    "Where is it?"
   ]
  },
  {
   "cell_type": "code",
   "execution_count": 15,
   "metadata": {},
   "outputs": [
    {
     "data": {
      "text/html": [
       "<div class=\"rtl\"><span class=\"tfsechead rtl\"><span class=\"ltr\"><a target=\"_blank\" href=\"https://github.com/among/fusus/blob/master/ur/Lakhnawi/html/p45.html\" title=\"show this passage in the the original (html derived from pdf)\" sec=\"5 45:17\">5 45:17</a></span></span>  <span class=\"txtu ara\">أَوْ </span><span class=\"txtu ara\">عَلَىٰ </span><span class=\"txtu ara\">يَدِ </span><span class=\"txtu ara\">«</span><span class=\"txtu ara\">الجَبَّارِ» </span><span class=\"txtu ara\"> فَـيَنْظُـرُ </span><span class=\"txtu ara\">فِي </span><span class=\"txtu ara\">المَوْطِنِ </span><span class=\"txtu ara\">وَمَا </span><span class=\"txtu ara\">يَسْتَحِقُّهُ. </span><span class=\"txtu ara\"> </span></div>"
      ],
      "text/plain": [
       "<IPython.core.display.HTML object>"
      ]
     },
     "metadata": {},
     "output_type": "display_data"
    }
   ],
   "source": [
    "A.plain(l)"
   ]
  },
  {
   "cell_type": "markdown",
   "metadata": {},
   "source": [
    "Show structure"
   ]
  },
  {
   "cell_type": "code",
   "execution_count": 16,
   "metadata": {},
   "outputs": [
    {
     "data": {
      "text/html": [
       "<div class=\"tfsechead rtl\"><span class=\"ltr\"><a target=\"_blank\" href=\"https://github.com/among/fusus/blob/master/ur/Lakhnawi/html/p45.html\" title=\"show this passage in the the original (html derived from pdf)\" sec=\"5 45:17\">5 45:17</a></span></div><div class=\"rtl children\"><div class=\"contnr c3  rtl  \" ><div class=\"lbl c3  \" ><span class=\"nd\">line</span></div><div class=\"children hor wrap rtl\"><div class=\"contnr c1  rtl  \" ><div class=\"lbl c1  \" ><span class=\"nd\">column</span></div><div class=\"children hor wrap rtl\"><div class=\"contnr c1  rtl  \" ><div class=\"lbl c1  \" ><span class=\"nd\">span</span></div><div class=\"children hor wrap rtl\"><div class=\"contnr c0 trm rtl  \" ><div class=\"lbl c0 trm \" ><span class=\"txtu ara\">أَوْ </span></div></div><div class=\"contnr c0 trm rtl  \" ><div class=\"lbl c0 trm \" ><span class=\"txtu ara\">عَلَىٰ </span></div></div><div class=\"contnr c0 trm rtl  \" ><div class=\"lbl c0 trm \" ><span class=\"txtu ara\">يَدِ </span></div></div><div class=\"contnr c0 trm rtl  \" ><div class=\"lbl c0 trm \" ><span class=\"txtu ara\">«</span></div></div><div class=\"contnr c0 trm rtl  \" ><div class=\"lbl c0 trm \" ><span class=\"txtu ara\">الجَبَّارِ» </span></div></div><div class=\"contnr c0 trm rtl  \" ><div class=\"lbl c0 trm \" ><span class=\"txtu ara\"> فَـيَنْظُـرُ </span></div></div><div class=\"contnr c0 trm rtl  \" ><div class=\"lbl c0 trm \" ><span class=\"txtu ara\">فِي </span></div></div><div class=\"contnr c0 trm rtl  \" ><div class=\"lbl c0 trm \" ><span class=\"txtu ara\">المَوْطِنِ </span></div></div><div class=\"contnr c0 trm rtl  \" ><div class=\"lbl c0 trm \" ><span class=\"txtu ara\">وَمَا </span></div></div><div class=\"contnr c0 trm rtl  \" ><div class=\"lbl c0 trm \" ><span class=\"txtu ara\">يَسْتَحِقُّهُ. </span></div></div><div class=\"contnr c0 trm rtl  \" ><div class=\"lbl c0 trm \" ><span class=\"txtu ara\"> </span></div></div></div></div></div></div></div></div></div>"
      ],
      "text/plain": [
       "<IPython.core.display.HTML object>"
      ]
     },
     "metadata": {},
     "output_type": "display_data"
    }
   ],
   "source": [
    "A.pretty(l)"
   ]
  },
  {
   "cell_type": "markdown",
   "metadata": {},
   "source": [
    "Show more info"
   ]
  },
  {
   "cell_type": "code",
   "execution_count": 17,
   "metadata": {},
   "outputs": [
    {
     "data": {
      "text/html": [
       "<div class=\"tfsechead rtl\"><span class=\"ltr\"><a target=\"_blank\" href=\"https://github.com/among/fusus/blob/master/ur/Lakhnawi/html/p45.html\" title=\"show this passage in the the original (html derived from pdf)\" sec=\"5 45:17\">5 45:17</a></span></div><div class=\"rtl children\"><div class=\"contnr c3  rtl  \" ><div class=\"lbl c3  \" ><span class=\"nd\">line</span></div><div class=\"children hor wrap rtl\"><div class=\"contnr c1  rtl  \" ><div class=\"lbl c1  \" ><span class=\"nd\">column</span></div><div class='features'><span class=\"n xft\" ><span class=\"f\">n=</span>1</span></div><div class=\"children hor wrap rtl\"><div class=\"contnr c1  rtl  \" ><div class=\"lbl c1  \" ><span class=\"nd\">span</span></div><div class='features'><span class=\"n xft\" ><span class=\"f\">n=</span>1</span></div><div class=\"children hor wrap rtl\"><div class=\"contnr c0 trm rtl  \" ><div class=\"lbl c0 trm \" ><span class=\"txtu ara\">أَوْ </span></div></div><div class=\"contnr c0 trm rtl  \" ><div class=\"lbl c0 trm \" ><span class=\"txtu ara\">عَلَىٰ </span></div></div><div class=\"contnr c0 trm rtl  \" ><div class=\"lbl c0 trm \" ><span class=\"txtu ara\">يَدِ </span></div></div><div class=\"contnr c0 trm rtl  \" ><div class=\"lbl c0 trm \" ><span class=\"txtu ara\">«</span></div></div><div class=\"contnr c0 trm rtl  \" ><div class=\"lbl c0 trm \" ><span class=\"txtu ara\">الجَبَّارِ» </span></div></div><div class=\"contnr c0 trm rtl  \" ><div class=\"lbl c0 trm \" ><span class=\"txtu ara\"> فَـيَنْظُـرُ </span></div></div><div class=\"contnr c0 trm rtl  \" ><div class=\"lbl c0 trm \" ><span class=\"txtu ara\">فِي </span></div></div><div class=\"contnr c0 trm rtl  \" ><div class=\"lbl c0 trm \" ><span class=\"txtu ara\">المَوْطِنِ </span></div></div><div class=\"contnr c0 trm rtl  \" ><div class=\"lbl c0 trm \" ><span class=\"txtu ara\">وَمَا </span></div></div><div class=\"contnr c0 trm rtl  \" ><div class=\"lbl c0 trm \" ><span class=\"txtu ara\">يَسْتَحِقُّهُ. </span></div></div><div class=\"contnr c0 trm rtl  \" ><div class=\"lbl c0 trm \" ><span class=\"txtu ara\"> </span></div></div></div></div></div></div></div></div></div>"
      ],
      "text/plain": [
       "<IPython.core.display.HTML object>"
      ]
     },
     "metadata": {},
     "output_type": "display_data"
    }
   ],
   "source": [
    "A.pretty(l, extraFeatures=\"n\")"
   ]
  },
  {
   "cell_type": "markdown",
   "metadata": {},
   "source": [
    "Locate a specific portion"
   ]
  },
  {
   "cell_type": "code",
   "execution_count": 19,
   "metadata": {},
   "outputs": [
    {
     "name": "stdout",
     "output_type": "stream",
     "text": [
      "  0.09s 37 results\n"
     ]
    },
    {
     "data": {
      "text/html": [
       "<p><b>line</b> <i>1</i></p>"
      ],
      "text/plain": [
       "<IPython.core.display.HTML object>"
      ]
     },
     "metadata": {},
     "output_type": "display_data"
    },
    {
     "data": {
      "text/html": [
       "<div class=\"tfsechead rtl\"><span class=\"ltr\"><a target=\"_blank\" href=\"https://github.com/among/fusus/blob/master/ur/Lakhnawi/html/p32.html\" title=\"show this passage in the the original (html derived from pdf)\" sec=\"5 32:2\">5 32:2</a></span></div><div class=\"rtl children\"><div class=\"contnr c3  rtl  \" ><div class=\"lbl c3  \" ><span class=\"nd\">line</span></div><div class=\"children hor wrap rtl\"><div class=\"contnr c1  rtl  \" ><div class=\"lbl c1  \" ><span class=\"nd\">column</span></div><div class='features'><span class=\"n xft\" ><span class=\"f\">n=</span>1</span></div><div class=\"children hor wrap rtl\"><div class=\"contnr c1  rtl  \" ><div class=\"lbl c1  \" ><span class=\"nd\">span</span></div><div class='features'><span class=\"n xft\" ><span class=\"f\">n=</span>1</span></div><div class=\"children hor wrap rtl\"><div class=\"contnr c0 trm rtl  \" ><div class=\"lbl c0 trm \" ><span class=\"txtu ara\">ٱعْلَمْ </span></div><div class='features'><span class=\"letters xft\" ><span class=\"f\">letters=</span>ٱعْلَمْ</span></div></div><div class=\"contnr c0 trm rtl  \" ><div class=\"lbl c0 trm \" ><span class=\"txtu ara\">أَنَّ </span></div><div class='features'><span class=\"letters xft\" ><span class=\"f\">letters=</span>أَنَّ</span></div></div><div class=\"contnr c0 trm rtl  hl\" ><div class=\"lbl c0 trm hl\" ><span class=\"txtu ara\">العَطَا </span></div><div class='features'><span class=\"letters xft\" ><span class=\"f\">letters=</span>العَطَا</span></div></div><div class=\"contnr c0 trm rtl  hl\" ><div class=\"lbl c0 trm hl\" ><span class=\"txtu ara\">يَا </span></div><div class='features'><span class=\"letters xft\" ><span class=\"f\">letters=</span>يَا</span></div></div><div class=\"contnr c0 trm rtl  hl\" ><div class=\"lbl c0 trm hl\" ><span class=\"txtu ara\">وَالمِن </span></div><div class='features'><span class=\"letters xft\" ><span class=\"f\">letters=</span>وَالمِن</span></div></div><div class=\"contnr c0 trm rtl  \" ><div class=\"lbl c0 trm \" ><span class=\"txtu ara\">َحَ </span></div><div class='features'><span class=\"letters xft\" ><span class=\"f\">letters=</span>َحَ</span></div></div><div class=\"contnr c0 trm rtl  hl\" ><div class=\"lbl c0 trm hl\" ><span class=\"txtu ara\">الظَّاهِـرَةَ </span></div><div class='features'><span class=\"letters xft\" ><span class=\"f\">letters=</span>الظَّاهِـرَةَ</span></div></div><div class=\"contnr c0 trm rtl  \" ><div class=\"lbl c0 trm \" ><span class=\"txtu ara\">فِي </span></div><div class='features'><span class=\"letters xft\" ><span class=\"f\">letters=</span>فِي</span></div></div><div class=\"contnr c0 trm rtl  hl\" ><div class=\"lbl c0 trm hl\" ><span class=\"txtu ara\">الكَونِ </span></div><div class='features'><span class=\"letters xft\" ><span class=\"f\">letters=</span>الكَونِ</span></div></div><div class=\"contnr c0 trm rtl  \" ><div class=\"lbl c0 trm \" ><span class=\"txtu ara\">― </span></div><div class='features'><span class=\"letters xft\" ><span class=\"f\">letters=</span></span></div></div><div class=\"contnr c0 trm rtl  \" ><div class=\"lbl c0 trm \" ><span class=\"txtu ara\"> عَلَىٰ </span></div><div class='features'><span class=\"letters xft\" ><span class=\"f\">letters=</span> عَلَىٰ</span></div></div><div class=\"contnr c0 trm rtl  \" ><div class=\"lbl c0 trm \" ><span class=\"txtu ara\">أَيْدِي </span></div><div class='features'><span class=\"letters xft\" ><span class=\"f\">letters=</span>أَيْدِي</span></div></div><div class=\"contnr c0 trm rtl  hl\" ><div class=\"lbl c0 trm hl\" ><span class=\"txtu ara\">الع </span></div><div class='features'><span class=\"letters xft\" ><span class=\"f\">letters=</span>الع</span></div></div><div class=\"contnr c0 trm rtl  hl\" ><div class=\"lbl c0 trm hl\" ><span class=\"txtu ara\">ِبَادِ </span></div><div class='features'><span class=\"letters xft\" ><span class=\"f\">letters=</span>ِبَادِ</span></div></div><div class=\"contnr c0 trm rtl  \" ><div class=\"lbl c0 trm \" ><span class=\"txtu ara\">وَعَلَىٰ </span></div><div class='features'><span class=\"letters xft\" ><span class=\"f\">letters=</span>وَعَلَىٰ</span></div></div></div></div></div></div></div></div></div>"
      ],
      "text/plain": [
       "<IPython.core.display.HTML object>"
      ]
     },
     "metadata": {},
     "output_type": "display_data"
    },
    {
     "data": {
      "text/html": [
       "<p><b>line</b> <i>2</i></p>"
      ],
      "text/plain": [
       "<IPython.core.display.HTML object>"
      ]
     },
     "metadata": {},
     "output_type": "display_data"
    },
    {
     "data": {
      "text/html": [
       "<div class=\"tfsechead rtl\"><span class=\"ltr\"><a target=\"_blank\" href=\"https://github.com/among/fusus/blob/master/ur/Lakhnawi/html/p32.html\" title=\"show this passage in the the original (html derived from pdf)\" sec=\"5 32:3\">5 32:3</a></span></div><div class=\"rtl children\"><div class=\"contnr c3  rtl  \" ><div class=\"lbl c3  \" ><span class=\"nd\">line</span></div><div class=\"children hor wrap rtl\"><div class=\"contnr c1  rtl  \" ><div class=\"lbl c1  \" ><span class=\"nd\">column</span></div><div class='features'><span class=\"n xft\" ><span class=\"f\">n=</span>1</span></div><div class=\"children hor wrap rtl\"><div class=\"contnr c1  rtl  \" ><div class=\"lbl c1  \" ><span class=\"nd\">span</span></div><div class='features'><span class=\"n xft\" ><span class=\"f\">n=</span>1</span></div><div class=\"children hor wrap rtl\"><div class=\"contnr c0 trm rtl  \" ><div class=\"lbl c0 trm \" ><span class=\"txtu ara\">غَيْرِ </span></div><div class='features'><span class=\"letters xft\" ><span class=\"f\">letters=</span>غَيْرِ</span></div></div><div class=\"contnr c0 trm rtl  \" ><div class=\"lbl c0 trm \" ><span class=\"txtu ara\">أَيْدِيهِمْ </span></div><div class='features'><span class=\"letters xft\" ><span class=\"f\">letters=</span>أَيْدِيهِمْ</span></div></div><div class=\"contnr c0 trm rtl  \" ><div class=\"lbl c0 trm \" ><span class=\"txtu ara\">― </span></div><div class='features'><span class=\"letters xft\" ><span class=\"f\">letters=</span></span></div></div><div class=\"contnr c0 trm rtl  \" ><div class=\"lbl c0 trm \" ><span class=\"txtu ara\"> عَلَىٰ </span></div><div class='features'><span class=\"letters xft\" ><span class=\"f\">letters=</span> عَلَىٰ</span></div></div><div class=\"contnr c0 trm rtl  \" ><div class=\"lbl c0 trm \" ><span class=\"txtu ara\">قِسْمَيْنِ: </span></div><div class='features'><span class=\"letters xft\" ><span class=\"f\">letters=</span>قِسْمَيْنِ</span></div></div><div class=\"contnr c0 trm rtl  hl\" ><div class=\"lbl c0 trm hl\" ><span class=\"txtu ara\"> مِنْهَا، </span></div><div class='features'><span class=\"letters xft\" ><span class=\"f\">letters=</span> مِنْهَا</span></div></div><div class=\"contnr c0 trm rtl  hl\" ><div class=\"lbl c0 trm hl\" ><span class=\"txtu ara\"> مَاتَـكُونُ </span></div><div class='features'><span class=\"letters xft\" ><span class=\"f\">letters=</span> مَاتَـكُونُ</span></div></div><div class=\"contnr c0 trm rtl  hl\" ><div class=\"lbl c0 trm hl\" ><span class=\"txtu ara\">عَطَايَا </span></div><div class='features'><span class=\"letters xft\" ><span class=\"f\">letters=</span>عَطَايَا</span></div></div><div class=\"contnr c0 trm rtl  hl\" ><div class=\"lbl c0 trm hl\" ><span class=\"txtu ara\">ذَاتِيَّةً </span></div><div class='features'><span class=\"letters xft\" ><span class=\"f\">letters=</span>ذَاتِيَّةً</span></div></div><div class=\"contnr c0 trm rtl  hl\" ><div class=\"lbl c0 trm hl\" ><span class=\"txtu ara\">وَعَطَايَا </span></div><div class='features'><span class=\"letters xft\" ><span class=\"f\">letters=</span>وَعَطَايَا</span></div></div><div class=\"contnr c0 trm rtl  \" ><div class=\"lbl c0 trm \" ><span class=\"txtu ara\">أَسْم </span></div><div class='features'><span class=\"letters xft\" ><span class=\"f\">letters=</span>أَسْم</span></div></div><div class=\"contnr c0 trm rtl  hl\" ><div class=\"lbl c0 trm hl\" ><span class=\"txtu ara\">َائِيَّةً، </span></div><div class='features'><span class=\"letters xft\" ><span class=\"f\">letters=</span>َائِيَّةً</span></div></div><div class=\"contnr c0 trm rtl  \" ><div class=\"lbl c0 trm \" ><span class=\"txtu ara\"> </span></div><div class='features'><span class=\"letters xft\" ><span class=\"f\">letters=</span> </span></div></div></div></div></div></div></div></div></div>"
      ],
      "text/plain": [
       "<IPython.core.display.HTML object>"
      ]
     },
     "metadata": {},
     "output_type": "display_data"
    },
    {
     "data": {
      "text/html": [
       "<p><b>line</b> <i>3</i></p>"
      ],
      "text/plain": [
       "<IPython.core.display.HTML object>"
      ]
     },
     "metadata": {},
     "output_type": "display_data"
    },
    {
     "data": {
      "text/html": [
       "<div class=\"tfsechead rtl\"><span class=\"ltr\"><a target=\"_blank\" href=\"https://github.com/among/fusus/blob/master/ur/Lakhnawi/html/p32.html\" title=\"show this passage in the the original (html derived from pdf)\" sec=\"5 32:4\">5 32:4</a></span></div><div class=\"rtl children\"><div class=\"contnr c3  rtl  \" ><div class=\"lbl c3  \" ><span class=\"nd\">line</span></div><div class=\"children hor wrap rtl\"><div class=\"contnr c1  rtl  \" ><div class=\"lbl c1  \" ><span class=\"nd\">column</span></div><div class='features'><span class=\"n xft\" ><span class=\"f\">n=</span>1</span></div><div class=\"children hor wrap rtl\"><div class=\"contnr c1  rtl  \" ><div class=\"lbl c1  \" ><span class=\"nd\">span</span></div><div class='features'><span class=\"n xft\" ><span class=\"f\">n=</span>1</span></div><div class=\"children hor wrap rtl\"><div class=\"contnr c0 trm rtl  \" ><div class=\"lbl c0 trm \" ><span class=\"txtu ara\">وَتَتَمَيَّزُ </span></div><div class='features'><span class=\"letters xft\" ><span class=\"f\">letters=</span>وَتَتَمَيَّزُ</span></div></div><div class=\"contnr c0 trm rtl  \" ><div class=\"lbl c0 trm \" ><span class=\"txtu ara\">عِنْدَ </span></div><div class='features'><span class=\"letters xft\" ><span class=\"f\">letters=</span>عِنْدَ</span></div></div><div class=\"contnr c0 trm rtl  \" ><div class=\"lbl c0 trm \" ><span class=\"txtu ara\">أَهْلِ </span></div><div class='features'><span class=\"letters xft\" ><span class=\"f\">letters=</span>أَهْلِ</span></div></div><div class=\"contnr c0 trm rtl  hl\" ><div class=\"lbl c0 trm hl\" ><span class=\"txtu ara\">الأَذْوَاقِ. </span></div><div class='features'><span class=\"letters xft\" ><span class=\"f\">letters=</span>الأَذْوَاقِ</span></div></div><div class=\"contnr c0 trm rtl  \" ><div class=\"lbl c0 trm \" ><span class=\"txtu ara\"> </span></div><div class='features'><span class=\"letters xft\" ><span class=\"f\">letters=</span> </span></div></div></div></div></div></div></div></div></div>"
      ],
      "text/plain": [
       "<IPython.core.display.HTML object>"
      ]
     },
     "metadata": {},
     "output_type": "display_data"
    },
    {
     "data": {
      "text/html": [
       "<p><b>line</b> <i>4</i></p>"
      ],
      "text/plain": [
       "<IPython.core.display.HTML object>"
      ]
     },
     "metadata": {},
     "output_type": "display_data"
    },
    {
     "data": {
      "text/html": [
       "<div class=\"tfsechead rtl\"><span class=\"ltr\"><a target=\"_blank\" href=\"https://github.com/among/fusus/blob/master/ur/Lakhnawi/html/p32.html\" title=\"show this passage in the the original (html derived from pdf)\" sec=\"5 32:5\">5 32:5</a></span></div><div class=\"rtl children\"><div class=\"contnr c3  rtl  \" ><div class=\"lbl c3  \" ><span class=\"nd\">line</span></div><div class=\"children hor wrap rtl\"><div class=\"contnr c1  rtl  \" ><div class=\"lbl c1  \" ><span class=\"nd\">column</span></div><div class='features'><span class=\"n xft\" ><span class=\"f\">n=</span>1</span></div><div class=\"children hor wrap rtl\"><div class=\"contnr c1  rtl  \" ><div class=\"lbl c1  \" ><span class=\"nd\">span</span></div><div class='features'><span class=\"n xft\" ><span class=\"f\">n=</span>1</span></div><div class=\"children hor wrap rtl\"><div class=\"contnr c0 trm rtl  hl\" ><div class=\"lbl c0 trm hl\" ><span class=\"txtu ara\">كَمَا </span></div><div class='features'><span class=\"letters xft\" ><span class=\"f\">letters=</span>كَمَا</span></div></div><div class=\"contnr c0 trm rtl  \" ><div class=\"lbl c0 trm \" ><span class=\"txtu ara\">أَنَّ </span></div><div class='features'><span class=\"letters xft\" ><span class=\"f\">letters=</span>أَنَّ</span></div></div><div class=\"contnr c0 trm rtl  hl\" ><div class=\"lbl c0 trm hl\" ><span class=\"txtu ara\">مِنْهَا </span></div><div class='features'><span class=\"letters xft\" ><span class=\"f\">letters=</span>مِنْهَا</span></div></div><div class=\"contnr c0 trm rtl  hl\" ><div class=\"lbl c0 trm hl\" ><span class=\"txtu ara\">مَاتَـكُونُ </span></div><div class='features'><span class=\"letters xft\" ><span class=\"f\">letters=</span>مَاتَـكُونُ</span></div></div><div class=\"contnr c0 trm rtl  \" ><div class=\"lbl c0 trm \" ><span class=\"txtu ara\">عَنْ </span></div><div class='features'><span class=\"letters xft\" ><span class=\"f\">letters=</span>عَنْ</span></div></div><div class=\"contnr c0 trm rtl  hl\" ><div class=\"lbl c0 trm hl\" ><span class=\"txtu ara\">سُؤالٍ </span></div><div class='features'><span class=\"letters xft\" ><span class=\"f\">letters=</span>سُؤالٍ</span></div></div><div class=\"contnr c0 trm rtl  \" ><div class=\"lbl c0 trm \" ><span class=\"txtu ara\">فِي </span></div><div class='features'><span class=\"letters xft\" ><span class=\"f\">letters=</span>فِي</span></div></div><div class=\"contnr c0 trm rtl  \" ><div class=\"lbl c0 trm \" ><span class=\"txtu ara\">مُعَـيَّنٍ، </span></div><div class='features'><span class=\"letters xft\" ><span class=\"f\">letters=</span>مُعَـيَّنٍ</span></div></div><div class=\"contnr c0 trm rtl  \" ><div class=\"lbl c0 trm \" ><span class=\"txtu ara\"> وَعَنْ </span></div><div class='features'><span class=\"letters xft\" ><span class=\"f\">letters=</span> وَعَنْ</span></div></div><div class=\"contnr c0 trm rtl  hl\" ><div class=\"lbl c0 trm hl\" ><span class=\"txtu ara\">سُؤالٍ </span></div><div class='features'><span class=\"letters xft\" ><span class=\"f\">letters=</span>سُؤالٍ</span></div></div><div class=\"contnr c0 trm rtl  \" ><div class=\"lbl c0 trm \" ><span class=\"txtu ara\">غَـيْرِ </span></div><div class='features'><span class=\"letters xft\" ><span class=\"f\">letters=</span>غَـيْرِ</span></div></div><div class=\"contnr c0 trm rtl  \" ><div class=\"lbl c0 trm \" ><span class=\"txtu ara\">مُعَـيَّنٍ. </span></div><div class='features'><span class=\"letters xft\" ><span class=\"f\">letters=</span>مُعَـيَّنٍ</span></div></div><div class=\"contnr c0 trm rtl  \" ><div class=\"lbl c0 trm \" ><span class=\"txtu ara\"> </span></div><div class='features'><span class=\"letters xft\" ><span class=\"f\">letters=</span> </span></div></div></div></div></div></div></div></div></div>"
      ],
      "text/plain": [
       "<IPython.core.display.HTML object>"
      ]
     },
     "metadata": {},
     "output_type": "display_data"
    },
    {
     "data": {
      "text/html": [
       "<p><b>line</b> <i>5</i></p>"
      ],
      "text/plain": [
       "<IPython.core.display.HTML object>"
      ]
     },
     "metadata": {},
     "output_type": "display_data"
    },
    {
     "data": {
      "text/html": [
       "<div class=\"tfsechead rtl\"><span class=\"ltr\"><a target=\"_blank\" href=\"https://github.com/among/fusus/blob/master/ur/Lakhnawi/html/p32.html\" title=\"show this passage in the the original (html derived from pdf)\" sec=\"5 32:6\">5 32:6</a></span></div><div class=\"rtl children\"><div class=\"contnr c3  rtl  \" ><div class=\"lbl c3  \" ><span class=\"nd\">line</span></div><div class=\"children hor wrap rtl\"><div class=\"contnr c1  rtl  \" ><div class=\"lbl c1  \" ><span class=\"nd\">column</span></div><div class='features'><span class=\"n xft\" ><span class=\"f\">n=</span>1</span></div><div class=\"children hor wrap rtl\"><div class=\"contnr c1  rtl  \" ><div class=\"lbl c1  \" ><span class=\"nd\">span</span></div><div class='features'><span class=\"n xft\" ><span class=\"f\">n=</span>1</span></div><div class=\"children hor wrap rtl\"><div class=\"contnr c0 trm rtl  hl\" ><div class=\"lbl c0 trm hl\" ><span class=\"txtu ara\">وَمِنْهَا: </span></div><div class='features'><span class=\"letters xft\" ><span class=\"f\">letters=</span>وَمِنْهَا</span></div></div><div class=\"contnr c0 trm rtl  hl\" ><div class=\"lbl c0 trm hl\" ><span class=\"txtu ara\"> مَالَا </span></div><div class='features'><span class=\"letters xft\" ><span class=\"f\">letters=</span> مَالَا</span></div></div><div class=\"contnr c0 trm rtl  \" ><div class=\"lbl c0 trm \" ><span class=\"txtu ara\">يَكُونُ </span></div><div class='features'><span class=\"letters xft\" ><span class=\"f\">letters=</span>يَكُونُ</span></div></div><div class=\"contnr c0 trm rtl  \" ><div class=\"lbl c0 trm \" ><span class=\"txtu ara\">عَنْ </span></div><div class='features'><span class=\"letters xft\" ><span class=\"f\">letters=</span>عَنْ</span></div></div><div class=\"contnr c0 trm rtl  hl\" ><div class=\"lbl c0 trm hl\" ><span class=\"txtu ara\">سُؤالٍ، </span></div><div class='features'><span class=\"letters xft\" ><span class=\"f\">letters=</span>سُؤالٍ</span></div></div><div class=\"contnr c0 trm rtl  hl\" ><div class=\"lbl c0 trm hl\" ><span class=\"txtu ara\"> سَوَاءٌ </span></div><div class='features'><span class=\"letters xft\" ><span class=\"f\">letters=</span> سَوَاءٌ</span></div></div><div class=\"contnr c0 trm rtl  hl\" ><div class=\"lbl c0 trm hl\" ><span class=\"txtu ara\">كَانَتْ </span></div><div class='features'><span class=\"letters xft\" ><span class=\"f\">letters=</span>كَانَتْ</span></div></div><div class=\"contnr c0 trm rtl  hl\" ><div class=\"lbl c0 trm hl\" ><span class=\"txtu ara\">الأُعْطِيَةُ </span></div><div class='features'><span class=\"letters xft\" ><span class=\"f\">letters=</span>الأُعْطِيَةُ</span></div></div><div class=\"contnr c0 trm rtl  hl\" ><div class=\"lbl c0 trm hl\" ><span class=\"txtu ara\">ذَاتِيَّةً </span></div><div class='features'><span class=\"letters xft\" ><span class=\"f\">letters=</span>ذَاتِيَّةً</span></div></div><div class=\"contnr c0 trm rtl  \" ><div class=\"lbl c0 trm \" ><span class=\"txtu ara\">أَوْ </span></div><div class='features'><span class=\"letters xft\" ><span class=\"f\">letters=</span>أَوْ</span></div></div><div class=\"contnr c0 trm rtl  hl\" ><div class=\"lbl c0 trm hl\" ><span class=\"txtu ara\">أَسْمَائِيَّةً. </span></div><div class='features'><span class=\"letters xft\" ><span class=\"f\">letters=</span>أَسْمَائِيَّةً</span></div></div><div class=\"contnr c0 trm rtl  \" ><div class=\"lbl c0 trm \" ><span class=\"txtu ara\"> </span></div><div class='features'><span class=\"letters xft\" ><span class=\"f\">letters=</span> </span></div></div></div></div></div></div></div></div></div>"
      ],
      "text/plain": [
       "<IPython.core.display.HTML object>"
      ]
     },
     "metadata": {},
     "output_type": "display_data"
    },
    {
     "data": {
      "text/html": [
       "<p><b>line</b> <i>6</i></p>"
      ],
      "text/plain": [
       "<IPython.core.display.HTML object>"
      ]
     },
     "metadata": {},
     "output_type": "display_data"
    },
    {
     "data": {
      "text/html": [
       "<div class=\"tfsechead rtl\"><span class=\"ltr\"><a target=\"_blank\" href=\"https://github.com/among/fusus/blob/master/ur/Lakhnawi/html/p32.html\" title=\"show this passage in the the original (html derived from pdf)\" sec=\"5 32:7\">5 32:7</a></span></div><div class=\"rtl children\"><div class=\"contnr c3  rtl  \" ><div class=\"lbl c3  \" ><span class=\"nd\">line</span></div><div class=\"children hor wrap rtl\"><div class=\"contnr c1  rtl  \" ><div class=\"lbl c1  \" ><span class=\"nd\">column</span></div><div class='features'><span class=\"n xft\" ><span class=\"f\">n=</span>1</span></div><div class=\"children hor wrap rtl\"><div class=\"contnr c1  rtl  \" ><div class=\"lbl c1  \" ><span class=\"nd\">span</span></div><div class='features'><span class=\"n xft\" ><span class=\"f\">n=</span>1</span></div><div class=\"children hor wrap rtl\"><div class=\"contnr c0 trm rtl  hl\" ><div class=\"lbl c0 trm hl\" ><span class=\"txtu ara\">فَالمُع </span></div><div class='features'><span class=\"letters xft\" ><span class=\"f\">letters=</span>فَالمُع</span></div></div><div class=\"contnr c0 trm rtl  \" ><div class=\"lbl c0 trm \" ><span class=\"txtu ara\">َيَّنُ </span></div><div class='features'><span class=\"letters xft\" ><span class=\"f\">letters=</span>َيَّنُ</span></div></div><div class=\"contnr c0 trm rtl  \" ><div class=\"lbl c0 trm \" ><span class=\"txtu ara\">كَم </span></div><div class='features'><span class=\"letters xft\" ><span class=\"f\">letters=</span>كَم</span></div></div><div class=\"contnr c0 trm rtl  \" ><div class=\"lbl c0 trm \" ><span class=\"txtu ara\">َنْ </span></div><div class='features'><span class=\"letters xft\" ><span class=\"f\">letters=</span>َنْ</span></div></div><div class=\"contnr c0 trm rtl  \" ><div class=\"lbl c0 trm \" ><span class=\"txtu ara\">يَقُولُ: </span></div><div class='features'><span class=\"letters xft\" ><span class=\"f\">letters=</span>يَقُولُ</span></div></div><div class=\"contnr c0 trm rtl  \" ><div class=\"lbl c0 trm \" ><span class=\"txtu ara\"> «</span></div><div class='features'><span class=\"letters xft\" ><span class=\"f\">letters=</span> </span></div></div><div class=\"contnr c0 trm rtl  hl\" ><div class=\"lbl c0 trm hl\" ><span class=\"txtu ara\">يَا </span></div><div class='features'><span class=\"letters xft\" ><span class=\"f\">letters=</span>يَا</span></div></div><div class=\"contnr c0 trm rtl  \" ><div class=\"lbl c0 trm \" ><span class=\"txtu ara\">رَبِّ </span></div><div class='features'><span class=\"letters xft\" ><span class=\"f\">letters=</span>رَبِّ</span></div></div><div class=\"contnr c0 trm rtl  \" ><div class=\"lbl c0 trm \" ><span class=\"txtu ara\">أَعْط </span></div><div class='features'><span class=\"letters xft\" ><span class=\"f\">letters=</span>أَعْط</span></div></div><div class=\"contnr c0 trm rtl  \" ><div class=\"lbl c0 trm \" ><span class=\"txtu ara\">ِنِي </span></div><div class='features'><span class=\"letters xft\" ><span class=\"f\">letters=</span>ِنِي</span></div></div><div class=\"contnr c0 trm rtl  \" ><div class=\"lbl c0 trm \" ><span class=\"txtu ara\">كَذَ </span></div><div class='features'><span class=\"letters xft\" ><span class=\"f\">letters=</span>كَذَ</span></div></div><div class=\"contnr c0 trm rtl  hl\" ><div class=\"lbl c0 trm hl\" ><span class=\"txtu ara\">ا».</span></div><div class='features'><span class=\"letters xft\" ><span class=\"f\">letters=</span>ا</span></div></div><div class=\"contnr c0 trm rtl  \" ><div class=\"lbl c0 trm \" ><span class=\"txtu ara\">فَي </span></div><div class='features'><span class=\"letters xft\" ><span class=\"f\">letters=</span>فَي</span></div></div><div class=\"contnr c0 trm rtl  \" ><div class=\"lbl c0 trm \" ><span class=\"txtu ara\">ُعَـ </span></div><div class='features'><span class=\"letters xft\" ><span class=\"f\">letters=</span>ُعَـ</span></div></div><div class=\"contnr c0 trm rtl  \" ><div class=\"lbl c0 trm \" ><span class=\"txtu ara\">يِّنُ </span></div><div class='features'><span class=\"letters xft\" ><span class=\"f\">letters=</span>يِّنُ</span></div></div><div class=\"contnr c0 trm rtl  hl\" ><div class=\"lbl c0 trm hl\" ><span class=\"txtu ara\">أَمْـرًا </span></div><div class='features'><span class=\"letters xft\" ><span class=\"f\">letters=</span>أَمْـرًا</span></div></div><div class=\"contnr c0 trm rtl  hl\" ><div class=\"lbl c0 trm hl\" ><span class=\"txtu ara\">مَا، </span></div><div class='features'><span class=\"letters xft\" ><span class=\"f\">letters=</span>مَا</span></div></div><div class=\"contnr c0 trm rtl  hl\" ><div class=\"lbl c0 trm hl\" ><span class=\"txtu ara\"> لَا </span></div><div class='features'><span class=\"letters xft\" ><span class=\"f\">letters=</span> لَا</span></div></div><div class=\"contnr c0 trm rtl  \" ><div class=\"lbl c0 trm \" ><span class=\"txtu ara\">يَخْطُـ </span></div><div class='features'><span class=\"letters xft\" ><span class=\"f\">letters=</span>يَخْطُـ</span></div></div><div class=\"contnr c0 trm rtl  \" ><div class=\"lbl c0 trm \" ><span class=\"txtu ara\">رُ</span></div><div class='features'><span class=\"letters xft\" ><span class=\"f\">letters=</span>رُ</span></div></div></div></div></div></div></div></div></div>"
      ],
      "text/plain": [
       "<IPython.core.display.HTML object>"
      ]
     },
     "metadata": {},
     "output_type": "display_data"
    },
    {
     "data": {
      "text/html": [
       "<p><b>line</b> <i>7</i></p>"
      ],
      "text/plain": [
       "<IPython.core.display.HTML object>"
      ]
     },
     "metadata": {},
     "output_type": "display_data"
    },
    {
     "data": {
      "text/html": [
       "<div class=\"tfsechead rtl\"><span class=\"ltr\"><a target=\"_blank\" href=\"https://github.com/among/fusus/blob/master/ur/Lakhnawi/html/p32.html\" title=\"show this passage in the the original (html derived from pdf)\" sec=\"5 32:8\">5 32:8</a></span></div><div class=\"rtl children\"><div class=\"contnr c3  rtl  \" ><div class=\"lbl c3  \" ><span class=\"nd\">line</span></div><div class=\"children hor wrap rtl\"><div class=\"contnr c1  rtl  \" ><div class=\"lbl c1  \" ><span class=\"nd\">column</span></div><div class='features'><span class=\"n xft\" ><span class=\"f\">n=</span>1</span></div><div class=\"children hor wrap rtl\"><div class=\"contnr c1  rtl  \" ><div class=\"lbl c1  \" ><span class=\"nd\">span</span></div><div class='features'><span class=\"n xft\" ><span class=\"f\">n=</span>1</span></div><div class=\"children hor wrap rtl\"><div class=\"contnr c0 trm rtl  \" ><div class=\"lbl c0 trm \" ><span class=\"txtu ara\">لَهُ </span></div><div class='features'><span class=\"letters xft\" ><span class=\"f\">letters=</span>لَهُ</span></div></div><div class=\"contnr c0 trm rtl  hl\" ><div class=\"lbl c0 trm hl\" ><span class=\"txtu ara\">سِوَاهُ. </span></div><div class='features'><span class=\"letters xft\" ><span class=\"f\">letters=</span>سِوَاهُ</span></div></div><div class=\"contnr c0 trm rtl  \" ><div class=\"lbl c0 trm \" ><span class=\"txtu ara\"> وَغَيرُ </span></div><div class='features'><span class=\"letters xft\" ><span class=\"f\">letters=</span> وَغَيرُ</span></div></div><div class=\"contnr c0 trm rtl  hl\" ><div class=\"lbl c0 trm hl\" ><span class=\"txtu ara\">المُعَيَّنِ </span></div><div class='features'><span class=\"letters xft\" ><span class=\"f\">letters=</span>المُعَيَّنِ</span></div></div><div class=\"contnr c0 trm rtl  \" ><div class=\"lbl c0 trm \" ><span class=\"txtu ara\">كَمَنْ </span></div><div class='features'><span class=\"letters xft\" ><span class=\"f\">letters=</span>كَمَنْ</span></div></div><div class=\"contnr c0 trm rtl  \" ><div class=\"lbl c0 trm \" ><span class=\"txtu ara\">يَق </span></div><div class='features'><span class=\"letters xft\" ><span class=\"f\">letters=</span>يَق</span></div></div><div class=\"contnr c0 trm rtl  \" ><div class=\"lbl c0 trm \" ><span class=\"txtu ara\">ُولُ: </span></div><div class='features'><span class=\"letters xft\" ><span class=\"f\">letters=</span>ُولُ</span></div></div><div class=\"contnr c0 trm rtl  \" ><div class=\"lbl c0 trm \" ><span class=\"txtu ara\"> «</span></div><div class='features'><span class=\"letters xft\" ><span class=\"f\">letters=</span> </span></div></div><div class=\"contnr c0 trm rtl  hl\" ><div class=\"lbl c0 trm hl\" ><span class=\"txtu ara\">يَا </span></div><div class='features'><span class=\"letters xft\" ><span class=\"f\">letters=</span>يَا</span></div></div><div class=\"contnr c0 trm rtl  \" ><div class=\"lbl c0 trm \" ><span class=\"txtu ara\">رَبِّ </span></div><div class='features'><span class=\"letters xft\" ><span class=\"f\">letters=</span>رَبِّ</span></div></div><div class=\"contnr c0 trm rtl  \" ><div class=\"lbl c0 trm \" ><span class=\"txtu ara\">أَعْطِنِي </span></div><div class='features'><span class=\"letters xft\" ><span class=\"f\">letters=</span>أَعْطِنِي</span></div></div><div class=\"contnr c0 trm rtl  hl\" ><div class=\"lbl c0 trm hl\" ><span class=\"txtu ara\">مَاتَعْل </span></div><div class='features'><span class=\"letters xft\" ><span class=\"f\">letters=</span>مَاتَعْل</span></div></div><div class=\"contnr c0 trm rtl  \" ><div class=\"lbl c0 trm \" ><span class=\"txtu ara\">َمُ </span></div><div class='features'><span class=\"letters xft\" ><span class=\"f\">letters=</span>َمُ</span></div></div><div class=\"contnr c0 trm rtl  \" ><div class=\"lbl c0 trm \" ><span class=\"txtu ara\">فِيهِ </span></div><div class='features'><span class=\"letters xft\" ><span class=\"f\">letters=</span>فِيهِ</span></div></div><div class=\"contnr c0 trm rtl  \" ><div class=\"lbl c0 trm \" ><span class=\"txtu ara\">مَصْلَحَتِي»، </span></div><div class='features'><span class=\"letters xft\" ><span class=\"f\">letters=</span>مَصْلَحَتِي</span></div></div><div class=\"contnr c0 trm rtl  \" ><div class=\"lbl c0 trm \" ><span class=\"txtu ara\"> </span></div><div class='features'><span class=\"letters xft\" ><span class=\"f\">letters=</span> </span></div></div></div></div></div></div></div></div></div>"
      ],
      "text/plain": [
       "<IPython.core.display.HTML object>"
      ]
     },
     "metadata": {},
     "output_type": "display_data"
    }
   ],
   "source": [
    "template = \"\"\"\n",
    "piece n=5\n",
    "  =: page\n",
    "    line\n",
    "      word letters~ا\n",
    "\"\"\"\n",
    "results = A.search(template)\n",
    "A.show(results, condensed=True)"
   ]
  },
  {
   "cell_type": "code",
   "execution_count": 22,
   "metadata": {},
   "outputs": [
    {
     "data": {
      "text/html": [
       "<p><b>line</b> <i>1</i></p>"
      ],
      "text/plain": [
       "<IPython.core.display.HTML object>"
      ]
     },
     "metadata": {},
     "output_type": "display_data"
    },
    {
     "data": {
      "text/html": [
       "<div class=\"tfsechead rtl\">5 32:2</div><div class=\"rtl children\"><div class=\"contnr c3  rtl  \" ><div class=\"lbl c3  \" ><span class=\"nd\">line</span></div><div class=\"children hor wrap rtl\"><div class=\"contnr c1  rtl  \" ><div class=\"lbl c1  \" ><span class=\"nd\">column</span></div><div class='features'><span class=\"n xft\" ><span class=\"f\">n=</span>1</span></div><div class=\"children hor wrap rtl\"><div class=\"contnr c1  rtl  \" ><div class=\"lbl c1  \" ><span class=\"nd\">span</span></div><div class='features'><span class=\"n xft\" ><span class=\"f\">n=</span>1</span></div><div class=\"children hor wrap rtl\"><div class=\"contnr c0 trm rtl  \" ><div class=\"lbl c0 trm \" ><span class=\"txtu ara\">ٱعْلَمْ </span></div><div class='features'><span class=\"text xft\" ><span class=\"f\">text=</span>ٱعْلَمْ</span></div></div><div class=\"contnr c0 trm rtl  \" ><div class=\"lbl c0 trm \" ><span class=\"txtu ara\">أَن </span></div><div class='features'><span class=\"text xft\" ><span class=\"f\">text=</span>أَن</span></div></div><div class=\"contnr c0 trm rtl  \" ><div class=\"lbl c0 trm \" ><span class=\"txtu ara\">َّ </span></div><div class='features'><span class=\"text xft\" ><span class=\"f\">text=</span>َّ</span></div></div><div class=\"contnr c0 trm rtl  hl\" ><div class=\"lbl c0 trm hl\" ><span class=\"txtu ara\">العَطَايَا </span></div><div class='features'><span class=\"text xft\" ><span class=\"f\">text=</span>العَطَايَا</span></div></div><div class=\"contnr c0 trm rtl  hl\" ><div class=\"lbl c0 trm hl\" ><span class=\"txtu ara\">وَالمِنَحَ </span></div><div class='features'><span class=\"text xft\" ><span class=\"f\">text=</span>وَالمِنَحَ</span></div></div><div class=\"contnr c0 trm rtl  hl\" ><div class=\"lbl c0 trm hl\" ><span class=\"txtu ara\">الظ </span></div><div class='features'><span class=\"text xft\" ><span class=\"f\">text=</span>الظ</span></div></div><div class=\"contnr c0 trm rtl  hl\" ><div class=\"lbl c0 trm hl\" ><span class=\"txtu ara\">َّاهِـرَةَ </span></div><div class='features'><span class=\"text xft\" ><span class=\"f\">text=</span>َّاهِـرَةَ</span></div></div><div class=\"contnr c0 trm rtl  \" ><div class=\"lbl c0 trm \" ><span class=\"txtu ara\">فِي </span></div><div class='features'><span class=\"text xft\" ><span class=\"f\">text=</span>فِي</span></div></div><div class=\"contnr c0 trm rtl  hl\" ><div class=\"lbl c0 trm hl\" ><span class=\"txtu ara\">الكَونِ </span></div><div class='features'><span class=\"text xft\" ><span class=\"f\">text=</span>الكَونِ</span></div></div><div class=\"contnr c0 trm rtl  \" ><div class=\"lbl c0 trm \" ><span class=\"txtu ara\">― </span></div><div class='features'><span class=\"text xft\" ><span class=\"f\">text=</span></span></div></div><div class=\"contnr c0 trm rtl  \" ><div class=\"lbl c0 trm \" ><span class=\"txtu ara\">عَلَىٰ </span></div><div class='features'><span class=\"text xft\" ><span class=\"f\">text=</span>عَلَىٰ</span></div></div><div class=\"contnr c0 trm rtl  \" ><div class=\"lbl c0 trm \" ><span class=\"txtu ara\">أَيْدِي </span></div><div class='features'><span class=\"text xft\" ><span class=\"f\">text=</span>أَيْدِي</span></div></div><div class=\"contnr c0 trm rtl  hl\" ><div class=\"lbl c0 trm hl\" ><span class=\"txtu ara\">العِبَادِ </span></div><div class='features'><span class=\"text xft\" ><span class=\"f\">text=</span>العِبَادِ</span></div></div><div class=\"contnr c0 trm rtl  \" ><div class=\"lbl c0 trm \" ><span class=\"txtu ara\">وَعَلَىٰ </span></div><div class='features'><span class=\"text xft\" ><span class=\"f\">text=</span>وَعَلَىٰ</span></div></div></div></div></div></div></div></div></div>"
      ],
      "text/plain": [
       "<IPython.core.display.HTML object>"
      ]
     },
     "metadata": {},
     "output_type": "display_data"
    },
    {
     "data": {
      "text/html": [
       "<p><b>line</b> <i>2</i></p>"
      ],
      "text/plain": [
       "<IPython.core.display.HTML object>"
      ]
     },
     "metadata": {},
     "output_type": "display_data"
    },
    {
     "data": {
      "text/html": [
       "<div class=\"tfsechead rtl\">5 32:3</div><div class=\"rtl children\"><div class=\"contnr c3  rtl  \" ><div class=\"lbl c3  \" ><span class=\"nd\">line</span></div><div class=\"children hor wrap rtl\"><div class=\"contnr c1  rtl  \" ><div class=\"lbl c1  \" ><span class=\"nd\">column</span></div><div class='features'><span class=\"n xft\" ><span class=\"f\">n=</span>1</span></div><div class=\"children hor wrap rtl\"><div class=\"contnr c1  rtl  \" ><div class=\"lbl c1  \" ><span class=\"nd\">span</span></div><div class='features'><span class=\"n xft\" ><span class=\"f\">n=</span>1</span></div><div class=\"children hor wrap rtl\"><div class=\"contnr c0 trm rtl  \" ><div class=\"lbl c0 trm \" ><span class=\"txtu ara\">غَيْرِ </span></div><div class='features'><span class=\"text xft\" ><span class=\"f\">text=</span>غَيْرِ</span></div></div><div class=\"contnr c0 trm rtl  \" ><div class=\"lbl c0 trm \" ><span class=\"txtu ara\">أَيْدِيهِمْ </span></div><div class='features'><span class=\"text xft\" ><span class=\"f\">text=</span>أَيْدِيهِمْ</span></div></div><div class=\"contnr c0 trm rtl  \" ><div class=\"lbl c0 trm \" ><span class=\"txtu ara\">― </span></div><div class='features'><span class=\"text xft\" ><span class=\"f\">text=</span></span></div></div><div class=\"contnr c0 trm rtl  \" ><div class=\"lbl c0 trm \" ><span class=\"txtu ara\">عَلَىٰ </span></div><div class='features'><span class=\"text xft\" ><span class=\"f\">text=</span>عَلَىٰ</span></div></div><div class=\"contnr c0 trm rtl  \" ><div class=\"lbl c0 trm \" ><span class=\"txtu ara\">قِسْمَيْنِ: </span></div><div class='features'><span class=\"text xft\" ><span class=\"f\">text=</span>قِسْمَيْنِ</span></div></div><div class=\"contnr c0 trm rtl  hl\" ><div class=\"lbl c0 trm hl\" ><span class=\"txtu ara\">مِنْهَا، </span></div><div class='features'><span class=\"text xft\" ><span class=\"f\">text=</span>مِنْهَا</span></div></div><div class=\"contnr c0 trm rtl  hl\" ><div class=\"lbl c0 trm hl\" ><span class=\"txtu ara\">مَاتَـكُونُ </span></div><div class='features'><span class=\"text xft\" ><span class=\"f\">text=</span>مَاتَـكُونُ</span></div></div><div class=\"contnr c0 trm rtl  hl\" ><div class=\"lbl c0 trm hl\" ><span class=\"txtu ara\">عَطَايَا </span></div><div class='features'><span class=\"text xft\" ><span class=\"f\">text=</span>عَطَايَا</span></div></div><div class=\"contnr c0 trm rtl  hl\" ><div class=\"lbl c0 trm hl\" ><span class=\"txtu ara\">ذَاتِيَّةً </span></div><div class='features'><span class=\"text xft\" ><span class=\"f\">text=</span>ذَاتِيَّةً</span></div></div><div class=\"contnr c0 trm rtl  hl\" ><div class=\"lbl c0 trm hl\" ><span class=\"txtu ara\">وَعَطَايَا </span></div><div class='features'><span class=\"text xft\" ><span class=\"f\">text=</span>وَعَطَايَا</span></div></div><div class=\"contnr c0 trm rtl  hl\" ><div class=\"lbl c0 trm hl\" ><span class=\"txtu ara\">أَسْمَائِيَّةً، </span></div><div class='features'><span class=\"text xft\" ><span class=\"f\">text=</span>أَسْمَائِيَّةً</span></div></div></div></div></div></div></div></div></div>"
      ],
      "text/plain": [
       "<IPython.core.display.HTML object>"
      ]
     },
     "metadata": {},
     "output_type": "display_data"
    },
    {
     "data": {
      "text/html": [
       "<p><b>line</b> <i>3</i></p>"
      ],
      "text/plain": [
       "<IPython.core.display.HTML object>"
      ]
     },
     "metadata": {},
     "output_type": "display_data"
    },
    {
     "data": {
      "text/html": [
       "<div class=\"tfsechead rtl\">5 32:4</div><div class=\"rtl children\"><div class=\"contnr c3  rtl  \" ><div class=\"lbl c3  \" ><span class=\"nd\">line</span></div><div class=\"children hor wrap rtl\"><div class=\"contnr c1  rtl  \" ><div class=\"lbl c1  \" ><span class=\"nd\">column</span></div><div class='features'><span class=\"n xft\" ><span class=\"f\">n=</span>1</span></div><div class=\"children hor wrap rtl\"><div class=\"contnr c1  rtl  \" ><div class=\"lbl c1  \" ><span class=\"nd\">span</span></div><div class='features'><span class=\"n xft\" ><span class=\"f\">n=</span>1</span></div><div class=\"children hor wrap rtl\"><div class=\"contnr c0 trm rtl  \" ><div class=\"lbl c0 trm \" ><span class=\"txtu ara\">وَتَتَمَيَّزُ </span></div><div class='features'><span class=\"text xft\" ><span class=\"f\">text=</span>وَتَتَمَيَّزُ</span></div></div><div class=\"contnr c0 trm rtl  \" ><div class=\"lbl c0 trm \" ><span class=\"txtu ara\">عِنْدَ </span></div><div class='features'><span class=\"text xft\" ><span class=\"f\">text=</span>عِنْدَ</span></div></div><div class=\"contnr c0 trm rtl  \" ><div class=\"lbl c0 trm \" ><span class=\"txtu ara\">أَهْلِ </span></div><div class='features'><span class=\"text xft\" ><span class=\"f\">text=</span>أَهْلِ</span></div></div><div class=\"contnr c0 trm rtl  hl\" ><div class=\"lbl c0 trm hl\" ><span class=\"txtu ara\">الأَذْوَاقِ. </span></div><div class='features'><span class=\"text xft\" ><span class=\"f\">text=</span>الأَذْوَاقِ</span></div></div></div></div></div></div></div></div></div>"
      ],
      "text/plain": [
       "<IPython.core.display.HTML object>"
      ]
     },
     "metadata": {},
     "output_type": "display_data"
    },
    {
     "data": {
      "text/html": [
       "<p><b>line</b> <i>4</i></p>"
      ],
      "text/plain": [
       "<IPython.core.display.HTML object>"
      ]
     },
     "metadata": {},
     "output_type": "display_data"
    },
    {
     "data": {
      "text/html": [
       "<div class=\"tfsechead rtl\">5 32:5</div><div class=\"rtl children\"><div class=\"contnr c3  rtl  \" ><div class=\"lbl c3  \" ><span class=\"nd\">line</span></div><div class=\"children hor wrap rtl\"><div class=\"contnr c1  rtl  \" ><div class=\"lbl c1  \" ><span class=\"nd\">column</span></div><div class='features'><span class=\"n xft\" ><span class=\"f\">n=</span>1</span></div><div class=\"children hor wrap rtl\"><div class=\"contnr c1  rtl  \" ><div class=\"lbl c1  \" ><span class=\"nd\">span</span></div><div class='features'><span class=\"n xft\" ><span class=\"f\">n=</span>1</span></div><div class=\"children hor wrap rtl\"><div class=\"contnr c0 trm rtl  hl\" ><div class=\"lbl c0 trm hl\" ><span class=\"txtu ara\">كَمَا </span></div><div class='features'><span class=\"text xft\" ><span class=\"f\">text=</span>كَمَا</span></div></div><div class=\"contnr c0 trm rtl  \" ><div class=\"lbl c0 trm \" ><span class=\"txtu ara\">أَن </span></div><div class='features'><span class=\"text xft\" ><span class=\"f\">text=</span>أَن</span></div></div><div class=\"contnr c0 trm rtl  \" ><div class=\"lbl c0 trm \" ><span class=\"txtu ara\">َّ </span></div><div class='features'><span class=\"text xft\" ><span class=\"f\">text=</span>َّ</span></div></div><div class=\"contnr c0 trm rtl  hl\" ><div class=\"lbl c0 trm hl\" ><span class=\"txtu ara\">مِنْهَا </span></div><div class='features'><span class=\"text xft\" ><span class=\"f\">text=</span>مِنْهَا</span></div></div><div class=\"contnr c0 trm rtl  hl\" ><div class=\"lbl c0 trm hl\" ><span class=\"txtu ara\">مَاتَـكُونُ </span></div><div class='features'><span class=\"text xft\" ><span class=\"f\">text=</span>مَاتَـكُونُ</span></div></div><div class=\"contnr c0 trm rtl  \" ><div class=\"lbl c0 trm \" ><span class=\"txtu ara\">عَنْ </span></div><div class='features'><span class=\"text xft\" ><span class=\"f\">text=</span>عَنْ</span></div></div><div class=\"contnr c0 trm rtl  hl\" ><div class=\"lbl c0 trm hl\" ><span class=\"txtu ara\">سُؤالٍ </span></div><div class='features'><span class=\"text xft\" ><span class=\"f\">text=</span>سُؤالٍ</span></div></div><div class=\"contnr c0 trm rtl  \" ><div class=\"lbl c0 trm \" ><span class=\"txtu ara\">فِي </span></div><div class='features'><span class=\"text xft\" ><span class=\"f\">text=</span>فِي</span></div></div><div class=\"contnr c0 trm rtl  \" ><div class=\"lbl c0 trm \" ><span class=\"txtu ara\">مُعَـيَّنٍ، </span></div><div class='features'><span class=\"text xft\" ><span class=\"f\">text=</span>مُعَـيَّنٍ</span></div></div><div class=\"contnr c0 trm rtl  \" ><div class=\"lbl c0 trm \" ><span class=\"txtu ara\">وَعَنْ </span></div><div class='features'><span class=\"text xft\" ><span class=\"f\">text=</span>وَعَنْ</span></div></div><div class=\"contnr c0 trm rtl  hl\" ><div class=\"lbl c0 trm hl\" ><span class=\"txtu ara\">سُؤالٍ </span></div><div class='features'><span class=\"text xft\" ><span class=\"f\">text=</span>سُؤالٍ</span></div></div><div class=\"contnr c0 trm rtl  \" ><div class=\"lbl c0 trm \" ><span class=\"txtu ara\">غَـيْرِ </span></div><div class='features'><span class=\"text xft\" ><span class=\"f\">text=</span>غَـيْرِ</span></div></div><div class=\"contnr c0 trm rtl  \" ><div class=\"lbl c0 trm \" ><span class=\"txtu ara\">مُعَـيَّنٍ. </span></div><div class='features'><span class=\"text xft\" ><span class=\"f\">text=</span>مُعَـيَّنٍ</span></div></div></div></div></div></div></div></div></div>"
      ],
      "text/plain": [
       "<IPython.core.display.HTML object>"
      ]
     },
     "metadata": {},
     "output_type": "display_data"
    },
    {
     "data": {
      "text/html": [
       "<p><b>line</b> <i>5</i></p>"
      ],
      "text/plain": [
       "<IPython.core.display.HTML object>"
      ]
     },
     "metadata": {},
     "output_type": "display_data"
    },
    {
     "data": {
      "text/html": [
       "<div class=\"tfsechead rtl\">5 32:6</div><div class=\"rtl children\"><div class=\"contnr c3  rtl  \" ><div class=\"lbl c3  \" ><span class=\"nd\">line</span></div><div class=\"children hor wrap rtl\"><div class=\"contnr c1  rtl  \" ><div class=\"lbl c1  \" ><span class=\"nd\">column</span></div><div class='features'><span class=\"n xft\" ><span class=\"f\">n=</span>1</span></div><div class=\"children hor wrap rtl\"><div class=\"contnr c1  rtl  \" ><div class=\"lbl c1  \" ><span class=\"nd\">span</span></div><div class='features'><span class=\"n xft\" ><span class=\"f\">n=</span>1</span></div><div class=\"children hor wrap rtl\"><div class=\"contnr c0 trm rtl  hl\" ><div class=\"lbl c0 trm hl\" ><span class=\"txtu ara\">وَمِنْهَا: </span></div><div class='features'><span class=\"text xft\" ><span class=\"f\">text=</span>وَمِنْهَا</span></div></div><div class=\"contnr c0 trm rtl  hl\" ><div class=\"lbl c0 trm hl\" ><span class=\"txtu ara\">مَالَا </span></div><div class='features'><span class=\"text xft\" ><span class=\"f\">text=</span>مَالَا</span></div></div><div class=\"contnr c0 trm rtl  \" ><div class=\"lbl c0 trm \" ><span class=\"txtu ara\">يَكُونُ </span></div><div class='features'><span class=\"text xft\" ><span class=\"f\">text=</span>يَكُونُ</span></div></div><div class=\"contnr c0 trm rtl  \" ><div class=\"lbl c0 trm \" ><span class=\"txtu ara\">عَنْ </span></div><div class='features'><span class=\"text xft\" ><span class=\"f\">text=</span>عَنْ</span></div></div><div class=\"contnr c0 trm rtl  hl\" ><div class=\"lbl c0 trm hl\" ><span class=\"txtu ara\">سُؤالٍ، </span></div><div class='features'><span class=\"text xft\" ><span class=\"f\">text=</span>سُؤالٍ</span></div></div><div class=\"contnr c0 trm rtl  hl\" ><div class=\"lbl c0 trm hl\" ><span class=\"txtu ara\">سَوَاءٌكَانَتْ </span></div><div class='features'><span class=\"text xft\" ><span class=\"f\">text=</span>سَوَاءٌكَانَتْ</span></div></div><div class=\"contnr c0 trm rtl  hl\" ><div class=\"lbl c0 trm hl\" ><span class=\"txtu ara\">الأُعْطِيَةُ </span></div><div class='features'><span class=\"text xft\" ><span class=\"f\">text=</span>الأُعْطِيَةُ</span></div></div><div class=\"contnr c0 trm rtl  hl\" ><div class=\"lbl c0 trm hl\" ><span class=\"txtu ara\">ذَاتِيَّةً </span></div><div class='features'><span class=\"text xft\" ><span class=\"f\">text=</span>ذَاتِيَّةً</span></div></div><div class=\"contnr c0 trm rtl  \" ><div class=\"lbl c0 trm \" ><span class=\"txtu ara\">أَوْ </span></div><div class='features'><span class=\"text xft\" ><span class=\"f\">text=</span>أَوْ</span></div></div><div class=\"contnr c0 trm rtl  hl\" ><div class=\"lbl c0 trm hl\" ><span class=\"txtu ara\">أَسْمَائِيَّةً. </span></div><div class='features'><span class=\"text xft\" ><span class=\"f\">text=</span>أَسْمَائِيَّةً</span></div></div></div></div></div></div></div></div></div>"
      ],
      "text/plain": [
       "<IPython.core.display.HTML object>"
      ]
     },
     "metadata": {},
     "output_type": "display_data"
    },
    {
     "data": {
      "text/html": [
       "<p><b>line</b> <i>6</i></p>"
      ],
      "text/plain": [
       "<IPython.core.display.HTML object>"
      ]
     },
     "metadata": {},
     "output_type": "display_data"
    },
    {
     "data": {
      "text/html": [
       "<div class=\"tfsechead rtl\">5 32:7</div><div class=\"rtl children\"><div class=\"contnr c3  rtl  \" ><div class=\"lbl c3  \" ><span class=\"nd\">line</span></div><div class=\"children hor wrap rtl\"><div class=\"contnr c1  rtl  \" ><div class=\"lbl c1  \" ><span class=\"nd\">column</span></div><div class='features'><span class=\"n xft\" ><span class=\"f\">n=</span>1</span></div><div class=\"children hor wrap rtl\"><div class=\"contnr c1  rtl  \" ><div class=\"lbl c1  \" ><span class=\"nd\">span</span></div><div class='features'><span class=\"n xft\" ><span class=\"f\">n=</span>1</span></div><div class=\"children hor wrap rtl\"><div class=\"contnr c0 trm rtl  hl\" ><div class=\"lbl c0 trm hl\" ><span class=\"txtu ara\">فَالمُعَيَّنُ </span></div><div class='features'><span class=\"text xft\" ><span class=\"f\">text=</span>فَالمُعَيَّنُ</span></div></div><div class=\"contnr c0 trm rtl  \" ><div class=\"lbl c0 trm \" ><span class=\"txtu ara\">كَمَنْ </span></div><div class='features'><span class=\"text xft\" ><span class=\"f\">text=</span>كَمَنْ</span></div></div><div class=\"contnr c0 trm rtl  \" ><div class=\"lbl c0 trm \" ><span class=\"txtu ara\">يَقُولُ: </span></div><div class='features'><span class=\"text xft\" ><span class=\"f\">text=</span>يَقُولُ</span></div></div><div class=\"contnr c0 trm rtl  hl\" ><div class=\"lbl c0 trm hl\" ><span class=\"txtu ara\">«يَا </span></div><div class='features'><span class=\"text xft\" ><span class=\"f\">text=</span>يَا</span></div></div><div class=\"contnr c0 trm rtl  \" ><div class=\"lbl c0 trm \" ><span class=\"txtu ara\">رَبِّ </span></div><div class='features'><span class=\"text xft\" ><span class=\"f\">text=</span>رَبِّ</span></div></div><div class=\"contnr c0 trm rtl  \" ><div class=\"lbl c0 trm \" ><span class=\"txtu ara\">أَعْطِنِي </span></div><div class='features'><span class=\"text xft\" ><span class=\"f\">text=</span>أَعْطِنِي</span></div></div><div class=\"contnr c0 trm rtl  hl\" ><div class=\"lbl c0 trm hl\" ><span class=\"txtu ara\">كَذَا». </span></div><div class='features'><span class=\"text xft\" ><span class=\"f\">text=</span>كَذَا</span></div></div><div class=\"contnr c0 trm rtl  \" ><div class=\"lbl c0 trm \" ><span class=\"txtu ara\">فَيُعَـيِّنُ </span></div><div class='features'><span class=\"text xft\" ><span class=\"f\">text=</span>فَيُعَـيِّنُ</span></div></div><div class=\"contnr c0 trm rtl  hl\" ><div class=\"lbl c0 trm hl\" ><span class=\"txtu ara\">أَمْـرًا </span></div><div class='features'><span class=\"text xft\" ><span class=\"f\">text=</span>أَمْـرًا</span></div></div><div class=\"contnr c0 trm rtl  hl\" ><div class=\"lbl c0 trm hl\" ><span class=\"txtu ara\">مَا، </span></div><div class='features'><span class=\"text xft\" ><span class=\"f\">text=</span>مَا</span></div></div><div class=\"contnr c0 trm rtl  hl\" ><div class=\"lbl c0 trm hl\" ><span class=\"txtu ara\">لَا </span></div><div class='features'><span class=\"text xft\" ><span class=\"f\">text=</span>لَا</span></div></div><div class=\"contnr c0 trm rtl  \" ><div class=\"lbl c0 trm \" ><span class=\"txtu ara\">يَخْطُـرُ </span></div><div class='features'><span class=\"text xft\" ><span class=\"f\">text=</span>يَخْطُـرُ</span></div></div></div></div></div></div></div></div></div>"
      ],
      "text/plain": [
       "<IPython.core.display.HTML object>"
      ]
     },
     "metadata": {},
     "output_type": "display_data"
    },
    {
     "data": {
      "text/html": [
       "<p><b>line</b> <i>7</i></p>"
      ],
      "text/plain": [
       "<IPython.core.display.HTML object>"
      ]
     },
     "metadata": {},
     "output_type": "display_data"
    },
    {
     "data": {
      "text/html": [
       "<div class=\"tfsechead rtl\">5 32:8</div><div class=\"rtl children\"><div class=\"contnr c3  rtl  \" ><div class=\"lbl c3  \" ><span class=\"nd\">line</span></div><div class=\"children hor wrap rtl\"><div class=\"contnr c1  rtl  \" ><div class=\"lbl c1  \" ><span class=\"nd\">column</span></div><div class='features'><span class=\"n xft\" ><span class=\"f\">n=</span>1</span></div><div class=\"children hor wrap rtl\"><div class=\"contnr c1  rtl  \" ><div class=\"lbl c1  \" ><span class=\"nd\">span</span></div><div class='features'><span class=\"n xft\" ><span class=\"f\">n=</span>1</span></div><div class=\"children hor wrap rtl\"><div class=\"contnr c0 trm rtl  \" ><div class=\"lbl c0 trm \" ><span class=\"txtu ara\">لَهُ </span></div><div class='features'><span class=\"text xft\" ><span class=\"f\">text=</span>لَهُ</span></div></div><div class=\"contnr c0 trm rtl  hl\" ><div class=\"lbl c0 trm hl\" ><span class=\"txtu ara\">سِوَاهُ. </span></div><div class='features'><span class=\"text xft\" ><span class=\"f\">text=</span>سِوَاهُ</span></div></div><div class=\"contnr c0 trm rtl  \" ><div class=\"lbl c0 trm \" ><span class=\"txtu ara\">وَغَيرُ </span></div><div class='features'><span class=\"text xft\" ><span class=\"f\">text=</span>وَغَيرُ</span></div></div><div class=\"contnr c0 trm rtl  hl\" ><div class=\"lbl c0 trm hl\" ><span class=\"txtu ara\">المُعَيَّنِ </span></div><div class='features'><span class=\"text xft\" ><span class=\"f\">text=</span>المُعَيَّنِ</span></div></div><div class=\"contnr c0 trm rtl  \" ><div class=\"lbl c0 trm \" ><span class=\"txtu ara\">كَمَنْ </span></div><div class='features'><span class=\"text xft\" ><span class=\"f\">text=</span>كَمَنْ</span></div></div><div class=\"contnr c0 trm rtl  \" ><div class=\"lbl c0 trm \" ><span class=\"txtu ara\">يَقُولُ: </span></div><div class='features'><span class=\"text xft\" ><span class=\"f\">text=</span>يَقُولُ</span></div></div><div class=\"contnr c0 trm rtl  hl\" ><div class=\"lbl c0 trm hl\" ><span class=\"txtu ara\">«يَا </span></div><div class='features'><span class=\"text xft\" ><span class=\"f\">text=</span>يَا</span></div></div><div class=\"contnr c0 trm rtl  \" ><div class=\"lbl c0 trm \" ><span class=\"txtu ara\">رَبِّ </span></div><div class='features'><span class=\"text xft\" ><span class=\"f\">text=</span>رَبِّ</span></div></div><div class=\"contnr c0 trm rtl  \" ><div class=\"lbl c0 trm \" ><span class=\"txtu ara\">أَعْطِنِي </span></div><div class='features'><span class=\"text xft\" ><span class=\"f\">text=</span>أَعْطِنِي</span></div></div><div class=\"contnr c0 trm rtl  hl\" ><div class=\"lbl c0 trm hl\" ><span class=\"txtu ara\">مَاتَعْلَمُ </span></div><div class='features'><span class=\"text xft\" ><span class=\"f\">text=</span>مَاتَعْلَمُ</span></div></div><div class=\"contnr c0 trm rtl  \" ><div class=\"lbl c0 trm \" ><span class=\"txtu ara\">فِيهِ </span></div><div class='features'><span class=\"text xft\" ><span class=\"f\">text=</span>فِيهِ</span></div></div><div class=\"contnr c0 trm rtl  \" ><div class=\"lbl c0 trm \" ><span class=\"txtu ara\">مَصْلَحَتِي»، </span></div><div class='features'><span class=\"text xft\" ><span class=\"f\">text=</span>مَصْلَحَتِي</span></div></div></div></div></div></div></div></div></div>"
      ],
      "text/plain": [
       "<IPython.core.display.HTML object>"
      ]
     },
     "metadata": {},
     "output_type": "display_data"
    }
   ],
   "source": [
    "A.show(results, condensed=True, extraFeatures=\"n title\")"
   ]
  },
  {
   "cell_type": "code",
   "execution_count": null,
   "metadata": {},
   "outputs": [],
   "source": []
  }
 ],
 "metadata": {
  "kernelspec": {
   "display_name": "Python 3 (ipykernel)",
   "language": "python",
   "name": "python3"
  },
  "language_info": {
   "codemirror_mode": {
    "name": "ipython",
    "version": 3
   },
   "file_extension": ".py",
   "mimetype": "text/x-python",
   "name": "python",
   "nbconvert_exporter": "python",
   "pygments_lexer": "ipython3",
   "version": "3.9.7"
  },
  "widgets": {
   "application/vnd.jupyter.widget-state+json": {
    "state": {},
    "version_major": 2,
    "version_minor": 0
   }
  }
 },
 "nbformat": 4,
 "nbformat_minor": 4
}
