{
 "cells": [
  {
   "cell_type": "markdown",
   "metadata": {
    "tags": []
   },
   "source": [
    "# Use Text-Fabric\n",
    "\n",
    "Text-Fabric is a rich API.\n",
    "\n",
    "It might pay off to look at tutorials for\n",
    "[various different corpora in TF](https://annotation.github.io/text-fabric/tf/about/corpora.html).\n",
    "\n",
    "Or see this one for [Fusus (Lakhnawi)](https://nbviewer.org/github/annotation/tutorials/blob/master/fususl/start.ipynb)."
   ]
  },
  {
   "cell_type": "code",
   "execution_count": 1,
   "metadata": {},
   "outputs": [],
   "source": [
    "%load_ext autoreload\n",
    "%autoreload 2"
   ]
  },
  {
   "cell_type": "code",
   "execution_count": 2,
   "metadata": {},
   "outputs": [],
   "source": [
    "from tf.app import use"
   ]
  },
  {
   "cell_type": "code",
   "execution_count": 4,
   "metadata": {},
   "outputs": [
    {
     "data": {
      "text/html": [
       "<b title=\"local commit\">TF-app:</b> <span title=\"#ab278d65767f236a153898de0b8d5bb6a259f680 offline under ~/text-fabric-data\">~/text-fabric-data/annotation/app-fusus/code</span>"
      ],
      "text/plain": [
       "<IPython.core.display.HTML object>"
      ]
     },
     "metadata": {},
     "output_type": "display_data"
    },
    {
     "data": {
      "text/html": [
       "<b title=\"local release\">data:</b> <span title=\"rv0.7=#b802ee04dc1c4846bee2959f702b6dacf31bb339 offline under ~/text-fabric-data\">~/text-fabric-data/among/fusus/tf/Fusus/0.7</span>"
      ],
      "text/plain": [
       "<IPython.core.display.HTML object>"
      ]
     },
     "metadata": {},
     "output_type": "display_data"
    },
    {
     "name": "stdout",
     "output_type": "stream",
     "text": [
      "This is Text-Fabric 9.1.6\n",
      "Api reference : https://annotation.github.io/text-fabric/tf/cheatsheet.html\n",
      "\n",
      "37 features found and 0 ignored\n"
     ]
    },
    {
     "data": {
      "text/html": [
       "<b>Text-Fabric:</b> <a target=\"_blank\" href=\"https://annotation.github.io/text-fabric/tf/cheatsheet.html\" title=\"text-fabric-api\">Text-Fabric API 9.1.6</a>, <a target=\"_blank\" href=\"https://github.com/annotation/app-fusus\" title=\"fusus TF-app\">app-fusus v3</a>, <a target=\"_blank\" href=\"https://annotation.github.io/text-fabric/tf/about/searchusage.html\" title=\"Search Templates Introduction and Reference\">Search Reference</a><br><b>Data:</b> <a target=\"_blank\" href=\"https://among.github.io/fusus/fusus/align.html\" title=\"provenance of Fusus Al Hikam, by Ibn Arabi, merged editions Lakhnawi-Afifi\">FUSUS</a>, <a target=\"_blank\" href=\"https://annotation.github.io/text-fabric/tf/writing/arabic.html\" title=\"How TF features represent text\">Character table</a>, <a target=\"_blank\" href=\"https://among.github.io/fusus/fusus/about/transcription\" title=\"FUSUS feature documentation\">Feature docs</a><br><b>Features:</b><br><details><summary><b>Fusus Al Hikam, by Ibn Arabi, merged editions Lakhnawi-Afifi</b></summary><div class=\"fcorpus\"><div class=\"frow\"><div class=\"fnamecat \"><a target=\"_blank\" href=\"https://among.github.io/fusus/fusus/about/transcription\" title=\"~/text-fabric-data/among/fusus/tf/Fusus/0.7/combine_af.tf\">combine_af</a></div><div class=\"fmono\">int</div><details><summary>number of consecutive words in the Afifi textthat form an alignment entry with 1 or more words in the Lakhnawi text</summary><div class=\"fmeta\"><div class=\"fmetarow\"><div class=\"fmetakey\">author:</div><div>Ibn Arabi</div></div><div class=\"fmetarow\"><div class=\"fmetakey\">converters:</div><div>Cornelis van Lit, Dirk Roorda (Text-Fabric)</div></div><div class=\"fmetarow\"><div class=\"fmetakey\">dateWritten:</div><div>2021-11-14T11:43:57Z</div></div><div class=\"fmetarow\"><div class=\"fmetakey\">editor:</div><div>Lakhnawi and Afifi (merged with diff info)</div></div><div class=\"fmetarow\"><div class=\"fmetakey\">format:</div><div>integer</div></div><div class=\"fmetarow\"><div class=\"fmetakey\">institute:</div><div>Univ Utrecht NL/DANS</div></div><div class=\"fmetarow\"><div class=\"fmetakey\">language:</div><div>ara</div></div><div class=\"fmetarow\"><div class=\"fmetakey\">name:</div><div>fusus</div></div><div class=\"fmetarow\"><div class=\"fmetakey\">period:</div><div>1165-1240</div></div><div class=\"fmetarow\"><div class=\"fmetakey\">project:</div><div>Fusus</div></div><div class=\"fmetarow\"><div class=\"fmetakey\">published:</div><div>pdf, personal communication</div></div><div class=\"fmetarow\"><div class=\"fmetakey\">researcher:</div><div>Cornelis van Lit</div></div><div class=\"fmetarow\"><div class=\"fmetakey\">sourceFormat:</div><div>CSV (tab-separated)</div></div><div class=\"fmetarow\"><div class=\"fmetakey\">title:</div><div>Fusus Al Hikam</div></div><div class=\"fmetarow\"><div class=\"fmetakey\">writtenBy:</div><div>Text-Fabric</div></div></div></details></div><div class=\"frow\"><div class=\"fnamecat \"><a target=\"_blank\" href=\"https://among.github.io/fusus/fusus/about/transcription\" title=\"~/text-fabric-data/among/fusus/tf/Fusus/0.7/combine_lk.tf\">combine_lk</a></div><div class=\"fmono\">int</div><details><summary>number of consecutive words in the Lakhnawi textthat form an alignment entry with 1 or more words in the Afifi text</summary><div class=\"fmeta\"><div class=\"fmetarow\"><div class=\"fmetakey\">author:</div><div>Ibn Arabi</div></div><div class=\"fmetarow\"><div class=\"fmetakey\">converters:</div><div>Cornelis van Lit, Dirk Roorda (Text-Fabric)</div></div><div class=\"fmetarow\"><div class=\"fmetakey\">dateWritten:</div><div>2021-11-14T11:43:57Z</div></div><div class=\"fmetarow\"><div class=\"fmetakey\">editor:</div><div>Lakhnawi and Afifi (merged with diff info)</div></div><div class=\"fmetarow\"><div class=\"fmetakey\">format:</div><div>integer</div></div><div class=\"fmetarow\"><div class=\"fmetakey\">institute:</div><div>Univ Utrecht NL/DANS</div></div><div class=\"fmetarow\"><div class=\"fmetakey\">language:</div><div>ara</div></div><div class=\"fmetarow\"><div class=\"fmetakey\">name:</div><div>fusus</div></div><div class=\"fmetarow\"><div class=\"fmetakey\">period:</div><div>1165-1240</div></div><div class=\"fmetarow\"><div class=\"fmetakey\">project:</div><div>Fusus</div></div><div class=\"fmetarow\"><div class=\"fmetakey\">published:</div><div>pdf, personal communication</div></div><div class=\"fmetarow\"><div class=\"fmetakey\">researcher:</div><div>Cornelis van Lit</div></div><div class=\"fmetarow\"><div class=\"fmetakey\">sourceFormat:</div><div>CSV (tab-separated)</div></div><div class=\"fmetarow\"><div class=\"fmetakey\">title:</div><div>Fusus Al Hikam</div></div><div class=\"fmetarow\"><div class=\"fmetakey\">writtenBy:</div><div>Text-Fabric</div></div></div></details></div><div class=\"frow\"><div class=\"fnamecat \"><a target=\"_blank\" href=\"https://among.github.io/fusus/fusus/about/transcription\" title=\"~/text-fabric-data/among/fusus/tf/Fusus/0.7/dir.tf\">dir</a></div><div class=\"fmono\">str</div><details><summary>writing direction of a span</summary><div class=\"fmeta\"><div class=\"fmetarow\"><div class=\"fmetakey\">author:</div><div>Ibn Arabi</div></div><div class=\"fmetarow\"><div class=\"fmetakey\">converters:</div><div>Cornelis van Lit, Dirk Roorda (Text-Fabric)</div></div><div class=\"fmetarow\"><div class=\"fmetakey\">dateWritten:</div><div>2021-11-14T11:43:57Z</div></div><div class=\"fmetarow\"><div class=\"fmetakey\">editor:</div><div>Lakhnawi and Afifi (merged with diff info)</div></div><div class=\"fmetarow\"><div class=\"fmetakey\">format:</div><div>string, either r or l</div></div><div class=\"fmetarow\"><div class=\"fmetakey\">institute:</div><div>Univ Utrecht NL/DANS</div></div><div class=\"fmetarow\"><div class=\"fmetakey\">language:</div><div>ara</div></div><div class=\"fmetarow\"><div class=\"fmetakey\">name:</div><div>fusus</div></div><div class=\"fmetarow\"><div class=\"fmetakey\">period:</div><div>1165-1240</div></div><div class=\"fmetarow\"><div class=\"fmetakey\">project:</div><div>Fusus</div></div><div class=\"fmetarow\"><div class=\"fmetakey\">published:</div><div>pdf, personal communication</div></div><div class=\"fmetarow\"><div class=\"fmetakey\">researcher:</div><div>Cornelis van Lit</div></div><div class=\"fmetarow\"><div class=\"fmetakey\">sourceFormat:</div><div>CSV (tab-separated)</div></div><div class=\"fmetarow\"><div class=\"fmetakey\">title:</div><div>Fusus Al Hikam</div></div><div class=\"fmetarow\"><div class=\"fmetakey\">writtenBy:</div><div>Text-Fabric</div></div></div></details></div><div class=\"frow\"><div class=\"fnamecat \"><a target=\"_blank\" href=\"https://among.github.io/fusus/fusus/about/transcription\" title=\"~/text-fabric-data/among/fusus/tf/Fusus/0.7/editdistance.tf\">editdistance</a></div><div class=\"fmono\">int</div><details><summary>edit distance between the Lakhnawi part in an alignment entryand its Afifi counterpart</summary><div class=\"fmeta\"><div class=\"fmetarow\"><div class=\"fmetakey\">author:</div><div>Ibn Arabi</div></div><div class=\"fmetarow\"><div class=\"fmetakey\">converters:</div><div>Cornelis van Lit, Dirk Roorda (Text-Fabric)</div></div><div class=\"fmetarow\"><div class=\"fmetakey\">dateWritten:</div><div>2021-11-14T11:43:57Z</div></div><div class=\"fmetarow\"><div class=\"fmetakey\">editor:</div><div>Lakhnawi and Afifi (merged with diff info)</div></div><div class=\"fmetarow\"><div class=\"fmetakey\">format:</div><div>integer, number of edits between the counterparts</div></div><div class=\"fmetarow\"><div class=\"fmetakey\">institute:</div><div>Univ Utrecht NL/DANS</div></div><div class=\"fmetarow\"><div class=\"fmetakey\">language:</div><div>ara</div></div><div class=\"fmetarow\"><div class=\"fmetakey\">name:</div><div>fusus</div></div><div class=\"fmetarow\"><div class=\"fmetakey\">period:</div><div>1165-1240</div></div><div class=\"fmetarow\"><div class=\"fmetakey\">project:</div><div>Fusus</div></div><div class=\"fmetarow\"><div class=\"fmetakey\">published:</div><div>pdf, personal communication</div></div><div class=\"fmetarow\"><div class=\"fmetakey\">researcher:</div><div>Cornelis van Lit</div></div><div class=\"fmetarow\"><div class=\"fmetakey\">sourceFormat:</div><div>CSV (tab-separated)</div></div><div class=\"fmetarow\"><div class=\"fmetakey\">title:</div><div>Fusus Al Hikam</div></div><div class=\"fmetarow\"><div class=\"fmetakey\">writtenBy:</div><div>Text-Fabric</div></div></div></details></div><div class=\"frow\"><div class=\"fnamecat \"><a target=\"_blank\" href=\"https://among.github.io/fusus/fusus/about/transcription\" title=\"~/text-fabric-data/among/fusus/tf/Fusus/0.7/fass.tf\">fass</a></div><div class=\"fmono\">int</div><details><summary>number of the piece (bezel) that the word belongs to</summary><div class=\"fmeta\"><div class=\"fmetarow\"><div class=\"fmetakey\">author:</div><div>Ibn Arabi</div></div><div class=\"fmetarow\"><div class=\"fmetakey\">converters:</div><div>Cornelis van Lit, Dirk Roorda (Text-Fabric)</div></div><div class=\"fmetarow\"><div class=\"fmetakey\">dateWritten:</div><div>2021-11-14T11:43:57Z</div></div><div class=\"fmetarow\"><div class=\"fmetakey\">editor:</div><div>Lakhnawi and Afifi (merged with diff info)</div></div><div class=\"fmetarow\"><div class=\"fmetakey\">format:</div><div>number</div></div><div class=\"fmetarow\"><div class=\"fmetakey\">institute:</div><div>Univ Utrecht NL/DANS</div></div><div class=\"fmetarow\"><div class=\"fmetakey\">language:</div><div>ara</div></div><div class=\"fmetarow\"><div class=\"fmetakey\">name:</div><div>fusus</div></div><div class=\"fmetarow\"><div class=\"fmetakey\">period:</div><div>1165-1240</div></div><div class=\"fmetarow\"><div class=\"fmetakey\">project:</div><div>Fusus</div></div><div class=\"fmetarow\"><div class=\"fmetakey\">published:</div><div>pdf, personal communication</div></div><div class=\"fmetarow\"><div class=\"fmetakey\">researcher:</div><div>Cornelis van Lit</div></div><div class=\"fmetarow\"><div class=\"fmetakey\">sourceFormat:</div><div>CSV (tab-separated)</div></div><div class=\"fmetarow\"><div class=\"fmetakey\">title:</div><div>Fusus Al Hikam</div></div><div class=\"fmetarow\"><div class=\"fmetakey\">writtenBy:</div><div>Text-Fabric</div></div></div></details></div><div class=\"frow\"><div class=\"fnamecat \"><a target=\"_blank\" href=\"https://among.github.io/fusus/fusus/about/transcription\" title=\"~/text-fabric-data/among/fusus/tf/Fusus/0.7/letters.tf\">letters</a></div><div class=\"fmono\">str</div><details><summary>text string of a word without punctuation</summary><div class=\"fmeta\"><div class=\"fmetarow\"><div class=\"fmetakey\">author:</div><div>Ibn Arabi</div></div><div class=\"fmetarow\"><div class=\"fmetakey\">converters:</div><div>Cornelis van Lit, Dirk Roorda (Text-Fabric)</div></div><div class=\"fmetarow\"><div class=\"fmetakey\">dateWritten:</div><div>2021-11-14T11:43:57Z</div></div><div class=\"fmetarow\"><div class=\"fmetakey\">editor:</div><div>Lakhnawi and Afifi (merged with diff info)</div></div><div class=\"fmetarow\"><div class=\"fmetakey\">format:</div><div>string</div></div><div class=\"fmetarow\"><div class=\"fmetakey\">institute:</div><div>Univ Utrecht NL/DANS</div></div><div class=\"fmetarow\"><div class=\"fmetakey\">language:</div><div>ara</div></div><div class=\"fmetarow\"><div class=\"fmetakey\">name:</div><div>fusus</div></div><div class=\"fmetarow\"><div class=\"fmetakey\">period:</div><div>1165-1240</div></div><div class=\"fmetarow\"><div class=\"fmetakey\">project:</div><div>Fusus</div></div><div class=\"fmetarow\"><div class=\"fmetakey\">published:</div><div>pdf, personal communication</div></div><div class=\"fmetarow\"><div class=\"fmetakey\">researcher:</div><div>Cornelis van Lit</div></div><div class=\"fmetarow\"><div class=\"fmetakey\">sourceFormat:</div><div>CSV (tab-separated)</div></div><div class=\"fmetarow\"><div class=\"fmetakey\">title:</div><div>Fusus Al Hikam</div></div><div class=\"fmetarow\"><div class=\"fmetakey\">writtenBy:</div><div>Text-Fabric</div></div></div></details></div><div class=\"frow\"><div class=\"fnamecat \"><a target=\"_blank\" href=\"https://among.github.io/fusus/fusus/about/transcription\" title=\"~/text-fabric-data/among/fusus/tf/Fusus/0.7/letters_af.tf\">letters_af</a></div><div class=\"fmono\">str</div><details><summary>text string of a word without punctuation (Afifi edition)</summary><div class=\"fmeta\"><div class=\"fmetarow\"><div class=\"fmetakey\">author:</div><div>Ibn Arabi</div></div><div class=\"fmetarow\"><div class=\"fmetakey\">converters:</div><div>Cornelis van Lit, Dirk Roorda (Text-Fabric)</div></div><div class=\"fmetarow\"><div class=\"fmetakey\">dateWritten:</div><div>2021-11-14T11:43:57Z</div></div><div class=\"fmetarow\"><div class=\"fmetakey\">editor:</div><div>Lakhnawi and Afifi (merged with diff info)</div></div><div class=\"fmetarow\"><div class=\"fmetakey\">format:</div><div>string</div></div><div class=\"fmetarow\"><div class=\"fmetakey\">institute:</div><div>Univ Utrecht NL/DANS</div></div><div class=\"fmetarow\"><div class=\"fmetakey\">language:</div><div>ara</div></div><div class=\"fmetarow\"><div class=\"fmetakey\">name:</div><div>fusus</div></div><div class=\"fmetarow\"><div class=\"fmetakey\">period:</div><div>1165-1240</div></div><div class=\"fmetarow\"><div class=\"fmetakey\">project:</div><div>Fusus</div></div><div class=\"fmetarow\"><div class=\"fmetakey\">published:</div><div>pdf, personal communication</div></div><div class=\"fmetarow\"><div class=\"fmetakey\">researcher:</div><div>Cornelis van Lit</div></div><div class=\"fmetarow\"><div class=\"fmetakey\">sourceFormat:</div><div>CSV (tab-separated)</div></div><div class=\"fmetarow\"><div class=\"fmetakey\">title:</div><div>Fusus Al Hikam</div></div><div class=\"fmetarow\"><div class=\"fmetakey\">writtenBy:</div><div>Text-Fabric</div></div></div></details></div><div class=\"frow\"><div class=\"fnamecat \"><a target=\"_blank\" href=\"https://among.github.io/fusus/fusus/about/transcription\" title=\"~/text-fabric-data/among/fusus/tf/Fusus/0.7/lettersn.tf\">lettersn</a></div><div class=\"fmono\">str</div><details><summary>text string of a word in latin transcription (beta code)</summary><div class=\"fmeta\"><div class=\"fmetarow\"><div class=\"fmetakey\">author:</div><div>Ibn Arabi</div></div><div class=\"fmetarow\"><div class=\"fmetakey\">converters:</div><div>Cornelis van Lit, Dirk Roorda (Text-Fabric)</div></div><div class=\"fmetarow\"><div class=\"fmetakey\">dateWritten:</div><div>2021-11-14T11:43:57Z</div></div><div class=\"fmetarow\"><div class=\"fmetakey\">editor:</div><div>Lakhnawi and Afifi (merged with diff info)</div></div><div class=\"fmetarow\"><div class=\"fmetakey\">format:</div><div>string, latin with diacritics</div></div><div class=\"fmetarow\"><div class=\"fmetakey\">institute:</div><div>Univ Utrecht NL/DANS</div></div><div class=\"fmetarow\"><div class=\"fmetakey\">language:</div><div>ara</div></div><div class=\"fmetarow\"><div class=\"fmetakey\">name:</div><div>fusus</div></div><div class=\"fmetarow\"><div class=\"fmetakey\">period:</div><div>1165-1240</div></div><div class=\"fmetarow\"><div class=\"fmetakey\">project:</div><div>Fusus</div></div><div class=\"fmetarow\"><div class=\"fmetakey\">published:</div><div>pdf, personal communication</div></div><div class=\"fmetarow\"><div class=\"fmetakey\">researcher:</div><div>Cornelis van Lit</div></div><div class=\"fmetarow\"><div class=\"fmetakey\">sourceFormat:</div><div>CSV (tab-separated)</div></div><div class=\"fmetarow\"><div class=\"fmetakey\">title:</div><div>Fusus Al Hikam</div></div><div class=\"fmetarow\"><div class=\"fmetakey\">writtenBy:</div><div>Text-Fabric</div></div></div></details></div><div class=\"frow\"><div class=\"fnamecat \"><a target=\"_blank\" href=\"https://among.github.io/fusus/fusus/about/transcription\" title=\"~/text-fabric-data/among/fusus/tf/Fusus/0.7/lettersn_af.tf\">lettersn_af</a></div><div class=\"fmono\">str</div><details><summary>text string of a word in latin transcription (beta code) (Afifi edition)</summary><div class=\"fmeta\"><div class=\"fmetarow\"><div class=\"fmetakey\">author:</div><div>Ibn Arabi</div></div><div class=\"fmetarow\"><div class=\"fmetakey\">converters:</div><div>Cornelis van Lit, Dirk Roorda (Text-Fabric)</div></div><div class=\"fmetarow\"><div class=\"fmetakey\">dateWritten:</div><div>2021-11-14T11:43:57Z</div></div><div class=\"fmetarow\"><div class=\"fmetakey\">editor:</div><div>Lakhnawi and Afifi (merged with diff info)</div></div><div class=\"fmetarow\"><div class=\"fmetakey\">format:</div><div>string, latin with diacritics</div></div><div class=\"fmetarow\"><div class=\"fmetakey\">institute:</div><div>Univ Utrecht NL/DANS</div></div><div class=\"fmetarow\"><div class=\"fmetakey\">language:</div><div>ara</div></div><div class=\"fmetarow\"><div class=\"fmetakey\">name:</div><div>fusus</div></div><div class=\"fmetarow\"><div class=\"fmetakey\">period:</div><div>1165-1240</div></div><div class=\"fmetarow\"><div class=\"fmetakey\">project:</div><div>Fusus</div></div><div class=\"fmetarow\"><div class=\"fmetakey\">published:</div><div>pdf, personal communication</div></div><div class=\"fmetarow\"><div class=\"fmetakey\">researcher:</div><div>Cornelis van Lit</div></div><div class=\"fmetarow\"><div class=\"fmetakey\">sourceFormat:</div><div>CSV (tab-separated)</div></div><div class=\"fmetarow\"><div class=\"fmetakey\">title:</div><div>Fusus Al Hikam</div></div><div class=\"fmetarow\"><div class=\"fmetakey\">writtenBy:</div><div>Text-Fabric</div></div></div></details></div><div class=\"frow\"><div class=\"fnamecat \"><a target=\"_blank\" href=\"https://among.github.io/fusus/fusus/about/transcription\" title=\"~/text-fabric-data/among/fusus/tf/Fusus/0.7/lettersp.tf\">lettersp</a></div><div class=\"fmono\">str</div><details><summary>text string of a word in ascii transcription (beta code)</summary><div class=\"fmeta\"><div class=\"fmetarow\"><div class=\"fmetakey\">author:</div><div>Ibn Arabi</div></div><div class=\"fmetarow\"><div class=\"fmetakey\">converters:</div><div>Cornelis van Lit, Dirk Roorda (Text-Fabric)</div></div><div class=\"fmetarow\"><div class=\"fmetakey\">dateWritten:</div><div>2021-11-14T11:43:58Z</div></div><div class=\"fmetarow\"><div class=\"fmetakey\">editor:</div><div>Lakhnawi and Afifi (merged with diff info)</div></div><div class=\"fmetarow\"><div class=\"fmetakey\">format:</div><div>string, ascii</div></div><div class=\"fmetarow\"><div class=\"fmetakey\">institute:</div><div>Univ Utrecht NL/DANS</div></div><div class=\"fmetarow\"><div class=\"fmetakey\">language:</div><div>ara</div></div><div class=\"fmetarow\"><div class=\"fmetakey\">name:</div><div>fusus</div></div><div class=\"fmetarow\"><div class=\"fmetakey\">period:</div><div>1165-1240</div></div><div class=\"fmetarow\"><div class=\"fmetakey\">project:</div><div>Fusus</div></div><div class=\"fmetarow\"><div class=\"fmetakey\">published:</div><div>pdf, personal communication</div></div><div class=\"fmetarow\"><div class=\"fmetakey\">researcher:</div><div>Cornelis van Lit</div></div><div class=\"fmetarow\"><div class=\"fmetakey\">sourceFormat:</div><div>CSV (tab-separated)</div></div><div class=\"fmetarow\"><div class=\"fmetakey\">title:</div><div>Fusus Al Hikam</div></div><div class=\"fmetarow\"><div class=\"fmetakey\">writtenBy:</div><div>Text-Fabric</div></div></div></details></div><div class=\"frow\"><div class=\"fnamecat \"><a target=\"_blank\" href=\"https://among.github.io/fusus/fusus/about/transcription\" title=\"~/text-fabric-data/among/fusus/tf/Fusus/0.7/lettersp_af.tf\">lettersp_af</a></div><div class=\"fmono\">str</div><details><summary>text string of a word in ascii transcription (beta code) (Afifi edition)</summary><div class=\"fmeta\"><div class=\"fmetarow\"><div class=\"fmetakey\">author:</div><div>Ibn Arabi</div></div><div class=\"fmetarow\"><div class=\"fmetakey\">converters:</div><div>Cornelis van Lit, Dirk Roorda (Text-Fabric)</div></div><div class=\"fmetarow\"><div class=\"fmetakey\">dateWritten:</div><div>2021-11-14T11:43:58Z</div></div><div class=\"fmetarow\"><div class=\"fmetakey\">editor:</div><div>Lakhnawi and Afifi (merged with diff info)</div></div><div class=\"fmetarow\"><div class=\"fmetakey\">format:</div><div>string, ascii</div></div><div class=\"fmetarow\"><div class=\"fmetakey\">institute:</div><div>Univ Utrecht NL/DANS</div></div><div class=\"fmetarow\"><div class=\"fmetakey\">language:</div><div>ara</div></div><div class=\"fmetarow\"><div class=\"fmetakey\">name:</div><div>fusus</div></div><div class=\"fmetarow\"><div class=\"fmetakey\">period:</div><div>1165-1240</div></div><div class=\"fmetarow\"><div class=\"fmetakey\">project:</div><div>Fusus</div></div><div class=\"fmetarow\"><div class=\"fmetakey\">published:</div><div>pdf, personal communication</div></div><div class=\"fmetarow\"><div class=\"fmetakey\">researcher:</div><div>Cornelis van Lit</div></div><div class=\"fmetarow\"><div class=\"fmetakey\">sourceFormat:</div><div>CSV (tab-separated)</div></div><div class=\"fmetarow\"><div class=\"fmetakey\">title:</div><div>Fusus Al Hikam</div></div><div class=\"fmetarow\"><div class=\"fmetakey\">writtenBy:</div><div>Text-Fabric</div></div></div></details></div><div class=\"frow\"><div class=\"fnamecat \"><a target=\"_blank\" href=\"https://among.github.io/fusus/fusus/about/transcription\" title=\"~/text-fabric-data/among/fusus/tf/Fusus/0.7/letterst.tf\">letterst</a></div><div class=\"fmono\">str</div><details><summary>text string of a word in romanized transcription (Library of Congress)</summary><div class=\"fmeta\"><div class=\"fmetarow\"><div class=\"fmetakey\">author:</div><div>Ibn Arabi</div></div><div class=\"fmetarow\"><div class=\"fmetakey\">converters:</div><div>Cornelis van Lit, Dirk Roorda (Text-Fabric)</div></div><div class=\"fmetarow\"><div class=\"fmetakey\">dateWritten:</div><div>2021-11-14T11:43:58Z</div></div><div class=\"fmetarow\"><div class=\"fmetakey\">editor:</div><div>Lakhnawi and Afifi (merged with diff info)</div></div><div class=\"fmetarow\"><div class=\"fmetakey\">format:</div><div>string, latin with diacritics</div></div><div class=\"fmetarow\"><div class=\"fmetakey\">institute:</div><div>Univ Utrecht NL/DANS</div></div><div class=\"fmetarow\"><div class=\"fmetakey\">language:</div><div>ara</div></div><div class=\"fmetarow\"><div class=\"fmetakey\">name:</div><div>fusus</div></div><div class=\"fmetarow\"><div class=\"fmetakey\">period:</div><div>1165-1240</div></div><div class=\"fmetarow\"><div class=\"fmetakey\">project:</div><div>Fusus</div></div><div class=\"fmetarow\"><div class=\"fmetakey\">published:</div><div>pdf, personal communication</div></div><div class=\"fmetarow\"><div class=\"fmetakey\">researcher:</div><div>Cornelis van Lit</div></div><div class=\"fmetarow\"><div class=\"fmetakey\">sourceFormat:</div><div>CSV (tab-separated)</div></div><div class=\"fmetarow\"><div class=\"fmetakey\">title:</div><div>Fusus Al Hikam</div></div><div class=\"fmetarow\"><div class=\"fmetakey\">writtenBy:</div><div>Text-Fabric</div></div></div></details></div><div class=\"frow\"><div class=\"fnamecat \"><a target=\"_blank\" href=\"https://among.github.io/fusus/fusus/about/transcription\" title=\"~/text-fabric-data/among/fusus/tf/Fusus/0.7/letterst_af.tf\">letterst_af</a></div><div class=\"fmono\">str</div><details><summary>text string of a word in romanized transcription (Library of Congress) (Afifi edition)</summary><div class=\"fmeta\"><div class=\"fmetarow\"><div class=\"fmetakey\">author:</div><div>Ibn Arabi</div></div><div class=\"fmetarow\"><div class=\"fmetakey\">converters:</div><div>Cornelis van Lit, Dirk Roorda (Text-Fabric)</div></div><div class=\"fmetarow\"><div class=\"fmetakey\">dateWritten:</div><div>2021-11-14T11:43:58Z</div></div><div class=\"fmetarow\"><div class=\"fmetakey\">editor:</div><div>Lakhnawi and Afifi (merged with diff info)</div></div><div class=\"fmetarow\"><div class=\"fmetakey\">format:</div><div>string, latin with diacritics</div></div><div class=\"fmetarow\"><div class=\"fmetakey\">institute:</div><div>Univ Utrecht NL/DANS</div></div><div class=\"fmetarow\"><div class=\"fmetakey\">language:</div><div>ara</div></div><div class=\"fmetarow\"><div class=\"fmetakey\">name:</div><div>fusus</div></div><div class=\"fmetarow\"><div class=\"fmetakey\">period:</div><div>1165-1240</div></div><div class=\"fmetarow\"><div class=\"fmetakey\">project:</div><div>Fusus</div></div><div class=\"fmetarow\"><div class=\"fmetakey\">published:</div><div>pdf, personal communication</div></div><div class=\"fmetarow\"><div class=\"fmetakey\">researcher:</div><div>Cornelis van Lit</div></div><div class=\"fmetarow\"><div class=\"fmetakey\">sourceFormat:</div><div>CSV (tab-separated)</div></div><div class=\"fmetarow\"><div class=\"fmetakey\">title:</div><div>Fusus Al Hikam</div></div><div class=\"fmetarow\"><div class=\"fmetakey\">writtenBy:</div><div>Text-Fabric</div></div></div></details></div><div class=\"frow\"><div class=\"fnamecat \"><a target=\"_blank\" href=\"https://among.github.io/fusus/fusus/about/transcription\" title=\"~/text-fabric-data/among/fusus/tf/Fusus/0.7/line_af.tf\">line_af</a></div><div class=\"fmono\">int</div><details><summary>line number in the raw fususa dataset, which is obtained from ocr-ing the Afifi page images</summary><div class=\"fmeta\"><div class=\"fmetarow\"><div class=\"fmetakey\">author:</div><div>Ibn Arabi</div></div><div class=\"fmetarow\"><div class=\"fmetakey\">converters:</div><div>Cornelis van Lit, Dirk Roorda (Text-Fabric)</div></div><div class=\"fmetarow\"><div class=\"fmetakey\">dateWritten:</div><div>2021-11-14T11:43:58Z</div></div><div class=\"fmetarow\"><div class=\"fmetakey\">editor:</div><div>Lakhnawi and Afifi (merged with diff info)</div></div><div class=\"fmetarow\"><div class=\"fmetakey\">format:</div><div>integer</div></div><div class=\"fmetarow\"><div class=\"fmetakey\">institute:</div><div>Univ Utrecht NL/DANS</div></div><div class=\"fmetarow\"><div class=\"fmetakey\">language:</div><div>ara</div></div><div class=\"fmetarow\"><div class=\"fmetakey\">name:</div><div>fusus</div></div><div class=\"fmetarow\"><div class=\"fmetakey\">period:</div><div>1165-1240</div></div><div class=\"fmetarow\"><div class=\"fmetakey\">project:</div><div>Fusus</div></div><div class=\"fmetarow\"><div class=\"fmetakey\">published:</div><div>pdf, personal communication</div></div><div class=\"fmetarow\"><div class=\"fmetakey\">researcher:</div><div>Cornelis van Lit</div></div><div class=\"fmetarow\"><div class=\"fmetakey\">sourceFormat:</div><div>CSV (tab-separated)</div></div><div class=\"fmetarow\"><div class=\"fmetakey\">title:</div><div>Fusus Al Hikam</div></div><div class=\"fmetarow\"><div class=\"fmetakey\">writtenBy:</div><div>Text-Fabric</div></div></div></details></div><div class=\"frow\"><div class=\"fnamecat \"><a target=\"_blank\" href=\"https://among.github.io/fusus/fusus/about/transcription\" title=\"~/text-fabric-data/among/fusus/tf/Fusus/0.7/ln.tf\">ln</a></div><div class=\"fmono\">int</div><details><summary>sequence number of a line within a page</summary><div class=\"fmeta\"><div class=\"fmetarow\"><div class=\"fmetakey\">author:</div><div>Ibn Arabi</div></div><div class=\"fmetarow\"><div class=\"fmetakey\">converters:</div><div>Cornelis van Lit, Dirk Roorda (Text-Fabric)</div></div><div class=\"fmetarow\"><div class=\"fmetakey\">dateWritten:</div><div>2021-11-14T11:43:58Z</div></div><div class=\"fmetarow\"><div class=\"fmetakey\">editor:</div><div>Lakhnawi and Afifi (merged with diff info)</div></div><div class=\"fmetarow\"><div class=\"fmetakey\">format:</div><div>number</div></div><div class=\"fmetarow\"><div class=\"fmetakey\">institute:</div><div>Univ Utrecht NL/DANS</div></div><div class=\"fmetarow\"><div class=\"fmetakey\">language:</div><div>ara</div></div><div class=\"fmetarow\"><div class=\"fmetakey\">name:</div><div>fusus</div></div><div class=\"fmetarow\"><div class=\"fmetakey\">period:</div><div>1165-1240</div></div><div class=\"fmetarow\"><div class=\"fmetakey\">project:</div><div>Fusus</div></div><div class=\"fmetarow\"><div class=\"fmetakey\">published:</div><div>pdf, personal communication</div></div><div class=\"fmetarow\"><div class=\"fmetakey\">researcher:</div><div>Cornelis van Lit</div></div><div class=\"fmetarow\"><div class=\"fmetakey\">sourceFormat:</div><div>CSV (tab-separated)</div></div><div class=\"fmetarow\"><div class=\"fmetakey\">title:</div><div>Fusus Al Hikam</div></div><div class=\"fmetarow\"><div class=\"fmetakey\">writtenBy:</div><div>Text-Fabric</div></div></div></details></div><div class=\"frow\"><div class=\"fnamecat \"><a target=\"_blank\" href=\"https://among.github.io/fusus/fusus/about/transcription\" title=\"~/text-fabric-data/among/fusus/tf/Fusus/0.7/lwcvl.tf\">lwcvl</a></div><div class=\"fmono\">str</div><details><summary>personal notes by Cornelis van Lit</summary><div class=\"fmeta\"><div class=\"fmetarow\"><div class=\"fmetakey\">author:</div><div>Ibn Arabi</div></div><div class=\"fmetarow\"><div class=\"fmetakey\">converters:</div><div>Cornelis van Lit, Dirk Roorda (Text-Fabric)</div></div><div class=\"fmetarow\"><div class=\"fmetakey\">dateWritten:</div><div>2021-11-14T11:43:58Z</div></div><div class=\"fmetarow\"><div class=\"fmetakey\">editor:</div><div>Lakhnawi and Afifi (merged with diff info)</div></div><div class=\"fmetarow\"><div class=\"fmetakey\">format:</div><div>string</div></div><div class=\"fmetarow\"><div class=\"fmetakey\">institute:</div><div>Univ Utrecht NL/DANS</div></div><div class=\"fmetarow\"><div class=\"fmetakey\">language:</div><div>ara</div></div><div class=\"fmetarow\"><div class=\"fmetakey\">name:</div><div>fusus</div></div><div class=\"fmetarow\"><div class=\"fmetakey\">period:</div><div>1165-1240</div></div><div class=\"fmetarow\"><div class=\"fmetakey\">project:</div><div>Fusus</div></div><div class=\"fmetarow\"><div class=\"fmetakey\">published:</div><div>pdf, personal communication</div></div><div class=\"fmetarow\"><div class=\"fmetakey\">researcher:</div><div>Cornelis van Lit</div></div><div class=\"fmetarow\"><div class=\"fmetakey\">sourceFormat:</div><div>CSV (tab-separated)</div></div><div class=\"fmetarow\"><div class=\"fmetakey\">title:</div><div>Fusus Al Hikam</div></div><div class=\"fmetarow\"><div class=\"fmetakey\">writtenBy:</div><div>Text-Fabric</div></div></div></details></div><div class=\"frow\"><div class=\"fnamecat \"><a target=\"_blank\" href=\"https://among.github.io/fusus/fusus/about/transcription\" title=\"~/text-fabric-data/among/fusus/tf/Fusus/0.7/n.tf\">n</a></div><div class=\"fmono\">int</div><details><summary>sequence number of a piece, page, column within a line, or span</summary><div class=\"fmeta\"><div class=\"fmetarow\"><div class=\"fmetakey\">author:</div><div>Ibn Arabi</div></div><div class=\"fmetarow\"><div class=\"fmetakey\">converters:</div><div>Cornelis van Lit, Dirk Roorda (Text-Fabric)</div></div><div class=\"fmetarow\"><div class=\"fmetakey\">dateWritten:</div><div>2021-11-14T11:43:58Z</div></div><div class=\"fmetarow\"><div class=\"fmetakey\">editor:</div><div>Lakhnawi and Afifi (merged with diff info)</div></div><div class=\"fmetarow\"><div class=\"fmetakey\">format:</div><div>number</div></div><div class=\"fmetarow\"><div class=\"fmetakey\">institute:</div><div>Univ Utrecht NL/DANS</div></div><div class=\"fmetarow\"><div class=\"fmetakey\">language:</div><div>ara</div></div><div class=\"fmetarow\"><div class=\"fmetakey\">name:</div><div>fusus</div></div><div class=\"fmetarow\"><div class=\"fmetakey\">period:</div><div>1165-1240</div></div><div class=\"fmetarow\"><div class=\"fmetakey\">project:</div><div>Fusus</div></div><div class=\"fmetarow\"><div class=\"fmetakey\">published:</div><div>pdf, personal communication</div></div><div class=\"fmetarow\"><div class=\"fmetakey\">researcher:</div><div>Cornelis van Lit</div></div><div class=\"fmetarow\"><div class=\"fmetakey\">sourceFormat:</div><div>CSV (tab-separated)</div></div><div class=\"fmetarow\"><div class=\"fmetakey\">title:</div><div>Fusus Al Hikam</div></div><div class=\"fmetarow\"><div class=\"fmetakey\">writtenBy:</div><div>Text-Fabric</div></div></div></details></div><div class=\"frow\"><div class=\"fnamecat \"><a target=\"_blank\" href=\"https://among.github.io/fusus/fusus/about/transcription\" title=\"~/text-fabric-data/among/fusus/tf/Fusus/0.7/np.tf\">np</a></div><div class=\"fmono\">int</div><details><summary>sequence number of a proper content piece</summary><div class=\"fmeta\"><div class=\"fmetarow\"><div class=\"fmetakey\">author:</div><div>Ibn Arabi</div></div><div class=\"fmetarow\"><div class=\"fmetakey\">converters:</div><div>Cornelis van Lit, Dirk Roorda (Text-Fabric)</div></div><div class=\"fmetarow\"><div class=\"fmetakey\">dateWritten:</div><div>2021-11-14T11:43:58Z</div></div><div class=\"fmetarow\"><div class=\"fmetakey\">editor:</div><div>Lakhnawi and Afifi (merged with diff info)</div></div><div class=\"fmetarow\"><div class=\"fmetakey\">format:</div><div>number</div></div><div class=\"fmetarow\"><div class=\"fmetakey\">institute:</div><div>Univ Utrecht NL/DANS</div></div><div class=\"fmetarow\"><div class=\"fmetakey\">language:</div><div>ara</div></div><div class=\"fmetarow\"><div class=\"fmetakey\">name:</div><div>fusus</div></div><div class=\"fmetarow\"><div class=\"fmetakey\">period:</div><div>1165-1240</div></div><div class=\"fmetarow\"><div class=\"fmetakey\">project:</div><div>Fusus</div></div><div class=\"fmetarow\"><div class=\"fmetakey\">published:</div><div>pdf, personal communication</div></div><div class=\"fmetarow\"><div class=\"fmetakey\">researcher:</div><div>Cornelis van Lit</div></div><div class=\"fmetarow\"><div class=\"fmetakey\">sourceFormat:</div><div>CSV (tab-separated)</div></div><div class=\"fmetarow\"><div class=\"fmetakey\">title:</div><div>Fusus Al Hikam</div></div><div class=\"fmetarow\"><div class=\"fmetakey\">writtenBy:</div><div>Text-Fabric</div></div></div></details></div><div class=\"frow\"><div class=\"fnamecat \"><a target=\"_blank\" href=\"https://among.github.io/fusus/fusus/about/transcription\" title=\"~/text-fabric-data/among/fusus/tf/Fusus/0.7/otype.tf\">otype</a></div><div class=\"fmono\">str</div><details><summary></summary><div class=\"fmeta\"><div class=\"fmetarow\"><div class=\"fmetakey\">author:</div><div>Ibn Arabi</div></div><div class=\"fmetarow\"><div class=\"fmetakey\">converters:</div><div>Cornelis van Lit, Dirk Roorda (Text-Fabric)</div></div><div class=\"fmetarow\"><div class=\"fmetakey\">dateWritten:</div><div>2021-11-14T11:43:58Z</div></div><div class=\"fmetarow\"><div class=\"fmetakey\">editor:</div><div>Lakhnawi and Afifi (merged with diff info)</div></div><div class=\"fmetarow\"><div class=\"fmetakey\">institute:</div><div>Univ Utrecht NL/DANS</div></div><div class=\"fmetarow\"><div class=\"fmetakey\">language:</div><div>ara</div></div><div class=\"fmetarow\"><div class=\"fmetakey\">name:</div><div>fusus</div></div><div class=\"fmetarow\"><div class=\"fmetakey\">period:</div><div>1165-1240</div></div><div class=\"fmetarow\"><div class=\"fmetakey\">project:</div><div>Fusus</div></div><div class=\"fmetarow\"><div class=\"fmetakey\">published:</div><div>pdf, personal communication</div></div><div class=\"fmetarow\"><div class=\"fmetakey\">researcher:</div><div>Cornelis van Lit</div></div><div class=\"fmetarow\"><div class=\"fmetakey\">sourceFormat:</div><div>CSV (tab-separated)</div></div><div class=\"fmetarow\"><div class=\"fmetakey\">title:</div><div>Fusus Al Hikam</div></div><div class=\"fmetarow\"><div class=\"fmetakey\">writtenBy:</div><div>Text-Fabric</div></div></div></details></div><div class=\"frow\"><div class=\"fnamecat \"><a target=\"_blank\" href=\"https://among.github.io/fusus/fusus/about/transcription\" title=\"~/text-fabric-data/among/fusus/tf/Fusus/0.7/page_af.tf\">page_af</a></div><div class=\"fmono\">int</div><details><summary>page number in the raw fususa dataset, which is obtained from ocr-ing the Afifi page images</summary><div class=\"fmeta\"><div class=\"fmetarow\"><div class=\"fmetakey\">author:</div><div>Ibn Arabi</div></div><div class=\"fmetarow\"><div class=\"fmetakey\">converters:</div><div>Cornelis van Lit, Dirk Roorda (Text-Fabric)</div></div><div class=\"fmetarow\"><div class=\"fmetakey\">dateWritten:</div><div>2021-11-14T11:43:58Z</div></div><div class=\"fmetarow\"><div class=\"fmetakey\">editor:</div><div>Lakhnawi and Afifi (merged with diff info)</div></div><div class=\"fmetarow\"><div class=\"fmetakey\">format:</div><div>integer</div></div><div class=\"fmetarow\"><div class=\"fmetakey\">institute:</div><div>Univ Utrecht NL/DANS</div></div><div class=\"fmetarow\"><div class=\"fmetakey\">language:</div><div>ara</div></div><div class=\"fmetarow\"><div class=\"fmetakey\">name:</div><div>fusus</div></div><div class=\"fmetarow\"><div class=\"fmetakey\">period:</div><div>1165-1240</div></div><div class=\"fmetarow\"><div class=\"fmetakey\">project:</div><div>Fusus</div></div><div class=\"fmetarow\"><div class=\"fmetakey\">published:</div><div>pdf, personal communication</div></div><div class=\"fmetarow\"><div class=\"fmetakey\">researcher:</div><div>Cornelis van Lit</div></div><div class=\"fmetarow\"><div class=\"fmetakey\">sourceFormat:</div><div>CSV (tab-separated)</div></div><div class=\"fmetarow\"><div class=\"fmetakey\">title:</div><div>Fusus Al Hikam</div></div><div class=\"fmetarow\"><div class=\"fmetakey\">writtenBy:</div><div>Text-Fabric</div></div></div></details></div><div class=\"frow\"><div class=\"fnamecat \"><a target=\"_blank\" href=\"https://among.github.io/fusus/fusus/about/transcription\" title=\"~/text-fabric-data/among/fusus/tf/Fusus/0.7/poetrymeter.tf\">poetrymeter</a></div><div class=\"fmono\">str</div><details><summary>meter in which this verse is written</summary><div class=\"fmeta\"><div class=\"fmetarow\"><div class=\"fmetakey\">author:</div><div>Ibn Arabi</div></div><div class=\"fmetarow\"><div class=\"fmetakey\">converters:</div><div>Cornelis van Lit, Dirk Roorda (Text-Fabric)</div></div><div class=\"fmetarow\"><div class=\"fmetakey\">dateWritten:</div><div>2021-11-14T11:43:58Z</div></div><div class=\"fmetarow\"><div class=\"fmetakey\">editor:</div><div>Lakhnawi and Afifi (merged with diff info)</div></div><div class=\"fmetarow\"><div class=\"fmetakey\">format:</div><div>string</div></div><div class=\"fmetarow\"><div class=\"fmetakey\">institute:</div><div>Univ Utrecht NL/DANS</div></div><div class=\"fmetarow\"><div class=\"fmetakey\">language:</div><div>ara</div></div><div class=\"fmetarow\"><div class=\"fmetakey\">name:</div><div>fusus</div></div><div class=\"fmetarow\"><div class=\"fmetakey\">period:</div><div>1165-1240</div></div><div class=\"fmetarow\"><div class=\"fmetakey\">project:</div><div>Fusus</div></div><div class=\"fmetarow\"><div class=\"fmetakey\">published:</div><div>pdf, personal communication</div></div><div class=\"fmetarow\"><div class=\"fmetakey\">researcher:</div><div>Cornelis van Lit</div></div><div class=\"fmetarow\"><div class=\"fmetakey\">sourceFormat:</div><div>CSV (tab-separated)</div></div><div class=\"fmetarow\"><div class=\"fmetakey\">title:</div><div>Fusus Al Hikam</div></div><div class=\"fmetarow\"><div class=\"fmetakey\">writtenBy:</div><div>Text-Fabric</div></div></div></details></div><div class=\"frow\"><div class=\"fnamecat \"><a target=\"_blank\" href=\"https://among.github.io/fusus/fusus/about/transcription\" title=\"~/text-fabric-data/among/fusus/tf/Fusus/0.7/poetryverse.tf\">poetryverse</a></div><div class=\"fmono\">int</div><details><summary>word is start of a verse of poetry, value is the number of the verse</summary><div class=\"fmeta\"><div class=\"fmetarow\"><div class=\"fmetakey\">author:</div><div>Ibn Arabi</div></div><div class=\"fmetarow\"><div class=\"fmetakey\">converters:</div><div>Cornelis van Lit, Dirk Roorda (Text-Fabric)</div></div><div class=\"fmetarow\"><div class=\"fmetakey\">dateWritten:</div><div>2021-11-14T11:43:58Z</div></div><div class=\"fmetarow\"><div class=\"fmetakey\">editor:</div><div>Lakhnawi and Afifi (merged with diff info)</div></div><div class=\"fmetarow\"><div class=\"fmetakey\">format:</div><div>number</div></div><div class=\"fmetarow\"><div class=\"fmetakey\">institute:</div><div>Univ Utrecht NL/DANS</div></div><div class=\"fmetarow\"><div class=\"fmetakey\">language:</div><div>ara</div></div><div class=\"fmetarow\"><div class=\"fmetakey\">name:</div><div>fusus</div></div><div class=\"fmetarow\"><div class=\"fmetakey\">period:</div><div>1165-1240</div></div><div class=\"fmetarow\"><div class=\"fmetakey\">project:</div><div>Fusus</div></div><div class=\"fmetarow\"><div class=\"fmetakey\">published:</div><div>pdf, personal communication</div></div><div class=\"fmetarow\"><div class=\"fmetakey\">researcher:</div><div>Cornelis van Lit</div></div><div class=\"fmetarow\"><div class=\"fmetakey\">sourceFormat:</div><div>CSV (tab-separated)</div></div><div class=\"fmetarow\"><div class=\"fmetakey\">title:</div><div>Fusus Al Hikam</div></div><div class=\"fmetarow\"><div class=\"fmetakey\">writtenBy:</div><div>Text-Fabric</div></div></div></details></div><div class=\"frow\"><div class=\"fnamecat \"><a target=\"_blank\" href=\"https://among.github.io/fusus/fusus/about/transcription\" title=\"~/text-fabric-data/among/fusus/tf/Fusus/0.7/punc.tf\">punc</a></div><div class=\"fmono\">str</div><details><summary>punctuation and/or space immediately after a word</summary><div class=\"fmeta\"><div class=\"fmetarow\"><div class=\"fmetakey\">author:</div><div>Ibn Arabi</div></div><div class=\"fmetarow\"><div class=\"fmetakey\">converters:</div><div>Cornelis van Lit, Dirk Roorda (Text-Fabric)</div></div><div class=\"fmetarow\"><div class=\"fmetakey\">dateWritten:</div><div>2021-11-14T11:43:58Z</div></div><div class=\"fmetarow\"><div class=\"fmetakey\">editor:</div><div>Lakhnawi and Afifi (merged with diff info)</div></div><div class=\"fmetarow\"><div class=\"fmetakey\">format:</div><div>string</div></div><div class=\"fmetarow\"><div class=\"fmetakey\">institute:</div><div>Univ Utrecht NL/DANS</div></div><div class=\"fmetarow\"><div class=\"fmetakey\">language:</div><div>ara</div></div><div class=\"fmetarow\"><div class=\"fmetakey\">name:</div><div>fusus</div></div><div class=\"fmetarow\"><div class=\"fmetakey\">period:</div><div>1165-1240</div></div><div class=\"fmetarow\"><div class=\"fmetakey\">project:</div><div>Fusus</div></div><div class=\"fmetarow\"><div class=\"fmetakey\">published:</div><div>pdf, personal communication</div></div><div class=\"fmetarow\"><div class=\"fmetakey\">researcher:</div><div>Cornelis van Lit</div></div><div class=\"fmetarow\"><div class=\"fmetakey\">sourceFormat:</div><div>CSV (tab-separated)</div></div><div class=\"fmetarow\"><div class=\"fmetakey\">title:</div><div>Fusus Al Hikam</div></div><div class=\"fmetarow\"><div class=\"fmetakey\">writtenBy:</div><div>Text-Fabric</div></div></div></details></div><div class=\"frow\"><div class=\"fnamecat \"><a target=\"_blank\" href=\"https://among.github.io/fusus/fusus/about/transcription\" title=\"~/text-fabric-data/among/fusus/tf/Fusus/0.7/punc_af.tf\">punc_af</a></div><div class=\"fmono\">str</div><details><summary>punctuation and/or space immediately after a word (Afifi edition)</summary><div class=\"fmeta\"><div class=\"fmetarow\"><div class=\"fmetakey\">author:</div><div>Ibn Arabi</div></div><div class=\"fmetarow\"><div class=\"fmetakey\">converters:</div><div>Cornelis van Lit, Dirk Roorda (Text-Fabric)</div></div><div class=\"fmetarow\"><div class=\"fmetakey\">dateWritten:</div><div>2021-11-14T11:43:58Z</div></div><div class=\"fmetarow\"><div class=\"fmetakey\">editor:</div><div>Lakhnawi and Afifi (merged with diff info)</div></div><div class=\"fmetarow\"><div class=\"fmetakey\">format:</div><div>string</div></div><div class=\"fmetarow\"><div class=\"fmetakey\">institute:</div><div>Univ Utrecht NL/DANS</div></div><div class=\"fmetarow\"><div class=\"fmetakey\">language:</div><div>ara</div></div><div class=\"fmetarow\"><div class=\"fmetakey\">name:</div><div>fusus</div></div><div class=\"fmetarow\"><div class=\"fmetakey\">period:</div><div>1165-1240</div></div><div class=\"fmetarow\"><div class=\"fmetakey\">project:</div><div>Fusus</div></div><div class=\"fmetarow\"><div class=\"fmetakey\">published:</div><div>pdf, personal communication</div></div><div class=\"fmetarow\"><div class=\"fmetakey\">researcher:</div><div>Cornelis van Lit</div></div><div class=\"fmetarow\"><div class=\"fmetakey\">sourceFormat:</div><div>CSV (tab-separated)</div></div><div class=\"fmetarow\"><div class=\"fmetakey\">title:</div><div>Fusus Al Hikam</div></div><div class=\"fmetarow\"><div class=\"fmetakey\">writtenBy:</div><div>Text-Fabric</div></div></div></details></div><div class=\"frow\"><div class=\"fnamecat \"><a target=\"_blank\" href=\"https://among.github.io/fusus/fusus/about/transcription\" title=\"~/text-fabric-data/among/fusus/tf/Fusus/0.7/punca.tf\">punca</a></div><div class=\"fmono\">str</div><details><summary>punctuation and/or space immediately after a word</summary><div class=\"fmeta\"><div class=\"fmetarow\"><div class=\"fmetakey\">author:</div><div>Ibn Arabi</div></div><div class=\"fmetarow\"><div class=\"fmetakey\">converters:</div><div>Cornelis van Lit, Dirk Roorda (Text-Fabric)</div></div><div class=\"fmetarow\"><div class=\"fmetakey\">dateWritten:</div><div>2021-11-14T11:43:58Z</div></div><div class=\"fmetarow\"><div class=\"fmetakey\">editor:</div><div>Lakhnawi and Afifi (merged with diff info)</div></div><div class=\"fmetarow\"><div class=\"fmetakey\">format:</div><div>string, ascii</div></div><div class=\"fmetarow\"><div class=\"fmetakey\">institute:</div><div>Univ Utrecht NL/DANS</div></div><div class=\"fmetarow\"><div class=\"fmetakey\">language:</div><div>ara</div></div><div class=\"fmetarow\"><div class=\"fmetakey\">name:</div><div>fusus</div></div><div class=\"fmetarow\"><div class=\"fmetakey\">period:</div><div>1165-1240</div></div><div class=\"fmetarow\"><div class=\"fmetakey\">project:</div><div>Fusus</div></div><div class=\"fmetarow\"><div class=\"fmetakey\">published:</div><div>pdf, personal communication</div></div><div class=\"fmetarow\"><div class=\"fmetakey\">researcher:</div><div>Cornelis van Lit</div></div><div class=\"fmetarow\"><div class=\"fmetakey\">sourceFormat:</div><div>CSV (tab-separated)</div></div><div class=\"fmetarow\"><div class=\"fmetakey\">title:</div><div>Fusus Al Hikam</div></div><div class=\"fmetarow\"><div class=\"fmetakey\">writtenBy:</div><div>Text-Fabric</div></div></div></details></div><div class=\"frow\"><div class=\"fnamecat \"><a target=\"_blank\" href=\"https://among.github.io/fusus/fusus/about/transcription\" title=\"~/text-fabric-data/among/fusus/tf/Fusus/0.7/punca_af.tf\">punca_af</a></div><div class=\"fmono\">str</div><details><summary>punctuation and/or space immediately after a word (Afifi edition)</summary><div class=\"fmeta\"><div class=\"fmetarow\"><div class=\"fmetakey\">author:</div><div>Ibn Arabi</div></div><div class=\"fmetarow\"><div class=\"fmetakey\">converters:</div><div>Cornelis van Lit, Dirk Roorda (Text-Fabric)</div></div><div class=\"fmetarow\"><div class=\"fmetakey\">dateWritten:</div><div>2021-11-14T11:43:58Z</div></div><div class=\"fmetarow\"><div class=\"fmetakey\">editor:</div><div>Lakhnawi and Afifi (merged with diff info)</div></div><div class=\"fmetarow\"><div class=\"fmetakey\">format:</div><div>string, ascii</div></div><div class=\"fmetarow\"><div class=\"fmetakey\">institute:</div><div>Univ Utrecht NL/DANS</div></div><div class=\"fmetarow\"><div class=\"fmetakey\">language:</div><div>ara</div></div><div class=\"fmetarow\"><div class=\"fmetakey\">name:</div><div>fusus</div></div><div class=\"fmetarow\"><div class=\"fmetakey\">period:</div><div>1165-1240</div></div><div class=\"fmetarow\"><div class=\"fmetakey\">project:</div><div>Fusus</div></div><div class=\"fmetarow\"><div class=\"fmetakey\">published:</div><div>pdf, personal communication</div></div><div class=\"fmetarow\"><div class=\"fmetakey\">researcher:</div><div>Cornelis van Lit</div></div><div class=\"fmetarow\"><div class=\"fmetakey\">sourceFormat:</div><div>CSV (tab-separated)</div></div><div class=\"fmetarow\"><div class=\"fmetakey\">title:</div><div>Fusus Al Hikam</div></div><div class=\"fmetarow\"><div class=\"fmetakey\">writtenBy:</div><div>Text-Fabric</div></div></div></details></div><div class=\"frow\"><div class=\"fnamecat \"><a target=\"_blank\" href=\"https://among.github.io/fusus/fusus/about/transcription\" title=\"~/text-fabric-data/among/fusus/tf/Fusus/0.7/puncb.tf\">puncb</a></div><div class=\"fmono\">str</div><details><summary>punctuation immediately before a word</summary><div class=\"fmeta\"><div class=\"fmetarow\"><div class=\"fmetakey\">author:</div><div>Ibn Arabi</div></div><div class=\"fmetarow\"><div class=\"fmetakey\">converters:</div><div>Cornelis van Lit, Dirk Roorda (Text-Fabric)</div></div><div class=\"fmetarow\"><div class=\"fmetakey\">dateWritten:</div><div>2021-11-14T11:43:58Z</div></div><div class=\"fmetarow\"><div class=\"fmetakey\">editor:</div><div>Lakhnawi and Afifi (merged with diff info)</div></div><div class=\"fmetarow\"><div class=\"fmetakey\">format:</div><div>string</div></div><div class=\"fmetarow\"><div class=\"fmetakey\">institute:</div><div>Univ Utrecht NL/DANS</div></div><div class=\"fmetarow\"><div class=\"fmetakey\">language:</div><div>ara</div></div><div class=\"fmetarow\"><div class=\"fmetakey\">name:</div><div>fusus</div></div><div class=\"fmetarow\"><div class=\"fmetakey\">period:</div><div>1165-1240</div></div><div class=\"fmetarow\"><div class=\"fmetakey\">project:</div><div>Fusus</div></div><div class=\"fmetarow\"><div class=\"fmetakey\">published:</div><div>pdf, personal communication</div></div><div class=\"fmetarow\"><div class=\"fmetakey\">researcher:</div><div>Cornelis van Lit</div></div><div class=\"fmetarow\"><div class=\"fmetakey\">sourceFormat:</div><div>CSV (tab-separated)</div></div><div class=\"fmetarow\"><div class=\"fmetakey\">title:</div><div>Fusus Al Hikam</div></div><div class=\"fmetarow\"><div class=\"fmetakey\">writtenBy:</div><div>Text-Fabric</div></div></div></details></div><div class=\"frow\"><div class=\"fnamecat \"><a target=\"_blank\" href=\"https://among.github.io/fusus/fusus/about/transcription\" title=\"~/text-fabric-data/among/fusus/tf/Fusus/0.7/puncba.tf\">puncba</a></div><div class=\"fmono\">str</div><details><summary>punctuation immediately before a word</summary><div class=\"fmeta\"><div class=\"fmetarow\"><div class=\"fmetakey\">author:</div><div>Ibn Arabi</div></div><div class=\"fmetarow\"><div class=\"fmetakey\">converters:</div><div>Cornelis van Lit, Dirk Roorda (Text-Fabric)</div></div><div class=\"fmetarow\"><div class=\"fmetakey\">dateWritten:</div><div>2021-11-14T11:43:58Z</div></div><div class=\"fmetarow\"><div class=\"fmetakey\">editor:</div><div>Lakhnawi and Afifi (merged with diff info)</div></div><div class=\"fmetarow\"><div class=\"fmetakey\">format:</div><div>string, ascii</div></div><div class=\"fmetarow\"><div class=\"fmetakey\">institute:</div><div>Univ Utrecht NL/DANS</div></div><div class=\"fmetarow\"><div class=\"fmetakey\">language:</div><div>ara</div></div><div class=\"fmetarow\"><div class=\"fmetakey\">name:</div><div>fusus</div></div><div class=\"fmetarow\"><div class=\"fmetakey\">period:</div><div>1165-1240</div></div><div class=\"fmetarow\"><div class=\"fmetakey\">project:</div><div>Fusus</div></div><div class=\"fmetarow\"><div class=\"fmetakey\">published:</div><div>pdf, personal communication</div></div><div class=\"fmetarow\"><div class=\"fmetakey\">researcher:</div><div>Cornelis van Lit</div></div><div class=\"fmetarow\"><div class=\"fmetakey\">sourceFormat:</div><div>CSV (tab-separated)</div></div><div class=\"fmetarow\"><div class=\"fmetakey\">title:</div><div>Fusus Al Hikam</div></div><div class=\"fmetarow\"><div class=\"fmetakey\">writtenBy:</div><div>Text-Fabric</div></div></div></details></div><div class=\"frow\"><div class=\"fnamecat \"><a target=\"_blank\" href=\"https://among.github.io/fusus/fusus/about/transcription\" title=\"~/text-fabric-data/among/fusus/tf/Fusus/0.7/qunawims.tf\">qunawims</a></div><div class=\"fmono\">str</div><details><summary>on which folio of the oldest manuscript, penned by Qunawi himself, is this word attested?</summary><div class=\"fmeta\"><div class=\"fmetarow\"><div class=\"fmetakey\">author:</div><div>Ibn Arabi</div></div><div class=\"fmetarow\"><div class=\"fmetakey\">converters:</div><div>Cornelis van Lit, Dirk Roorda (Text-Fabric)</div></div><div class=\"fmetarow\"><div class=\"fmetakey\">dateWritten:</div><div>2021-11-14T11:43:58Z</div></div><div class=\"fmetarow\"><div class=\"fmetakey\">editor:</div><div>Lakhnawi and Afifi (merged with diff info)</div></div><div class=\"fmetarow\"><div class=\"fmetakey\">format:</div><div>string</div></div><div class=\"fmetarow\"><div class=\"fmetakey\">institute:</div><div>Univ Utrecht NL/DANS</div></div><div class=\"fmetarow\"><div class=\"fmetakey\">language:</div><div>ara</div></div><div class=\"fmetarow\"><div class=\"fmetakey\">name:</div><div>fusus</div></div><div class=\"fmetarow\"><div class=\"fmetakey\">period:</div><div>1165-1240</div></div><div class=\"fmetarow\"><div class=\"fmetakey\">project:</div><div>Fusus</div></div><div class=\"fmetarow\"><div class=\"fmetakey\">published:</div><div>pdf, personal communication</div></div><div class=\"fmetarow\"><div class=\"fmetakey\">researcher:</div><div>Cornelis van Lit</div></div><div class=\"fmetarow\"><div class=\"fmetakey\">sourceFormat:</div><div>CSV (tab-separated)</div></div><div class=\"fmetarow\"><div class=\"fmetakey\">title:</div><div>Fusus Al Hikam</div></div><div class=\"fmetarow\"><div class=\"fmetakey\">writtenBy:</div><div>Text-Fabric</div></div></div></details></div><div class=\"frow\"><div class=\"fnamecat \"><a target=\"_blank\" href=\"https://among.github.io/fusus/fusus/about/transcription\" title=\"~/text-fabric-data/among/fusus/tf/Fusus/0.7/quran.tf\">quran</a></div><div class=\"fmono\">str</div><details><summary>word is part of a quran citation (sura:aya)</summary><div class=\"fmeta\"><div class=\"fmetarow\"><div class=\"fmetakey\">author:</div><div>Ibn Arabi</div></div><div class=\"fmetarow\"><div class=\"fmetakey\">converters:</div><div>Cornelis van Lit, Dirk Roorda (Text-Fabric)</div></div><div class=\"fmetarow\"><div class=\"fmetakey\">dateWritten:</div><div>2021-11-14T11:43:58Z</div></div><div class=\"fmetarow\"><div class=\"fmetakey\">editor:</div><div>Lakhnawi and Afifi (merged with diff info)</div></div><div class=\"fmetarow\"><div class=\"fmetakey\">format:</div><div>string</div></div><div class=\"fmetarow\"><div class=\"fmetakey\">institute:</div><div>Univ Utrecht NL/DANS</div></div><div class=\"fmetarow\"><div class=\"fmetakey\">language:</div><div>ara</div></div><div class=\"fmetarow\"><div class=\"fmetakey\">name:</div><div>fusus</div></div><div class=\"fmetarow\"><div class=\"fmetakey\">period:</div><div>1165-1240</div></div><div class=\"fmetarow\"><div class=\"fmetakey\">project:</div><div>Fusus</div></div><div class=\"fmetarow\"><div class=\"fmetakey\">published:</div><div>pdf, personal communication</div></div><div class=\"fmetarow\"><div class=\"fmetakey\">researcher:</div><div>Cornelis van Lit</div></div><div class=\"fmetarow\"><div class=\"fmetakey\">sourceFormat:</div><div>CSV (tab-separated)</div></div><div class=\"fmetarow\"><div class=\"fmetakey\">title:</div><div>Fusus Al Hikam</div></div><div class=\"fmetarow\"><div class=\"fmetakey\">writtenBy:</div><div>Text-Fabric</div></div></div></details></div><div class=\"frow\"><div class=\"fnamecat \"><a target=\"_blank\" href=\"https://among.github.io/fusus/fusus/about/transcription\" title=\"~/text-fabric-data/among/fusus/tf/Fusus/0.7/ratio.tf\">ratio</a></div><div class=\"fmono\">int</div><details><summary>ratio (=similarity) between the Lakhnawi part in an alignment entryand its Afifi counterpart</summary><div class=\"fmeta\"><div class=\"fmetarow\"><div class=\"fmetakey\">author:</div><div>Ibn Arabi</div></div><div class=\"fmetarow\"><div class=\"fmetakey\">converters:</div><div>Cornelis van Lit, Dirk Roorda (Text-Fabric)</div></div><div class=\"fmetarow\"><div class=\"fmetakey\">dateWritten:</div><div>2021-11-14T11:43:58Z</div></div><div class=\"fmetarow\"><div class=\"fmetakey\">editor:</div><div>Lakhnawi and Afifi (merged with diff info)</div></div><div class=\"fmetarow\"><div class=\"fmetakey\">format:</div><div>integer, scale 1 to 10, higher is more similar</div></div><div class=\"fmetarow\"><div class=\"fmetakey\">institute:</div><div>Univ Utrecht NL/DANS</div></div><div class=\"fmetarow\"><div class=\"fmetakey\">language:</div><div>ara</div></div><div class=\"fmetarow\"><div class=\"fmetakey\">name:</div><div>fusus</div></div><div class=\"fmetarow\"><div class=\"fmetakey\">period:</div><div>1165-1240</div></div><div class=\"fmetarow\"><div class=\"fmetakey\">project:</div><div>Fusus</div></div><div class=\"fmetarow\"><div class=\"fmetakey\">published:</div><div>pdf, personal communication</div></div><div class=\"fmetarow\"><div class=\"fmetakey\">researcher:</div><div>Cornelis van Lit</div></div><div class=\"fmetarow\"><div class=\"fmetakey\">sourceFormat:</div><div>CSV (tab-separated)</div></div><div class=\"fmetarow\"><div class=\"fmetakey\">title:</div><div>Fusus Al Hikam</div></div><div class=\"fmetarow\"><div class=\"fmetakey\">writtenBy:</div><div>Text-Fabric</div></div></div></details></div><div class=\"frow\"><div class=\"fnamecat \"><a target=\"_blank\" href=\"https://among.github.io/fusus/fusus/about/transcription\" title=\"~/text-fabric-data/among/fusus/tf/Fusus/0.7/raw.tf\">raw</a></div><div class=\"fmono\">str</div><details><summary>letters of the word straight from the pdf</summary><div class=\"fmeta\"><div class=\"fmetarow\"><div class=\"fmetakey\">author:</div><div>Ibn Arabi</div></div><div class=\"fmetarow\"><div class=\"fmetakey\">converters:</div><div>Cornelis van Lit, Dirk Roorda (Text-Fabric)</div></div><div class=\"fmetarow\"><div class=\"fmetakey\">dateWritten:</div><div>2021-11-14T11:43:58Z</div></div><div class=\"fmetarow\"><div class=\"fmetakey\">editor:</div><div>Lakhnawi and Afifi (merged with diff info)</div></div><div class=\"fmetarow\"><div class=\"fmetakey\">format:</div><div>string</div></div><div class=\"fmetarow\"><div class=\"fmetakey\">institute:</div><div>Univ Utrecht NL/DANS</div></div><div class=\"fmetarow\"><div class=\"fmetakey\">language:</div><div>ara</div></div><div class=\"fmetarow\"><div class=\"fmetakey\">name:</div><div>fusus</div></div><div class=\"fmetarow\"><div class=\"fmetakey\">period:</div><div>1165-1240</div></div><div class=\"fmetarow\"><div class=\"fmetakey\">project:</div><div>Fusus</div></div><div class=\"fmetarow\"><div class=\"fmetakey\">published:</div><div>pdf, personal communication</div></div><div class=\"fmetarow\"><div class=\"fmetakey\">researcher:</div><div>Cornelis van Lit</div></div><div class=\"fmetarow\"><div class=\"fmetakey\">sourceFormat:</div><div>CSV (tab-separated)</div></div><div class=\"fmetarow\"><div class=\"fmetakey\">title:</div><div>Fusus Al Hikam</div></div><div class=\"fmetarow\"><div class=\"fmetakey\">writtenBy:</div><div>Text-Fabric</div></div></div></details></div><div class=\"frow\"><div class=\"fnamecat \"><a target=\"_blank\" href=\"https://among.github.io/fusus/fusus/about/transcription\" title=\"~/text-fabric-data/among/fusus/tf/Fusus/0.7/slot_af.tf\">slot_af</a></div><div class=\"fmono\">int</div><details><summary>slot number in the raw fususa dataset, which is obtained from ocr-ing the Afifi page images</summary><div class=\"fmeta\"><div class=\"fmetarow\"><div class=\"fmetakey\">author:</div><div>Ibn Arabi</div></div><div class=\"fmetarow\"><div class=\"fmetakey\">converters:</div><div>Cornelis van Lit, Dirk Roorda (Text-Fabric)</div></div><div class=\"fmetarow\"><div class=\"fmetakey\">dateWritten:</div><div>2021-11-14T11:43:58Z</div></div><div class=\"fmetarow\"><div class=\"fmetakey\">editor:</div><div>Lakhnawi and Afifi (merged with diff info)</div></div><div class=\"fmetarow\"><div class=\"fmetakey\">format:</div><div>integer</div></div><div class=\"fmetarow\"><div class=\"fmetakey\">institute:</div><div>Univ Utrecht NL/DANS</div></div><div class=\"fmetarow\"><div class=\"fmetakey\">language:</div><div>ara</div></div><div class=\"fmetarow\"><div class=\"fmetakey\">name:</div><div>fusus</div></div><div class=\"fmetarow\"><div class=\"fmetakey\">period:</div><div>1165-1240</div></div><div class=\"fmetarow\"><div class=\"fmetakey\">project:</div><div>Fusus</div></div><div class=\"fmetarow\"><div class=\"fmetakey\">published:</div><div>pdf, personal communication</div></div><div class=\"fmetarow\"><div class=\"fmetakey\">researcher:</div><div>Cornelis van Lit</div></div><div class=\"fmetarow\"><div class=\"fmetakey\">sourceFormat:</div><div>CSV (tab-separated)</div></div><div class=\"fmetarow\"><div class=\"fmetakey\">title:</div><div>Fusus Al Hikam</div></div><div class=\"fmetarow\"><div class=\"fmetakey\">writtenBy:</div><div>Text-Fabric</div></div></div></details></div><div class=\"frow\"><div class=\"fnamecat \"><a target=\"_blank\" href=\"https://among.github.io/fusus/fusus/about/transcription\" title=\"~/text-fabric-data/among/fusus/tf/Fusus/0.7/slot_lk.tf\">slot_lk</a></div><div class=\"fmono\">int</div><details><summary>slot number in the raw fususl dataset, which is obtained from reverse-engineering the Lakhnawi pdf</summary><div class=\"fmeta\"><div class=\"fmetarow\"><div class=\"fmetakey\">author:</div><div>Ibn Arabi</div></div><div class=\"fmetarow\"><div class=\"fmetakey\">converters:</div><div>Cornelis van Lit, Dirk Roorda (Text-Fabric)</div></div><div class=\"fmetarow\"><div class=\"fmetakey\">dateWritten:</div><div>2021-11-14T11:43:58Z</div></div><div class=\"fmetarow\"><div class=\"fmetakey\">editor:</div><div>Lakhnawi and Afifi (merged with diff info)</div></div><div class=\"fmetarow\"><div class=\"fmetakey\">format:</div><div>integer</div></div><div class=\"fmetarow\"><div class=\"fmetakey\">institute:</div><div>Univ Utrecht NL/DANS</div></div><div class=\"fmetarow\"><div class=\"fmetakey\">language:</div><div>ara</div></div><div class=\"fmetarow\"><div class=\"fmetakey\">name:</div><div>fusus</div></div><div class=\"fmetarow\"><div class=\"fmetakey\">period:</div><div>1165-1240</div></div><div class=\"fmetarow\"><div class=\"fmetakey\">project:</div><div>Fusus</div></div><div class=\"fmetarow\"><div class=\"fmetakey\">published:</div><div>pdf, personal communication</div></div><div class=\"fmetarow\"><div class=\"fmetakey\">researcher:</div><div>Cornelis van Lit</div></div><div class=\"fmetarow\"><div class=\"fmetakey\">sourceFormat:</div><div>CSV (tab-separated)</div></div><div class=\"fmetarow\"><div class=\"fmetakey\">title:</div><div>Fusus Al Hikam</div></div><div class=\"fmetarow\"><div class=\"fmetakey\">writtenBy:</div><div>Text-Fabric</div></div></div></details></div><div class=\"frow\"><div class=\"fnamecat \"><a target=\"_blank\" href=\"https://among.github.io/fusus/fusus/about/transcription\" title=\"~/text-fabric-data/among/fusus/tf/Fusus/0.7/title.tf\">title</a></div><div class=\"fmono\">str</div><details><summary>title of a piece</summary><div class=\"fmeta\"><div class=\"fmetarow\"><div class=\"fmetakey\">author:</div><div>Ibn Arabi</div></div><div class=\"fmetarow\"><div class=\"fmetakey\">converters:</div><div>Cornelis van Lit, Dirk Roorda (Text-Fabric)</div></div><div class=\"fmetarow\"><div class=\"fmetakey\">dateWritten:</div><div>2021-11-14T11:43:58Z</div></div><div class=\"fmetarow\"><div class=\"fmetakey\">editor:</div><div>Lakhnawi and Afifi (merged with diff info)</div></div><div class=\"fmetarow\"><div class=\"fmetakey\">format:</div><div>string</div></div><div class=\"fmetarow\"><div class=\"fmetakey\">institute:</div><div>Univ Utrecht NL/DANS</div></div><div class=\"fmetarow\"><div class=\"fmetakey\">language:</div><div>ara</div></div><div class=\"fmetarow\"><div class=\"fmetakey\">name:</div><div>fusus</div></div><div class=\"fmetarow\"><div class=\"fmetakey\">period:</div><div>1165-1240</div></div><div class=\"fmetarow\"><div class=\"fmetakey\">project:</div><div>Fusus</div></div><div class=\"fmetarow\"><div class=\"fmetakey\">published:</div><div>pdf, personal communication</div></div><div class=\"fmetarow\"><div class=\"fmetakey\">researcher:</div><div>Cornelis van Lit</div></div><div class=\"fmetarow\"><div class=\"fmetakey\">sourceFormat:</div><div>CSV (tab-separated)</div></div><div class=\"fmetarow\"><div class=\"fmetakey\">title:</div><div>Fusus Al Hikam</div></div><div class=\"fmetarow\"><div class=\"fmetakey\">writtenBy:</div><div>Text-Fabric</div></div></div></details></div><div class=\"frow\"><div class=\"fnamecat edge\"><a target=\"_blank\" href=\"https://among.github.io/fusus/fusus/about/transcription\" title=\"~/text-fabric-data/among/fusus/tf/Fusus/0.7/oslots.tf\">oslots</a></div><div class=\"fmono\">none</div><details><summary></summary><div class=\"fmeta\"><div class=\"fmetarow\"><div class=\"fmetakey\">author:</div><div>Ibn Arabi</div></div><div class=\"fmetarow\"><div class=\"fmetakey\">converters:</div><div>Cornelis van Lit, Dirk Roorda (Text-Fabric)</div></div><div class=\"fmetarow\"><div class=\"fmetakey\">dateWritten:</div><div>2021-11-14T11:43:58Z</div></div><div class=\"fmetarow\"><div class=\"fmetakey\">editor:</div><div>Lakhnawi and Afifi (merged with diff info)</div></div><div class=\"fmetarow\"><div class=\"fmetakey\">institute:</div><div>Univ Utrecht NL/DANS</div></div><div class=\"fmetarow\"><div class=\"fmetakey\">language:</div><div>ara</div></div><div class=\"fmetarow\"><div class=\"fmetakey\">name:</div><div>fusus</div></div><div class=\"fmetarow\"><div class=\"fmetakey\">period:</div><div>1165-1240</div></div><div class=\"fmetarow\"><div class=\"fmetakey\">project:</div><div>Fusus</div></div><div class=\"fmetarow\"><div class=\"fmetakey\">published:</div><div>pdf, personal communication</div></div><div class=\"fmetarow\"><div class=\"fmetakey\">researcher:</div><div>Cornelis van Lit</div></div><div class=\"fmetarow\"><div class=\"fmetakey\">sourceFormat:</div><div>CSV (tab-separated)</div></div><div class=\"fmetarow\"><div class=\"fmetakey\">title:</div><div>Fusus Al Hikam</div></div><div class=\"fmetarow\"><div class=\"fmetakey\">writtenBy:</div><div>Text-Fabric</div></div></div></details></div></div></details>"
      ],
      "text/plain": [
       "<IPython.core.display.HTML object>"
      ]
     },
     "metadata": {},
     "output_type": "display_data"
    },
    {
     "data": {
      "text/html": [
       "<style>tr.tf.ltr, td.tf.ltr, th.tf.ltr { text-align: left ! important;}\n",
       "tr.tf.rtl, td.tf.rtl, th.tf.rtl { text-align: right ! important;}\n",
       "@font-face {\n",
       "  font-family: \"Gentium Plus\";\n",
       "  src: local('Gentium Plus'), local('GentiumPlus'),\n",
       "    url('/server/static/fonts/GentiumPlus-R.woff') format('woff'),\n",
       "    url('https://github.com/annotation/text-fabric/blob/master/tf/server/static/fonts/GentiumPlus-R.woff?raw=true') format('woff');\n",
       "}\n",
       "\n",
       "@font-face {\n",
       "  font-family: \"Ezra SIL\";\n",
       "  src: local('Ezra SIL'), local('EzraSIL'),\n",
       "    url('/server/static/fonts/SILEOT.woff') format('woff'),\n",
       "    url('https://github.com/annotation/text-fabric/blob/master/tf/server/static/fonts/SILEOT.woff?raw=true') format('woff');\n",
       "}\n",
       "\n",
       "@font-face {\n",
       "  font-family: \"SBL Hebrew\";\n",
       "  src: local('SBL Hebrew'), local('SBLHebrew'),\n",
       "    url('/server/static/fonts/SBL_Hbrw.woff') format('woff'),\n",
       "    url('https://github.com/annotation/text-fabric/blob/master/tf/server/static/fonts/SBL_Hbrw.woff?raw=true') format('woff');\n",
       "}\n",
       "\n",
       "@font-face {\n",
       "  font-family: \"Estrangelo Edessa\";\n",
       "  src: local('Estrangelo Edessa'), local('EstrangeloEdessa');\n",
       "    url('/server/static/fonts/SyrCOMEdessa.woff') format('woff'),\n",
       "    url('https://github.com/annotation/text-fabric/blob/master/tf/server/static/fonts/SyrCOMEdessa.woff?raw=true') format('woff');\n",
       "}\n",
       "\n",
       "@font-face {\n",
       "  font-family: AmiriQuran;\n",
       "  font-style: normal;\n",
       "  font-weight: 400;\n",
       "  src: local('Amiri Quran'), local('AmiriQuran'),\n",
       "    url('/server/static/fonts/AmiriQuran.woff') format('woff'),\n",
       "    url('https://github.com/annotation/text-fabric/blob/master/tf/server/static/fonts/AmiriQuran.woff?raw=true') format('woff');\n",
       "}\n",
       "\n",
       "@font-face {\n",
       "  font-family: AmiriQuranColored;\n",
       "  font-style: normal;\n",
       "  font-weight: 400;\n",
       "  src: local('Amiri Quran Colored'), local('AmiriQuranColored'),\n",
       "    url('/server/static/fonts/AmiriQuranColored.woff') format('woff'),\n",
       "    url('https://github.com/annotation/text-fabric/blob/master/tf/server/static/fonts/AmiriQuranColored.woff?raw=true') format('woff');\n",
       "}\n",
       "\n",
       "@font-face {\n",
       "  font-family: \"Santakku\";\n",
       "  src: local('Santakku'),\n",
       "    url('/server/static/fonts/Santakku.woff') format('woff'),\n",
       "    url('https://github.com/annotation/text-fabric/blob/master/tf/server/static/fonts/Santakku.woff?raw=true') format('woff');\n",
       "}\n",
       "\n",
       "@font-face {\n",
       "  font-family: \"SantakkuM\";\n",
       "  src: local('SantakkuM'),\n",
       "    url('/server/static/fonts/SantakkuM.woff') format('woff'),\n",
       "    url('https://github.com/annotation/text-fabric/blob/master/tf/server/static/fonts/SantakkuM.woff?raw=true') format('woff');\n",
       "}\n",
       "/* bypassing some classical notebook settings */\n",
       "div#notebook {\n",
       "  line-height: unset;\n",
       "}\n",
       "/* neutral text */\n",
       ".txtn,.txtn a:visited,.txtn a:link {\n",
       "    font-family: sans-serif;\n",
       "    font-size: medium;\n",
       "    direction: ltr;\n",
       "    unicode-bidi: embed;\n",
       "    text-decoration: none;\n",
       "    color: var(--text-color);\n",
       "}\n",
       "/* transcription text */\n",
       ".txtt,.txtt a:visited,.txtt a:link {\n",
       "    font-family: monospace;\n",
       "    font-size: medium;\n",
       "    direction: ltr;\n",
       "    unicode-bidi: embed;\n",
       "    text-decoration: none;\n",
       "    color: var(--text-color);\n",
       "}\n",
       "/* source text */\n",
       ".txto,.txto a:visited,.txto a:link {\n",
       "    font-family: serif;\n",
       "    font-size: medium;\n",
       "    direction: ltr;\n",
       "    unicode-bidi: embed;\n",
       "    text-decoration: none;\n",
       "    color: var(--text-color);\n",
       "}\n",
       "/* phonetic text */\n",
       ".txtp,.txtp a:visited,.txtp a:link {\n",
       "    font-family: Gentium, sans-serif;\n",
       "    font-size: medium;\n",
       "    direction: ltr;\n",
       "    unicode-bidi: embed;\n",
       "    text-decoration: none;\n",
       "    color: var(--text-color);\n",
       "}\n",
       "/* original script text */\n",
       ".txtu,.txtu a:visited,.txtu a:link {\n",
       "    font-family: Gentium, sans-serif;\n",
       "    font-size: medium;\n",
       "    text-decoration: none;\n",
       "    color: var(--text-color);\n",
       "}\n",
       "/* hebrew */\n",
       ".txtu.hbo,.lex.hbo {\n",
       "    font-family: \"Ezra SIL\", \"SBL Hebrew\", sans-serif;\n",
       "    font-size: large;\n",
       "    direction: rtl ! important;\n",
       "    unicode-bidi: embed;\n",
       "}\n",
       "/* syriac */\n",
       ".txtu.syc,.lex.syc {\n",
       "    font-family: \"Estrangelo Edessa\", sans-serif;\n",
       "    font-size: medium;\n",
       "    direction: rtl ! important;\n",
       "    unicode-bidi: embed;\n",
       "}\n",
       "/* neo aramaic */\n",
       ".txtu.cld,.lex.cld {\n",
       "    font-family: \"CharisSIL-R\", sans-serif;\n",
       "    font-size: medium;\n",
       "    direction: ltr ! important;\n",
       "    unicode-bidi: embed;\n",
       "}\n",
       "/* standard arabic */\n",
       ".txtu.ara,.lex.ara {\n",
       "    font-family: \"AmiriQuran\", sans-serif;\n",
       "    font-size: large;\n",
       "    direction: rtl ! important;\n",
       "    unicode-bidi: embed;\n",
       "}\n",
       "/* cuneiform */\n",
       ".txtu.akk,.lex.akk {\n",
       "    font-family: Santakku, sans-serif;\n",
       "    font-size: large;\n",
       "    direction: ltr ! important;\n",
       "    unicode-bidi: embed;\n",
       "}\n",
       "/* greek */\n",
       ".txtu.grc,.lex.grc a:link {\n",
       "    font-family: Gentium, sans-serif;\n",
       "    font-size: medium;\n",
       "    direction: ltr ! important;\n",
       "    unicode-bidi: embed;\n",
       "}\n",
       "a:hover {\n",
       "    text-decoration: underline | important;\n",
       "    color: #0000ff | important;\n",
       "}\n",
       ".ltr {\n",
       "    direction: ltr ! important;\n",
       "    unicode-bidi: embed;\n",
       "}\n",
       ".rtl {\n",
       "    direction: rtl ! important;\n",
       "    unicode-bidi: embed;\n",
       "}\n",
       ".ubd {\n",
       "    unicode-bidi: embed;\n",
       "}\n",
       ".col {\n",
       "   display: inline-block;\n",
       "}\n",
       ".features {\n",
       "    font-family: monospace;\n",
       "    font-size: medium;\n",
       "    font-weight: bold;\n",
       "    color: var(--features);\n",
       "    display: flex;\n",
       "    flex-flow: column nowrap;\n",
       "    justify-content: flex-start;\n",
       "    align-items: flex-start;\n",
       "    align-content: flex-start;\n",
       "    padding: 2px;\n",
       "    margin: 2px;\n",
       "    direction: ltr;\n",
       "    unicode-bidi: embed;\n",
       "    border: var(--meta-width) solid var(--meta-color);\n",
       "    border-radius: var(--meta-width);\n",
       "}\n",
       ".features div,.features span {\n",
       "    padding: 0;\n",
       "    margin: -2px 0;\n",
       "}\n",
       ".features .f {\n",
       "    font-family: sans-serif;\n",
       "    font-size: small;\n",
       "    font-weight: normal;\n",
       "    color: #5555bb;\n",
       "}\n",
       ".features .xft {\n",
       "  color: #000000;\n",
       "  background-color: #eeeeee;\n",
       "  font-size: medium;\n",
       "  margin: 2px 0px;\n",
       "}\n",
       ".features .xft .f {\n",
       "  color: #000000;\n",
       "  background-color: #eeeeee;\n",
       "  font-size: small;\n",
       "  font-weight: normal;\n",
       "}\n",
       ".tfsechead {\n",
       "    font-family: sans-serif;\n",
       "    font-size: small;\n",
       "    font-weight: bold;\n",
       "    color: var(--tfsechead);\n",
       "    unicode-bidi: embed;\n",
       "    text-align: start;\n",
       "}\n",
       ".structure {\n",
       "    font-family: sans-serif;\n",
       "    font-size: small;\n",
       "    font-weight: bold;\n",
       "    color: var(--structure);\n",
       "    unicode-bidi: embed;\n",
       "    text-align: start;\n",
       "}\n",
       ".comments {\n",
       "    display: flex;\n",
       "    justify-content: flex-start;\n",
       "    align-items: flex-start;\n",
       "    align-content: flex-start;\n",
       "    flex-flow: column nowrap;\n",
       "}\n",
       ".nd, a:link.nd {\n",
       "    font-family: sans-serif;\n",
       "    font-size: small;\n",
       "    color: var(--node);\n",
       "    vertical-align: super;\n",
       "    direction: ltr ! important;\n",
       "    unicode-bidi: embed;\n",
       "}\n",
       ".lex {\n",
       "  color: var(--lex-color);;\n",
       "}\n",
       ".children,.children.ltr {\n",
       "    display: flex;\n",
       "    border: 0;\n",
       "    background-color: #ffffff;\n",
       "    justify-content: flex-start;\n",
       "    align-items: flex-start;\n",
       "    align-content: flex-start;\n",
       "}\n",
       ".children.stretch {\n",
       "    align-items: stretch;\n",
       "}\n",
       ".children.hor {\n",
       "    flex-flow: row nowrap;\n",
       "}\n",
       ".children.hor.wrap {\n",
       "    flex-flow: row wrap;\n",
       "}\n",
       ".children.ver {\n",
       "    flex-flow: column nowrap;\n",
       "}\n",
       ".children.ver.wrap {\n",
       "    flex-flow: column wrap;\n",
       "}\n",
       ".contnr {\n",
       "    width: fit-content;\n",
       "    display: flex;\n",
       "    justify-content: flex-start;\n",
       "    align-items: flex-start;\n",
       "    align-content: flex-start;\n",
       "    flex-flow: column nowrap;\n",
       "    background: #ffffff none repeat scroll 0 0;\n",
       "    padding:  10px 2px 2px 2px;\n",
       "    margin: 16px 2px 2px 2px;\n",
       "    border-style: solid;\n",
       "    font-size: small;\n",
       "}\n",
       ".contnr.trm {\n",
       "    background-attachment: local;\n",
       "}\n",
       ".contnr.cnul {\n",
       "    padding:  0;\n",
       "    margin: 0;\n",
       "    border-style: solid;\n",
       "    font-size: xx-small;\n",
       "}\n",
       ".contnr.cnul,.lbl.cnul {\n",
       "    border-color: var(--border-color-nul);\n",
       "    border-width: var(--border-width-nul);\n",
       "    border-radius: var(--border-width-nul);\n",
       "}\n",
       ".contnr.c0,.lbl.c0 {\n",
       "    border-color: var(--border-color0);\n",
       "    border-width: var(--border-width0);\n",
       "    border-radius: var(--border-width0);\n",
       "}\n",
       ".contnr.c1,.lbl.c1 {\n",
       "    border-color: var(--border-color1);\n",
       "    border-width: var(--border-width1);\n",
       "    border-radius: var(--border-width1);\n",
       "}\n",
       ".contnr.c2,.lbl.c2 {\n",
       "    border-color: var(--border-color2);\n",
       "    border-width: var(--border-width2);\n",
       "    border-radius: var(--border-width2);\n",
       "}\n",
       ".contnr.c3,.lbl.c3 {\n",
       "    border-color: var(--border-color3);\n",
       "    border-width: var(--border-width3);\n",
       "    border-radius: var(--border-width3);\n",
       "}\n",
       ".contnr.c4,.lbl.c4 {\n",
       "    border-color: var(--border-color4);\n",
       "    border-width: var(--border-width4);\n",
       "    border-radius: var(--border-width4);\n",
       "}\n",
       "span.plain {\n",
       "    display: inline-block;\n",
       "    white-space: pre-wrap;\n",
       "}\n",
       ".plain {\n",
       "    background-color: #ffffff;\n",
       "}\n",
       ".plain.l,.contnr.l,.contnr.l>.lbl {\n",
       "    border-left-style: dotted\n",
       "}\n",
       ".plain.r,.contnr.r,.contnr.r>.lbl {\n",
       "    border-right-style: dotted\n",
       "}\n",
       ".plain.lno,.contnr.lno,.contnr.lno>.lbl {\n",
       "    border-left-style: none\n",
       "}\n",
       ".plain.rno,.contnr.rno,.contnr.rno>.lbl {\n",
       "    border-right-style: none\n",
       "}\n",
       ".plain.l {\n",
       "    padding-left: 4px;\n",
       "    margin-left: 2px;\n",
       "    border-width: var(--border-width-plain);\n",
       "}\n",
       ".plain.r {\n",
       "    padding-right: 4px;\n",
       "    margin-right: 2px;\n",
       "    border-width: var(--border-width-plain);\n",
       "}\n",
       ".lbl {\n",
       "    font-family: monospace;\n",
       "    margin-top: -24px;\n",
       "    margin-left: 20px;\n",
       "    background: #ffffff none repeat scroll 0 0;\n",
       "    padding: 0 6px;\n",
       "    border-style: solid;\n",
       "    display: block;\n",
       "    color: var(--label)\n",
       "}\n",
       ".lbl.trm {\n",
       "    background-attachment: local;\n",
       "    margin-top: 2px;\n",
       "    margin-left: 2px;\n",
       "    padding: 2px 2px;\n",
       "    border-style: none;\n",
       "}\n",
       ".lbl.cnul {\n",
       "    font-size: xx-small;\n",
       "}\n",
       ".lbl.c0 {\n",
       "    font-size: small;\n",
       "}\n",
       ".lbl.c1 {\n",
       "    font-size: small;\n",
       "}\n",
       ".lbl.c2 {\n",
       "    font-size: medium;\n",
       "}\n",
       ".lbl.c3 {\n",
       "    font-size: medium;\n",
       "}\n",
       ".lbl.c4 {\n",
       "    font-size: large;\n",
       "}\n",
       ".occs, a:link.occs {\n",
       "    font-size: small;\n",
       "}\n",
       "\n",
       "/* PROVENANCE */\n",
       "\n",
       "div.prov {\n",
       "\tmargin: 40px;\n",
       "\tpadding: 20px;\n",
       "\tborder: 2px solid var(--fog-rim);\n",
       "}\n",
       "div.pline {\n",
       "\tdisplay: flex;\n",
       "\tflex-flow: row nowrap;\n",
       "\tjustify-content: stretch;\n",
       "\talign-items: baseline;\n",
       "}\n",
       "div.p2line {\n",
       "\tmargin-left: 2em;\n",
       "\tdisplay: flex;\n",
       "\tflex-flow: row nowrap;\n",
       "\tjustify-content: stretch;\n",
       "\talign-items: baseline;\n",
       "}\n",
       "div.psline {\n",
       "\tdisplay: flex;\n",
       "\tflex-flow: row nowrap;\n",
       "\tjustify-content: stretch;\n",
       "\talign-items: baseline;\n",
       "\tbackground-color: var(--gold-mist-back);\n",
       "}\n",
       "div.pname {\n",
       "\tflex: 0 0 5rem;\n",
       "\tfont-weight: bold;\n",
       "}\n",
       "div.pval {\n",
       "    flex: 1 1 auto;\n",
       "}\n",
       "\n",
       "/* TF header */\n",
       "\n",
       ".fcorpus {\n",
       "  display: flex;\n",
       "  flex-flow: column nowrap;\n",
       "  justify-content: flex-start;\n",
       "  align-items: flex-start;\n",
       "  align-content: flex-start;\n",
       "}\n",
       ".frow {\n",
       "  display: flex;\n",
       "  flex-flow: row nowrap;\n",
       "  justify-content: flex-start;\n",
       "  align-items: flex-start;\n",
       "  align-content: flex-start;\n",
       "}\n",
       ".fmeta {\n",
       "  display: flex;\n",
       "  flex-flow: column nowrap;\n",
       "  justify-content: flex-start;\n",
       "  align-items: flex-start;\n",
       "  align-content: flex-start;\n",
       "}\n",
       ".fmetarow {\n",
       "  display: flex;\n",
       "  flex-flow: row nowrap;\n",
       "  justify-content: flex-start;\n",
       "  align-items: flex-start;\n",
       "  align-content: flex-start;\n",
       "}\n",
       ".fmetakey {\n",
       "  width: 10rem;\n",
       "  font-family: monospace;\n",
       "}\n",
       ".fnamecat {\n",
       "  width: 10rem;\n",
       "}\n",
       ".fnamecat.edge {\n",
       "  font-weight: bold;\n",
       "  font-style: italic;\n",
       "}\n",
       ".fmono {\n",
       "    font-family: monospace;\n",
       "}\n",
       "\n",
       ":root {\n",
       "\t--node:               hsla(120, 100%,  20%, 1.0  );\n",
       "\t--label:              hsla(  0, 100%,  20%, 1.0  );\n",
       "\t--tfsechead:          hsla(  0, 100%,  25%, 1.0  );\n",
       "\t--structure:          hsla(120, 100%,  25%, 1.0  );\n",
       "\t--features:           hsla(  0,   0%,  30%, 1.0  );\n",
       "  --text-color:         hsla( 60,  80%,  10%, 1.0  );\n",
       "  --lex-color:          hsla(220,  90%,  60%, 1.0  );\n",
       "  --meta-color:         hsla(  0,   0%,  90%, 0.7  );\n",
       "  --meta-width:         3px;\n",
       "  --border-color-nul:   hsla(  0,   0%,  90%, 0.5  );\n",
       "  --border-color0:      hsla(  0,   0%,  90%, 0.9  );\n",
       "  --border-color1:      hsla(  0,   0%,  80%, 0.9  );\n",
       "  --border-color2:      hsla(  0,   0%,  70%, 0.9  );\n",
       "  --border-color3:      hsla(  0,   0%,  80%, 0.8  );\n",
       "  --border-color4:      hsla(  0,   0%,  60%, 0.9  );\n",
       "  --border-width-nul:   2px;\n",
       "  --border-width0:      2px;\n",
       "  --border-width1:      3px;\n",
       "  --border-width2:      4px;\n",
       "  --border-width3:      6px;\n",
       "  --border-width4:      5px;\n",
       "  --border-width-plain: 2px;\n",
       "}\n",
       ".hl {\n",
       "  background-color: var(--hl-strong);\n",
       "}\n",
       "span.hl {\n",
       "\tbackground-color: var(--hl-strong);\n",
       "\tborder-width: 0;\n",
       "\tborder-radius: 2px;\n",
       "\tborder-style: solid;\n",
       "}\n",
       "div.contnr.hl,div.lbl.hl {\n",
       "  background-color: var(--hl-strong);\n",
       "}\n",
       "div.contnr.hl {\n",
       "  border-color: var(--hl-rim) ! important;\n",
       "\tborder-width: 4px ! important;\n",
       "}\n",
       "\n",
       "span.hlbx {\n",
       "\tborder-color: var(--hl-rim);\n",
       "\tborder-width: 4px ! important;\n",
       "\tborder-style: solid;\n",
       "\tborder-radius: 6px;\n",
       "  padding: 4px;\n",
       "  margin: 4px;\n",
       "}\n",
       "\n",
       "span.plain {\n",
       "  display: inline-block;\n",
       "  white-space: pre-wrap;\n",
       "}\n",
       "\n",
       ":root {\n",
       "\t--hl-strong:        hsla( 60, 100%,  70%, 0.9  );\n",
       "\t--hl-rim:           hsla( 55,  80%,  50%, 1.0  );\n",
       "}\n",
       "</style>"
      ],
      "text/plain": [
       "<IPython.core.display.HTML object>"
      ]
     },
     "metadata": {},
     "output_type": "display_data"
    },
    {
     "data": {
      "text/html": [
       "<div><b>Text-Fabric API:</b> names <a target=\"_blank\" href=\"https://annotation.github.io/text-fabric/tf/cheatsheet.html\" title=\"doc\">N F E L T S C TF</a> directly usable</div><hr>"
      ],
      "text/plain": [
       "<IPython.core.display.HTML object>"
      ]
     },
     "metadata": {},
     "output_type": "display_data"
    }
   ],
   "source": [
    "A = use(\"fusus\", hoist=globals())"
   ]
  },
  {
   "cell_type": "markdown",
   "metadata": {
    "tags": []
   },
   "source": [
    "# Show Afifi edition\n",
    "\n",
    "We can show the text as given in the Afifi edition.\n",
    "\n",
    "Let's do it for a single, rather arbitrary sentence."
   ]
  },
  {
   "cell_type": "code",
   "execution_count": 3,
   "metadata": {},
   "outputs": [
    {
     "data": {
      "text/plain": [
       "{'text-afifi-full': 'word',\n",
       " 'text-afifi-nice': 'word',\n",
       " 'text-afifi-plain': 'word',\n",
       " 'text-afifi-trans': 'word',\n",
       " 'text-orig-full': 'word',\n",
       " 'text-orig-nice': 'word',\n",
       " 'text-orig-plain': 'word',\n",
       " 'text-orig-trans': 'word'}"
      ]
     },
     "execution_count": 3,
     "metadata": {},
     "output_type": "execute_result"
    }
   ],
   "source": [
    "T.formats"
   ]
  },
  {
   "cell_type": "code",
   "execution_count": 4,
   "metadata": {},
   "outputs": [
    {
     "data": {
      "text/plain": [
       "50744"
      ]
     },
     "execution_count": 4,
     "metadata": {},
     "output_type": "execute_result"
    }
   ],
   "source": [
    "s = F.otype.s(\"sentence\")[500]\n",
    "s"
   ]
  },
  {
   "cell_type": "code",
   "execution_count": 5,
   "metadata": {},
   "outputs": [
    {
     "data": {
      "text/html": [
       "<div class=\"rtl\"><span class=\"tfsechead rtl\"><span class=\"ltr\"><a target=\"_blank\" href=\"https://among.github.io/fusus/fusus/assets/lakhnawi-with-toc.html#p084\" title=\"show this passage in the the original (html derived from pdf)\" sec=\"8 84:10\">8 84:10</a></span></span>  <span class=\"txtu ara\">وإليه </span><span class=\"txtu ara\">يرجع </span><span class=\"txtu ara\">الأمر </span><span class=\"txtu ara\">كله﴾ </span><span class=\"txtu ara\">فعم </span><span class=\"txtu ara\">ما </span><span class=\"txtu ara\">ذم </span><span class=\"txtu ara\"> </span><span class=\"txtu ara\">وحمد، </span><span class=\"txtu ara\">وما </span><span class=\"txtu ara\">ثم </span><span class=\"txtu ara\">إلا </span><span class=\"txtu ara\">محمود </span><span class=\"txtu ara\">أومذموم. </span></div>"
      ],
      "text/plain": [
       "<IPython.core.display.HTML object>"
      ]
     },
     "metadata": {},
     "output_type": "display_data"
    }
   ],
   "source": [
    "A.plain(s, full=True)"
   ]
  },
  {
   "cell_type": "code",
   "execution_count": 6,
   "metadata": {},
   "outputs": [
    {
     "data": {
      "text/html": [
       "<div class=\"rtl\"><span class=\"tfsechead rtl\"><span class=\"ltr\"><a target=\"_blank\" href=\"https://among.github.io/fusus/fusus/assets/lakhnawi-with-toc.html#p084\" title=\"show this passage in the the original (html derived from pdf)\" sec=\"8 84:10\">8 84:10</a></span></span>  <span class=\"txtu ara\">wālyh </span><span class=\"txtu ara\">yrǧʿ </span><span class=\"txtu ara\">ālāmr </span><span class=\"txtu ara\">klh﴾ </span><span class=\"txtu ara\">fʿm </span><span class=\"txtu ara\">mā </span><span class=\"txtu ara\">ḏm </span><span class=\"txtu ara\"> </span><span class=\"txtu ara\">wḥmd, </span><span class=\"txtu ara\">wmā </span><span class=\"txtu ara\">ṯm </span><span class=\"txtu ara\">ālā </span><span class=\"txtu ara\">mḥmwd </span><span class=\"txtu ara\">āwmḏmwm. </span></div>"
      ],
      "text/plain": [
       "<IPython.core.display.HTML object>"
      ]
     },
     "metadata": {},
     "output_type": "display_data"
    }
   ],
   "source": [
    "A.plain(s, full=True, fmt=\"text-orig-nice\")"
   ]
  },
  {
   "cell_type": "code",
   "execution_count": 7,
   "metadata": {},
   "outputs": [
    {
     "data": {
      "text/html": [
       "<div class=\"ltr\"><span class=\"tfsechead ltr\"><span class=\"ltr\"><a target=\"_blank\" href=\"https://among.github.io/fusus/fusus/assets/lakhnawi-with-toc.html#p084\" title=\"show this passage in the the original (html derived from pdf)\" sec=\"8 84:10\">8 84:10</a></span></span>  <span class=\"txtn\">wālyh </span><span class=\"txtn\">yrǧʿ </span><span class=\"txtn\">ālāmr </span><span class=\"txtn\">klh» </span><span class=\"txtn\">fʿm </span><span class=\"txtn\">mā </span><span class=\"txtn\">ḏ </span><span class=\"txtn\">m </span><span class=\"txtn\">wḥmd </span><span class=\"txtn\">wmā </span><span class=\"txtn\">ṯm </span><span class=\"txtn\">ālā </span><span class=\"txtn\">mḥmwd </span><span class=\"txtn\">wmḏmwm </span></div>"
      ],
      "text/plain": [
       "<IPython.core.display.HTML object>"
      ]
     },
     "metadata": {},
     "output_type": "display_data"
    }
   ],
   "source": [
    "A.plain(s, full=True, fmt=\"text-afifi-nice\")"
   ]
  },
  {
   "cell_type": "code",
   "execution_count": 8,
   "metadata": {},
   "outputs": [],
   "source": [
    "query = \"\"\"\n",
    "w1:word\n",
    "= w2:word\n",
    "\n",
    "w1 .letters#letters_af. w2\n",
    "\"\"\""
   ]
  },
  {
   "cell_type": "code",
   "execution_count": 9,
   "metadata": {},
   "outputs": [
    {
     "name": "stdout",
     "output_type": "stream",
     "text": [
      "  0.10s 5035 results\n"
     ]
    }
   ],
   "source": [
    "results = A.search(query)"
   ]
  },
  {
   "cell_type": "code",
   "execution_count": 10,
   "metadata": {},
   "outputs": [
    {
     "data": {
      "text/html": [
       "<p><b>result</b> <i>8</i></p>"
      ],
      "text/plain": [
       "<IPython.core.display.HTML object>"
      ]
     },
     "metadata": {},
     "output_type": "display_data"
    },
    {
     "data": {
      "text/html": [
       "<div class=\"tfsechead rtl\"><span class=\"ltr\"><a target=\"_blank\" href=\"https://among.github.io/fusus/fusus/assets/lakhnawi-with-toc.html#p009\" title=\"show this passage in the the original (html derived from pdf)\" sec=\"3 9:5\">3 9:5</a></span></div><div class=\"rtl children\"><div class=\"contnr c3  rtl  \" ><div class=\"lbl c3  \" ><span class=\"nd\">line</span></div><div class=\"children hor wrap rtl\"><div class=\"contnr c1  rtl  \" ><div class=\"lbl c1  \" ><span class=\"nd\">column</span></div><div class=\"children hor wrap rtl\"><div class=\"contnr c1  rtl  \" ><div class=\"lbl c1  \" ><span class=\"nd\">span</span></div><div class=\"children hor wrap rtl\"><div class=\"contnr c0 trm rtl  \" ><div class=\"lbl c0 trm \" ><span class=\"txtu ara\">في </span></div><div class='features'><span class=\"letters xft\" ><span class=\"f\">letters=</span>في</span><span class=\"letters_af xft\" ><span class=\"f\">letters_af=</span>في</span></div></div><div class=\"contnr c0 trm rtl  \" ><div class=\"lbl c0 trm \" ><span class=\"txtu ara\">العشر </span></div><div class='features'><span class=\"letters xft\" ><span class=\"f\">letters=</span>العشر</span><span class=\"letters_af xft\" ><span class=\"f\">letters_af=</span>العشر</span></div></div><div class=\"contnr c0 trm rtl  hl\" ><div class=\"lbl c0 trm hl\" ><span class=\"txtu ara\">الأخر </span></div><div class='features'><span class=\"letters xft\" ><span class=\"f\">letters=</span>الأخر</span><span class=\"letters_af xft\" ><span class=\"f\">letters_af=</span>الآخر</span></div></div><div class=\"contnr c0 trm rtl  \" ><div class=\"lbl c0 trm \" ><span class=\"txtu ara\">من </span></div><div class='features'><span class=\"letters xft\" ><span class=\"f\">letters=</span>من</span><span class=\"letters_af xft\" ><span class=\"f\">letters_af=</span>من</span></div></div><div class=\"contnr c0 trm rtl  \" ><div class=\"lbl c0 trm \" ><span class=\"txtu ara\">المحرم </span></div><div class='features'><span class=\"letters xft\" ><span class=\"f\">letters=</span>المحرم</span><span class=\"letters_af xft\" ><span class=\"f\">letters_af=</span>محرم</span></div></div><div class=\"contnr c0 trm rtl  \" ><div class=\"lbl c0 trm \" ><span class=\"txtu ara\">سنة </span></div><div class='features'><span class=\"letters xft\" ><span class=\"f\">letters=</span>سنة</span><span class=\"letters_af xft\" ><span class=\"f\">letters_af=</span>سنة</span></div></div><div class=\"contnr c0 trm rtl  \" ><div class=\"lbl c0 trm \" ><span class=\"txtu ara\">سبع </span></div><div class='features'><span class=\"letters xft\" ><span class=\"f\">letters=</span>سبع</span><span class=\"letters_af xft\" ><span class=\"f\">letters_af=</span>سبع</span></div></div><div class=\"contnr c0 trm rtl  \" ><div class=\"lbl c0 trm \" ><span class=\"txtu ara\">وعشرين </span></div><div class='features'><span class=\"letters xft\" ><span class=\"f\">letters=</span>وعشرين</span><span class=\"letters_af xft\" ><span class=\"f\">letters_af=</span>وعشرون</span></div></div><div class=\"contnr c0 trm rtl  \" ><div class=\"lbl c0 trm \" ><span class=\"txtu ara\">وستمائة </span></div><div class='features'><span class=\"letters xft\" ><span class=\"f\">letters=</span>وستمائة</span><span class=\"letters_af xft\" ><span class=\"f\">letters_af=</span>وستمائة</span></div></div></div></div></div></div></div></div></div>"
      ],
      "text/plain": [
       "<IPython.core.display.HTML object>"
      ]
     },
     "metadata": {},
     "output_type": "display_data"
    }
   ],
   "source": [
    "A.show(results, start=8, end=8)"
   ]
  },
  {
   "cell_type": "code",
   "execution_count": 3,
   "metadata": {},
   "outputs": [
    {
     "data": {
      "text/plain": [
       "('piece', 'page', 'sentence', 'line', 'column', 'span', 'word')"
      ]
     },
     "execution_count": 3,
     "metadata": {},
     "output_type": "execute_result"
    }
   ],
   "source": [
    "F.otype.all"
   ]
  },
  {
   "cell_type": "code",
   "execution_count": 4,
   "metadata": {},
   "outputs": [
    {
     "data": {
      "text/plain": [
       "40983"
      ]
     },
     "execution_count": 4,
     "metadata": {},
     "output_type": "execute_result"
    }
   ],
   "source": [
    "F.otype.maxSlot"
   ]
  },
  {
   "cell_type": "markdown",
   "metadata": {},
   "source": [
    "Show the pieces"
   ]
  },
  {
   "cell_type": "code",
   "execution_count": 5,
   "metadata": {},
   "outputs": [
    {
     "name": "stdout",
     "output_type": "stream",
     "text": [
      "  0.00s 29 results\n"
     ]
    },
    {
     "data": {
      "text/html": [
       "<p><b>result</b> <i>1</i></p>"
      ],
      "text/plain": [
       "<IPython.core.display.HTML object>"
      ]
     },
     "metadata": {},
     "output_type": "display_data"
    },
    {
     "data": {
      "text/html": [
       "<div class=\"tfsechead rtl\"><span class=\"ltr\"><a target=\"_blank\" href=\"https://among.github.io/fusus/fusus/assets/lakhnawi-with-toc.html#p000\" title=\"show this passage in the the original (html derived from pdf)\" sec=\"1\">1</a></span></div><div class=\"rtl children\"><div class=\"contnr c4 trm rtl  \" ><div class=\"lbl c4 trm \" ><span class=\"nd\">piece</span> <span class=\"txtu ara\"><span class=\"tfsechead rtl\"><span class=\"ltr\">1</span></span></span></div><div class='features'><span class=\"n xft\" ><span class=\"f\">n=</span>1</span><span class=\"title xft\" ><span class=\"f\">title=</span>front</span></div></div></div>"
      ],
      "text/plain": [
       "<IPython.core.display.HTML object>"
      ]
     },
     "metadata": {},
     "output_type": "display_data"
    },
    {
     "data": {
      "text/html": [
       "<p><b>result</b> <i>2</i></p>"
      ],
      "text/plain": [
       "<IPython.core.display.HTML object>"
      ]
     },
     "metadata": {},
     "output_type": "display_data"
    },
    {
     "data": {
      "text/html": [
       "<div class=\"tfsechead rtl\"><span class=\"ltr\"><a target=\"_blank\" href=\"https://among.github.io/fusus/fusus/assets/lakhnawi-with-toc.html#p008\" title=\"show this passage in the the original (html derived from pdf)\" sec=\"3\">3</a></span></div><div class=\"rtl children\"><div class=\"contnr c4 trm rtl  \" ><div class=\"lbl c4 trm \" ><span class=\"nd\">piece</span> <span class=\"txtu ara\"><span class=\"tfsechead rtl\"><span class=\"ltr\">3</span></span></span></div><div class='features'><span class=\"n xft\" ><span class=\"f\">n=</span>3</span><span class=\"title xft\" ><span class=\"f\">title=</span>خطبة كتاب فصوص الحكم وخصوص الكلم</span></div></div></div>"
      ],
      "text/plain": [
       "<IPython.core.display.HTML object>"
      ]
     },
     "metadata": {},
     "output_type": "display_data"
    },
    {
     "data": {
      "text/html": [
       "<p><b>result</b> <i>3</i></p>"
      ],
      "text/plain": [
       "<IPython.core.display.HTML object>"
      ]
     },
     "metadata": {},
     "output_type": "display_data"
    },
    {
     "data": {
      "text/html": [
       "<div class=\"tfsechead rtl\"><span class=\"ltr\"><a target=\"_blank\" href=\"https://among.github.io/fusus/fusus/assets/lakhnawi-with-toc.html#p014\" title=\"show this passage in the the original (html derived from pdf)\" sec=\"4\">4</a></span></div><div class=\"rtl children\"><div class=\"contnr c4 trm rtl  \" ><div class=\"lbl c4 trm \" ><span class=\"nd\">piece</span> <span class=\"txtu ara\"><span class=\"tfsechead rtl\"><span class=\"ltr\">4</span></span></span></div><div class='features'><span class=\"n xft\" ><span class=\"f\">n=</span>4</span><span class=\"np xft\" ><span class=\"f\">np=</span>1</span><span class=\"title xft\" ><span class=\"f\">title=</span>فصّ حكمة إلٰهيّة في كلمة آدميّة.</span></div></div></div>"
      ],
      "text/plain": [
       "<IPython.core.display.HTML object>"
      ]
     },
     "metadata": {},
     "output_type": "display_data"
    },
    {
     "data": {
      "text/html": [
       "<p><b>result</b> <i>4</i></p>"
      ],
      "text/plain": [
       "<IPython.core.display.HTML object>"
      ]
     },
     "metadata": {},
     "output_type": "display_data"
    },
    {
     "data": {
      "text/html": [
       "<div class=\"tfsechead rtl\"><span class=\"ltr\"><a target=\"_blank\" href=\"https://among.github.io/fusus/fusus/assets/lakhnawi-with-toc.html#p032\" title=\"show this passage in the the original (html derived from pdf)\" sec=\"5\">5</a></span></div><div class=\"rtl children\"><div class=\"contnr c4 trm rtl  \" ><div class=\"lbl c4 trm \" ><span class=\"nd\">piece</span> <span class=\"txtu ara\"><span class=\"tfsechead rtl\"><span class=\"ltr\">5</span></span></span></div><div class='features'><span class=\"n xft\" ><span class=\"f\">n=</span>5</span><span class=\"np xft\" ><span class=\"f\">np=</span>2</span><span class=\"title xft\" ><span class=\"f\">title=</span>فصّ حكمة نَفْثِيَّة في كلمة شِـيثِيّة</span></div></div></div>"
      ],
      "text/plain": [
       "<IPython.core.display.HTML object>"
      ]
     },
     "metadata": {},
     "output_type": "display_data"
    },
    {
     "data": {
      "text/html": [
       "<p><b>result</b> <i>5</i></p>"
      ],
      "text/plain": [
       "<IPython.core.display.HTML object>"
      ]
     },
     "metadata": {},
     "output_type": "display_data"
    },
    {
     "data": {
      "text/html": [
       "<div class=\"tfsechead rtl\"><span class=\"ltr\"><a target=\"_blank\" href=\"https://among.github.io/fusus/fusus/assets/lakhnawi-with-toc.html#p052\" title=\"show this passage in the the original (html derived from pdf)\" sec=\"6\">6</a></span></div><div class=\"rtl children\"><div class=\"contnr c4 trm rtl  \" ><div class=\"lbl c4 trm \" ><span class=\"nd\">piece</span> <span class=\"txtu ara\"><span class=\"tfsechead rtl\"><span class=\"ltr\">6</span></span></span></div><div class='features'><span class=\"n xft\" ><span class=\"f\">n=</span>6</span><span class=\"np xft\" ><span class=\"f\">np=</span>3</span><span class=\"title xft\" ><span class=\"f\">title=</span>فصّ حكمة سُـبُّوحِيّة في كلمة نوحيّة</span></div></div></div>"
      ],
      "text/plain": [
       "<IPython.core.display.HTML object>"
      ]
     },
     "metadata": {},
     "output_type": "display_data"
    },
    {
     "data": {
      "text/html": [
       "<p><b>result</b> <i>6</i></p>"
      ],
      "text/plain": [
       "<IPython.core.display.HTML object>"
      ]
     },
     "metadata": {},
     "output_type": "display_data"
    },
    {
     "data": {
      "text/html": [
       "<div class=\"tfsechead rtl\"><span class=\"ltr\"><a target=\"_blank\" href=\"https://among.github.io/fusus/fusus/assets/lakhnawi-with-toc.html#p071\" title=\"show this passage in the the original (html derived from pdf)\" sec=\"7\">7</a></span></div><div class=\"rtl children\"><div class=\"contnr c4 trm rtl  \" ><div class=\"lbl c4 trm \" ><span class=\"nd\">piece</span> <span class=\"txtu ara\"><span class=\"tfsechead rtl\"><span class=\"ltr\">7</span></span></span></div><div class='features'><span class=\"n xft\" ><span class=\"f\">n=</span>7</span><span class=\"np xft\" ><span class=\"f\">np=</span>4</span><span class=\"title xft\" ><span class=\"f\">title=</span>فصّ حكمة قُدُّوسِيّة في كلمة إدريسيّة</span></div></div></div>"
      ],
      "text/plain": [
       "<IPython.core.display.HTML object>"
      ]
     },
     "metadata": {},
     "output_type": "display_data"
    },
    {
     "data": {
      "text/html": [
       "<p><b>result</b> <i>7</i></p>"
      ],
      "text/plain": [
       "<IPython.core.display.HTML object>"
      ]
     },
     "metadata": {},
     "output_type": "display_data"
    },
    {
     "data": {
      "text/html": [
       "<div class=\"tfsechead rtl\"><span class=\"ltr\"><a target=\"_blank\" href=\"https://among.github.io/fusus/fusus/assets/lakhnawi-with-toc.html#p084\" title=\"show this passage in the the original (html derived from pdf)\" sec=\"8\">8</a></span></div><div class=\"rtl children\"><div class=\"contnr c4 trm rtl  \" ><div class=\"lbl c4 trm \" ><span class=\"nd\">piece</span> <span class=\"txtu ara\"><span class=\"tfsechead rtl\"><span class=\"ltr\">8</span></span></span></div><div class='features'><span class=\"n xft\" ><span class=\"f\">n=</span>8</span><span class=\"np xft\" ><span class=\"f\">np=</span>5</span><span class=\"title xft\" ><span class=\"f\">title=</span>فصّ حكمة مُهَيْمِيّة في كلمة إبـراهيميّة</span></div></div></div>"
      ],
      "text/plain": [
       "<IPython.core.display.HTML object>"
      ]
     },
     "metadata": {},
     "output_type": "display_data"
    },
    {
     "data": {
      "text/html": [
       "<p><b>result</b> <i>8</i></p>"
      ],
      "text/plain": [
       "<IPython.core.display.HTML object>"
      ]
     },
     "metadata": {},
     "output_type": "display_data"
    },
    {
     "data": {
      "text/html": [
       "<div class=\"tfsechead rtl\"><span class=\"ltr\"><a target=\"_blank\" href=\"https://among.github.io/fusus/fusus/assets/lakhnawi-with-toc.html#p095\" title=\"show this passage in the the original (html derived from pdf)\" sec=\"9\">9</a></span></div><div class=\"rtl children\"><div class=\"contnr c4 trm rtl  \" ><div class=\"lbl c4 trm \" ><span class=\"nd\">piece</span> <span class=\"txtu ara\"><span class=\"tfsechead rtl\"><span class=\"ltr\">9</span></span></span></div><div class='features'><span class=\"n xft\" ><span class=\"f\">n=</span>9</span><span class=\"np xft\" ><span class=\"f\">np=</span>6</span><span class=\"title xft\" ><span class=\"f\">title=</span>فصّ حكمة حَقِـيّة في كلمة إسحاقـيّة</span></div></div></div>"
      ],
      "text/plain": [
       "<IPython.core.display.HTML object>"
      ]
     },
     "metadata": {},
     "output_type": "display_data"
    },
    {
     "data": {
      "text/html": [
       "<p><b>result</b> <i>9</i></p>"
      ],
      "text/plain": [
       "<IPython.core.display.HTML object>"
      ]
     },
     "metadata": {},
     "output_type": "display_data"
    },
    {
     "data": {
      "text/html": [
       "<div class=\"tfsechead rtl\"><span class=\"ltr\"><a target=\"_blank\" href=\"https://among.github.io/fusus/fusus/assets/lakhnawi-with-toc.html#p111\" title=\"show this passage in the the original (html derived from pdf)\" sec=\"10\">10</a></span></div><div class=\"rtl children\"><div class=\"contnr c4 trm rtl  \" ><div class=\"lbl c4 trm \" ><span class=\"nd\">piece</span> <span class=\"txtu ara\"><span class=\"tfsechead rtl\"><span class=\"ltr\">10</span></span></span></div><div class='features'><span class=\"n xft\" ><span class=\"f\">n=</span>10</span><span class=\"np xft\" ><span class=\"f\">np=</span>7</span><span class=\"title xft\" ><span class=\"f\">title=</span>فصّ حكمة عَلِيَّة في كلمة إسماعيلـيّة</span></div></div></div>"
      ],
      "text/plain": [
       "<IPython.core.display.HTML object>"
      ]
     },
     "metadata": {},
     "output_type": "display_data"
    },
    {
     "data": {
      "text/html": [
       "<p><b>result</b> <i>10</i></p>"
      ],
      "text/plain": [
       "<IPython.core.display.HTML object>"
      ]
     },
     "metadata": {},
     "output_type": "display_data"
    },
    {
     "data": {
      "text/html": [
       "<div class=\"tfsechead rtl\"><span class=\"ltr\"><a target=\"_blank\" href=\"https://among.github.io/fusus/fusus/assets/lakhnawi-with-toc.html#p121\" title=\"show this passage in the the original (html derived from pdf)\" sec=\"11\">11</a></span></div><div class=\"rtl children\"><div class=\"contnr c4 trm rtl  \" ><div class=\"lbl c4 trm \" ><span class=\"nd\">piece</span> <span class=\"txtu ara\"><span class=\"tfsechead rtl\"><span class=\"ltr\">11</span></span></span></div><div class='features'><span class=\"n xft\" ><span class=\"f\">n=</span>11</span><span class=\"np xft\" ><span class=\"f\">np=</span>8</span><span class=\"title xft\" ><span class=\"f\">title=</span>فصّ حكمة رُوحيّة في كلمة يعقوبـيّة</span></div></div></div>"
      ],
      "text/plain": [
       "<IPython.core.display.HTML object>"
      ]
     },
     "metadata": {},
     "output_type": "display_data"
    },
    {
     "data": {
      "text/html": [
       "<p><b>result</b> <i>11</i></p>"
      ],
      "text/plain": [
       "<IPython.core.display.HTML object>"
      ]
     },
     "metadata": {},
     "output_type": "display_data"
    },
    {
     "data": {
      "text/html": [
       "<div class=\"tfsechead rtl\"><span class=\"ltr\"><a target=\"_blank\" href=\"https://among.github.io/fusus/fusus/assets/lakhnawi-with-toc.html#p147\" title=\"show this passage in the the original (html derived from pdf)\" sec=\"13\">13</a></span></div><div class=\"rtl children\"><div class=\"contnr c4 trm rtl  \" ><div class=\"lbl c4 trm \" ><span class=\"nd\">piece</span> <span class=\"txtu ara\"><span class=\"tfsechead rtl\"><span class=\"ltr\">13</span></span></span></div><div class='features'><span class=\"n xft\" ><span class=\"f\">n=</span>13</span><span class=\"np xft\" ><span class=\"f\">np=</span>10</span><span class=\"title xft\" ><span class=\"f\">title=</span>  فصّ حكمة أحديّة في كلمة هوديّة</span></div></div></div>"
      ],
      "text/plain": [
       "<IPython.core.display.HTML object>"
      ]
     },
     "metadata": {},
     "output_type": "display_data"
    },
    {
     "data": {
      "text/html": [
       "<p><b>result</b> <i>12</i></p>"
      ],
      "text/plain": [
       "<IPython.core.display.HTML object>"
      ]
     },
     "metadata": {},
     "output_type": "display_data"
    },
    {
     "data": {
      "text/html": [
       "<div class=\"tfsechead rtl\"><span class=\"ltr\"><a target=\"_blank\" href=\"https://among.github.io/fusus/fusus/assets/lakhnawi-with-toc.html#p166\" title=\"show this passage in the the original (html derived from pdf)\" sec=\"14\">14</a></span></div><div class=\"rtl children\"><div class=\"contnr c4 trm rtl  \" ><div class=\"lbl c4 trm \" ><span class=\"nd\">piece</span> <span class=\"txtu ara\"><span class=\"tfsechead rtl\"><span class=\"ltr\">14</span></span></span></div><div class='features'><span class=\"n xft\" ><span class=\"f\">n=</span>14</span><span class=\"np xft\" ><span class=\"f\">np=</span>11</span><span class=\"title xft\" ><span class=\"f\">title=</span>  فصّ حكمة فاتحيّة في كلمة صالحيّة</span></div></div></div>"
      ],
      "text/plain": [
       "<IPython.core.display.HTML object>"
      ]
     },
     "metadata": {},
     "output_type": "display_data"
    },
    {
     "data": {
      "text/html": [
       "<p><b>result</b> <i>13</i></p>"
      ],
      "text/plain": [
       "<IPython.core.display.HTML object>"
      ]
     },
     "metadata": {},
     "output_type": "display_data"
    },
    {
     "data": {
      "text/html": [
       "<div class=\"tfsechead rtl\"><span class=\"ltr\"><a target=\"_blank\" href=\"https://among.github.io/fusus/fusus/assets/lakhnawi-with-toc.html#p173\" title=\"show this passage in the the original (html derived from pdf)\" sec=\"15\">15</a></span></div><div class=\"rtl children\"><div class=\"contnr c4 trm rtl  \" ><div class=\"lbl c4 trm \" ><span class=\"nd\">piece</span> <span class=\"txtu ara\"><span class=\"tfsechead rtl\"><span class=\"ltr\">15</span></span></span></div><div class='features'><span class=\"n xft\" ><span class=\"f\">n=</span>15</span><span class=\"np xft\" ><span class=\"f\">np=</span>12</span><span class=\"title xft\" ><span class=\"f\">title=</span>  فصّ حكمة قـلبـيّة في كلمة شعيبيّة</span></div></div></div>"
      ],
      "text/plain": [
       "<IPython.core.display.HTML object>"
      ]
     },
     "metadata": {},
     "output_type": "display_data"
    },
    {
     "data": {
      "text/html": [
       "<p><b>result</b> <i>14</i></p>"
      ],
      "text/plain": [
       "<IPython.core.display.HTML object>"
      ]
     },
     "metadata": {},
     "output_type": "display_data"
    },
    {
     "data": {
      "text/html": [
       "<div class=\"tfsechead rtl\"><span class=\"ltr\"><a target=\"_blank\" href=\"https://among.github.io/fusus/fusus/assets/lakhnawi-with-toc.html#p189\" title=\"show this passage in the the original (html derived from pdf)\" sec=\"16\">16</a></span></div><div class=\"rtl children\"><div class=\"contnr c4 trm rtl  \" ><div class=\"lbl c4 trm \" ><span class=\"nd\">piece</span> <span class=\"txtu ara\"><span class=\"tfsechead rtl\"><span class=\"ltr\">16</span></span></span></div><div class='features'><span class=\"n xft\" ><span class=\"f\">n=</span>16</span><span class=\"np xft\" ><span class=\"f\">np=</span>13</span><span class=\"title xft\" ><span class=\"f\">title=</span>  فصّ حكمة مَلَـكِيّة في كلمة لوطيّة</span></div></div></div>"
      ],
      "text/plain": [
       "<IPython.core.display.HTML object>"
      ]
     },
     "metadata": {},
     "output_type": "display_data"
    },
    {
     "data": {
      "text/html": [
       "<p><b>result</b> <i>15</i></p>"
      ],
      "text/plain": [
       "<IPython.core.display.HTML object>"
      ]
     },
     "metadata": {},
     "output_type": "display_data"
    },
    {
     "data": {
      "text/html": [
       "<div class=\"tfsechead rtl\"><span class=\"ltr\"><a target=\"_blank\" href=\"https://among.github.io/fusus/fusus/assets/lakhnawi-with-toc.html#p198\" title=\"show this passage in the the original (html derived from pdf)\" sec=\"17\">17</a></span></div><div class=\"rtl children\"><div class=\"contnr c4 trm rtl  \" ><div class=\"lbl c4 trm \" ><span class=\"nd\">piece</span> <span class=\"txtu ara\"><span class=\"tfsechead rtl\"><span class=\"ltr\">17</span></span></span></div><div class='features'><span class=\"n xft\" ><span class=\"f\">n=</span>17</span><span class=\"np xft\" ><span class=\"f\">np=</span>14</span><span class=\"title xft\" ><span class=\"f\">title=</span>  فصّ حكمة قَدَرِيّة في كلمة عُـزيريّة</span></div></div></div>"
      ],
      "text/plain": [
       "<IPython.core.display.HTML object>"
      ]
     },
     "metadata": {},
     "output_type": "display_data"
    },
    {
     "data": {
      "text/html": [
       "<p><b>result</b> <i>16</i></p>"
      ],
      "text/plain": [
       "<IPython.core.display.HTML object>"
      ]
     },
     "metadata": {},
     "output_type": "display_data"
    },
    {
     "data": {
      "text/html": [
       "<div class=\"tfsechead rtl\"><span class=\"ltr\"><a target=\"_blank\" href=\"https://among.github.io/fusus/fusus/assets/lakhnawi-with-toc.html#p211\" title=\"show this passage in the the original (html derived from pdf)\" sec=\"18\">18</a></span></div><div class=\"rtl children\"><div class=\"contnr c4 trm rtl  \" ><div class=\"lbl c4 trm \" ><span class=\"nd\">piece</span> <span class=\"txtu ara\"><span class=\"tfsechead rtl\"><span class=\"ltr\">18</span></span></span></div><div class='features'><span class=\"n xft\" ><span class=\"f\">n=</span>18</span><span class=\"np xft\" ><span class=\"f\">np=</span>15</span><span class=\"title xft\" ><span class=\"f\">title=</span>  فصّ حكمة نبويّة في كلمة عيسويّة</span></div></div></div>"
      ],
      "text/plain": [
       "<IPython.core.display.HTML object>"
      ]
     },
     "metadata": {},
     "output_type": "display_data"
    },
    {
     "data": {
      "text/html": [
       "<p><b>result</b> <i>17</i></p>"
      ],
      "text/plain": [
       "<IPython.core.display.HTML object>"
      ]
     },
     "metadata": {},
     "output_type": "display_data"
    },
    {
     "data": {
      "text/html": [
       "<div class=\"tfsechead rtl\"><span class=\"ltr\"><a target=\"_blank\" href=\"https://among.github.io/fusus/fusus/assets/lakhnawi-with-toc.html#p242\" title=\"show this passage in the the original (html derived from pdf)\" sec=\"19\">19</a></span></div><div class=\"rtl children\"><div class=\"contnr c4 trm rtl  \" ><div class=\"lbl c4 trm \" ><span class=\"nd\">piece</span> <span class=\"txtu ara\"><span class=\"tfsechead rtl\"><span class=\"ltr\">19</span></span></span></div><div class='features'><span class=\"n xft\" ><span class=\"f\">n=</span>19</span><span class=\"np xft\" ><span class=\"f\">np=</span>16</span><span class=\"title xft\" ><span class=\"f\">title=</span>  فصّ حكمة رحمانيّة في كلمة سليمانيّة</span></div></div></div>"
      ],
      "text/plain": [
       "<IPython.core.display.HTML object>"
      ]
     },
     "metadata": {},
     "output_type": "display_data"
    },
    {
     "data": {
      "text/html": [
       "<p><b>result</b> <i>18</i></p>"
      ],
      "text/plain": [
       "<IPython.core.display.HTML object>"
      ]
     },
     "metadata": {},
     "output_type": "display_data"
    },
    {
     "data": {
      "text/html": [
       "<div class=\"tfsechead rtl\"><span class=\"ltr\"><a target=\"_blank\" href=\"https://among.github.io/fusus/fusus/assets/lakhnawi-with-toc.html#p262\" title=\"show this passage in the the original (html derived from pdf)\" sec=\"20\">20</a></span></div><div class=\"rtl children\"><div class=\"contnr c4 trm rtl  \" ><div class=\"lbl c4 trm \" ><span class=\"nd\">piece</span> <span class=\"txtu ara\"><span class=\"tfsechead rtl\"><span class=\"ltr\">20</span></span></span></div><div class='features'><span class=\"n xft\" ><span class=\"f\">n=</span>20</span><span class=\"np xft\" ><span class=\"f\">np=</span>17</span><span class=\"title xft\" ><span class=\"f\">title=</span>  فصّ حكمة وجوديّة في كلمة داوديّة</span></div></div></div>"
      ],
      "text/plain": [
       "<IPython.core.display.HTML object>"
      ]
     },
     "metadata": {},
     "output_type": "display_data"
    },
    {
     "data": {
      "text/html": [
       "<p><b>result</b> <i>19</i></p>"
      ],
      "text/plain": [
       "<IPython.core.display.HTML object>"
      ]
     },
     "metadata": {},
     "output_type": "display_data"
    },
    {
     "data": {
      "text/html": [
       "<div class=\"tfsechead rtl\"><span class=\"ltr\"><a target=\"_blank\" href=\"https://among.github.io/fusus/fusus/assets/lakhnawi-with-toc.html#p278\" title=\"show this passage in the the original (html derived from pdf)\" sec=\"21\">21</a></span></div><div class=\"rtl children\"><div class=\"contnr c4 trm rtl  \" ><div class=\"lbl c4 trm \" ><span class=\"nd\">piece</span> <span class=\"txtu ara\"><span class=\"tfsechead rtl\"><span class=\"ltr\">21</span></span></span></div><div class='features'><span class=\"n xft\" ><span class=\"f\">n=</span>21</span><span class=\"np xft\" ><span class=\"f\">np=</span>18</span><span class=\"title xft\" ><span class=\"f\">title=</span>  فصّ حكمة نَفْسِيّة في كلمة يونسيّة</span></div></div></div>"
      ],
      "text/plain": [
       "<IPython.core.display.HTML object>"
      ]
     },
     "metadata": {},
     "output_type": "display_data"
    },
    {
     "data": {
      "text/html": [
       "<p><b>result</b> <i>20</i></p>"
      ],
      "text/plain": [
       "<IPython.core.display.HTML object>"
      ]
     },
     "metadata": {},
     "output_type": "display_data"
    },
    {
     "data": {
      "text/html": [
       "<div class=\"tfsechead rtl\"><span class=\"ltr\"><a target=\"_blank\" href=\"https://among.github.io/fusus/fusus/assets/lakhnawi-with-toc.html#p287\" title=\"show this passage in the the original (html derived from pdf)\" sec=\"22\">22</a></span></div><div class=\"rtl children\"><div class=\"contnr c4 trm rtl  \" ><div class=\"lbl c4 trm \" ><span class=\"nd\">piece</span> <span class=\"txtu ara\"><span class=\"tfsechead rtl\"><span class=\"ltr\">22</span></span></span></div><div class='features'><span class=\"n xft\" ><span class=\"f\">n=</span>22</span><span class=\"np xft\" ><span class=\"f\">np=</span>19</span><span class=\"title xft\" ><span class=\"f\">title=</span>  فصّ حكمة غيبيّة في كلمة أيّوبيّة</span></div></div></div>"
      ],
      "text/plain": [
       "<IPython.core.display.HTML object>"
      ]
     },
     "metadata": {},
     "output_type": "display_data"
    },
    {
     "data": {
      "text/html": [
       "<p><b>result</b> <i>21</i></p>"
      ],
      "text/plain": [
       "<IPython.core.display.HTML object>"
      ]
     },
     "metadata": {},
     "output_type": "display_data"
    },
    {
     "data": {
      "text/html": [
       "<div class=\"tfsechead rtl\"><span class=\"ltr\"><a target=\"_blank\" href=\"https://among.github.io/fusus/fusus/assets/lakhnawi-with-toc.html#p296\" title=\"show this passage in the the original (html derived from pdf)\" sec=\"23\">23</a></span></div><div class=\"rtl children\"><div class=\"contnr c4 trm rtl  \" ><div class=\"lbl c4 trm \" ><span class=\"nd\">piece</span> <span class=\"txtu ara\"><span class=\"tfsechead rtl\"><span class=\"ltr\">23</span></span></span></div><div class='features'><span class=\"n xft\" ><span class=\"f\">n=</span>23</span><span class=\"np xft\" ><span class=\"f\">np=</span>20</span><span class=\"title xft\" ><span class=\"f\">title=</span>  فصّ حكمة جلاليّة في كلمة يَحْـيَوِيَّة</span></div></div></div>"
      ],
      "text/plain": [
       "<IPython.core.display.HTML object>"
      ]
     },
     "metadata": {},
     "output_type": "display_data"
    },
    {
     "data": {
      "text/html": [
       "<p><b>result</b> <i>22</i></p>"
      ],
      "text/plain": [
       "<IPython.core.display.HTML object>"
      ]
     },
     "metadata": {},
     "output_type": "display_data"
    },
    {
     "data": {
      "text/html": [
       "<div class=\"tfsechead rtl\"><span class=\"ltr\"><a target=\"_blank\" href=\"https://among.github.io/fusus/fusus/assets/lakhnawi-with-toc.html#p301\" title=\"show this passage in the the original (html derived from pdf)\" sec=\"24\">24</a></span></div><div class=\"rtl children\"><div class=\"contnr c4 trm rtl  \" ><div class=\"lbl c4 trm \" ><span class=\"nd\">piece</span> <span class=\"txtu ara\"><span class=\"tfsechead rtl\"><span class=\"ltr\">24</span></span></span></div><div class='features'><span class=\"n xft\" ><span class=\"f\">n=</span>24</span><span class=\"np xft\" ><span class=\"f\">np=</span>21</span><span class=\"title xft\" ><span class=\"f\">title=</span>  فصّ حكمة ما لكيّة في كلمة زكـريّاويّة</span></div></div></div>"
      ],
      "text/plain": [
       "<IPython.core.display.HTML object>"
      ]
     },
     "metadata": {},
     "output_type": "display_data"
    },
    {
     "data": {
      "text/html": [
       "<p><b>result</b> <i>23</i></p>"
      ],
      "text/plain": [
       "<IPython.core.display.HTML object>"
      ]
     },
     "metadata": {},
     "output_type": "display_data"
    },
    {
     "data": {
      "text/html": [
       "<div class=\"tfsechead rtl\"><span class=\"ltr\"><a target=\"_blank\" href=\"https://among.github.io/fusus/fusus/assets/lakhnawi-with-toc.html#p311\" title=\"show this passage in the the original (html derived from pdf)\" sec=\"25\">25</a></span></div><div class=\"rtl children\"><div class=\"contnr c4 trm rtl  \" ><div class=\"lbl c4 trm \" ><span class=\"nd\">piece</span> <span class=\"txtu ara\"><span class=\"tfsechead rtl\"><span class=\"ltr\">25</span></span></span></div><div class='features'><span class=\"n xft\" ><span class=\"f\">n=</span>25</span><span class=\"np xft\" ><span class=\"f\">np=</span>22</span><span class=\"title xft\" ><span class=\"f\">title=</span>  فصّ حكمة إيـناسيّة في كلمة إلياسيّة</span></div></div></div>"
      ],
      "text/plain": [
       "<IPython.core.display.HTML object>"
      ]
     },
     "metadata": {},
     "output_type": "display_data"
    },
    {
     "data": {
      "text/html": [
       "<p><b>result</b> <i>24</i></p>"
      ],
      "text/plain": [
       "<IPython.core.display.HTML object>"
      ]
     },
     "metadata": {},
     "output_type": "display_data"
    },
    {
     "data": {
      "text/html": [
       "<div class=\"tfsechead rtl\"><span class=\"ltr\"><a target=\"_blank\" href=\"https://among.github.io/fusus/fusus/assets/lakhnawi-with-toc.html#p324\" title=\"show this passage in the the original (html derived from pdf)\" sec=\"26\">26</a></span></div><div class=\"rtl children\"><div class=\"contnr c4 trm rtl  \" ><div class=\"lbl c4 trm \" ><span class=\"nd\">piece</span> <span class=\"txtu ara\"><span class=\"tfsechead rtl\"><span class=\"ltr\">26</span></span></span></div><div class='features'><span class=\"n xft\" ><span class=\"f\">n=</span>26</span><span class=\"np xft\" ><span class=\"f\">np=</span>23</span><span class=\"title xft\" ><span class=\"f\">title=</span>  فصّ حكمة إحسانيّة في كلمة لقمانيّة</span></div></div></div>"
      ],
      "text/plain": [
       "<IPython.core.display.HTML object>"
      ]
     },
     "metadata": {},
     "output_type": "display_data"
    },
    {
     "data": {
      "text/html": [
       "<p><b>result</b> <i>25</i></p>"
      ],
      "text/plain": [
       "<IPython.core.display.HTML object>"
      ]
     },
     "metadata": {},
     "output_type": "display_data"
    },
    {
     "data": {
      "text/html": [
       "<div class=\"tfsechead rtl\"><span class=\"ltr\"><a target=\"_blank\" href=\"https://among.github.io/fusus/fusus/assets/lakhnawi-with-toc.html#p331\" title=\"show this passage in the the original (html derived from pdf)\" sec=\"27\">27</a></span></div><div class=\"rtl children\"><div class=\"contnr c4 trm rtl  \" ><div class=\"lbl c4 trm \" ><span class=\"nd\">piece</span> <span class=\"txtu ara\"><span class=\"tfsechead rtl\"><span class=\"ltr\">27</span></span></span></div><div class='features'><span class=\"n xft\" ><span class=\"f\">n=</span>27</span><span class=\"np xft\" ><span class=\"f\">np=</span>24</span><span class=\"title xft\" ><span class=\"f\">title=</span>  فصّ حكمة إماميّة في كلمة هارونيّة</span></div></div></div>"
      ],
      "text/plain": [
       "<IPython.core.display.HTML object>"
      ]
     },
     "metadata": {},
     "output_type": "display_data"
    },
    {
     "data": {
      "text/html": [
       "<p><b>result</b> <i>26</i></p>"
      ],
      "text/plain": [
       "<IPython.core.display.HTML object>"
      ]
     },
     "metadata": {},
     "output_type": "display_data"
    },
    {
     "data": {
      "text/html": [
       "<div class=\"tfsechead rtl\"><span class=\"ltr\"><a target=\"_blank\" href=\"https://among.github.io/fusus/fusus/assets/lakhnawi-with-toc.html#p342\" title=\"show this passage in the the original (html derived from pdf)\" sec=\"28\">28</a></span></div><div class=\"rtl children\"><div class=\"contnr c4 trm rtl  \" ><div class=\"lbl c4 trm \" ><span class=\"nd\">piece</span> <span class=\"txtu ara\"><span class=\"tfsechead rtl\"><span class=\"ltr\">28</span></span></span></div><div class='features'><span class=\"n xft\" ><span class=\"f\">n=</span>28</span><span class=\"np xft\" ><span class=\"f\">np=</span>25</span><span class=\"title xft\" ><span class=\"f\">title=</span>  فصّ حكمة عُـلـويّة في كلمة موسويّة</span></div></div></div>"
      ],
      "text/plain": [
       "<IPython.core.display.HTML object>"
      ]
     },
     "metadata": {},
     "output_type": "display_data"
    },
    {
     "data": {
      "text/html": [
       "<p><b>result</b> <i>27</i></p>"
      ],
      "text/plain": [
       "<IPython.core.display.HTML object>"
      ]
     },
     "metadata": {},
     "output_type": "display_data"
    },
    {
     "data": {
      "text/html": [
       "<div class=\"tfsechead rtl\"><span class=\"ltr\"><a target=\"_blank\" href=\"https://among.github.io/fusus/fusus/assets/lakhnawi-with-toc.html#p375\" title=\"show this passage in the the original (html derived from pdf)\" sec=\"30\">30</a></span></div><div class=\"rtl children\"><div class=\"contnr c4 trm rtl  \" ><div class=\"lbl c4 trm \" ><span class=\"nd\">piece</span> <span class=\"txtu ara\"><span class=\"tfsechead rtl\"><span class=\"ltr\">30</span></span></span></div><div class='features'><span class=\"n xft\" ><span class=\"f\">n=</span>30</span><span class=\"np xft\" ><span class=\"f\">np=</span>27</span><span class=\"title xft\" ><span class=\"f\">title=</span>  فصّ حكمة فرديّة في كلمة محمديّة</span></div></div></div>"
      ],
      "text/plain": [
       "<IPython.core.display.HTML object>"
      ]
     },
     "metadata": {},
     "output_type": "display_data"
    },
    {
     "data": {
      "text/html": [
       "<p><b>result</b> <i>28</i></p>"
      ],
      "text/plain": [
       "<IPython.core.display.HTML object>"
      ]
     },
     "metadata": {},
     "output_type": "display_data"
    },
    {
     "data": {
      "text/html": [
       "<div class=\"tfsechead rtl\"><span class=\"ltr\"><a target=\"_blank\" href=\"https://among.github.io/fusus/fusus/assets/lakhnawi-with-toc.html#p408\" title=\"show this passage in the the original (html derived from pdf)\" sec=\"34\">34</a></span></div><div class=\"rtl children\"><div class=\"contnr c4 trm rtl  \" ><div class=\"lbl c4 trm \" ><span class=\"nd\">piece</span> <span class=\"txtu ara\"><span class=\"tfsechead rtl\"><span class=\"ltr\">34</span></span></span></div><div class='features'><span class=\"n xft\" ><span class=\"f\">n=</span>34</span><span class=\"title xft\" ><span class=\"f\">title=</span>الملحقات</span></div></div></div>"
      ],
      "text/plain": [
       "<IPython.core.display.HTML object>"
      ]
     },
     "metadata": {},
     "output_type": "display_data"
    },
    {
     "data": {
      "text/html": [
       "<p><b>result</b> <i>29</i></p>"
      ],
      "text/plain": [
       "<IPython.core.display.HTML object>"
      ]
     },
     "metadata": {},
     "output_type": "display_data"
    },
    {
     "data": {
      "text/html": [
       "<div class=\"tfsechead rtl\"><span class=\"ltr\"><a target=\"_blank\" href=\"https://among.github.io/fusus/fusus/assets/lakhnawi-with-toc.html#p409\" title=\"show this passage in the the original (html derived from pdf)\" sec=\"35\">35</a></span></div><div class=\"rtl children\"><div class=\"contnr c4 trm rtl  \" ><div class=\"lbl c4 trm \" ><span class=\"nd\">piece</span> <span class=\"txtu ara\"><span class=\"tfsechead rtl\"><span class=\"ltr\">35</span></span></span></div><div class='features'><span class=\"n xft\" ><span class=\"f\">n=</span>35</span><span class=\"title xft\" ><span class=\"f\">title=</span>ملحق ١:  تعليقات داخل المخطوط</span></div></div></div>"
      ],
      "text/plain": [
       "<IPython.core.display.HTML object>"
      ]
     },
     "metadata": {},
     "output_type": "display_data"
    }
   ],
   "source": [
    "results = A.search(\"\"\"\n",
    "piece n* np* title*\n",
    "\"\"\")\n",
    "A.show(results)"
   ]
  },
  {
   "cell_type": "code",
   "execution_count": 6,
   "metadata": {},
   "outputs": [
    {
     "data": {
      "text/plain": [
       "[(50215,),\n",
       " (50216,),\n",
       " (50217,),\n",
       " (50218,),\n",
       " (50219,),\n",
       " (50220,),\n",
       " (50221,),\n",
       " (50222,),\n",
       " (50223,),\n",
       " (50224,),\n",
       " (50225,),\n",
       " (50226,),\n",
       " (50227,),\n",
       " (50228,),\n",
       " (50229,),\n",
       " (50230,),\n",
       " (50231,),\n",
       " (50232,),\n",
       " (50233,),\n",
       " (50234,),\n",
       " (50235,),\n",
       " (50236,),\n",
       " (50237,),\n",
       " (50238,),\n",
       " (50239,),\n",
       " (50240,),\n",
       " (50241,),\n",
       " (50242,),\n",
       " (50243,)]"
      ]
     },
     "execution_count": 6,
     "metadata": {},
     "output_type": "execute_result"
    }
   ],
   "source": [
    "results"
   ]
  },
  {
   "cell_type": "markdown",
   "metadata": {},
   "source": [
    "All words on the first line of every page"
   ]
  },
  {
   "cell_type": "code",
   "execution_count": 7,
   "metadata": {},
   "outputs": [],
   "source": [
    "template = \"\"\"\n",
    "line ln=1\n",
    "  word\n",
    "\"\"\""
   ]
  },
  {
   "cell_type": "code",
   "execution_count": 8,
   "metadata": {},
   "outputs": [
    {
     "name": "stdout",
     "output_type": "stream",
     "text": [
      "  0.05s 3701 results\n"
     ]
    }
   ],
   "source": [
    "results = A.search(template)"
   ]
  },
  {
   "cell_type": "code",
   "execution_count": 9,
   "metadata": {},
   "outputs": [
    {
     "data": {
      "text/plain": [
       "[(45446, 23),\n",
       " (45446, 24),\n",
       " (45446, 25),\n",
       " (45446, 26),\n",
       " (45446, 27),\n",
       " (45446, 28),\n",
       " (45446, 29),\n",
       " (45446, 30),\n",
       " (45446, 31),\n",
       " (45446, 32)]"
      ]
     },
     "execution_count": 9,
     "metadata": {},
     "output_type": "execute_result"
    }
   ],
   "source": [
    "results[0:10]"
   ]
  },
  {
   "cell_type": "code",
   "execution_count": 10,
   "metadata": {},
   "outputs": [
    {
     "data": {
      "text/html": [
       "<table><tr class=\"tf rtl\"><th class=\"tf rtl\">n</th><th class=\"tf rtl\">p</th><th class=\"tf rtl\">line</th><th class=\"tf\">word</th></tr>\n",
       "<tr class=\"tf rtl\"><td class=\"tf rtl\">1</td><td class=\"tf rtl\"><span class=\"tfsechead rtl\"><span class=\"ltr\"><a target=\"_blank\" href=\"https://among.github.io/fusus/fusus/assets/lakhnawi-with-toc.html#p009\" title=\"show this passage in the the original (html derived from pdf)\" sec=\"3 9:1\">3 9:1</a></span></span></td><td class=\"tf rtl\"><span class=\"rtl ubd\"></span></td><td class=\"tf rtl\"><span class=\"rtl ubd\"><span class=\"plain rtl  hl\" ><span class=\"txtu ara\">وصلى</span></span></span></td></tr>\n",
       "<tr class=\"tf rtl\"><td class=\"tf rtl\">2</td><td class=\"tf rtl\"><span class=\"tfsechead rtl\"><span class=\"ltr\"><a target=\"_blank\" href=\"https://among.github.io/fusus/fusus/assets/lakhnawi-with-toc.html#p009\" title=\"show this passage in the the original (html derived from pdf)\" sec=\"3 9:1\">3 9:1</a></span></span></td><td class=\"tf rtl\"><span class=\"rtl ubd\"></span></td><td class=\"tf rtl\"><span class=\"rtl ubd\"><span class=\"plain rtl  hl\" ><span class=\"txtu ara\">الله</span></span></span></td></tr>\n",
       "<tr class=\"tf rtl\"><td class=\"tf rtl\">3</td><td class=\"tf rtl\"><span class=\"tfsechead rtl\"><span class=\"ltr\"><a target=\"_blank\" href=\"https://among.github.io/fusus/fusus/assets/lakhnawi-with-toc.html#p009\" title=\"show this passage in the the original (html derived from pdf)\" sec=\"3 9:1\">3 9:1</a></span></span></td><td class=\"tf rtl\"><span class=\"rtl ubd\"></span></td><td class=\"tf rtl\"><span class=\"rtl ubd\"><span class=\"plain rtl  hl\" ><span class=\"txtu ara\">على</span></span></span></td></tr>\n",
       "<tr class=\"tf rtl\"><td class=\"tf rtl\">4</td><td class=\"tf rtl\"><span class=\"tfsechead rtl\"><span class=\"ltr\"><a target=\"_blank\" href=\"https://among.github.io/fusus/fusus/assets/lakhnawi-with-toc.html#p009\" title=\"show this passage in the the original (html derived from pdf)\" sec=\"3 9:1\">3 9:1</a></span></span></td><td class=\"tf rtl\"><span class=\"rtl ubd\"></span></td><td class=\"tf rtl\"><span class=\"rtl ubd\"><span class=\"plain rtl  hl\" ><span class=\"txtu ara\">ممد</span></span></span></td></tr>\n",
       "<tr class=\"tf rtl\"><td class=\"tf rtl\">5</td><td class=\"tf rtl\"><span class=\"tfsechead rtl\"><span class=\"ltr\"><a target=\"_blank\" href=\"https://among.github.io/fusus/fusus/assets/lakhnawi-with-toc.html#p009\" title=\"show this passage in the the original (html derived from pdf)\" sec=\"3 9:1\">3 9:1</a></span></span></td><td class=\"tf rtl\"><span class=\"rtl ubd\"></span></td><td class=\"tf rtl\"><span class=\"rtl ubd\"><span class=\"plain rtl  hl\" ><span class=\"txtu ara\">الهمم،</span></span></span></td></tr>\n",
       "<tr class=\"tf rtl\"><td class=\"tf rtl\">6</td><td class=\"tf rtl\"><span class=\"tfsechead rtl\"><span class=\"ltr\"><a target=\"_blank\" href=\"https://among.github.io/fusus/fusus/assets/lakhnawi-with-toc.html#p009\" title=\"show this passage in the the original (html derived from pdf)\" sec=\"3 9:1\">3 9:1</a></span></span></td><td class=\"tf rtl\"><span class=\"rtl ubd\"></span></td><td class=\"tf rtl\"><span class=\"rtl ubd\"><span class=\"plain rtl  hl\" ><span class=\"txtu ara\">من</span></span></span></td></tr>\n",
       "<tr class=\"tf rtl\"><td class=\"tf rtl\">7</td><td class=\"tf rtl\"><span class=\"tfsechead rtl\"><span class=\"ltr\"><a target=\"_blank\" href=\"https://among.github.io/fusus/fusus/assets/lakhnawi-with-toc.html#p009\" title=\"show this passage in the the original (html derived from pdf)\" sec=\"3 9:1\">3 9:1</a></span></span></td><td class=\"tf rtl\"><span class=\"rtl ubd\"></span></td><td class=\"tf rtl\"><span class=\"rtl ubd\"><span class=\"plain rtl  hl\" ><span class=\"txtu ara\">خزائن</span></span></span></td></tr>\n",
       "<tr class=\"tf rtl\"><td class=\"tf rtl\">8</td><td class=\"tf rtl\"><span class=\"tfsechead rtl\"><span class=\"ltr\"><a target=\"_blank\" href=\"https://among.github.io/fusus/fusus/assets/lakhnawi-with-toc.html#p009\" title=\"show this passage in the the original (html derived from pdf)\" sec=\"3 9:1\">3 9:1</a></span></span></td><td class=\"tf rtl\"><span class=\"rtl ubd\"></span></td><td class=\"tf rtl\"><span class=\"rtl ubd\"><span class=\"plain rtl  hl\" ><span class=\"txtu ara\">الجود</span></span></span></td></tr>\n",
       "<tr class=\"tf rtl\"><td class=\"tf rtl\">9</td><td class=\"tf rtl\"><span class=\"tfsechead rtl\"><span class=\"ltr\"><a target=\"_blank\" href=\"https://among.github.io/fusus/fusus/assets/lakhnawi-with-toc.html#p009\" title=\"show this passage in the the original (html derived from pdf)\" sec=\"3 9:1\">3 9:1</a></span></span></td><td class=\"tf rtl\"><span class=\"rtl ubd\"></span></td><td class=\"tf rtl\"><span class=\"rtl ubd\"><span class=\"plain rtl  hl\" ><span class=\"txtu ara\">والكرم،</span></span></span></td></tr>\n",
       "<tr class=\"tf rtl\"><td class=\"tf rtl\">10</td><td class=\"tf rtl\"><span class=\"tfsechead rtl\"><span class=\"ltr\"><a target=\"_blank\" href=\"https://among.github.io/fusus/fusus/assets/lakhnawi-with-toc.html#p009\" title=\"show this passage in the the original (html derived from pdf)\" sec=\"3 9:1\">3 9:1</a></span></span></td><td class=\"tf rtl\"><span class=\"rtl ubd\"></span></td><td class=\"tf rtl\"><span class=\"rtl ubd\"><span class=\"plain rtl  hl\" ><span class=\"txtu ara\">بالقيل</span></span></span></td></tr>\n",
       "<tr class=\"tf rtl\"><td class=\"tf rtl\">11</td><td class=\"tf rtl\"><span class=\"tfsechead rtl\"><span class=\"ltr\"><a target=\"_blank\" href=\"https://among.github.io/fusus/fusus/assets/lakhnawi-with-toc.html#p010\" title=\"show this passage in the the original (html derived from pdf)\" sec=\"3 10:1\">3 10:1</a></span></span></td><td class=\"tf rtl\"><span class=\"rtl ubd\"></span></td><td class=\"tf rtl\"><span class=\"rtl ubd\"><span class=\"plain rtl  hl\" ><span class=\"txtu ara\">فقلت:</span></span></span></td></tr>\n",
       "<tr class=\"tf rtl\"><td class=\"tf rtl\">12</td><td class=\"tf rtl\"><span class=\"tfsechead rtl\"><span class=\"ltr\"><a target=\"_blank\" href=\"https://among.github.io/fusus/fusus/assets/lakhnawi-with-toc.html#p010\" title=\"show this passage in the the original (html derived from pdf)\" sec=\"3 10:1\">3 10:1</a></span></span></td><td class=\"tf rtl\"><span class=\"rtl ubd\"></span></td><td class=\"tf rtl\"><span class=\"rtl ubd\"><span class=\"plain rtl  hl\" ><span class=\"txtu ara\">السمع</span></span></span></td></tr>\n",
       "<tr class=\"tf rtl\"><td class=\"tf rtl\">13</td><td class=\"tf rtl\"><span class=\"tfsechead rtl\"><span class=\"ltr\"><a target=\"_blank\" href=\"https://among.github.io/fusus/fusus/assets/lakhnawi-with-toc.html#p010\" title=\"show this passage in the the original (html derived from pdf)\" sec=\"3 10:1\">3 10:1</a></span></span></td><td class=\"tf rtl\"><span class=\"rtl ubd\"></span></td><td class=\"tf rtl\"><span class=\"rtl ubd\"><span class=\"plain rtl  hl\" ><span class=\"txtu ara\">والطاعة</span></span></span></td></tr>\n",
       "<tr class=\"tf rtl\"><td class=\"tf rtl\">14</td><td class=\"tf rtl\"><span class=\"tfsechead rtl\"><span class=\"ltr\"><a target=\"_blank\" href=\"https://among.github.io/fusus/fusus/assets/lakhnawi-with-toc.html#p010\" title=\"show this passage in the the original (html derived from pdf)\" sec=\"3 10:1\">3 10:1</a></span></span></td><td class=\"tf rtl\"><span class=\"rtl ubd\"></span></td><td class=\"tf rtl\"><span class=\"rtl ubd\"><span class=\"plain rtl  hl\" ><span class=\"txtu ara\">لله</span></span></span></td></tr>\n",
       "<tr class=\"tf rtl\"><td class=\"tf rtl\">15</td><td class=\"tf rtl\"><span class=\"tfsechead rtl\"><span class=\"ltr\"><a target=\"_blank\" href=\"https://among.github.io/fusus/fusus/assets/lakhnawi-with-toc.html#p010\" title=\"show this passage in the the original (html derived from pdf)\" sec=\"3 10:1\">3 10:1</a></span></span></td><td class=\"tf rtl\"><span class=\"rtl ubd\"></span></td><td class=\"tf rtl\"><span class=\"rtl ubd\"><span class=\"plain rtl  hl\" ><span class=\"txtu ara\">ولرسوله</span></span></span></td></tr>\n",
       "<tr class=\"tf rtl\"><td class=\"tf rtl\">16</td><td class=\"tf rtl\"><span class=\"tfsechead rtl\"><span class=\"ltr\"><a target=\"_blank\" href=\"https://among.github.io/fusus/fusus/assets/lakhnawi-with-toc.html#p010\" title=\"show this passage in the the original (html derived from pdf)\" sec=\"3 10:1\">3 10:1</a></span></span></td><td class=\"tf rtl\"><span class=\"rtl ubd\"></span></td><td class=\"tf rtl\"><span class=\"rtl ubd\"><span class=\"plain rtl  hl\" ><span class=\"txtu ara\">وأولي</span></span></span></td></tr>\n",
       "<tr class=\"tf rtl\"><td class=\"tf rtl\">17</td><td class=\"tf rtl\"><span class=\"tfsechead rtl\"><span class=\"ltr\"><a target=\"_blank\" href=\"https://among.github.io/fusus/fusus/assets/lakhnawi-with-toc.html#p010\" title=\"show this passage in the the original (html derived from pdf)\" sec=\"3 10:1\">3 10:1</a></span></span></td><td class=\"tf rtl\"><span class=\"rtl ubd\"></span></td><td class=\"tf rtl\"><span class=\"rtl ubd\"><span class=\"plain rtl  hl\" ><span class=\"txtu ara\">الأمر</span></span></span></td></tr>\n",
       "<tr class=\"tf rtl\"><td class=\"tf rtl\">18</td><td class=\"tf rtl\"><span class=\"tfsechead rtl\"><span class=\"ltr\"><a target=\"_blank\" href=\"https://among.github.io/fusus/fusus/assets/lakhnawi-with-toc.html#p010\" title=\"show this passage in the the original (html derived from pdf)\" sec=\"3 10:1\">3 10:1</a></span></span></td><td class=\"tf rtl\"><span class=\"rtl ubd\"></span></td><td class=\"tf rtl\"><span class=\"rtl ubd\"><span class=\"plain rtl  hl\" ><span class=\"txtu ara\">منا،</span></span></span></td></tr>\n",
       "<tr class=\"tf rtl\"><td class=\"tf rtl\">19</td><td class=\"tf rtl\"><span class=\"tfsechead rtl\"><span class=\"ltr\"><a target=\"_blank\" href=\"https://among.github.io/fusus/fusus/assets/lakhnawi-with-toc.html#p010\" title=\"show this passage in the the original (html derived from pdf)\" sec=\"3 10:1\">3 10:1</a></span></span></td><td class=\"tf rtl\"><span class=\"rtl ubd\"></span></td><td class=\"tf rtl\"><span class=\"rtl ubd\"><span class=\"plain rtl  hl\" ><span class=\"txtu ara\">كما</span></span></span></td></tr>\n",
       "<tr class=\"tf rtl\"><td class=\"tf rtl\">20</td><td class=\"tf rtl\"><span class=\"tfsechead rtl\"><span class=\"ltr\"><a target=\"_blank\" href=\"https://among.github.io/fusus/fusus/assets/lakhnawi-with-toc.html#p010\" title=\"show this passage in the the original (html derived from pdf)\" sec=\"3 10:1\">3 10:1</a></span></span></td><td class=\"tf rtl\"><span class=\"rtl ubd\"></span></td><td class=\"tf rtl\"><span class=\"rtl ubd\"><span class=\"plain rtl  hl\" ><span class=\"txtu ara\">أمرنا».</span></span></span></td></tr></table>"
      ],
      "text/plain": [
       "<IPython.core.display.HTML object>"
      ]
     },
     "metadata": {},
     "output_type": "display_data"
    }
   ],
   "source": [
    "A.table(results, end=20)"
   ]
  },
  {
   "cell_type": "markdown",
   "metadata": {},
   "source": [
    "All first words of the first line of every page"
   ]
  },
  {
   "cell_type": "code",
   "execution_count": 11,
   "metadata": {},
   "outputs": [
    {
     "name": "stdout",
     "output_type": "stream",
     "text": [
      "  0.04s 396 results\n"
     ]
    },
    {
     "data": {
      "text/html": [
       "<table><tr class=\"tf rtl\"><th class=\"tf rtl\">n</th><th class=\"tf rtl\">p</th><th class=\"tf rtl\">line</th><th class=\"tf\">word</th></tr>\n",
       "<tr class=\"tf rtl\"><td class=\"tf rtl\">1</td><td class=\"tf rtl\"><span class=\"tfsechead rtl\"><span class=\"ltr\"><a target=\"_blank\" href=\"https://among.github.io/fusus/fusus/assets/lakhnawi-with-toc.html#p009\" title=\"show this passage in the the original (html derived from pdf)\" sec=\"3 9:1\">3 9:1</a></span></span></td><td class=\"tf rtl\"><span class=\"rtl ubd\"></span></td><td class=\"tf rtl\"><span class=\"rtl ubd\"><span class=\"plain rtl  hl\" ><span class=\"txtu ara\">وصلى</span></span></span></td></tr>\n",
       "<tr class=\"tf rtl\"><td class=\"tf rtl\">2</td><td class=\"tf rtl\"><span class=\"tfsechead rtl\"><span class=\"ltr\"><a target=\"_blank\" href=\"https://among.github.io/fusus/fusus/assets/lakhnawi-with-toc.html#p010\" title=\"show this passage in the the original (html derived from pdf)\" sec=\"3 10:1\">3 10:1</a></span></span></td><td class=\"tf rtl\"><span class=\"rtl ubd\"></span></td><td class=\"tf rtl\"><span class=\"rtl ubd\"><span class=\"plain rtl  hl\" ><span class=\"txtu ara\">فقلت:</span></span></span></td></tr>\n",
       "<tr class=\"tf rtl\"><td class=\"tf rtl\">3</td><td class=\"tf rtl\"><span class=\"tfsechead rtl\"><span class=\"ltr\"><a target=\"_blank\" href=\"https://among.github.io/fusus/fusus/assets/lakhnawi-with-toc.html#p011\" title=\"show this passage in the the original (html derived from pdf)\" sec=\"3 11:1\">3 11:1</a></span></span></td><td class=\"tf rtl\"><span class=\"rtl ubd\"></span></td><td class=\"tf rtl\"><span class=\"rtl ubd\"><span class=\"plain rtl  hl\" ><span class=\"txtu ara\">الروع</span></span></span></td></tr>\n",
       "<tr class=\"tf rtl\"><td class=\"tf rtl\">4</td><td class=\"tf rtl\"><span class=\"tfsechead rtl\"><span class=\"ltr\"><a target=\"_blank\" href=\"https://among.github.io/fusus/fusus/assets/lakhnawi-with-toc.html#p012\" title=\"show this passage in the the original (html derived from pdf)\" sec=\"3 12:1\">3 12:1</a></span></span></td><td class=\"tf rtl\"><span class=\"rtl ubd\"></span></td><td class=\"tf rtl\"><span class=\"rtl ubd\"><span class=\"plain rtl  hl\" ><span class=\"txtu ara\">ينزل</span></span></span></td></tr>\n",
       "<tr class=\"tf rtl\"><td class=\"tf rtl\">5</td><td class=\"tf rtl\"><span class=\"tfsechead rtl\"><span class=\"ltr\"><a target=\"_blank\" href=\"https://among.github.io/fusus/fusus/assets/lakhnawi-with-toc.html#p013\" title=\"show this passage in the the original (html derived from pdf)\" sec=\"3 13:1\">3 13:1</a></span></span></td><td class=\"tf rtl\"><span class=\"rtl ubd\"></span></td><td class=\"tf rtl\"><span class=\"rtl ubd\"><span class=\"plain rtl  hl\" ><span class=\"txtu ara\">ومن</span></span></span></td></tr>\n",
       "<tr class=\"tf rtl\"><td class=\"tf rtl\">6</td><td class=\"tf rtl\"><span class=\"tfsechead rtl\"><span class=\"ltr\"><a target=\"_blank\" href=\"https://among.github.io/fusus/fusus/assets/lakhnawi-with-toc.html#p014\" title=\"show this passage in the the original (html derived from pdf)\" sec=\"4 14:1\">4 14:1</a></span></span></td><td class=\"tf rtl\"><span class=\"rtl ubd\"></span></td><td class=\"tf rtl\"><span class=\"rtl ubd\"><span class=\"plain rtl  hl\" ><span class=\"txtu ara\">فص</span></span></span></td></tr>\n",
       "<tr class=\"tf rtl\"><td class=\"tf rtl\">7</td><td class=\"tf rtl\"><span class=\"tfsechead rtl\"><span class=\"ltr\"><a target=\"_blank\" href=\"https://among.github.io/fusus/fusus/assets/lakhnawi-with-toc.html#p015\" title=\"show this passage in the the original (html derived from pdf)\" sec=\"4 15:1\">4 15:1</a></span></span></td><td class=\"tf rtl\"><span class=\"rtl ubd\"></span></td><td class=\"tf rtl\"><span class=\"rtl ubd\"><span class=\"plain rtl  hl\" ><span class=\"txtu ara\">جامع</span></span></span></td></tr>\n",
       "<tr class=\"tf rtl\"><td class=\"tf rtl\">8</td><td class=\"tf rtl\"><span class=\"tfsechead rtl\"><span class=\"ltr\"><a target=\"_blank\" href=\"https://among.github.io/fusus/fusus/assets/lakhnawi-with-toc.html#p016\" title=\"show this passage in the the original (html derived from pdf)\" sec=\"4 16:1\">4 16:1</a></span></span></td><td class=\"tf rtl\"><span class=\"rtl ubd\"></span></td><td class=\"tf rtl\"><span class=\"rtl ubd\"><span class=\"plain rtl  hl\" ><span class=\"txtu ara\">فكان</span></span></span></td></tr>\n",
       "<tr class=\"tf rtl\"><td class=\"tf rtl\">9</td><td class=\"tf rtl\"><span class=\"tfsechead rtl\"><span class=\"ltr\"><a target=\"_blank\" href=\"https://among.github.io/fusus/fusus/assets/lakhnawi-with-toc.html#p017\" title=\"show this passage in the the original (html derived from pdf)\" sec=\"4 17:1\">4 17:1</a></span></span></td><td class=\"tf rtl\"><span class=\"rtl ubd\"></span></td><td class=\"tf rtl\"><span class=\"rtl ubd\"><span class=\"plain rtl  hl\" ><span class=\"txtu ara\">فكانت</span></span></span></td></tr>\n",
       "<tr class=\"tf rtl\"><td class=\"tf rtl\">10</td><td class=\"tf rtl\"><span class=\"tfsechead rtl\"><span class=\"ltr\"><a target=\"_blank\" href=\"https://among.github.io/fusus/fusus/assets/lakhnawi-with-toc.html#p018\" title=\"show this passage in the the original (html derived from pdf)\" sec=\"4 18:1\">4 18:1</a></span></span></td><td class=\"tf rtl\"><span class=\"rtl ubd\"></span></td><td class=\"tf rtl\"><span class=\"rtl ubd\"><span class=\"plain rtl  hl\" ><span class=\"txtu ara\">وهذا</span></span></span></td></tr>\n",
       "<tr class=\"tf rtl\"><td class=\"tf rtl\">11</td><td class=\"tf rtl\"><span class=\"tfsechead rtl\"><span class=\"ltr\"><a target=\"_blank\" href=\"https://among.github.io/fusus/fusus/assets/lakhnawi-with-toc.html#p019\" title=\"show this passage in the the original (html derived from pdf)\" sec=\"4 19:1\">4 19:1</a></span></span></td><td class=\"tf rtl\"><span class=\"rtl ubd\"></span></td><td class=\"tf rtl\"><span class=\"rtl ubd\"><span class=\"plain rtl  hl\" ><span class=\"txtu ara\">ألا</span></span></span></td></tr>\n",
       "<tr class=\"tf rtl\"><td class=\"tf rtl\">12</td><td class=\"tf rtl\"><span class=\"tfsechead rtl\"><span class=\"ltr\"><a target=\"_blank\" href=\"https://among.github.io/fusus/fusus/assets/lakhnawi-with-toc.html#p020\" title=\"show this passage in the the original (html derived from pdf)\" sec=\"4 20:1\">4 20:1</a></span></span></td><td class=\"tf rtl\"><span class=\"rtl ubd\"></span></td><td class=\"tf rtl\"><span class=\"rtl ubd\"><span class=\"plain rtl  hl\" ><span class=\"txtu ara\">فإنه</span></span></span></td></tr>\n",
       "<tr class=\"tf rtl\"><td class=\"tf rtl\">13</td><td class=\"tf rtl\"><span class=\"tfsechead rtl\"><span class=\"ltr\"><a target=\"_blank\" href=\"https://among.github.io/fusus/fusus/assets/lakhnawi-with-toc.html#p021\" title=\"show this passage in the the original (html derived from pdf)\" sec=\"4 21:1\">4 21:1</a></span></span></td><td class=\"tf rtl\"><span class=\"rtl ubd\"></span></td><td class=\"tf rtl\"><span class=\"rtl ubd\"><span class=\"plain rtl  hl\" ><span class=\"txtu ara\">فلا</span></span></span></td></tr>\n",
       "<tr class=\"tf rtl\"><td class=\"tf rtl\">14</td><td class=\"tf rtl\"><span class=\"tfsechead rtl\"><span class=\"ltr\"><a target=\"_blank\" href=\"https://among.github.io/fusus/fusus/assets/lakhnawi-with-toc.html#p022\" title=\"show this passage in the the original (html derived from pdf)\" sec=\"4 22:1\">4 22:1</a></span></span></td><td class=\"tf rtl\"><span class=\"rtl ubd\"></span></td><td class=\"tf rtl\"><span class=\"rtl ubd\"><span class=\"plain rtl  hl\" ><span class=\"txtu ara\">الموجودات،</span></span></span></td></tr>\n",
       "<tr class=\"tf rtl\"><td class=\"tf rtl\">15</td><td class=\"tf rtl\"><span class=\"tfsechead rtl\"><span class=\"ltr\"><a target=\"_blank\" href=\"https://among.github.io/fusus/fusus/assets/lakhnawi-with-toc.html#p023\" title=\"show this passage in the the original (html derived from pdf)\" sec=\"4 23:1\">4 23:1</a></span></span></td><td class=\"tf rtl\"><span class=\"rtl ubd\"></span></td><td class=\"tf rtl\"><span class=\"rtl ubd\"><span class=\"plain rtl  hl\" ><span class=\"txtu ara\">وانظر</span></span></span></td></tr>\n",
       "<tr class=\"tf rtl\"><td class=\"tf rtl\">16</td><td class=\"tf rtl\"><span class=\"tfsechead rtl\"><span class=\"ltr\"><a target=\"_blank\" href=\"https://among.github.io/fusus/fusus/assets/lakhnawi-with-toc.html#p024\" title=\"show this passage in the the original (html derived from pdf)\" sec=\"4 24:1\">4 24:1</a></span></span></td><td class=\"tf rtl\"><span class=\"rtl ubd\"></span></td><td class=\"tf rtl\"><span class=\"rtl ubd\"><span class=\"plain rtl  hl\" ><span class=\"txtu ara\">وهو</span></span></span></td></tr>\n",
       "<tr class=\"tf rtl\"><td class=\"tf rtl\">17</td><td class=\"tf rtl\"><span class=\"tfsechead rtl\"><span class=\"ltr\"><a target=\"_blank\" href=\"https://among.github.io/fusus/fusus/assets/lakhnawi-with-toc.html#p025\" title=\"show this passage in the the original (html derived from pdf)\" sec=\"4 25:1\">4 25:1</a></span></span></td><td class=\"tf rtl\"><span class=\"rtl ubd\"></span></td><td class=\"tf rtl\"><span class=\"rtl ubd\"><span class=\"plain rtl  hl\" ><span class=\"txtu ara\">فكذلك</span></span></span></td></tr>\n",
       "<tr class=\"tf rtl\"><td class=\"tf rtl\">18</td><td class=\"tf rtl\"><span class=\"tfsechead rtl\"><span class=\"ltr\"><a target=\"_blank\" href=\"https://among.github.io/fusus/fusus/assets/lakhnawi-with-toc.html#p026\" title=\"show this passage in the the original (html derived from pdf)\" sec=\"4 26:1\">4 26:1</a></span></span></td><td class=\"tf rtl\"><span class=\"rtl ubd\"></span></td><td class=\"tf rtl\"><span class=\"rtl ubd\"><span class=\"plain rtl  hl\" ><span class=\"txtu ara\">الإنسان</span></span></span></td></tr>\n",
       "<tr class=\"tf rtl\"><td class=\"tf rtl\">19</td><td class=\"tf rtl\"><span class=\"tfsechead rtl\"><span class=\"ltr\"><a target=\"_blank\" href=\"https://among.github.io/fusus/fusus/assets/lakhnawi-with-toc.html#p027\" title=\"show this passage in the the original (html derived from pdf)\" sec=\"4 27:1\">4 27:1</a></span></span></td><td class=\"tf rtl\"><span class=\"rtl ubd\"></span></td><td class=\"tf rtl\"><span class=\"rtl ubd\"><span class=\"plain rtl  hl\" ><span class=\"txtu ara\">فما</span></span></span></td></tr>\n",
       "<tr class=\"tf rtl\"><td class=\"tf rtl\">20</td><td class=\"tf rtl\"><span class=\"tfsechead rtl\"><span class=\"ltr\"><a target=\"_blank\" href=\"https://among.github.io/fusus/fusus/assets/lakhnawi-with-toc.html#p028\" title=\"show this passage in the the original (html derived from pdf)\" sec=\"4 28:1\">4 28:1</a></span></span></td><td class=\"tf rtl\"><span class=\"rtl ubd\"></span></td><td class=\"tf rtl\"><span class=\"rtl ubd\"><span class=\"plain rtl  hl\" ><span class=\"txtu ara\">فالكل</span></span></span></td></tr></table>"
      ],
      "text/plain": [
       "<IPython.core.display.HTML object>"
      ]
     },
     "metadata": {},
     "output_type": "display_data"
    }
   ],
   "source": [
    "template = \"\"\"\n",
    "line ln=1\n",
    "  =: word\n",
    "\"\"\"\n",
    "results = A.search(template)\n",
    "A.table(results, end=20)"
   ]
  },
  {
   "cell_type": "markdown",
   "metadata": {},
   "source": [
    "All last words of the first line of every page"
   ]
  },
  {
   "cell_type": "code",
   "execution_count": 12,
   "metadata": {},
   "outputs": [
    {
     "name": "stdout",
     "output_type": "stream",
     "text": [
      "  0.04s 396 results\n"
     ]
    },
    {
     "data": {
      "text/html": [
       "<table><tr class=\"tf rtl\"><th class=\"tf rtl\">n</th><th class=\"tf rtl\">p</th><th class=\"tf rtl\">line</th><th class=\"tf\">word</th></tr>\n",
       "<tr class=\"tf rtl\"><td class=\"tf rtl\">1</td><td class=\"tf rtl\"><span class=\"tfsechead rtl\"><span class=\"ltr\"><a target=\"_blank\" href=\"https://among.github.io/fusus/fusus/assets/lakhnawi-with-toc.html#p009\" title=\"show this passage in the the original (html derived from pdf)\" sec=\"3 9:1\">3 9:1</a></span></span></td><td class=\"tf rtl\"><span class=\"rtl ubd\"></span></td><td class=\"tf rtl\"><span class=\"rtl ubd\"><span class=\"plain rtl  hl\" ><span class=\"txtu ara\">بالقيل</span></span></span></td></tr>\n",
       "<tr class=\"tf rtl\"><td class=\"tf rtl\">2</td><td class=\"tf rtl\"><span class=\"tfsechead rtl\"><span class=\"ltr\"><a target=\"_blank\" href=\"https://among.github.io/fusus/fusus/assets/lakhnawi-with-toc.html#p010\" title=\"show this passage in the the original (html derived from pdf)\" sec=\"3 10:1\">3 10:1</a></span></span></td><td class=\"tf rtl\"><span class=\"rtl ubd\"></span></td><td class=\"tf rtl\"><span class=\"rtl ubd\"><span class=\"plain rtl  hl\" ><span class=\"txtu ara\">أمرنا».</span></span></span></td></tr>\n",
       "<tr class=\"tf rtl\"><td class=\"tf rtl\">3</td><td class=\"tf rtl\"><span class=\"tfsechead rtl\"><span class=\"ltr\"><a target=\"_blank\" href=\"https://among.github.io/fusus/fusus/assets/lakhnawi-with-toc.html#p011\" title=\"show this passage in the the original (html derived from pdf)\" sec=\"3 11:1\">3 11:1</a></span></span></td><td class=\"tf rtl\"><span class=\"rtl ubd\"></span></td><td class=\"tf rtl\"><span class=\"rtl ubd\"><span class=\"plain rtl  hl\" ><span class=\"txtu ara\">متحكما،</span></span></span></td></tr>\n",
       "<tr class=\"tf rtl\"><td class=\"tf rtl\">4</td><td class=\"tf rtl\"><span class=\"tfsechead rtl\"><span class=\"ltr\"><a target=\"_blank\" href=\"https://among.github.io/fusus/fusus/assets/lakhnawi-with-toc.html#p012\" title=\"show this passage in the the original (html derived from pdf)\" sec=\"3 12:1\">3 12:1</a></span></span></td><td class=\"tf rtl\"><span class=\"rtl ubd\"></span></td><td class=\"tf rtl\"><span class=\"rtl ubd\"><span class=\"plain rtl  hl\" ><span class=\"txtu ara\">حارث.</span></span></span></td></tr>\n",
       "<tr class=\"tf rtl\"><td class=\"tf rtl\">5</td><td class=\"tf rtl\"><span class=\"tfsechead rtl\"><span class=\"ltr\"><a target=\"_blank\" href=\"https://among.github.io/fusus/fusus/assets/lakhnawi-with-toc.html#p013\" title=\"show this passage in the the original (html derived from pdf)\" sec=\"3 13:1\">3 13:1</a></span></span></td><td class=\"tf rtl\"><span class=\"rtl ubd\"></span></td><td class=\"tf rtl\"><span class=\"rtl ubd\"><span class=\"plain rtl  hl\" ><span class=\"txtu ara\">بالشرع</span></span></span></td></tr>\n",
       "<tr class=\"tf rtl\"><td class=\"tf rtl\">6</td><td class=\"tf rtl\"><span class=\"tfsechead rtl\"><span class=\"ltr\"><a target=\"_blank\" href=\"https://among.github.io/fusus/fusus/assets/lakhnawi-with-toc.html#p014\" title=\"show this passage in the the original (html derived from pdf)\" sec=\"4 14:1\">4 14:1</a></span></span></td><td class=\"tf rtl\"><span class=\"rtl ubd\"></span></td><td class=\"tf rtl\"><span class=\"rtl ubd\"><span class=\"plain rtl  hl\" ><span class=\"txtu ara\">آدمية</span></span></span></td></tr>\n",
       "<tr class=\"tf rtl\"><td class=\"tf rtl\">7</td><td class=\"tf rtl\"><span class=\"tfsechead rtl\"><span class=\"ltr\"><a target=\"_blank\" href=\"https://among.github.io/fusus/fusus/assets/lakhnawi-with-toc.html#p015\" title=\"show this passage in the the original (html derived from pdf)\" sec=\"4 15:1\">4 15:1</a></span></span></td><td class=\"tf rtl\"><span class=\"rtl ubd\"></span></td><td class=\"tf rtl\"><span class=\"rtl ubd\"><span class=\"plain rtl  hl\" ><span class=\"txtu ara\">إليه.</span></span></span></td></tr>\n",
       "<tr class=\"tf rtl\"><td class=\"tf rtl\">8</td><td class=\"tf rtl\"><span class=\"tfsechead rtl\"><span class=\"ltr\"><a target=\"_blank\" href=\"https://among.github.io/fusus/fusus/assets/lakhnawi-with-toc.html#p016\" title=\"show this passage in the the original (html derived from pdf)\" sec=\"4 16:1\">4 16:1</a></span></span></td><td class=\"tf rtl\"><span class=\"rtl ubd\"></span></td><td class=\"tf rtl\"><span class=\"rtl ubd\"><span class=\"plain rtl  hl\" ><span class=\"txtu ara\">إلا</span></span></span></td></tr>\n",
       "<tr class=\"tf rtl\"><td class=\"tf rtl\">9</td><td class=\"tf rtl\"><span class=\"tfsechead rtl\"><span class=\"ltr\"><a target=\"_blank\" href=\"https://among.github.io/fusus/fusus/assets/lakhnawi-with-toc.html#p017\" title=\"show this passage in the the original (html derived from pdf)\" sec=\"4 17:1\">4 17:1</a></span></span></td><td class=\"tf rtl\"><span class=\"rtl ubd\"></span></td><td class=\"tf rtl\"><span class=\"rtl ubd\"><span class=\"plain rtl  hl\" ><span class=\"txtu ara\">النشأة</span></span></span></td></tr>\n",
       "<tr class=\"tf rtl\"><td class=\"tf rtl\">10</td><td class=\"tf rtl\"><span class=\"tfsechead rtl\"><span class=\"ltr\"><a target=\"_blank\" href=\"https://among.github.io/fusus/fusus/assets/lakhnawi-with-toc.html#p018\" title=\"show this passage in the the original (html derived from pdf)\" sec=\"4 18:1\">4 18:1</a></span></span></td><td class=\"tf rtl\"><span class=\"rtl ubd\"></span></td><td class=\"tf rtl\"><span class=\"rtl ubd\"><span class=\"plain rtl  hl\" ><span class=\"txtu ara\">الإدراك</span></span></span></td></tr>\n",
       "<tr class=\"tf rtl\"><td class=\"tf rtl\">11</td><td class=\"tf rtl\"><span class=\"tfsechead rtl\"><span class=\"ltr\"><a target=\"_blank\" href=\"https://among.github.io/fusus/fusus/assets/lakhnawi-with-toc.html#p019\" title=\"show this passage in the the original (html derived from pdf)\" sec=\"4 19:1\">4 19:1</a></span></span></td><td class=\"tf rtl\"><span class=\"rtl ubd\"></span></td><td class=\"tf rtl\"><span class=\"rtl ubd\"><span class=\"plain rtl  hl\" ><span class=\"txtu ara\">الحق</span></span></span></td></tr>\n",
       "<tr class=\"tf rtl\"><td class=\"tf rtl\">12</td><td class=\"tf rtl\"><span class=\"tfsechead rtl\"><span class=\"ltr\"><a target=\"_blank\" href=\"https://among.github.io/fusus/fusus/assets/lakhnawi-with-toc.html#p020\" title=\"show this passage in the the original (html derived from pdf)\" sec=\"4 20:1\">4 20:1</a></span></span></td><td class=\"tf rtl\"><span class=\"rtl ubd\"></span></td><td class=\"tf rtl\"><span class=\"rtl ubd\"><span class=\"plain rtl  hl\" ><span class=\"txtu ara\">جمعية</span></span></span></td></tr>\n",
       "<tr class=\"tf rtl\"><td class=\"tf rtl\">13</td><td class=\"tf rtl\"><span class=\"tfsechead rtl\"><span class=\"ltr\"><a target=\"_blank\" href=\"https://among.github.io/fusus/fusus/assets/lakhnawi-with-toc.html#p021\" title=\"show this passage in the the original (html derived from pdf)\" sec=\"4 21:1\">4 21:1</a></span></span></td><td class=\"tf rtl\"><span class=\"rtl ubd\"></span></td><td class=\"tf rtl\"><span class=\"rtl ubd\"><span class=\"plain rtl  hl\" ><span class=\"txtu ara\">في</span></span></span></td></tr>\n",
       "<tr class=\"tf rtl\"><td class=\"tf rtl\">14</td><td class=\"tf rtl\"><span class=\"tfsechead rtl\"><span class=\"ltr\"><a target=\"_blank\" href=\"https://among.github.io/fusus/fusus/assets/lakhnawi-with-toc.html#p022\" title=\"show this passage in the the original (html derived from pdf)\" sec=\"4 22:1\">4 22:1</a></span></span></td><td class=\"tf rtl\"><span class=\"rtl ubd\"></span></td><td class=\"tf rtl\"><span class=\"rtl ubd\"><span class=\"plain rtl  hl\" ><span class=\"txtu ara\">معقوليتها.</span></span></span></td></tr>\n",
       "<tr class=\"tf rtl\"><td class=\"tf rtl\">15</td><td class=\"tf rtl\"><span class=\"tfsechead rtl\"><span class=\"ltr\"><a target=\"_blank\" href=\"https://among.github.io/fusus/fusus/assets/lakhnawi-with-toc.html#p023\" title=\"show this passage in the the original (html derived from pdf)\" sec=\"4 23:1\">4 23:1</a></span></span></td><td class=\"tf rtl\"><span class=\"rtl ubd\"></span></td><td class=\"tf rtl\"><span class=\"rtl ubd\"><span class=\"plain rtl  hl\" ><span class=\"txtu ara\">فكما</span></span></span></td></tr>\n",
       "<tr class=\"tf rtl\"><td class=\"tf rtl\">16</td><td class=\"tf rtl\"><span class=\"tfsechead rtl\"><span class=\"ltr\"><a target=\"_blank\" href=\"https://among.github.io/fusus/fusus/assets/lakhnawi-with-toc.html#p024\" title=\"show this passage in the the original (html derived from pdf)\" sec=\"4 24:1\">4 24:1</a></span></span></td><td class=\"tf rtl\"><span class=\"rtl ubd\"></span></td><td class=\"tf rtl\"><span class=\"rtl ubd\"><span class=\"plain rtl  hl\" ><span class=\"txtu ara\">اقتضاه</span></span></span></td></tr>\n",
       "<tr class=\"tf rtl\"><td class=\"tf rtl\">17</td><td class=\"tf rtl\"><span class=\"tfsechead rtl\"><span class=\"ltr\"><a target=\"_blank\" href=\"https://among.github.io/fusus/fusus/assets/lakhnawi-with-toc.html#p025\" title=\"show this passage in the the original (html derived from pdf)\" sec=\"4 25:1\">4 25:1</a></span></span></td><td class=\"tf rtl\"><span class=\"rtl ubd\"></span></td><td class=\"tf rtl\"><span class=\"rtl ubd\"><span class=\"plain rtl  hl\" ><span class=\"txtu ara\">بد</span></span></span></td></tr>\n",
       "<tr class=\"tf rtl\"><td class=\"tf rtl\">18</td><td class=\"tf rtl\"><span class=\"tfsechead rtl\"><span class=\"ltr\"><a target=\"_blank\" href=\"https://among.github.io/fusus/fusus/assets/lakhnawi-with-toc.html#p026\" title=\"show this passage in the the original (html derived from pdf)\" sec=\"4 26:1\">4 26:1</a></span></span></td><td class=\"tf rtl\"><span class=\"rtl ubd\"></span></td><td class=\"tf rtl\"><span class=\"rtl ubd\"><span class=\"plain rtl  hl\" ><span class=\"txtu ara\">ومفرداته.</span></span></span></td></tr>\n",
       "<tr class=\"tf rtl\"><td class=\"tf rtl\">19</td><td class=\"tf rtl\"><span class=\"tfsechead rtl\"><span class=\"ltr\"><a target=\"_blank\" href=\"https://among.github.io/fusus/fusus/assets/lakhnawi-with-toc.html#p027\" title=\"show this passage in the the original (html derived from pdf)\" sec=\"4 27:1\">4 27:1</a></span></span></td><td class=\"tf rtl\"><span class=\"rtl ubd\"></span></td><td class=\"tf rtl\"><span class=\"rtl ubd\"><span class=\"plain rtl  hl\" ><span class=\"txtu ara\">الكامل.</span></span></span></td></tr>\n",
       "<tr class=\"tf rtl\"><td class=\"tf rtl\">20</td><td class=\"tf rtl\"><span class=\"tfsechead rtl\"><span class=\"ltr\"><a target=\"_blank\" href=\"https://among.github.io/fusus/fusus/assets/lakhnawi-with-toc.html#p028\" title=\"show this passage in the the original (html derived from pdf)\" sec=\"4 28:1\">4 28:1</a></span></span></td><td class=\"tf rtl\"><span class=\"rtl ubd\"></span></td><td class=\"tf rtl\"><span class=\"rtl ubd\"><span class=\"plain rtl  hl\" ><span class=\"txtu ara\">نكني</span></span></span></td></tr></table>"
      ],
      "text/plain": [
       "<IPython.core.display.HTML object>"
      ]
     },
     "metadata": {},
     "output_type": "display_data"
    }
   ],
   "source": [
    "template = \"\"\"\n",
    "line ln=1\n",
    "  := word\n",
    "\"\"\"\n",
    "results = A.search(template)\n",
    "A.table(results, end=20)"
   ]
  },
  {
   "cell_type": "markdown",
   "metadata": {},
   "source": [
    "All first words of a piece"
   ]
  },
  {
   "cell_type": "code",
   "execution_count": 13,
   "metadata": {},
   "outputs": [
    {
     "name": "stdout",
     "output_type": "stream",
     "text": [
      "  0.05s 29 results\n"
     ]
    },
    {
     "data": {
      "text/html": [
       "<table><tr class=\"tf rtl\"><th class=\"tf rtl\">n</th><th class=\"tf rtl\">p</th><th class=\"tf rtl\">piece</th><th class=\"tf\">word</th></tr>\n",
       "<tr class=\"tf rtl\"><td class=\"tf rtl\">1</td><td class=\"tf rtl\"><span class=\"tfsechead rtl\"><span class=\"ltr\"><a target=\"_blank\" href=\"https://among.github.io/fusus/fusus/assets/lakhnawi-with-toc.html#p000\" title=\"show this passage in the the original (html derived from pdf)\" sec=\"1 0:0\">1 0:0</a></span></span></td><td class=\"tf rtl\"><span class=\"rtl ubd\"><span class=\"txtu ara rtl\"><span class=\"tfsechead rtl\"><span class=\"ltr\">1</span></span></span></span></td><td class=\"tf rtl\"><span class=\"rtl ubd\"><span class=\"plain rtl  hl\" ></span></span></td></tr>\n",
       "<tr class=\"tf rtl\"><td class=\"tf rtl\">2</td><td class=\"tf rtl\"><span class=\"tfsechead rtl\"><span class=\"ltr\"><a target=\"_blank\" href=\"https://among.github.io/fusus/fusus/assets/lakhnawi-with-toc.html#p008\" title=\"show this passage in the the original (html derived from pdf)\" sec=\"3 8:2\">3 8:2</a></span></span></td><td class=\"tf rtl\"><span class=\"rtl ubd\"><span class=\"txtu ara rtl\"><span class=\"tfsechead rtl\"><span class=\"ltr\">3</span></span></span></span></td><td class=\"tf rtl\"><span class=\"rtl ubd\"><span class=\"plain rtl  hl\" ><span class=\"txtu ara\">الحمد</span></span></span></td></tr>\n",
       "<tr class=\"tf rtl\"><td class=\"tf rtl\">3</td><td class=\"tf rtl\"><span class=\"tfsechead rtl\"><span class=\"ltr\"><a target=\"_blank\" href=\"https://among.github.io/fusus/fusus/assets/lakhnawi-with-toc.html#p014\" title=\"show this passage in the the original (html derived from pdf)\" sec=\"4 14:1\">4 14:1</a></span></span></td><td class=\"tf rtl\"><span class=\"rtl ubd\"><span class=\"txtu ara rtl\"><span class=\"tfsechead rtl\"><span class=\"ltr\">4</span></span></span></span></td><td class=\"tf rtl\"><span class=\"rtl ubd\"><span class=\"plain rtl  hl\" ><span class=\"txtu ara\">فص</span></span></span></td></tr>\n",
       "<tr class=\"tf rtl\"><td class=\"tf rtl\">4</td><td class=\"tf rtl\"><span class=\"tfsechead rtl\"><span class=\"ltr\"><a target=\"_blank\" href=\"https://among.github.io/fusus/fusus/assets/lakhnawi-with-toc.html#p032\" title=\"show this passage in the the original (html derived from pdf)\" sec=\"5 32:1\">5 32:1</a></span></span></td><td class=\"tf rtl\"><span class=\"rtl ubd\"><span class=\"txtu ara rtl\"><span class=\"tfsechead rtl\"><span class=\"ltr\">5</span></span></span></span></td><td class=\"tf rtl\"><span class=\"rtl ubd\"><span class=\"plain rtl  hl\" ><span class=\"txtu ara\">حكمة</span></span></span></td></tr>\n",
       "<tr class=\"tf rtl\"><td class=\"tf rtl\">5</td><td class=\"tf rtl\"><span class=\"tfsechead rtl\"><span class=\"ltr\"><a target=\"_blank\" href=\"https://among.github.io/fusus/fusus/assets/lakhnawi-with-toc.html#p052\" title=\"show this passage in the the original (html derived from pdf)\" sec=\"6 52:1\">6 52:1</a></span></span></td><td class=\"tf rtl\"><span class=\"rtl ubd\"><span class=\"txtu ara rtl\"><span class=\"tfsechead rtl\"><span class=\"ltr\">6</span></span></span></span></td><td class=\"tf rtl\"><span class=\"rtl ubd\"><span class=\"plain rtl  hl\" ><span class=\"txtu ara\">وهو</span></span></span></td></tr>\n",
       "<tr class=\"tf rtl\"><td class=\"tf rtl\">6</td><td class=\"tf rtl\"><span class=\"tfsechead rtl\"><span class=\"ltr\"><a target=\"_blank\" href=\"https://among.github.io/fusus/fusus/assets/lakhnawi-with-toc.html#p071\" title=\"show this passage in the the original (html derived from pdf)\" sec=\"7 71:1\">7 71:1</a></span></span></td><td class=\"tf rtl\"><span class=\"rtl ubd\"><span class=\"txtu ara rtl\"><span class=\"tfsechead rtl\"><span class=\"ltr\">7</span></span></span></span></td><td class=\"tf rtl\"><span class=\"rtl ubd\"><span class=\"plain rtl  hl\" ><span class=\"txtu ara\">المنازل،</span></span></span></td></tr>\n",
       "<tr class=\"tf rtl\"><td class=\"tf rtl\">7</td><td class=\"tf rtl\"><span class=\"tfsechead rtl\"><span class=\"ltr\"><a target=\"_blank\" href=\"https://among.github.io/fusus/fusus/assets/lakhnawi-with-toc.html#p084\" title=\"show this passage in the the original (html derived from pdf)\" sec=\"8 84:1\">8 84:1</a></span></span></td><td class=\"tf rtl\"><span class=\"rtl ubd\"><span class=\"txtu ara rtl\"><span class=\"tfsechead rtl\"><span class=\"ltr\">8</span></span></span></span></td><td class=\"tf rtl\"><span class=\"rtl ubd\"><span class=\"plain rtl  hl\" ><span class=\"txtu ara\">كما</span></span></span></td></tr>\n",
       "<tr class=\"tf rtl\"><td class=\"tf rtl\">8</td><td class=\"tf rtl\"><span class=\"tfsechead rtl\"><span class=\"ltr\"><a target=\"_blank\" href=\"https://among.github.io/fusus/fusus/assets/lakhnawi-with-toc.html#p095\" title=\"show this passage in the the original (html derived from pdf)\" sec=\"9 95:1\">9 95:1</a></span></span></td><td class=\"tf rtl\"><span class=\"rtl ubd\"><span class=\"txtu ara rtl\"><span class=\"tfsechead rtl\"><span class=\"ltr\">9</span></span></span></span></td><td class=\"tf rtl\"><span class=\"rtl ubd\"><span class=\"plain rtl  hl\" ><span class=\"txtu ara\">ولا</span></span></span></td></tr>\n",
       "<tr class=\"tf rtl\"><td class=\"tf rtl\">9</td><td class=\"tf rtl\"><span class=\"tfsechead rtl\"><span class=\"ltr\"><a target=\"_blank\" href=\"https://among.github.io/fusus/fusus/assets/lakhnawi-with-toc.html#p111\" title=\"show this passage in the the original (html derived from pdf)\" sec=\"10 111:1\">10 111:1</a></span></span></td><td class=\"tf rtl\"><span class=\"rtl ubd\"><span class=\"txtu ara rtl\"><span class=\"tfsechead rtl\"><span class=\"ltr\">10</span></span></span></span></td><td class=\"tf rtl\"><span class=\"rtl ubd\"><span class=\"plain rtl  hl\" ><span class=\"txtu ara\">ولهذا</span></span></span></td></tr>\n",
       "<tr class=\"tf rtl\"><td class=\"tf rtl\">10</td><td class=\"tf rtl\"><span class=\"tfsechead rtl\"><span class=\"ltr\"><a target=\"_blank\" href=\"https://among.github.io/fusus/fusus/assets/lakhnawi-with-toc.html#p121\" title=\"show this passage in the the original (html derived from pdf)\" sec=\"11 121:1\">11 121:1</a></span></span></td><td class=\"tf rtl\"><span class=\"rtl ubd\"><span class=\"txtu ara rtl\"><span class=\"tfsechead rtl\"><span class=\"ltr\">11</span></span></span></span></td><td class=\"tf rtl\"><span class=\"rtl ubd\"><span class=\"plain rtl  hl\" ><span class=\"txtu ara\">إن</span></span></span></td></tr>\n",
       "<tr class=\"tf rtl\"><td class=\"tf rtl\">11</td><td class=\"tf rtl\"><span class=\"tfsechead rtl\"><span class=\"ltr\"><a target=\"_blank\" href=\"https://among.github.io/fusus/fusus/assets/lakhnawi-with-toc.html#p147\" title=\"show this passage in the the original (html derived from pdf)\" sec=\"13 147:1\">13 147:1</a></span></span></td><td class=\"tf rtl\"><span class=\"rtl ubd\"><span class=\"txtu ara rtl\"><span class=\"tfsechead rtl\"><span class=\"ltr\">13</span></span></span></span></td><td class=\"tf rtl\"><span class=\"rtl ubd\"><span class=\"plain rtl  hl\" ><span class=\"txtu ara\">فأسماؤنا</span></span></span></td></tr>\n",
       "<tr class=\"tf rtl\"><td class=\"tf rtl\">12</td><td class=\"tf rtl\"><span class=\"tfsechead rtl\"><span class=\"ltr\"><a target=\"_blank\" href=\"https://among.github.io/fusus/fusus/assets/lakhnawi-with-toc.html#p166\" title=\"show this passage in the the original (html derived from pdf)\" sec=\"14 166:1\">14 166:1</a></span></span></td><td class=\"tf rtl\"><span class=\"rtl ubd\"><span class=\"txtu ara rtl\"><span class=\"tfsechead rtl\"><span class=\"ltr\">14</span></span></span></span></td><td class=\"tf rtl\"><span class=\"rtl ubd\"><span class=\"plain rtl  hl\" ><span class=\"txtu ara\">تسمى</span></span></span></td></tr>\n",
       "<tr class=\"tf rtl\"><td class=\"tf rtl\">13</td><td class=\"tf rtl\"><span class=\"tfsechead rtl\"><span class=\"ltr\"><a target=\"_blank\" href=\"https://among.github.io/fusus/fusus/assets/lakhnawi-with-toc.html#p173\" title=\"show this passage in the the original (html derived from pdf)\" sec=\"15 173:1\">15 173:1</a></span></span></td><td class=\"tf rtl\"><span class=\"rtl ubd\"><span class=\"txtu ara rtl\"><span class=\"tfsechead rtl\"><span class=\"ltr\">15</span></span></span></span></td><td class=\"tf rtl\"><span class=\"rtl ubd\"><span class=\"plain rtl  hl\" ><span class=\"txtu ara\">الأشقياء:</span></span></span></td></tr>\n",
       "<tr class=\"tf rtl\"><td class=\"tf rtl\">14</td><td class=\"tf rtl\"><span class=\"tfsechead rtl\"><span class=\"ltr\"><a target=\"_blank\" href=\"https://among.github.io/fusus/fusus/assets/lakhnawi-with-toc.html#p189\" title=\"show this passage in the the original (html derived from pdf)\" sec=\"16 189:1\">16 189:1</a></span></span></td><td class=\"tf rtl\"><span class=\"rtl ubd\"><span class=\"txtu ara rtl\"><span class=\"tfsechead rtl\"><span class=\"ltr\">16</span></span></span></span></td><td class=\"tf rtl\"><span class=\"rtl ubd\"><span class=\"plain rtl  hl\" ><span class=\"txtu ara\">ولا</span></span></span></td></tr>\n",
       "<tr class=\"tf rtl\"><td class=\"tf rtl\">15</td><td class=\"tf rtl\"><span class=\"tfsechead rtl\"><span class=\"ltr\"><a target=\"_blank\" href=\"https://among.github.io/fusus/fusus/assets/lakhnawi-with-toc.html#p198\" title=\"show this passage in the the original (html derived from pdf)\" sec=\"17 198:1\">17 198:1</a></span></span></td><td class=\"tf rtl\"><span class=\"rtl ubd\"><span class=\"txtu ara rtl\"><span class=\"tfsechead rtl\"><span class=\"ltr\">17</span></span></span></span></td><td class=\"tf rtl\"><span class=\"rtl ubd\"><span class=\"plain rtl  hl\" ><span class=\"txtu ara\">هي</span></span></span></td></tr>\n",
       "<tr class=\"tf rtl\"><td class=\"tf rtl\">16</td><td class=\"tf rtl\"><span class=\"tfsechead rtl\"><span class=\"ltr\"><a target=\"_blank\" href=\"https://among.github.io/fusus/fusus/assets/lakhnawi-with-toc.html#p211\" title=\"show this passage in the the original (html derived from pdf)\" sec=\"18 211:1\">18 211:1</a></span></span></td><td class=\"tf rtl\"><span class=\"rtl ubd\"><span class=\"txtu ara rtl\"><span class=\"tfsechead rtl\"><span class=\"ltr\">18</span></span></span></span></td><td class=\"tf rtl\"><span class=\"rtl ubd\"><span class=\"plain rtl  hl\" ><span class=\"txtu ara\">وغيره.</span></span></span></td></tr>\n",
       "<tr class=\"tf rtl\"><td class=\"tf rtl\">17</td><td class=\"tf rtl\"><span class=\"tfsechead rtl\"><span class=\"ltr\"><a target=\"_blank\" href=\"https://among.github.io/fusus/fusus/assets/lakhnawi-with-toc.html#p242\" title=\"show this passage in the the original (html derived from pdf)\" sec=\"19 242:1\">19 242:1</a></span></span></td><td class=\"tf rtl\"><span class=\"rtl ubd\"><span class=\"txtu ara rtl\"><span class=\"tfsechead rtl\"><span class=\"ltr\">19</span></span></span></span></td><td class=\"tf rtl\"><span class=\"rtl ubd\"><span class=\"plain rtl  hl\" ><span class=\"txtu ara\">هذه</span></span></span></td></tr>\n",
       "<tr class=\"tf rtl\"><td class=\"tf rtl\">18</td><td class=\"tf rtl\"><span class=\"tfsechead rtl\"><span class=\"ltr\"><a target=\"_blank\" href=\"https://among.github.io/fusus/fusus/assets/lakhnawi-with-toc.html#p262\" title=\"show this passage in the the original (html derived from pdf)\" sec=\"20 262:1\">20 262:1</a></span></span></td><td class=\"tf rtl\"><span class=\"rtl ubd\"><span class=\"txtu ara rtl\"><span class=\"tfsechead rtl\"><span class=\"ltr\">20</span></span></span></span></td><td class=\"tf rtl\"><span class=\"rtl ubd\"><span class=\"plain rtl  hl\" ><span class=\"txtu ara\">وإذا</span></span></span></td></tr>\n",
       "<tr class=\"tf rtl\"><td class=\"tf rtl\">19</td><td class=\"tf rtl\"><span class=\"tfsechead rtl\"><span class=\"ltr\"><a target=\"_blank\" href=\"https://among.github.io/fusus/fusus/assets/lakhnawi-with-toc.html#p278\" title=\"show this passage in the the original (html derived from pdf)\" sec=\"21 278:1\">21 278:1</a></span></span></td><td class=\"tf rtl\"><span class=\"rtl ubd\"><span class=\"txtu ara rtl\"><span class=\"tfsechead rtl\"><span class=\"ltr\">21</span></span></span></span></td><td class=\"tf rtl\"><span class=\"rtl ubd\"><span class=\"plain rtl  hl\" ><span class=\"txtu ara\">وما</span></span></span></td></tr>\n",
       "<tr class=\"tf rtl\"><td class=\"tf rtl\">20</td><td class=\"tf rtl\"><span class=\"tfsechead rtl\"><span class=\"ltr\"><a target=\"_blank\" href=\"https://among.github.io/fusus/fusus/assets/lakhnawi-with-toc.html#p287\" title=\"show this passage in the the original (html derived from pdf)\" sec=\"22 287:1\">22 287:1</a></span></span></td><td class=\"tf rtl\"><span class=\"rtl ubd\"><span class=\"txtu ara rtl\"><span class=\"tfsechead rtl\"><span class=\"ltr\">22</span></span></span></span></td><td class=\"tf rtl\"><span class=\"rtl ubd\"><span class=\"plain rtl  hl\" ><span class=\"txtu ara\">ومنها</span></span></span></td></tr></table>"
      ],
      "text/plain": [
       "<IPython.core.display.HTML object>"
      ]
     },
     "metadata": {},
     "output_type": "display_data"
    }
   ],
   "source": [
    "template = \"\"\"\n",
    "piece\n",
    "  =: word\n",
    "\"\"\"\n",
    "results = A.search(template)\n",
    "A.table(results, end=20)"
   ]
  },
  {
   "cell_type": "code",
   "execution_count": 14,
   "metadata": {},
   "outputs": [
    {
     "data": {
      "text/html": [
       "<div class=\"rtl\"><span class=\"tfsechead rtl\"><span class=\"ltr\"><a target=\"_blank\" href=\"https://among.github.io/fusus/fusus/assets/lakhnawi-with-toc.html#p014\" title=\"show this passage in the the original (html derived from pdf)\" sec=\"4 14:1\">4 14:1</a></span></span>  <span class=\"txtu ara\">فص</span><span class=\"txtu ara\">حكمة</span><span class=\"txtu ara\">إلهية</span><span class=\"txtu ara\">في</span><span class=\"txtu ara\">كلمة</span><span class=\"txtu ara\">آدمية</span></div>"
      ],
      "text/plain": [
       "<IPython.core.display.HTML object>"
      ]
     },
     "metadata": {},
     "output_type": "display_data"
    }
   ],
   "source": [
    "ln = A.nodeFromSectionStr(\"4 14:1\")\n",
    "A.plain(ln)"
   ]
  },
  {
   "cell_type": "markdown",
   "metadata": {},
   "source": [
    "Pick line 500"
   ]
  },
  {
   "cell_type": "code",
   "execution_count": 15,
   "metadata": {},
   "outputs": [
    {
     "data": {
      "text/plain": [
       "45942"
      ]
     },
     "execution_count": 15,
     "metadata": {},
     "output_type": "execute_result"
    }
   ],
   "source": [
    "l = F.otype.s(\"line\")[499]\n",
    "l"
   ]
  },
  {
   "cell_type": "markdown",
   "metadata": {},
   "source": [
    "Where is it?"
   ]
  },
  {
   "cell_type": "code",
   "execution_count": 16,
   "metadata": {},
   "outputs": [
    {
     "data": {
      "text/html": [
       "<div class=\"rtl\"><span class=\"tfsechead rtl\"><span class=\"ltr\"><a target=\"_blank\" href=\"https://among.github.io/fusus/fusus/assets/lakhnawi-with-toc.html#p052\" title=\"show this passage in the the original (html derived from pdf)\" sec=\"6 52:1\">6 52:1</a></span></span>  <span class=\"txtu ara\">وهو</span><span class=\"txtu ara\">في</span><span class=\"txtu ara\">الفائت.</span><span class=\"txtu ara\">وهوكمن</span><span class=\"txtu ara\">آمن</span><span class=\"txtu ara\">ببعض</span><span class=\"txtu ara\">وكفر</span><span class=\"txtu ara\">ببعض.</span></div>"
      ],
      "text/plain": [
       "<IPython.core.display.HTML object>"
      ]
     },
     "metadata": {},
     "output_type": "display_data"
    }
   ],
   "source": [
    "A.plain(l)"
   ]
  },
  {
   "cell_type": "markdown",
   "metadata": {},
   "source": [
    "Show structure"
   ]
  },
  {
   "cell_type": "code",
   "execution_count": 17,
   "metadata": {},
   "outputs": [
    {
     "data": {
      "text/html": [
       "<div class=\"tfsechead rtl\"><span class=\"ltr\"><a target=\"_blank\" href=\"https://among.github.io/fusus/fusus/assets/lakhnawi-with-toc.html#p052\" title=\"show this passage in the the original (html derived from pdf)\" sec=\"6 52:1\">6 52:1</a></span></div><div class=\"rtl children\"><div class=\"contnr c3  rtl  \" ><div class=\"lbl c3  \" ><span class=\"nd\">line</span></div><div class=\"children hor wrap rtl\"><div class=\"contnr c1  rtl  \" ><div class=\"lbl c1  \" ><span class=\"nd\">column</span></div><div class=\"children hor wrap rtl\"><div class=\"contnr c1  rtl  \" ><div class=\"lbl c1  \" ><span class=\"nd\">span</span></div><div class=\"children hor wrap rtl\"><div class=\"contnr c0 trm rtl  \" ><div class=\"lbl c0 trm \" ><span class=\"txtu ara\">وهو</span></div></div><div class=\"contnr c0 trm rtl  \" ><div class=\"lbl c0 trm \" ><span class=\"txtu ara\">في</span></div></div><div class=\"contnr c0 trm rtl  \" ><div class=\"lbl c0 trm \" ><span class=\"txtu ara\">الفائت.</span></div></div><div class=\"contnr c0 trm rtl  \" ><div class=\"lbl c0 trm \" ><span class=\"txtu ara\">وهوكمن</span></div></div><div class=\"contnr c0 trm rtl  \" ></div><div class=\"contnr c0 trm rtl  \" ><div class=\"lbl c0 trm \" ><span class=\"txtu ara\">آمن</span></div></div><div class=\"contnr c0 trm rtl  \" ><div class=\"lbl c0 trm \" ><span class=\"txtu ara\">ببعض</span></div></div><div class=\"contnr c0 trm rtl  \" ><div class=\"lbl c0 trm \" ><span class=\"txtu ara\">وكفر</span></div></div><div class=\"contnr c0 trm rtl  \" ><div class=\"lbl c0 trm \" ><span class=\"txtu ara\">ببعض.</span></div></div></div></div></div></div></div></div></div>"
      ],
      "text/plain": [
       "<IPython.core.display.HTML object>"
      ]
     },
     "metadata": {},
     "output_type": "display_data"
    }
   ],
   "source": [
    "A.pretty(l)"
   ]
  },
  {
   "cell_type": "markdown",
   "metadata": {},
   "source": [
    "Show more info"
   ]
  },
  {
   "cell_type": "code",
   "execution_count": 18,
   "metadata": {},
   "outputs": [
    {
     "data": {
      "text/html": [
       "<div class=\"tfsechead rtl\"><span class=\"ltr\"><a target=\"_blank\" href=\"https://among.github.io/fusus/fusus/assets/lakhnawi-with-toc.html#p052\" title=\"show this passage in the the original (html derived from pdf)\" sec=\"6 52:1\">6 52:1</a></span></div><div class=\"rtl children\"><div class=\"contnr c3  rtl  \" ><div class=\"lbl c3  \" ><span class=\"nd\">line</span></div><div class=\"children hor wrap rtl\"><div class=\"contnr c1  rtl  \" ><div class=\"lbl c1  \" ><span class=\"nd\">column</span></div><div class='features'><span class=\"n xft\" ><span class=\"f\">n=</span>1</span></div><div class=\"children hor wrap rtl\"><div class=\"contnr c1  rtl  \" ><div class=\"lbl c1  \" ><span class=\"nd\">span</span></div><div class='features'><span class=\"n xft\" ><span class=\"f\">n=</span>1</span></div><div class=\"children hor wrap rtl\"><div class=\"contnr c0 trm rtl  \" ><div class=\"lbl c0 trm \" ><span class=\"txtu ara\">وهو</span></div></div><div class=\"contnr c0 trm rtl  \" ><div class=\"lbl c0 trm \" ><span class=\"txtu ara\">في</span></div></div><div class=\"contnr c0 trm rtl  \" ><div class=\"lbl c0 trm \" ><span class=\"txtu ara\">الفائت.</span></div></div><div class=\"contnr c0 trm rtl  \" ><div class=\"lbl c0 trm \" ><span class=\"txtu ara\">وهوكمن</span></div></div><div class=\"contnr c0 trm rtl  \" ></div><div class=\"contnr c0 trm rtl  \" ><div class=\"lbl c0 trm \" ><span class=\"txtu ara\">آمن</span></div></div><div class=\"contnr c0 trm rtl  \" ><div class=\"lbl c0 trm \" ><span class=\"txtu ara\">ببعض</span></div></div><div class=\"contnr c0 trm rtl  \" ><div class=\"lbl c0 trm \" ><span class=\"txtu ara\">وكفر</span></div></div><div class=\"contnr c0 trm rtl  \" ><div class=\"lbl c0 trm \" ><span class=\"txtu ara\">ببعض.</span></div></div></div></div></div></div></div></div></div>"
      ],
      "text/plain": [
       "<IPython.core.display.HTML object>"
      ]
     },
     "metadata": {},
     "output_type": "display_data"
    }
   ],
   "source": [
    "A.pretty(l, extraFeatures=\"n\")"
   ]
  },
  {
   "cell_type": "markdown",
   "metadata": {},
   "source": [
    "Locate a specific portion"
   ]
  },
  {
   "cell_type": "code",
   "execution_count": 19,
   "metadata": {},
   "outputs": [
    {
     "name": "stdout",
     "output_type": "stream",
     "text": [
      "  0.07s 37 results\n"
     ]
    },
    {
     "data": {
      "text/html": [
       "<p><b>line</b> <i>1</i></p>"
      ],
      "text/plain": [
       "<IPython.core.display.HTML object>"
      ]
     },
     "metadata": {},
     "output_type": "display_data"
    },
    {
     "data": {
      "text/html": [
       "<div class=\"tfsechead rtl\"><span class=\"ltr\"><a target=\"_blank\" href=\"https://among.github.io/fusus/fusus/assets/lakhnawi-with-toc.html#p032\" title=\"show this passage in the the original (html derived from pdf)\" sec=\"5 32:2\">5 32:2</a></span></div><div class=\"rtl children\"><div class=\"contnr c3  rtl  \" ><div class=\"lbl c3  \" ><span class=\"nd\">line</span></div><div class=\"children hor wrap rtl\"><div class=\"contnr c1  rtl  \" ><div class=\"lbl c1  \" ><span class=\"nd\">column</span></div><div class='features'><span class=\"n xft\" ><span class=\"f\">n=</span>1</span></div><div class=\"children hor wrap rtl\"><div class=\"contnr c1  rtl  \" ><div class=\"lbl c1  \" ><span class=\"nd\">span</span></div><div class='features'><span class=\"n xft\" ><span class=\"f\">n=</span>1</span></div><div class=\"children hor wrap rtl\"><div class=\"contnr c0 trm rtl  hl\" ><div class=\"lbl c0 trm hl\" ><span class=\"txtu ara\">اعلم</span></div><div class='features'><span class=\"letters xft\" ><span class=\"f\">letters=</span>اعلم</span></div></div><div class=\"contnr c0 trm rtl  \" ><div class=\"lbl c0 trm \" ><span class=\"txtu ara\">أن</span></div><div class='features'><span class=\"letters xft\" ><span class=\"f\">letters=</span>أن</span></div></div><div class=\"contnr c0 trm rtl  hl\" ><div class=\"lbl c0 trm hl\" ><span class=\"txtu ara\">العطايا</span></div><div class='features'><span class=\"letters xft\" ><span class=\"f\">letters=</span>العطايا</span></div></div><div class=\"contnr c0 trm rtl  hl\" ><div class=\"lbl c0 trm hl\" ><span class=\"txtu ara\">والمنح</span></div><div class='features'><span class=\"letters xft\" ><span class=\"f\">letters=</span>والمنح</span></div></div><div class=\"contnr c0 trm rtl  hl\" ><div class=\"lbl c0 trm hl\" ><span class=\"txtu ara\">الظاهرة</span></div><div class='features'><span class=\"letters xft\" ><span class=\"f\">letters=</span>الظاهرة</span></div></div><div class=\"contnr c0 trm rtl  \" ><div class=\"lbl c0 trm \" ><span class=\"txtu ara\">في</span></div><div class='features'><span class=\"letters xft\" ><span class=\"f\">letters=</span>في</span></div></div><div class=\"contnr c0 trm rtl  hl\" ><div class=\"lbl c0 trm hl\" ><span class=\"txtu ara\">الكون</span></div><div class='features'><span class=\"letters xft\" ><span class=\"f\">letters=</span>الكون</span></div></div><div class=\"contnr c0 trm rtl  \" ><div class=\"lbl c0 trm \" ><span class=\"txtu ara\">على―</span></div><div class='features'><span class=\"letters xft\" ><span class=\"f\">letters=</span>على</span></div></div><div class=\"contnr c0 trm rtl  \" ><div class=\"lbl c0 trm \" ><span class=\"txtu ara\">أيدي</span></div><div class='features'><span class=\"letters xft\" ><span class=\"f\">letters=</span>أيدي</span></div></div><div class=\"contnr c0 trm rtl  hl\" ><div class=\"lbl c0 trm hl\" ><span class=\"txtu ara\">العباد</span></div><div class='features'><span class=\"letters xft\" ><span class=\"f\">letters=</span>العباد</span></div></div><div class=\"contnr c0 trm rtl  \" ><div class=\"lbl c0 trm \" ><span class=\"txtu ara\">وعلى</span></div><div class='features'><span class=\"letters xft\" ><span class=\"f\">letters=</span>وعلى</span></div></div></div></div></div></div></div></div></div>"
      ],
      "text/plain": [
       "<IPython.core.display.HTML object>"
      ]
     },
     "metadata": {},
     "output_type": "display_data"
    },
    {
     "data": {
      "text/html": [
       "<p><b>line</b> <i>2</i></p>"
      ],
      "text/plain": [
       "<IPython.core.display.HTML object>"
      ]
     },
     "metadata": {},
     "output_type": "display_data"
    },
    {
     "data": {
      "text/html": [
       "<div class=\"tfsechead rtl\"><span class=\"ltr\"><a target=\"_blank\" href=\"https://among.github.io/fusus/fusus/assets/lakhnawi-with-toc.html#p032\" title=\"show this passage in the the original (html derived from pdf)\" sec=\"5 32:3\">5 32:3</a></span></div><div class=\"rtl children\"><div class=\"contnr c3  rtl  \" ><div class=\"lbl c3  \" ><span class=\"nd\">line</span></div><div class=\"children hor wrap rtl\"><div class=\"contnr c1  rtl  \" ><div class=\"lbl c1  \" ><span class=\"nd\">column</span></div><div class='features'><span class=\"n xft\" ><span class=\"f\">n=</span>1</span></div><div class=\"children hor wrap rtl\"><div class=\"contnr c1  rtl  \" ><div class=\"lbl c1  \" ><span class=\"nd\">span</span></div><div class='features'><span class=\"n xft\" ><span class=\"f\">n=</span>1</span></div><div class=\"children hor wrap rtl\"><div class=\"contnr c0 trm rtl  \" ><div class=\"lbl c0 trm \" ><span class=\"txtu ara\">غير</span></div><div class='features'><span class=\"letters xft\" ><span class=\"f\">letters=</span>غير</span></div></div><div class=\"contnr c0 trm rtl  \" ><div class=\"lbl c0 trm \" ><span class=\"txtu ara\">أيديهم</span></div><div class='features'><span class=\"letters xft\" ><span class=\"f\">letters=</span>أيديهم</span></div></div><div class=\"contnr c0 trm rtl  \" ><div class=\"lbl c0 trm \" ><span class=\"txtu ara\">على―</span></div><div class='features'><span class=\"letters xft\" ><span class=\"f\">letters=</span>على</span></div></div><div class=\"contnr c0 trm rtl  \" ><div class=\"lbl c0 trm \" ><span class=\"txtu ara\">قسمين:</span></div><div class='features'><span class=\"letters xft\" ><span class=\"f\">letters=</span>قسمين</span></div></div><div class=\"contnr c0 trm rtl  hl\" ><div class=\"lbl c0 trm hl\" ><span class=\"txtu ara\">منها،</span></div><div class='features'><span class=\"letters xft\" ><span class=\"f\">letters=</span>منها</span></div></div><div class=\"contnr c0 trm rtl  hl\" ><div class=\"lbl c0 trm hl\" ><span class=\"txtu ara\">ما</span></div><div class='features'><span class=\"letters xft\" ><span class=\"f\">letters=</span>ما</span></div></div><div class=\"contnr c0 trm rtl  \" ><div class=\"lbl c0 trm \" ><span class=\"txtu ara\">تكون</span></div><div class='features'><span class=\"letters xft\" ><span class=\"f\">letters=</span>تكون</span></div></div><div class=\"contnr c0 trm rtl  hl\" ><div class=\"lbl c0 trm hl\" ><span class=\"txtu ara\">عطايا</span></div><div class='features'><span class=\"letters xft\" ><span class=\"f\">letters=</span>عطايا</span></div></div><div class=\"contnr c0 trm rtl  hl\" ><div class=\"lbl c0 trm hl\" ><span class=\"txtu ara\">ذاتية</span></div><div class='features'><span class=\"letters xft\" ><span class=\"f\">letters=</span>ذاتية</span></div></div><div class=\"contnr c0 trm rtl  hl\" ><div class=\"lbl c0 trm hl\" ><span class=\"txtu ara\">وعطايا</span></div><div class='features'><span class=\"letters xft\" ><span class=\"f\">letters=</span>وعطايا</span></div></div><div class=\"contnr c0 trm rtl  hl\" ><div class=\"lbl c0 trm hl\" ><span class=\"txtu ara\">أسمائية،</span></div><div class='features'><span class=\"letters xft\" ><span class=\"f\">letters=</span>أسمائية</span></div></div></div></div></div></div></div></div></div>"
      ],
      "text/plain": [
       "<IPython.core.display.HTML object>"
      ]
     },
     "metadata": {},
     "output_type": "display_data"
    },
    {
     "data": {
      "text/html": [
       "<p><b>line</b> <i>3</i></p>"
      ],
      "text/plain": [
       "<IPython.core.display.HTML object>"
      ]
     },
     "metadata": {},
     "output_type": "display_data"
    },
    {
     "data": {
      "text/html": [
       "<div class=\"tfsechead rtl\"><span class=\"ltr\"><a target=\"_blank\" href=\"https://among.github.io/fusus/fusus/assets/lakhnawi-with-toc.html#p032\" title=\"show this passage in the the original (html derived from pdf)\" sec=\"5 32:4\">5 32:4</a></span></div><div class=\"rtl children\"><div class=\"contnr c3  rtl  \" ><div class=\"lbl c3  \" ><span class=\"nd\">line</span></div><div class=\"children hor wrap rtl\"><div class=\"contnr c1  rtl  \" ><div class=\"lbl c1  \" ><span class=\"nd\">column</span></div><div class='features'><span class=\"n xft\" ><span class=\"f\">n=</span>1</span></div><div class=\"children hor wrap rtl\"><div class=\"contnr c1  rtl  \" ><div class=\"lbl c1  \" ><span class=\"nd\">span</span></div><div class='features'><span class=\"n xft\" ><span class=\"f\">n=</span>1</span></div><div class=\"children hor wrap rtl\"><div class=\"contnr c0 trm rtl  \" ><div class=\"lbl c0 trm \" ><span class=\"txtu ara\">وتتميز</span></div><div class='features'><span class=\"letters xft\" ><span class=\"f\">letters=</span>وتتميز</span></div></div><div class=\"contnr c0 trm rtl  \" ><div class=\"lbl c0 trm \" ><span class=\"txtu ara\">عند</span></div><div class='features'><span class=\"letters xft\" ><span class=\"f\">letters=</span>عند</span></div></div><div class=\"contnr c0 trm rtl  \" ><div class=\"lbl c0 trm \" ><span class=\"txtu ara\">أهل</span></div><div class='features'><span class=\"letters xft\" ><span class=\"f\">letters=</span>أهل</span></div></div><div class=\"contnr c0 trm rtl  hl\" ><div class=\"lbl c0 trm hl\" ><span class=\"txtu ara\">الأذواق.</span></div><div class='features'><span class=\"letters xft\" ><span class=\"f\">letters=</span>الأذواق</span></div></div></div></div></div></div></div></div></div>"
      ],
      "text/plain": [
       "<IPython.core.display.HTML object>"
      ]
     },
     "metadata": {},
     "output_type": "display_data"
    },
    {
     "data": {
      "text/html": [
       "<p><b>line</b> <i>4</i></p>"
      ],
      "text/plain": [
       "<IPython.core.display.HTML object>"
      ]
     },
     "metadata": {},
     "output_type": "display_data"
    },
    {
     "data": {
      "text/html": [
       "<div class=\"tfsechead rtl\"><span class=\"ltr\"><a target=\"_blank\" href=\"https://among.github.io/fusus/fusus/assets/lakhnawi-with-toc.html#p032\" title=\"show this passage in the the original (html derived from pdf)\" sec=\"5 32:5\">5 32:5</a></span></div><div class=\"rtl children\"><div class=\"contnr c3  rtl  \" ><div class=\"lbl c3  \" ><span class=\"nd\">line</span></div><div class=\"children hor wrap rtl\"><div class=\"contnr c1  rtl  \" ><div class=\"lbl c1  \" ><span class=\"nd\">column</span></div><div class='features'><span class=\"n xft\" ><span class=\"f\">n=</span>1</span></div><div class=\"children hor wrap rtl\"><div class=\"contnr c1  rtl  \" ><div class=\"lbl c1  \" ><span class=\"nd\">span</span></div><div class='features'><span class=\"n xft\" ><span class=\"f\">n=</span>1</span></div><div class=\"children hor wrap rtl\"><div class=\"contnr c0 trm rtl  hl\" ><div class=\"lbl c0 trm hl\" ><span class=\"txtu ara\">كما</span></div><div class='features'><span class=\"letters xft\" ><span class=\"f\">letters=</span>كما</span></div></div><div class=\"contnr c0 trm rtl  \" ><div class=\"lbl c0 trm \" ><span class=\"txtu ara\">أن</span></div><div class='features'><span class=\"letters xft\" ><span class=\"f\">letters=</span>أن</span></div></div><div class=\"contnr c0 trm rtl  hl\" ><div class=\"lbl c0 trm hl\" ><span class=\"txtu ara\">منها</span></div><div class='features'><span class=\"letters xft\" ><span class=\"f\">letters=</span>منها</span></div></div><div class=\"contnr c0 trm rtl  hl\" ><div class=\"lbl c0 trm hl\" ><span class=\"txtu ara\">ما</span></div><div class='features'><span class=\"letters xft\" ><span class=\"f\">letters=</span>ما</span></div></div><div class=\"contnr c0 trm rtl  \" ><div class=\"lbl c0 trm \" ><span class=\"txtu ara\">تكون</span></div><div class='features'><span class=\"letters xft\" ><span class=\"f\">letters=</span>تكون</span></div></div><div class=\"contnr c0 trm rtl  \" ><div class=\"lbl c0 trm \" ><span class=\"txtu ara\">عن</span></div><div class='features'><span class=\"letters xft\" ><span class=\"f\">letters=</span>عن</span></div></div><div class=\"contnr c0 trm rtl  hl\" ><div class=\"lbl c0 trm hl\" ><span class=\"txtu ara\">سؤال</span></div><div class='features'><span class=\"letters xft\" ><span class=\"f\">letters=</span>سؤال</span></div></div><div class=\"contnr c0 trm rtl  \" ><div class=\"lbl c0 trm \" ><span class=\"txtu ara\">في</span></div><div class='features'><span class=\"letters xft\" ><span class=\"f\">letters=</span>في</span></div></div><div class=\"contnr c0 trm rtl  \" ><div class=\"lbl c0 trm \" ><span class=\"txtu ara\">معين،</span></div><div class='features'><span class=\"letters xft\" ><span class=\"f\">letters=</span>معين</span></div></div><div class=\"contnr c0 trm rtl  \" ><div class=\"lbl c0 trm \" ><span class=\"txtu ara\">وعن</span></div><div class='features'><span class=\"letters xft\" ><span class=\"f\">letters=</span>وعن</span></div></div><div class=\"contnr c0 trm rtl  hl\" ><div class=\"lbl c0 trm hl\" ><span class=\"txtu ara\">سؤال</span></div><div class='features'><span class=\"letters xft\" ><span class=\"f\">letters=</span>سؤال</span></div></div><div class=\"contnr c0 trm rtl  \" ><div class=\"lbl c0 trm \" ><span class=\"txtu ara\">غير</span></div><div class='features'><span class=\"letters xft\" ><span class=\"f\">letters=</span>غير</span></div></div><div class=\"contnr c0 trm rtl  \" ><div class=\"lbl c0 trm \" ><span class=\"txtu ara\">معين.</span></div><div class='features'><span class=\"letters xft\" ><span class=\"f\">letters=</span>معين</span></div></div></div></div></div></div></div></div></div>"
      ],
      "text/plain": [
       "<IPython.core.display.HTML object>"
      ]
     },
     "metadata": {},
     "output_type": "display_data"
    },
    {
     "data": {
      "text/html": [
       "<p><b>line</b> <i>5</i></p>"
      ],
      "text/plain": [
       "<IPython.core.display.HTML object>"
      ]
     },
     "metadata": {},
     "output_type": "display_data"
    },
    {
     "data": {
      "text/html": [
       "<div class=\"tfsechead rtl\"><span class=\"ltr\"><a target=\"_blank\" href=\"https://among.github.io/fusus/fusus/assets/lakhnawi-with-toc.html#p032\" title=\"show this passage in the the original (html derived from pdf)\" sec=\"5 32:6\">5 32:6</a></span></div><div class=\"rtl children\"><div class=\"contnr c3  rtl  \" ><div class=\"lbl c3  \" ><span class=\"nd\">line</span></div><div class=\"children hor wrap rtl\"><div class=\"contnr c1  rtl  \" ><div class=\"lbl c1  \" ><span class=\"nd\">column</span></div><div class='features'><span class=\"n xft\" ><span class=\"f\">n=</span>1</span></div><div class=\"children hor wrap rtl\"><div class=\"contnr c1  rtl  \" ><div class=\"lbl c1  \" ><span class=\"nd\">span</span></div><div class='features'><span class=\"n xft\" ><span class=\"f\">n=</span>1</span></div><div class=\"children hor wrap rtl\"><div class=\"contnr c0 trm rtl  hl\" ><div class=\"lbl c0 trm hl\" ><span class=\"txtu ara\">ومنها:</span></div><div class='features'><span class=\"letters xft\" ><span class=\"f\">letters=</span>ومنها</span></div></div><div class=\"contnr c0 trm rtl  hl\" ><div class=\"lbl c0 trm hl\" ><span class=\"txtu ara\">ما</span></div><div class='features'><span class=\"letters xft\" ><span class=\"f\">letters=</span>ما</span></div></div><div class=\"contnr c0 trm rtl  hl\" ><div class=\"lbl c0 trm hl\" ><span class=\"txtu ara\">لا</span></div><div class='features'><span class=\"letters xft\" ><span class=\"f\">letters=</span>لا</span></div></div><div class=\"contnr c0 trm rtl  \" ><div class=\"lbl c0 trm \" ><span class=\"txtu ara\">يكون</span></div><div class='features'><span class=\"letters xft\" ><span class=\"f\">letters=</span>يكون</span></div></div><div class=\"contnr c0 trm rtl  \" ><div class=\"lbl c0 trm \" ><span class=\"txtu ara\">عن</span></div><div class='features'><span class=\"letters xft\" ><span class=\"f\">letters=</span>عن</span></div></div><div class=\"contnr c0 trm rtl  hl\" ><div class=\"lbl c0 trm hl\" ><span class=\"txtu ara\">سؤال،</span></div><div class='features'><span class=\"letters xft\" ><span class=\"f\">letters=</span>سؤال</span></div></div><div class=\"contnr c0 trm rtl  hl\" ><div class=\"lbl c0 trm hl\" ><span class=\"txtu ara\">سواء</span></div><div class='features'><span class=\"letters xft\" ><span class=\"f\">letters=</span>سواء</span></div></div><div class=\"contnr c0 trm rtl  hl\" ><div class=\"lbl c0 trm hl\" ><span class=\"txtu ara\">كانت</span></div><div class='features'><span class=\"letters xft\" ><span class=\"f\">letters=</span>كانت</span></div></div><div class=\"contnr c0 trm rtl  hl\" ><div class=\"lbl c0 trm hl\" ><span class=\"txtu ara\">الأعطية</span></div><div class='features'><span class=\"letters xft\" ><span class=\"f\">letters=</span>الأعطية</span></div></div><div class=\"contnr c0 trm rtl  hl\" ><div class=\"lbl c0 trm hl\" ><span class=\"txtu ara\">ذاتية</span></div><div class='features'><span class=\"letters xft\" ><span class=\"f\">letters=</span>ذاتية</span></div></div><div class=\"contnr c0 trm rtl  \" ><div class=\"lbl c0 trm \" ><span class=\"txtu ara\">أو</span></div><div class='features'><span class=\"letters xft\" ><span class=\"f\">letters=</span>أو</span></div></div><div class=\"contnr c0 trm rtl  hl\" ><div class=\"lbl c0 trm hl\" ><span class=\"txtu ara\">أسمائية.</span></div><div class='features'><span class=\"letters xft\" ><span class=\"f\">letters=</span>أسمائية</span></div></div></div></div></div></div></div></div></div>"
      ],
      "text/plain": [
       "<IPython.core.display.HTML object>"
      ]
     },
     "metadata": {},
     "output_type": "display_data"
    },
    {
     "data": {
      "text/html": [
       "<p><b>line</b> <i>6</i></p>"
      ],
      "text/plain": [
       "<IPython.core.display.HTML object>"
      ]
     },
     "metadata": {},
     "output_type": "display_data"
    },
    {
     "data": {
      "text/html": [
       "<div class=\"tfsechead rtl\"><span class=\"ltr\"><a target=\"_blank\" href=\"https://among.github.io/fusus/fusus/assets/lakhnawi-with-toc.html#p032\" title=\"show this passage in the the original (html derived from pdf)\" sec=\"5 32:7\">5 32:7</a></span></div><div class=\"rtl children\"><div class=\"contnr c3  rtl  \" ><div class=\"lbl c3  \" ><span class=\"nd\">line</span></div><div class=\"children hor wrap rtl\"><div class=\"contnr c1  rtl  \" ><div class=\"lbl c1  \" ><span class=\"nd\">column</span></div><div class='features'><span class=\"n xft\" ><span class=\"f\">n=</span>1</span></div><div class=\"children hor wrap rtl\"><div class=\"contnr c1  rtl  \" ><div class=\"lbl c1  \" ><span class=\"nd\">span</span></div><div class='features'><span class=\"n xft\" ><span class=\"f\">n=</span>1</span></div><div class=\"children hor wrap rtl\"><div class=\"contnr c0 trm rtl  hl\" ><div class=\"lbl c0 trm hl\" ><span class=\"txtu ara\">فالمعين</span></div><div class='features'><span class=\"letters xft\" ><span class=\"f\">letters=</span>فالمعين</span></div></div><div class=\"contnr c0 trm rtl  \" ><div class=\"lbl c0 trm \" ><span class=\"txtu ara\">كمن</span></div><div class='features'><span class=\"letters xft\" ><span class=\"f\">letters=</span>كمن</span></div></div><div class=\"contnr c0 trm rtl  \" ><div class=\"lbl c0 trm \" ><span class=\"txtu ara\">يقول:</span></div><div class='features'><span class=\"letters xft\" ><span class=\"f\">letters=</span>يقول</span></div></div><div class=\"contnr c0 trm rtl  hl\" ><div class=\"lbl c0 trm hl\" ><span class=\"txtu ara\">يا</span></div><div class='features'><span class=\"letters xft\" ><span class=\"f\">letters=</span>يا</span></div></div><div class=\"contnr c0 trm rtl  \" ><div class=\"lbl c0 trm \" ><span class=\"txtu ara\">رب</span></div><div class='features'><span class=\"letters xft\" ><span class=\"f\">letters=</span>رب</span></div></div><div class=\"contnr c0 trm rtl  \" ><div class=\"lbl c0 trm \" ><span class=\"txtu ara\">أعطني</span></div><div class='features'><span class=\"letters xft\" ><span class=\"f\">letters=</span>أعطني</span></div></div><div class=\"contnr c0 trm rtl  hl\" ><div class=\"lbl c0 trm hl\" ><span class=\"txtu ara\">كذا».</span></div><div class='features'><span class=\"letters xft\" ><span class=\"f\">letters=</span>كذا</span></div></div><div class=\"contnr c0 trm rtl  \" ><div class=\"lbl c0 trm \" ><span class=\"txtu ara\">فيعين</span></div><div class='features'><span class=\"letters xft\" ><span class=\"f\">letters=</span>فيعين</span></div></div><div class=\"contnr c0 trm rtl  hl\" ><div class=\"lbl c0 trm hl\" ><span class=\"txtu ara\">أمرا</span></div><div class='features'><span class=\"letters xft\" ><span class=\"f\">letters=</span>أمرا</span></div></div><div class=\"contnr c0 trm rtl  hl\" ><div class=\"lbl c0 trm hl\" ><span class=\"txtu ara\">ما،</span></div><div class='features'><span class=\"letters xft\" ><span class=\"f\">letters=</span>ما</span></div></div><div class=\"contnr c0 trm rtl  hl\" ><div class=\"lbl c0 trm hl\" ><span class=\"txtu ara\">لا</span></div><div class='features'><span class=\"letters xft\" ><span class=\"f\">letters=</span>لا</span></div></div><div class=\"contnr c0 trm rtl  \" ><div class=\"lbl c0 trm \" ><span class=\"txtu ara\">يخطر</span></div><div class='features'><span class=\"letters xft\" ><span class=\"f\">letters=</span>يخطر</span></div></div></div></div></div></div></div></div></div>"
      ],
      "text/plain": [
       "<IPython.core.display.HTML object>"
      ]
     },
     "metadata": {},
     "output_type": "display_data"
    },
    {
     "data": {
      "text/html": [
       "<p><b>line</b> <i>7</i></p>"
      ],
      "text/plain": [
       "<IPython.core.display.HTML object>"
      ]
     },
     "metadata": {},
     "output_type": "display_data"
    },
    {
     "data": {
      "text/html": [
       "<div class=\"tfsechead rtl\"><span class=\"ltr\"><a target=\"_blank\" href=\"https://among.github.io/fusus/fusus/assets/lakhnawi-with-toc.html#p032\" title=\"show this passage in the the original (html derived from pdf)\" sec=\"5 32:8\">5 32:8</a></span></div><div class=\"rtl children\"><div class=\"contnr c3  rtl  \" ><div class=\"lbl c3  \" ><span class=\"nd\">line</span></div><div class=\"children hor wrap rtl\"><div class=\"contnr c1  rtl  \" ><div class=\"lbl c1  \" ><span class=\"nd\">column</span></div><div class='features'><span class=\"n xft\" ><span class=\"f\">n=</span>1</span></div><div class=\"children hor wrap rtl\"><div class=\"contnr c1  rtl  \" ><div class=\"lbl c1  \" ><span class=\"nd\">span</span></div><div class='features'><span class=\"n xft\" ><span class=\"f\">n=</span>1</span></div><div class=\"children hor wrap rtl\"><div class=\"contnr c0 trm rtl  \" ><div class=\"lbl c0 trm \" ><span class=\"txtu ara\">له</span></div><div class='features'><span class=\"letters xft\" ><span class=\"f\">letters=</span>له</span></div></div><div class=\"contnr c0 trm rtl  hl\" ><div class=\"lbl c0 trm hl\" ><span class=\"txtu ara\">سواه.</span></div><div class='features'><span class=\"letters xft\" ><span class=\"f\">letters=</span>سواه</span></div></div><div class=\"contnr c0 trm rtl  \" ><div class=\"lbl c0 trm \" ><span class=\"txtu ara\">وغير</span></div><div class='features'><span class=\"letters xft\" ><span class=\"f\">letters=</span>وغير</span></div></div><div class=\"contnr c0 trm rtl  hl\" ><div class=\"lbl c0 trm hl\" ><span class=\"txtu ara\">المعين</span></div><div class='features'><span class=\"letters xft\" ><span class=\"f\">letters=</span>المعين</span></div></div><div class=\"contnr c0 trm rtl  \" ><div class=\"lbl c0 trm \" ><span class=\"txtu ara\">كمن</span></div><div class='features'><span class=\"letters xft\" ><span class=\"f\">letters=</span>كمن</span></div></div><div class=\"contnr c0 trm rtl  \" ><div class=\"lbl c0 trm \" ><span class=\"txtu ara\">يقول:</span></div><div class='features'><span class=\"letters xft\" ><span class=\"f\">letters=</span>يقول</span></div></div><div class=\"contnr c0 trm rtl  hl\" ><div class=\"lbl c0 trm hl\" ><span class=\"txtu ara\">يا</span></div><div class='features'><span class=\"letters xft\" ><span class=\"f\">letters=</span>يا</span></div></div><div class=\"contnr c0 trm rtl  \" ><div class=\"lbl c0 trm \" ><span class=\"txtu ara\">رب</span></div><div class='features'><span class=\"letters xft\" ><span class=\"f\">letters=</span>رب</span></div></div><div class=\"contnr c0 trm rtl  \" ><div class=\"lbl c0 trm \" ><span class=\"txtu ara\">أعطني</span></div><div class='features'><span class=\"letters xft\" ><span class=\"f\">letters=</span>أعطني</span></div></div><div class=\"contnr c0 trm rtl  hl\" ><div class=\"lbl c0 trm hl\" ><span class=\"txtu ara\">ما</span></div><div class='features'><span class=\"letters xft\" ><span class=\"f\">letters=</span>ما</span></div></div><div class=\"contnr c0 trm rtl  \" ><div class=\"lbl c0 trm \" ><span class=\"txtu ara\">تعلم</span></div><div class='features'><span class=\"letters xft\" ><span class=\"f\">letters=</span>تعلم</span></div></div><div class=\"contnr c0 trm rtl  \" ><div class=\"lbl c0 trm \" ><span class=\"txtu ara\">فيه</span></div><div class='features'><span class=\"letters xft\" ><span class=\"f\">letters=</span>فيه</span></div></div><div class=\"contnr c0 trm rtl  \" ><div class=\"lbl c0 trm \" ><span class=\"txtu ara\">مصلحتي»،</span></div><div class='features'><span class=\"letters xft\" ><span class=\"f\">letters=</span>مصلحتي</span></div></div></div></div></div></div></div></div></div>"
      ],
      "text/plain": [
       "<IPython.core.display.HTML object>"
      ]
     },
     "metadata": {},
     "output_type": "display_data"
    }
   ],
   "source": [
    "template = \"\"\"\n",
    "piece n=5\n",
    "  =: page\n",
    "    line\n",
    "      word letters~ا\n",
    "\"\"\"\n",
    "results = A.search(template)\n",
    "A.show(results, condensed=True)"
   ]
  },
  {
   "cell_type": "code",
   "execution_count": 20,
   "metadata": {},
   "outputs": [
    {
     "data": {
      "text/html": [
       "<p><b>line</b> <i>1</i></p>"
      ],
      "text/plain": [
       "<IPython.core.display.HTML object>"
      ]
     },
     "metadata": {},
     "output_type": "display_data"
    },
    {
     "data": {
      "text/html": [
       "<div class=\"tfsechead rtl\"><span class=\"ltr\"><a target=\"_blank\" href=\"https://among.github.io/fusus/fusus/assets/lakhnawi-with-toc.html#p032\" title=\"show this passage in the the original (html derived from pdf)\" sec=\"5 32:2\">5 32:2</a></span></div><div class=\"rtl children\"><div class=\"contnr c3  rtl  \" ><div class=\"lbl c3  \" ><span class=\"nd\">line</span></div><div class=\"children hor wrap rtl\"><div class=\"contnr c1  rtl  \" ><div class=\"lbl c1  \" ><span class=\"nd\">column</span></div><div class='features'><span class=\"n xft\" ><span class=\"f\">n=</span>1</span></div><div class=\"children hor wrap rtl\"><div class=\"contnr c1  rtl  \" ><div class=\"lbl c1  \" ><span class=\"nd\">span</span></div><div class='features'><span class=\"n xft\" ><span class=\"f\">n=</span>1</span></div><div class=\"children hor wrap rtl\"><div class=\"contnr c0 trm rtl  hl\" ><div class=\"lbl c0 trm hl\" ><span class=\"txtu ara\">اعلم</span></div><div class='features'><span class=\"letters xft\" ><span class=\"f\">letters=</span>اعلم</span></div></div><div class=\"contnr c0 trm rtl  \" ><div class=\"lbl c0 trm \" ><span class=\"txtu ara\">أن</span></div><div class='features'><span class=\"letters xft\" ><span class=\"f\">letters=</span>أن</span></div></div><div class=\"contnr c0 trm rtl  hl\" ><div class=\"lbl c0 trm hl\" ><span class=\"txtu ara\">العطايا</span></div><div class='features'><span class=\"letters xft\" ><span class=\"f\">letters=</span>العطايا</span></div></div><div class=\"contnr c0 trm rtl  hl\" ><div class=\"lbl c0 trm hl\" ><span class=\"txtu ara\">والمنح</span></div><div class='features'><span class=\"letters xft\" ><span class=\"f\">letters=</span>والمنح</span></div></div><div class=\"contnr c0 trm rtl  hl\" ><div class=\"lbl c0 trm hl\" ><span class=\"txtu ara\">الظاهرة</span></div><div class='features'><span class=\"letters xft\" ><span class=\"f\">letters=</span>الظاهرة</span></div></div><div class=\"contnr c0 trm rtl  \" ><div class=\"lbl c0 trm \" ><span class=\"txtu ara\">في</span></div><div class='features'><span class=\"letters xft\" ><span class=\"f\">letters=</span>في</span></div></div><div class=\"contnr c0 trm rtl  hl\" ><div class=\"lbl c0 trm hl\" ><span class=\"txtu ara\">الكون</span></div><div class='features'><span class=\"letters xft\" ><span class=\"f\">letters=</span>الكون</span></div></div><div class=\"contnr c0 trm rtl  \" ><div class=\"lbl c0 trm \" ><span class=\"txtu ara\">على―</span></div><div class='features'><span class=\"letters xft\" ><span class=\"f\">letters=</span>على</span></div></div><div class=\"contnr c0 trm rtl  \" ><div class=\"lbl c0 trm \" ><span class=\"txtu ara\">أيدي</span></div><div class='features'><span class=\"letters xft\" ><span class=\"f\">letters=</span>أيدي</span></div></div><div class=\"contnr c0 trm rtl  hl\" ><div class=\"lbl c0 trm hl\" ><span class=\"txtu ara\">العباد</span></div><div class='features'><span class=\"letters xft\" ><span class=\"f\">letters=</span>العباد</span></div></div><div class=\"contnr c0 trm rtl  \" ><div class=\"lbl c0 trm \" ><span class=\"txtu ara\">وعلى</span></div><div class='features'><span class=\"letters xft\" ><span class=\"f\">letters=</span>وعلى</span></div></div></div></div></div></div></div></div></div>"
      ],
      "text/plain": [
       "<IPython.core.display.HTML object>"
      ]
     },
     "metadata": {},
     "output_type": "display_data"
    },
    {
     "data": {
      "text/html": [
       "<p><b>line</b> <i>2</i></p>"
      ],
      "text/plain": [
       "<IPython.core.display.HTML object>"
      ]
     },
     "metadata": {},
     "output_type": "display_data"
    },
    {
     "data": {
      "text/html": [
       "<div class=\"tfsechead rtl\"><span class=\"ltr\"><a target=\"_blank\" href=\"https://among.github.io/fusus/fusus/assets/lakhnawi-with-toc.html#p032\" title=\"show this passage in the the original (html derived from pdf)\" sec=\"5 32:3\">5 32:3</a></span></div><div class=\"rtl children\"><div class=\"contnr c3  rtl  \" ><div class=\"lbl c3  \" ><span class=\"nd\">line</span></div><div class=\"children hor wrap rtl\"><div class=\"contnr c1  rtl  \" ><div class=\"lbl c1  \" ><span class=\"nd\">column</span></div><div class='features'><span class=\"n xft\" ><span class=\"f\">n=</span>1</span></div><div class=\"children hor wrap rtl\"><div class=\"contnr c1  rtl  \" ><div class=\"lbl c1  \" ><span class=\"nd\">span</span></div><div class='features'><span class=\"n xft\" ><span class=\"f\">n=</span>1</span></div><div class=\"children hor wrap rtl\"><div class=\"contnr c0 trm rtl  \" ><div class=\"lbl c0 trm \" ><span class=\"txtu ara\">غير</span></div><div class='features'><span class=\"letters xft\" ><span class=\"f\">letters=</span>غير</span></div></div><div class=\"contnr c0 trm rtl  \" ><div class=\"lbl c0 trm \" ><span class=\"txtu ara\">أيديهم</span></div><div class='features'><span class=\"letters xft\" ><span class=\"f\">letters=</span>أيديهم</span></div></div><div class=\"contnr c0 trm rtl  \" ><div class=\"lbl c0 trm \" ><span class=\"txtu ara\">على―</span></div><div class='features'><span class=\"letters xft\" ><span class=\"f\">letters=</span>على</span></div></div><div class=\"contnr c0 trm rtl  \" ><div class=\"lbl c0 trm \" ><span class=\"txtu ara\">قسمين:</span></div><div class='features'><span class=\"letters xft\" ><span class=\"f\">letters=</span>قسمين</span></div></div><div class=\"contnr c0 trm rtl  hl\" ><div class=\"lbl c0 trm hl\" ><span class=\"txtu ara\">منها،</span></div><div class='features'><span class=\"letters xft\" ><span class=\"f\">letters=</span>منها</span></div></div><div class=\"contnr c0 trm rtl  hl\" ><div class=\"lbl c0 trm hl\" ><span class=\"txtu ara\">ما</span></div><div class='features'><span class=\"letters xft\" ><span class=\"f\">letters=</span>ما</span></div></div><div class=\"contnr c0 trm rtl  \" ><div class=\"lbl c0 trm \" ><span class=\"txtu ara\">تكون</span></div><div class='features'><span class=\"letters xft\" ><span class=\"f\">letters=</span>تكون</span></div></div><div class=\"contnr c0 trm rtl  hl\" ><div class=\"lbl c0 trm hl\" ><span class=\"txtu ara\">عطايا</span></div><div class='features'><span class=\"letters xft\" ><span class=\"f\">letters=</span>عطايا</span></div></div><div class=\"contnr c0 trm rtl  hl\" ><div class=\"lbl c0 trm hl\" ><span class=\"txtu ara\">ذاتية</span></div><div class='features'><span class=\"letters xft\" ><span class=\"f\">letters=</span>ذاتية</span></div></div><div class=\"contnr c0 trm rtl  hl\" ><div class=\"lbl c0 trm hl\" ><span class=\"txtu ara\">وعطايا</span></div><div class='features'><span class=\"letters xft\" ><span class=\"f\">letters=</span>وعطايا</span></div></div><div class=\"contnr c0 trm rtl  hl\" ><div class=\"lbl c0 trm hl\" ><span class=\"txtu ara\">أسمائية،</span></div><div class='features'><span class=\"letters xft\" ><span class=\"f\">letters=</span>أسمائية</span></div></div></div></div></div></div></div></div></div>"
      ],
      "text/plain": [
       "<IPython.core.display.HTML object>"
      ]
     },
     "metadata": {},
     "output_type": "display_data"
    },
    {
     "data": {
      "text/html": [
       "<p><b>line</b> <i>3</i></p>"
      ],
      "text/plain": [
       "<IPython.core.display.HTML object>"
      ]
     },
     "metadata": {},
     "output_type": "display_data"
    },
    {
     "data": {
      "text/html": [
       "<div class=\"tfsechead rtl\"><span class=\"ltr\"><a target=\"_blank\" href=\"https://among.github.io/fusus/fusus/assets/lakhnawi-with-toc.html#p032\" title=\"show this passage in the the original (html derived from pdf)\" sec=\"5 32:4\">5 32:4</a></span></div><div class=\"rtl children\"><div class=\"contnr c3  rtl  \" ><div class=\"lbl c3  \" ><span class=\"nd\">line</span></div><div class=\"children hor wrap rtl\"><div class=\"contnr c1  rtl  \" ><div class=\"lbl c1  \" ><span class=\"nd\">column</span></div><div class='features'><span class=\"n xft\" ><span class=\"f\">n=</span>1</span></div><div class=\"children hor wrap rtl\"><div class=\"contnr c1  rtl  \" ><div class=\"lbl c1  \" ><span class=\"nd\">span</span></div><div class='features'><span class=\"n xft\" ><span class=\"f\">n=</span>1</span></div><div class=\"children hor wrap rtl\"><div class=\"contnr c0 trm rtl  \" ><div class=\"lbl c0 trm \" ><span class=\"txtu ara\">وتتميز</span></div><div class='features'><span class=\"letters xft\" ><span class=\"f\">letters=</span>وتتميز</span></div></div><div class=\"contnr c0 trm rtl  \" ><div class=\"lbl c0 trm \" ><span class=\"txtu ara\">عند</span></div><div class='features'><span class=\"letters xft\" ><span class=\"f\">letters=</span>عند</span></div></div><div class=\"contnr c0 trm rtl  \" ><div class=\"lbl c0 trm \" ><span class=\"txtu ara\">أهل</span></div><div class='features'><span class=\"letters xft\" ><span class=\"f\">letters=</span>أهل</span></div></div><div class=\"contnr c0 trm rtl  hl\" ><div class=\"lbl c0 trm hl\" ><span class=\"txtu ara\">الأذواق.</span></div><div class='features'><span class=\"letters xft\" ><span class=\"f\">letters=</span>الأذواق</span></div></div></div></div></div></div></div></div></div>"
      ],
      "text/plain": [
       "<IPython.core.display.HTML object>"
      ]
     },
     "metadata": {},
     "output_type": "display_data"
    },
    {
     "data": {
      "text/html": [
       "<p><b>line</b> <i>4</i></p>"
      ],
      "text/plain": [
       "<IPython.core.display.HTML object>"
      ]
     },
     "metadata": {},
     "output_type": "display_data"
    },
    {
     "data": {
      "text/html": [
       "<div class=\"tfsechead rtl\"><span class=\"ltr\"><a target=\"_blank\" href=\"https://among.github.io/fusus/fusus/assets/lakhnawi-with-toc.html#p032\" title=\"show this passage in the the original (html derived from pdf)\" sec=\"5 32:5\">5 32:5</a></span></div><div class=\"rtl children\"><div class=\"contnr c3  rtl  \" ><div class=\"lbl c3  \" ><span class=\"nd\">line</span></div><div class=\"children hor wrap rtl\"><div class=\"contnr c1  rtl  \" ><div class=\"lbl c1  \" ><span class=\"nd\">column</span></div><div class='features'><span class=\"n xft\" ><span class=\"f\">n=</span>1</span></div><div class=\"children hor wrap rtl\"><div class=\"contnr c1  rtl  \" ><div class=\"lbl c1  \" ><span class=\"nd\">span</span></div><div class='features'><span class=\"n xft\" ><span class=\"f\">n=</span>1</span></div><div class=\"children hor wrap rtl\"><div class=\"contnr c0 trm rtl  hl\" ><div class=\"lbl c0 trm hl\" ><span class=\"txtu ara\">كما</span></div><div class='features'><span class=\"letters xft\" ><span class=\"f\">letters=</span>كما</span></div></div><div class=\"contnr c0 trm rtl  \" ><div class=\"lbl c0 trm \" ><span class=\"txtu ara\">أن</span></div><div class='features'><span class=\"letters xft\" ><span class=\"f\">letters=</span>أن</span></div></div><div class=\"contnr c0 trm rtl  hl\" ><div class=\"lbl c0 trm hl\" ><span class=\"txtu ara\">منها</span></div><div class='features'><span class=\"letters xft\" ><span class=\"f\">letters=</span>منها</span></div></div><div class=\"contnr c0 trm rtl  hl\" ><div class=\"lbl c0 trm hl\" ><span class=\"txtu ara\">ما</span></div><div class='features'><span class=\"letters xft\" ><span class=\"f\">letters=</span>ما</span></div></div><div class=\"contnr c0 trm rtl  \" ><div class=\"lbl c0 trm \" ><span class=\"txtu ara\">تكون</span></div><div class='features'><span class=\"letters xft\" ><span class=\"f\">letters=</span>تكون</span></div></div><div class=\"contnr c0 trm rtl  \" ><div class=\"lbl c0 trm \" ><span class=\"txtu ara\">عن</span></div><div class='features'><span class=\"letters xft\" ><span class=\"f\">letters=</span>عن</span></div></div><div class=\"contnr c0 trm rtl  hl\" ><div class=\"lbl c0 trm hl\" ><span class=\"txtu ara\">سؤال</span></div><div class='features'><span class=\"letters xft\" ><span class=\"f\">letters=</span>سؤال</span></div></div><div class=\"contnr c0 trm rtl  \" ><div class=\"lbl c0 trm \" ><span class=\"txtu ara\">في</span></div><div class='features'><span class=\"letters xft\" ><span class=\"f\">letters=</span>في</span></div></div><div class=\"contnr c0 trm rtl  \" ><div class=\"lbl c0 trm \" ><span class=\"txtu ara\">معين،</span></div><div class='features'><span class=\"letters xft\" ><span class=\"f\">letters=</span>معين</span></div></div><div class=\"contnr c0 trm rtl  \" ><div class=\"lbl c0 trm \" ><span class=\"txtu ara\">وعن</span></div><div class='features'><span class=\"letters xft\" ><span class=\"f\">letters=</span>وعن</span></div></div><div class=\"contnr c0 trm rtl  hl\" ><div class=\"lbl c0 trm hl\" ><span class=\"txtu ara\">سؤال</span></div><div class='features'><span class=\"letters xft\" ><span class=\"f\">letters=</span>سؤال</span></div></div><div class=\"contnr c0 trm rtl  \" ><div class=\"lbl c0 trm \" ><span class=\"txtu ara\">غير</span></div><div class='features'><span class=\"letters xft\" ><span class=\"f\">letters=</span>غير</span></div></div><div class=\"contnr c0 trm rtl  \" ><div class=\"lbl c0 trm \" ><span class=\"txtu ara\">معين.</span></div><div class='features'><span class=\"letters xft\" ><span class=\"f\">letters=</span>معين</span></div></div></div></div></div></div></div></div></div>"
      ],
      "text/plain": [
       "<IPython.core.display.HTML object>"
      ]
     },
     "metadata": {},
     "output_type": "display_data"
    },
    {
     "data": {
      "text/html": [
       "<p><b>line</b> <i>5</i></p>"
      ],
      "text/plain": [
       "<IPython.core.display.HTML object>"
      ]
     },
     "metadata": {},
     "output_type": "display_data"
    },
    {
     "data": {
      "text/html": [
       "<div class=\"tfsechead rtl\"><span class=\"ltr\"><a target=\"_blank\" href=\"https://among.github.io/fusus/fusus/assets/lakhnawi-with-toc.html#p032\" title=\"show this passage in the the original (html derived from pdf)\" sec=\"5 32:6\">5 32:6</a></span></div><div class=\"rtl children\"><div class=\"contnr c3  rtl  \" ><div class=\"lbl c3  \" ><span class=\"nd\">line</span></div><div class=\"children hor wrap rtl\"><div class=\"contnr c1  rtl  \" ><div class=\"lbl c1  \" ><span class=\"nd\">column</span></div><div class='features'><span class=\"n xft\" ><span class=\"f\">n=</span>1</span></div><div class=\"children hor wrap rtl\"><div class=\"contnr c1  rtl  \" ><div class=\"lbl c1  \" ><span class=\"nd\">span</span></div><div class='features'><span class=\"n xft\" ><span class=\"f\">n=</span>1</span></div><div class=\"children hor wrap rtl\"><div class=\"contnr c0 trm rtl  hl\" ><div class=\"lbl c0 trm hl\" ><span class=\"txtu ara\">ومنها:</span></div><div class='features'><span class=\"letters xft\" ><span class=\"f\">letters=</span>ومنها</span></div></div><div class=\"contnr c0 trm rtl  hl\" ><div class=\"lbl c0 trm hl\" ><span class=\"txtu ara\">ما</span></div><div class='features'><span class=\"letters xft\" ><span class=\"f\">letters=</span>ما</span></div></div><div class=\"contnr c0 trm rtl  hl\" ><div class=\"lbl c0 trm hl\" ><span class=\"txtu ara\">لا</span></div><div class='features'><span class=\"letters xft\" ><span class=\"f\">letters=</span>لا</span></div></div><div class=\"contnr c0 trm rtl  \" ><div class=\"lbl c0 trm \" ><span class=\"txtu ara\">يكون</span></div><div class='features'><span class=\"letters xft\" ><span class=\"f\">letters=</span>يكون</span></div></div><div class=\"contnr c0 trm rtl  \" ><div class=\"lbl c0 trm \" ><span class=\"txtu ara\">عن</span></div><div class='features'><span class=\"letters xft\" ><span class=\"f\">letters=</span>عن</span></div></div><div class=\"contnr c0 trm rtl  hl\" ><div class=\"lbl c0 trm hl\" ><span class=\"txtu ara\">سؤال،</span></div><div class='features'><span class=\"letters xft\" ><span class=\"f\">letters=</span>سؤال</span></div></div><div class=\"contnr c0 trm rtl  hl\" ><div class=\"lbl c0 trm hl\" ><span class=\"txtu ara\">سواء</span></div><div class='features'><span class=\"letters xft\" ><span class=\"f\">letters=</span>سواء</span></div></div><div class=\"contnr c0 trm rtl  hl\" ><div class=\"lbl c0 trm hl\" ><span class=\"txtu ara\">كانت</span></div><div class='features'><span class=\"letters xft\" ><span class=\"f\">letters=</span>كانت</span></div></div><div class=\"contnr c0 trm rtl  hl\" ><div class=\"lbl c0 trm hl\" ><span class=\"txtu ara\">الأعطية</span></div><div class='features'><span class=\"letters xft\" ><span class=\"f\">letters=</span>الأعطية</span></div></div><div class=\"contnr c0 trm rtl  hl\" ><div class=\"lbl c0 trm hl\" ><span class=\"txtu ara\">ذاتية</span></div><div class='features'><span class=\"letters xft\" ><span class=\"f\">letters=</span>ذاتية</span></div></div><div class=\"contnr c0 trm rtl  \" ><div class=\"lbl c0 trm \" ><span class=\"txtu ara\">أو</span></div><div class='features'><span class=\"letters xft\" ><span class=\"f\">letters=</span>أو</span></div></div><div class=\"contnr c0 trm rtl  hl\" ><div class=\"lbl c0 trm hl\" ><span class=\"txtu ara\">أسمائية.</span></div><div class='features'><span class=\"letters xft\" ><span class=\"f\">letters=</span>أسمائية</span></div></div></div></div></div></div></div></div></div>"
      ],
      "text/plain": [
       "<IPython.core.display.HTML object>"
      ]
     },
     "metadata": {},
     "output_type": "display_data"
    },
    {
     "data": {
      "text/html": [
       "<p><b>line</b> <i>6</i></p>"
      ],
      "text/plain": [
       "<IPython.core.display.HTML object>"
      ]
     },
     "metadata": {},
     "output_type": "display_data"
    },
    {
     "data": {
      "text/html": [
       "<div class=\"tfsechead rtl\"><span class=\"ltr\"><a target=\"_blank\" href=\"https://among.github.io/fusus/fusus/assets/lakhnawi-with-toc.html#p032\" title=\"show this passage in the the original (html derived from pdf)\" sec=\"5 32:7\">5 32:7</a></span></div><div class=\"rtl children\"><div class=\"contnr c3  rtl  \" ><div class=\"lbl c3  \" ><span class=\"nd\">line</span></div><div class=\"children hor wrap rtl\"><div class=\"contnr c1  rtl  \" ><div class=\"lbl c1  \" ><span class=\"nd\">column</span></div><div class='features'><span class=\"n xft\" ><span class=\"f\">n=</span>1</span></div><div class=\"children hor wrap rtl\"><div class=\"contnr c1  rtl  \" ><div class=\"lbl c1  \" ><span class=\"nd\">span</span></div><div class='features'><span class=\"n xft\" ><span class=\"f\">n=</span>1</span></div><div class=\"children hor wrap rtl\"><div class=\"contnr c0 trm rtl  hl\" ><div class=\"lbl c0 trm hl\" ><span class=\"txtu ara\">فالمعين</span></div><div class='features'><span class=\"letters xft\" ><span class=\"f\">letters=</span>فالمعين</span></div></div><div class=\"contnr c0 trm rtl  \" ><div class=\"lbl c0 trm \" ><span class=\"txtu ara\">كمن</span></div><div class='features'><span class=\"letters xft\" ><span class=\"f\">letters=</span>كمن</span></div></div><div class=\"contnr c0 trm rtl  \" ><div class=\"lbl c0 trm \" ><span class=\"txtu ara\">يقول:</span></div><div class='features'><span class=\"letters xft\" ><span class=\"f\">letters=</span>يقول</span></div></div><div class=\"contnr c0 trm rtl  hl\" ><div class=\"lbl c0 trm hl\" ><span class=\"txtu ara\">يا</span></div><div class='features'><span class=\"letters xft\" ><span class=\"f\">letters=</span>يا</span></div></div><div class=\"contnr c0 trm rtl  \" ><div class=\"lbl c0 trm \" ><span class=\"txtu ara\">رب</span></div><div class='features'><span class=\"letters xft\" ><span class=\"f\">letters=</span>رب</span></div></div><div class=\"contnr c0 trm rtl  \" ><div class=\"lbl c0 trm \" ><span class=\"txtu ara\">أعطني</span></div><div class='features'><span class=\"letters xft\" ><span class=\"f\">letters=</span>أعطني</span></div></div><div class=\"contnr c0 trm rtl  hl\" ><div class=\"lbl c0 trm hl\" ><span class=\"txtu ara\">كذا».</span></div><div class='features'><span class=\"letters xft\" ><span class=\"f\">letters=</span>كذا</span></div></div><div class=\"contnr c0 trm rtl  \" ><div class=\"lbl c0 trm \" ><span class=\"txtu ara\">فيعين</span></div><div class='features'><span class=\"letters xft\" ><span class=\"f\">letters=</span>فيعين</span></div></div><div class=\"contnr c0 trm rtl  hl\" ><div class=\"lbl c0 trm hl\" ><span class=\"txtu ara\">أمرا</span></div><div class='features'><span class=\"letters xft\" ><span class=\"f\">letters=</span>أمرا</span></div></div><div class=\"contnr c0 trm rtl  hl\" ><div class=\"lbl c0 trm hl\" ><span class=\"txtu ara\">ما،</span></div><div class='features'><span class=\"letters xft\" ><span class=\"f\">letters=</span>ما</span></div></div><div class=\"contnr c0 trm rtl  hl\" ><div class=\"lbl c0 trm hl\" ><span class=\"txtu ara\">لا</span></div><div class='features'><span class=\"letters xft\" ><span class=\"f\">letters=</span>لا</span></div></div><div class=\"contnr c0 trm rtl  \" ><div class=\"lbl c0 trm \" ><span class=\"txtu ara\">يخطر</span></div><div class='features'><span class=\"letters xft\" ><span class=\"f\">letters=</span>يخطر</span></div></div></div></div></div></div></div></div></div>"
      ],
      "text/plain": [
       "<IPython.core.display.HTML object>"
      ]
     },
     "metadata": {},
     "output_type": "display_data"
    },
    {
     "data": {
      "text/html": [
       "<p><b>line</b> <i>7</i></p>"
      ],
      "text/plain": [
       "<IPython.core.display.HTML object>"
      ]
     },
     "metadata": {},
     "output_type": "display_data"
    },
    {
     "data": {
      "text/html": [
       "<div class=\"tfsechead rtl\"><span class=\"ltr\"><a target=\"_blank\" href=\"https://among.github.io/fusus/fusus/assets/lakhnawi-with-toc.html#p032\" title=\"show this passage in the the original (html derived from pdf)\" sec=\"5 32:8\">5 32:8</a></span></div><div class=\"rtl children\"><div class=\"contnr c3  rtl  \" ><div class=\"lbl c3  \" ><span class=\"nd\">line</span></div><div class=\"children hor wrap rtl\"><div class=\"contnr c1  rtl  \" ><div class=\"lbl c1  \" ><span class=\"nd\">column</span></div><div class='features'><span class=\"n xft\" ><span class=\"f\">n=</span>1</span></div><div class=\"children hor wrap rtl\"><div class=\"contnr c1  rtl  \" ><div class=\"lbl c1  \" ><span class=\"nd\">span</span></div><div class='features'><span class=\"n xft\" ><span class=\"f\">n=</span>1</span></div><div class=\"children hor wrap rtl\"><div class=\"contnr c0 trm rtl  \" ><div class=\"lbl c0 trm \" ><span class=\"txtu ara\">له</span></div><div class='features'><span class=\"letters xft\" ><span class=\"f\">letters=</span>له</span></div></div><div class=\"contnr c0 trm rtl  hl\" ><div class=\"lbl c0 trm hl\" ><span class=\"txtu ara\">سواه.</span></div><div class='features'><span class=\"letters xft\" ><span class=\"f\">letters=</span>سواه</span></div></div><div class=\"contnr c0 trm rtl  \" ><div class=\"lbl c0 trm \" ><span class=\"txtu ara\">وغير</span></div><div class='features'><span class=\"letters xft\" ><span class=\"f\">letters=</span>وغير</span></div></div><div class=\"contnr c0 trm rtl  hl\" ><div class=\"lbl c0 trm hl\" ><span class=\"txtu ara\">المعين</span></div><div class='features'><span class=\"letters xft\" ><span class=\"f\">letters=</span>المعين</span></div></div><div class=\"contnr c0 trm rtl  \" ><div class=\"lbl c0 trm \" ><span class=\"txtu ara\">كمن</span></div><div class='features'><span class=\"letters xft\" ><span class=\"f\">letters=</span>كمن</span></div></div><div class=\"contnr c0 trm rtl  \" ><div class=\"lbl c0 trm \" ><span class=\"txtu ara\">يقول:</span></div><div class='features'><span class=\"letters xft\" ><span class=\"f\">letters=</span>يقول</span></div></div><div class=\"contnr c0 trm rtl  hl\" ><div class=\"lbl c0 trm hl\" ><span class=\"txtu ara\">يا</span></div><div class='features'><span class=\"letters xft\" ><span class=\"f\">letters=</span>يا</span></div></div><div class=\"contnr c0 trm rtl  \" ><div class=\"lbl c0 trm \" ><span class=\"txtu ara\">رب</span></div><div class='features'><span class=\"letters xft\" ><span class=\"f\">letters=</span>رب</span></div></div><div class=\"contnr c0 trm rtl  \" ><div class=\"lbl c0 trm \" ><span class=\"txtu ara\">أعطني</span></div><div class='features'><span class=\"letters xft\" ><span class=\"f\">letters=</span>أعطني</span></div></div><div class=\"contnr c0 trm rtl  hl\" ><div class=\"lbl c0 trm hl\" ><span class=\"txtu ara\">ما</span></div><div class='features'><span class=\"letters xft\" ><span class=\"f\">letters=</span>ما</span></div></div><div class=\"contnr c0 trm rtl  \" ><div class=\"lbl c0 trm \" ><span class=\"txtu ara\">تعلم</span></div><div class='features'><span class=\"letters xft\" ><span class=\"f\">letters=</span>تعلم</span></div></div><div class=\"contnr c0 trm rtl  \" ><div class=\"lbl c0 trm \" ><span class=\"txtu ara\">فيه</span></div><div class='features'><span class=\"letters xft\" ><span class=\"f\">letters=</span>فيه</span></div></div><div class=\"contnr c0 trm rtl  \" ><div class=\"lbl c0 trm \" ><span class=\"txtu ara\">مصلحتي»،</span></div><div class='features'><span class=\"letters xft\" ><span class=\"f\">letters=</span>مصلحتي</span></div></div></div></div></div></div></div></div></div>"
      ],
      "text/plain": [
       "<IPython.core.display.HTML object>"
      ]
     },
     "metadata": {},
     "output_type": "display_data"
    }
   ],
   "source": [
    "A.show(results, condensed=True, extraFeatures=\"n title\")"
   ]
  },
  {
   "cell_type": "code",
   "execution_count": null,
   "metadata": {},
   "outputs": [],
   "source": []
  },
  {
   "cell_type": "code",
   "execution_count": null,
   "metadata": {},
   "outputs": [],
   "source": []
  }
 ],
 "metadata": {
  "kernelspec": {
   "display_name": "Python 3 (ipykernel)",
   "language": "python",
   "name": "python3"
  },
  "language_info": {
   "codemirror_mode": {
    "name": "ipython",
    "version": 3
   },
   "file_extension": ".py",
   "mimetype": "text/x-python",
   "name": "python",
   "nbconvert_exporter": "python",
   "pygments_lexer": "ipython3",
   "version": "3.10.0"
  },
  "widgets": {
   "application/vnd.jupyter.widget-state+json": {
    "state": {},
    "version_major": 2,
    "version_minor": 0
   }
  }
 },
 "nbformat": 4,
 "nbformat_minor": 4
}
