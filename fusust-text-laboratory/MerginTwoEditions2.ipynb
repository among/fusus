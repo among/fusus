{
 "cells": [
  {
   "cell_type": "markdown",
   "id": "resident-productivity",
   "metadata": {},
   "source": [
    "# Building out the merger"
   ]
  },
  {
   "cell_type": "code",
   "execution_count": 1,
   "id": "happy-sculpture",
   "metadata": {},
   "outputs": [],
   "source": [
    "import re\n",
    "import numpy as np\n",
    "import pandas as pd\n",
    "import matplotlib.pyplot as plt\n",
    "import matplotlib.patches as mpatches\n",
    "import seaborn as sns\n",
    "import arabicABC as abc\n",
    "from fuzzywuzzy import fuzz"
   ]
  },
  {
   "cell_type": "markdown",
   "id": "desirable-compiler",
   "metadata": {},
   "source": [
    "Reading texts"
   ]
  },
  {
   "cell_type": "code",
   "execution_count": 2,
   "id": "hispanic-result",
   "metadata": {},
   "outputs": [],
   "source": [
    "afifi = pd.read_csv('AfifiCleaned.csv')"
   ]
  },
  {
   "cell_type": "code",
   "execution_count": 3,
   "id": "attractive-corps",
   "metadata": {},
   "outputs": [],
   "source": [
    "textAfifi = afifi['letters'][2:].tolist()"
   ]
  },
  {
   "cell_type": "code",
   "execution_count": 4,
   "id": "returning-wireless",
   "metadata": {},
   "outputs": [],
   "source": [
    "lakhnawi = pd.read_csv('fusus.csv', dtype={\"page\":int, \"line\":int, \"column\":int, \"span\":int, \"direction\": str, \n",
    "                                        \"left\":\"Int64\", \"top\":\"Int64\", \"right\":\"Int64\", \"bottom\":\"Int64\", \n",
    "                                        \"word\":str, \"short\":str, \"haspunct\":str, \"punctAfter\":str, \"punctBefore\":str, \n",
    "                                        \"QunawiMS\":str, \"poetryMeter\":str, \"poetryVerse\":\"Int64\", \"fass\":\"Int64\", \"lwcvl\":str, \n",
    "                                        \"quran\":str})\n",
    "lakhnawi.word = lakhnawi.word.fillna('')\n",
    "lakhnawi.short = lakhnawi.short.fillna('')\n",
    "lakhnawi.haspunct = lakhnawi.haspunct.fillna('')\n",
    "lakhnawi.punctAfter = lakhnawi.punctAfter.fillna('')\n",
    "lakhnawi.punctBefore = lakhnawi.punctBefore.fillna('')\n",
    "lakhnawi.poetryMeter = lakhnawi.poetryMeter.fillna('')\n",
    "lakhnawi.lwcvl = lakhnawi.lwcvl.fillna('')\n",
    "lakhnawi.quran = lakhnawi.quran.fillna('')"
   ]
  },
  {
   "cell_type": "code",
   "execution_count": 5,
   "id": "ancient-release",
   "metadata": {},
   "outputs": [],
   "source": [
    "textLakhnawi = lakhnawi['short']"
   ]
  },
  {
   "cell_type": "markdown",
   "id": "amateur-atlantic",
   "metadata": {},
   "source": [
    "Algorithme"
   ]
  },
  {
   "cell_type": "code",
   "execution_count": 6,
   "id": "binary-delight",
   "metadata": {},
   "outputs": [
    {
     "ename": "KeyboardInterrupt",
     "evalue": "",
     "output_type": "error",
     "traceback": [
      "\u001b[0;31m---------------------------------------------------------------------------\u001b[0m",
      "\u001b[0;31mKeyboardInterrupt\u001b[0m                         Traceback (most recent call last)",
      "\u001b[0;32m<ipython-input-6-8bf9e3c221c9>\u001b[0m in \u001b[0;36m<module>\u001b[0;34m\u001b[0m\n\u001b[1;32m     32\u001b[0m             \u001b[0mx1\u001b[0m \u001b[0;34m+=\u001b[0m \u001b[0;36m1\u001b[0m\u001b[0;34m\u001b[0m\u001b[0;34m\u001b[0m\u001b[0m\n\u001b[1;32m     33\u001b[0m         \u001b[0;32melse\u001b[0m\u001b[0;34m:\u001b[0m\u001b[0;34m\u001b[0m\u001b[0;34m\u001b[0m\u001b[0m\n\u001b[0;32m---> 34\u001b[0;31m             \u001b[0mpostpostLocus\u001b[0m \u001b[0;34m=\u001b[0m \u001b[0;34m(\u001b[0m\u001b[0mabc\u001b[0m\u001b[0;34m.\u001b[0m\u001b[0mrasm\u001b[0m\u001b[0;34m(\u001b[0m\u001b[0mtextA\u001b[0m\u001b[0;34m[\u001b[0m\u001b[0mx0\u001b[0m\u001b[0;34m+\u001b[0m\u001b[0;36m2\u001b[0m\u001b[0;34m]\u001b[0m\u001b[0;34m)\u001b[0m\u001b[0;34m,\u001b[0m \u001b[0mabc\u001b[0m\u001b[0;34m.\u001b[0m\u001b[0mrasm\u001b[0m\u001b[0;34m(\u001b[0m\u001b[0mtextB\u001b[0m\u001b[0;34m[\u001b[0m\u001b[0mx1\u001b[0m\u001b[0;34m+\u001b[0m\u001b[0;36m2\u001b[0m\u001b[0;34m]\u001b[0m\u001b[0;34m)\u001b[0m\u001b[0;34m)\u001b[0m\u001b[0;34m\u001b[0m\u001b[0;34m\u001b[0m\u001b[0m\n\u001b[0m\u001b[1;32m     35\u001b[0m \u001b[0;34m\u001b[0m\u001b[0m\n\u001b[1;32m     36\u001b[0m             \u001b[0msicApostBfuzz\u001b[0m \u001b[0;34m=\u001b[0m \u001b[0mfuzz\u001b[0m\u001b[0;34m.\u001b[0m\u001b[0mratio\u001b[0m\u001b[0;34m(\u001b[0m\u001b[0msicLocus\u001b[0m\u001b[0;34m[\u001b[0m\u001b[0;36m0\u001b[0m\u001b[0;34m]\u001b[0m\u001b[0;34m,\u001b[0m\u001b[0mpostLocus\u001b[0m\u001b[0;34m[\u001b[0m\u001b[0;36m1\u001b[0m\u001b[0;34m]\u001b[0m\u001b[0;34m)\u001b[0m\u001b[0;34m\u001b[0m\u001b[0;34m\u001b[0m\u001b[0m\n",
      "\u001b[0;31mKeyboardInterrupt\u001b[0m: "
     ]
    }
   ],
   "source": [
    "nameA = \"Afifi\"\n",
    "nameB = \"Lakhnawi\"\n",
    "textA = textAfifi\n",
    "textB = textLakhnawi\n",
    "x0 = 0\n",
    "x1 = 0\n",
    "i = 0\n",
    "comparativeIndex = {}\n",
    "fuzzResults = {}\n",
    "\n",
    "# while x0 < len(textA) and x1 < len(textB):\n",
    "while x0 < 100:\n",
    "    if textA[x0] == textB[x1]:\n",
    "        comparativeIndex[i] = [x0, x1]\n",
    "        x0 += 1\n",
    "        x1 += 1\n",
    "        fuzzResults[i] = ['same','']\n",
    "    else:\n",
    "        anteLocus = (abc.rasm(textA[x0-1]), abc.rasm(textB[x1-1]))\n",
    "        postLocus = (abc.rasm(textA[x0+1]), abc.rasm(textB[x1+1]))\n",
    "        sicLocus = (abc.rasm(textA[x0]), abc.rasm(textB[x1]))\n",
    "        sicfuzz = fuzz.ratio(sicLocus[0],sicLocus[1])\n",
    "        if sicfuzz >= 80:\n",
    "            comparativeIndex[i] = [x0, x1]\n",
    "            fuzzResults[i] = ['sameish','SICFUZZ '+str(sicfuzz)]\n",
    "            x0 += 1\n",
    "            x1 += 1\n",
    "        elif fuzz.ratio(anteLocus[0],anteLocus[1]) > 80 and fuzz.ratio(postLocus[0],postLocus[1]) > 80:\n",
    "            comparativeIndex[i] = [x0, x1]\n",
    "            fuzzResults[i] = ['different word','Sicfuzz '+str(sicfuzz)]\n",
    "            x0 += 1\n",
    "            x1 += 1\n",
    "        else:\n",
    "            postpostLocus = (abc.rasm(textA[x0+2]), abc.rasm(textB[x1+2]))\n",
    "            \n",
    "            sicApostBfuzz = fuzz.ratio(sicLocus[0],postLocus[1])\n",
    "            postApostpostBfuzz = fuzz.ratio(postLocus[0],postpostLocus[1])\n",
    "            \n",
    "            postAsicBfuzz = fuzz.ratio(postLocus[0],sicLocus[1])\n",
    "            postpostApostBfuzz = fuzz.ratio(postpostLocus[0],postLocus[1])\n",
    "            \n",
    "            if sicApostBfuzz > 80 and postApostpostBfuzz > 80:\n",
    "                comparativeIndex[i] = [x0, None]\n",
    "                fuzzResults[i] = ['A unique','Sicfuzz '+str(sicfuzz)]\n",
    "                x0+=1\n",
    "            elif postAsicBfuzz > 80 and postpostApostBfuzz > 80:\n",
    "                comparativeIndex[i] = [None, x1]\n",
    "                fuzzResults[i] = ['B unique','Sicfuzz '+str(sicfuzz)]\n",
    "                x1+=1\n",
    "            \n",
    "#             elif postAsicBfuzz == sicApostBfuzz:\n",
    "#                 fuzzswap = fuzz.ratio(abc.rasm(textA[x0+2]),abc.rasm(textB[x1+2]))\n",
    "#                 if antefuzz > 80 and fuzzswap > 80:\n",
    "#                     comparativeIndex[i] = [x0, x1]\n",
    "#                     fuzzResults[i] = ['wordswap','sicfuzz '+str(sicfuzz)]\n",
    "#                     x0 += 1\n",
    "#                     x1 += 1\n",
    "            else:\n",
    "                comparativeIndex[i] = [None, None]\n",
    "                fuzzResults[i] = ['unsure','Sicfuzz '+str(sicfuzz)]\n",
    "    i+=1\n",
    "\n",
    "y=0\n",
    "for i in range(len(comparativeIndex)):\n",
    "    if comparativeIndex[i][0] == None:\n",
    "        A = \"***\"\n",
    "    else:\n",
    "        A = textA[comparativeIndex[i][0]]\n",
    "    if comparativeIndex[i][1] == None:\n",
    "        B = \"***\"\n",
    "    else:\n",
    "        B = textB[comparativeIndex[i][1]]\n",
    "#     print('INDEX',comparativeIndex[i])\n",
    "#     print(nameA,A)\n",
    "#     print(nameB,B)\n",
    "#     if y in fuzzResults:\n",
    "#         print(fuzzResults[y])\n",
    "    y+=1\n",
    "#     print(\" \")"
   ]
  },
  {
   "cell_type": "markdown",
   "id": "relevant-harbor",
   "metadata": {},
   "source": [
    "Visualizering"
   ]
  },
  {
   "cell_type": "code",
   "execution_count": 29,
   "id": "described-chair",
   "metadata": {},
   "outputs": [
    {
     "data": {
      "image/png": "[encoded data removed]",
      "text/plain": [
       "<Figure size 1440x360 with 1 Axes>"
      ]
     },
     "metadata": {
      "needs_background": "light"
     },
     "output_type": "display_data"
    }
   ],
   "source": [
    "plt.figure(figsize=(20,5))\n",
    "plt.autoscale(enable=False, axis='y')\n",
    "xValues = []\n",
    "yValues = []\n",
    "\n",
    "olive_patch = mpatches.Patch(color='olive', label='Exactly the same')\n",
    "orange_patch = mpatches.Patch(color='orange', label='Close enough')\n",
    "yellow_patch = mpatches.Patch(color='yellow', label='Different word, but same position')\n",
    "firebrick_patch = mpatches.Patch(color='firebrick', label='A has unique word')\n",
    "orangered_patch = mpatches.Patch(color='firebrick', label='B has unique word')\n",
    "\n",
    "plt.legend(handles=[olive_patch, orange_patch, yellow_patch, firebrick_patch,orangered_patch],bbox_to_anchor=(1, 1),loc='lower right')\n",
    "\n",
    "# for i in range(len(comparativeIndex)):\n",
    "for i in range(0,300):\n",
    "    if i in fuzzResults:\n",
    "        if fuzzResults[i][0] == 'sameish':\n",
    "            plt.plot([i,i+1],[0.4,0.4], color='Orange',linewidth=5)\n",
    "        elif fuzzResults[i][0] == 'A unique' or fuzzResults[i][0] == 'unsure of wordswap, making A unique':\n",
    "            plt.plot([(i+i+1)/2,(i+i+1)/2],[0.3,0.5], color='firebrick')\n",
    "            plt.text(i, 0.6, \"A\", fontsize=12, color='Darkgreen')\n",
    "        elif fuzzResults[i][0] == 'B unique':\n",
    "            plt.plot([(i+i+1)/2,(i+i+1)/2],[0.3,0.5], color='orangered')\n",
    "            plt.text(i, 0.2, \"B\", fontsize=12, color='Darkgreen')\n",
    "        elif fuzzResults[i][0] == 'different word':\n",
    "            plt.plot([i,i+1],[0.4,0.4], color='Yellow', linewidth=5)\n",
    "    else:\n",
    "        plt.plot([i,i+1],[0.4,0.4], color='olive')\n",
    "plt.subplots_adjust(top=0.7)\n",
    "plt.savefig('MerginTwoEditions.jpg')"
   ]
  },
  {
   "cell_type": "code",
   "execution_count": 23,
   "id": "pointed-teens",
   "metadata": {},
   "outputs": [
    {
     "data": {
      "text/plain": [
       "['ما', 'سؤى', 'محل', 'إلا', 'ويقبل', 'روحا', 'إلهيا']"
      ]
     },
     "execution_count": 23,
     "metadata": {},
     "output_type": "execute_result"
    }
   ],
   "source": [
    "textAfifi[364:371]"
   ]
  },
  {
   "cell_type": "code",
   "execution_count": 13,
   "id": "altered-paris",
   "metadata": {},
   "outputs": [
    {
     "data": {
      "text/plain": [
       "368       ما\n",
       "369      سوى\n",
       "370     محلا\n",
       "371      إلا\n",
       "372      ولا\n",
       "373       بد\n",
       "374       أن\n",
       "375     يقبل\n",
       "376     روحا\n",
       "377    إلهيا\n",
       "Name: short, dtype: object"
      ]
     },
     "execution_count": 13,
     "metadata": {},
     "output_type": "execute_result"
    }
   ],
   "source": [
    "textLakhnawi[368:378]"
   ]
  },
  {
   "cell_type": "code",
   "execution_count": 22,
   "id": "mathematical-dialogue",
   "metadata": {},
   "outputs": [
    {
     "data": {
      "text/plain": [
       "'يفبل'"
      ]
     },
     "execution_count": 22,
     "metadata": {},
     "output_type": "execute_result"
    }
   ],
   "source": [
    "abc.rasm(textAfifi[368])"
   ]
  },
  {
   "cell_type": "code",
   "execution_count": 21,
   "id": "elder-certification",
   "metadata": {},
   "outputs": [
    {
     "data": {
      "text/plain": [
       "'يفبل'"
      ]
     },
     "execution_count": 21,
     "metadata": {},
     "output_type": "execute_result"
    }
   ],
   "source": [
    "abc.rasm(textLakhnawi[375])"
   ]
  },
  {
   "cell_type": "code",
   "execution_count": 20,
   "id": "honey-alaska",
   "metadata": {},
   "outputs": [
    {
     "data": {
      "text/plain": [
       "86"
      ]
     },
     "execution_count": 20,
     "metadata": {},
     "output_type": "execute_result"
    }
   ],
   "source": [
    "fuzz.ratio(abc.rasm(textAfifi[366]),abc.rasm(textLakhnawi[370]))"
   ]
  },
  {
   "cell_type": "code",
   "execution_count": null,
   "id": "atmospheric-merchandise",
   "metadata": {},
   "outputs": [],
   "source": []
  }
 ],
 "metadata": {
  "kernelspec": {
   "display_name": "Python 3",
   "language": "python",
   "name": "python3"
  },
  "language_info": {
   "codemirror_mode": {
    "name": "ipython",
    "version": 3
   },
   "file_extension": ".py",
   "mimetype": "text/x-python",
   "name": "python",
   "nbconvert_exporter": "python",
   "pygments_lexer": "ipython3",
   "version": "3.9.1"
  }
 },
 "nbformat": 4,
 "nbformat_minor": 5
}
