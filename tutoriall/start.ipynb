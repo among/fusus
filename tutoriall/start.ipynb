{
 "cells": [
  {
   "cell_type": "markdown",
   "metadata": {},
   "source": [
    "<img align=\"right\" src=\"images/tf.png\" width=\"128\"/>\n",
    "<img align=\"right\" src=\"images/etcbc.png\"/>\n",
    "<img align=\"right\" src=\"images/logo.png\"/>\n",
    "\n",
    "# Tutorial\n",
    "\n",
    "This notebook gets you started with using\n",
    "[Text-Fabric](https://annotation.github.io/text-fabric/) for coding in the Fusus al Hikam by Ibn Arabi, Lakhnawi edition.\n",
    "\n",
    "Familiarity with the underlying\n",
    "[data model](https://annotation.github.io/text-fabric/tf/about/datamodel.html)\n",
    "is recommended."
   ]
  },
  {
   "cell_type": "markdown",
   "metadata": {},
   "source": [
    "## Installing Text-Fabric\n",
    "\n",
    "### Python\n",
    "\n",
    "You need to have Python on your system. Most systems have it out of the box,\n",
    "but alas, that is python2 and we need at least python **3.6**.\n",
    "\n",
    "Install it from [python.org](https://www.python.org) or from\n",
    "[Anaconda](https://www.anaconda.com/download).\n",
    "\n",
    "### TF itself\n",
    "\n",
    "```\n",
    "pip3 install text-fabric\n",
    "```\n",
    "\n",
    "### Jupyter notebook\n",
    "\n",
    "You need [Jupyter](http://jupyter.org).\n",
    "\n",
    "If it is not already installed:\n",
    "\n",
    "```\n",
    "pip3 install jupyter\n",
    "```"
   ]
  },
  {
   "cell_type": "markdown",
   "metadata": {},
   "source": [
    "## Tip\n",
    "If you start computing with this tutorial, first copy its parent directory to somewhere else,\n",
    "outside your `fususl` directory.\n",
    "If you pull changes from the `fususl` repository later, your work will not be overwritten.\n",
    "Where you put your tutorial directory is up till you.\n",
    "It will work from any directory."
   ]
  },
  {
   "cell_type": "code",
   "execution_count": 1,
   "metadata": {
    "ExecuteTime": {
     "end_time": "2018-10-18T10:40:34.922214Z",
     "start_time": "2018-10-18T10:40:34.901689Z"
    }
   },
   "outputs": [],
   "source": [
    "%load_ext autoreload\n",
    "%autoreload 2"
   ]
  },
  {
   "cell_type": "code",
   "execution_count": 2,
   "metadata": {
    "ExecuteTime": {
     "end_time": "2018-10-18T10:40:36.468086Z",
     "start_time": "2018-10-18T10:40:36.442023Z"
    }
   },
   "outputs": [],
   "source": [
    "import os\n",
    "import collections"
   ]
  },
  {
   "cell_type": "code",
   "execution_count": 3,
   "metadata": {
    "ExecuteTime": {
     "end_time": "2018-10-18T10:40:37.964346Z",
     "start_time": "2018-10-18T10:40:37.346091Z"
    }
   },
   "outputs": [],
   "source": [
    "from tf.app import use"
   ]
  },
  {
   "cell_type": "markdown",
   "metadata": {},
   "source": [
    "## Fususl data\n",
    "\n",
    "Text-Fabric will fetch a standard set of features for you from the newest github release binaries.\n",
    "\n",
    "The data will be stored in the `text-fabric-data` in your home directory."
   ]
  },
  {
   "cell_type": "markdown",
   "metadata": {},
   "source": [
    "# Load Features\n",
    "The data of the corpus is organized in features.\n",
    "They are *columns* of data.\n",
    "Think of the text as a gigantic spreadsheet, where row 1 corresponds to the\n",
    "first word, row 2 to the second word, and so on, for all 50,000+ words.\n",
    "\n",
    "The letters of each word is a column `form` in that spreadsheet.\n",
    "\n",
    "The corpus contains ca. 20 columns, not only for the words, but also for\n",
    "textual objects, such as *pieces*, *pages*, and *lines*.\n",
    "\n",
    "Instead of putting that information in one big table, the data is organized in separate columns.\n",
    "We call those columns **features**."
   ]
  },
  {
   "cell_type": "markdown",
   "metadata": {},
   "source": [
    "For the very last version, use `hot`.\n",
    "\n",
    "For the latest release, use `latest`.\n",
    "\n",
    "If you have cloned the repos (TF app and data), use `clone`.\n",
    "\n",
    "If you do not want/need to upgrade, leave out the checkout specifiers."
   ]
  },
  {
   "cell_type": "code",
   "execution_count": 8,
   "metadata": {
    "ExecuteTime": {
     "end_time": "2018-10-18T10:40:42.958397Z",
     "start_time": "2018-10-18T10:40:41.535490Z"
    }
   },
   "outputs": [
    {
     "data": {
      "text/html": [
       "<b title=\"local github\">TF-app:</b> <span title=\"repo clone offline under ~/github\">~/github/annotation/app-fususl/code</span>"
      ],
      "text/plain": [
       "<IPython.core.display.HTML object>"
      ]
     },
     "metadata": {},
     "output_type": "display_data"
    },
    {
     "data": {
      "text/html": [
       "<b title=\"local github\">data:</b> <span title=\"repo clone offline under ~/github\">~/github/among/fusus/tf/Lakhnawi/0.5</span>"
      ],
      "text/plain": [
       "<IPython.core.display.HTML object>"
      ]
     },
     "metadata": {},
     "output_type": "display_data"
    },
    {
     "name": "stdout",
     "output_type": "stream",
     "text": [
      "This is Text-Fabric 9.1.1\n",
      "Api reference : https://annotation.github.io/text-fabric/tf/cheatsheet.html\n",
      "\n",
      "18 features found and 0 ignored\n"
     ]
    },
    {
     "data": {
      "text/html": [
       "<b>Text-Fabric:</b> <a target=\"_blank\" href=\"https://annotation.github.io/text-fabric/tf/cheatsheet.html\" title=\"text-fabric-api\">Text-Fabric API 9.1.1</a>, <a target=\"_blank\" href=\"https://github.com/annotation/app-fususl\" title=\"fususl TF-app\">app-fususl v3</a>, <a target=\"_blank\" href=\"https://annotation.github.io/text-fabric/tf/about/searchusage.html\" title=\"Search Templates Introduction and Reference\">Search Reference</a><br><b>Data:</b> <a target=\"_blank\" href=\"https://among.github.io/fusus/fusus/lakhnawi.html\" title=\"provenance of Fusus Al Hikam, by Ibn Arabi, edition Lakhnawi\">FUSUS</a>, <a target=\"_blank\" href=\"https://annotation.github.io/text-fabric/tf/writing/arabic.html\" title=\"How TF features represent text\">Character table</a>, <a target=\"_blank\" href=\"https://among.github.io/fusus/fusus/about/transcriptionl\" title=\"FUSUS feature documentation\">Feature docs</a><br><b>Features:</b><br><details><summary><b>Fusus Al Hikam, by Ibn Arabi, edition Lakhnawi</b></summary><a target=\"_blank\" href=\"https://among.github.io/fusus/fusus/about/transcriptionl\" title=\"~/github/among/fusus/tf/Lakhnawi/0.5/boxb.tf\">boxb</a><br><a target=\"_blank\" href=\"https://among.github.io/fusus/fusus/about/transcriptionl\" title=\"~/github/among/fusus/tf/Lakhnawi/0.5/boxl.tf\">boxl</a><br><a target=\"_blank\" href=\"https://among.github.io/fusus/fusus/about/transcriptionl\" title=\"~/github/among/fusus/tf/Lakhnawi/0.5/boxr.tf\">boxr</a><br><a target=\"_blank\" href=\"https://among.github.io/fusus/fusus/about/transcriptionl\" title=\"~/github/among/fusus/tf/Lakhnawi/0.5/boxt.tf\">boxt</a><br><a target=\"_blank\" href=\"https://among.github.io/fusus/fusus/about/transcriptionl\" title=\"~/github/among/fusus/tf/Lakhnawi/0.5/dir.tf\">dir</a><br><a target=\"_blank\" href=\"https://among.github.io/fusus/fusus/about/transcriptionl\" title=\"~/github/among/fusus/tf/Lakhnawi/0.5/letters.tf\">letters</a><br><a target=\"_blank\" href=\"https://among.github.io/fusus/fusus/about/transcriptionl\" title=\"~/github/among/fusus/tf/Lakhnawi/0.5/lettersn.tf\">lettersn</a><br><a target=\"_blank\" href=\"https://among.github.io/fusus/fusus/about/transcriptionl\" title=\"~/github/among/fusus/tf/Lakhnawi/0.5/lettersp.tf\">lettersp</a><br><a target=\"_blank\" href=\"https://among.github.io/fusus/fusus/about/transcriptionl\" title=\"~/github/among/fusus/tf/Lakhnawi/0.5/letterst.tf\">letterst</a><br><a target=\"_blank\" href=\"https://among.github.io/fusus/fusus/about/transcriptionl\" title=\"~/github/among/fusus/tf/Lakhnawi/0.5/ln.tf\">ln</a><br><a target=\"_blank\" href=\"https://among.github.io/fusus/fusus/about/transcriptionl\" title=\"~/github/among/fusus/tf/Lakhnawi/0.5/n.tf\">n</a><br><a target=\"_blank\" href=\"https://among.github.io/fusus/fusus/about/transcriptionl\" title=\"~/github/among/fusus/tf/Lakhnawi/0.5/np.tf\">np</a><br><a target=\"_blank\" href=\"https://among.github.io/fusus/fusus/about/transcriptionl\" title=\"~/github/among/fusus/tf/Lakhnawi/0.5/otype.tf\">otype</a><br><a target=\"_blank\" href=\"https://among.github.io/fusus/fusus/about/transcriptionl\" title=\"~/github/among/fusus/tf/Lakhnawi/0.5/punc.tf\">punc</a><br><a target=\"_blank\" href=\"https://among.github.io/fusus/fusus/about/transcriptionl\" title=\"~/github/among/fusus/tf/Lakhnawi/0.5/punca.tf\">punca</a><br><a target=\"_blank\" href=\"https://among.github.io/fusus/fusus/about/transcriptionl\" title=\"~/github/among/fusus/tf/Lakhnawi/0.5/title.tf\">title</a><br><b><i><a target=\"_blank\" href=\"https://among.github.io/fusus/fusus/about/transcriptionl\" title=\"~/github/among/fusus/tf/Lakhnawi/0.5/oslots.tf\">oslots</a></i></b><br></details>"
      ],
      "text/plain": [
       "<IPython.core.display.HTML object>"
      ]
     },
     "metadata": {},
     "output_type": "display_data"
    },
    {
     "data": {
      "text/html": [
       "<style>tr.tf.ltr, td.tf.ltr, th.tf.ltr { text-align: left ! important;}\n",
       "tr.tf.rtl, td.tf.rtl, th.tf.rtl { text-align: right ! important;}\n",
       "@font-face {\n",
       "  font-family: \"Gentium Plus\";\n",
       "  src: local('Gentium Plus'), local('GentiumPlus'),\n",
       "    url('/server/static/fonts/GentiumPlus-R.woff') format('woff'),\n",
       "    url('https://github.com/annotation/text-fabric/blob/master/tf/server/static/fonts/GentiumPlus-R.woff?raw=true') format('woff');\n",
       "}\n",
       "\n",
       "@font-face {\n",
       "  font-family: \"Ezra SIL\";\n",
       "  src: local('Ezra SIL'), local('EzraSIL'),\n",
       "    url('/server/static/fonts/SILEOT.woff') format('woff'),\n",
       "    url('https://github.com/annotation/text-fabric/blob/master/tf/server/static/fonts/SILEOT.woff?raw=true') format('woff');\n",
       "}\n",
       "\n",
       "@font-face {\n",
       "  font-family: \"SBL Hebrew\";\n",
       "  src: local('SBL Hebrew'), local('SBLHebrew'),\n",
       "    url('/server/static/fonts/SBL_Hbrw.woff') format('woff'),\n",
       "    url('https://github.com/annotation/text-fabric/blob/master/tf/server/static/fonts/SBL_Hbrw.woff?raw=true') format('woff');\n",
       "}\n",
       "\n",
       "@font-face {\n",
       "  font-family: \"Estrangelo Edessa\";\n",
       "  src: local('Estrangelo Edessa'), local('EstrangeloEdessa');\n",
       "    url('/server/static/fonts/SyrCOMEdessa.woff') format('woff'),\n",
       "    url('https://github.com/annotation/text-fabric/blob/master/tf/server/static/fonts/SyrCOMEdessa.woff?raw=true') format('woff');\n",
       "}\n",
       "\n",
       "@font-face {\n",
       "  font-family: AmiriQuran;\n",
       "  font-style: normal;\n",
       "  font-weight: 400;\n",
       "  src: local('Amiri Quran'), local('AmiriQuran'),\n",
       "    url('/server/static/fonts/AmiriQuran.woff') format('woff'),\n",
       "    url('https://github.com/annotation/text-fabric/blob/master/tf/server/static/fonts/AmiriQuran.woff?raw=true') format('woff');\n",
       "}\n",
       "\n",
       "@font-face {\n",
       "  font-family: AmiriQuranColored;\n",
       "  font-style: normal;\n",
       "  font-weight: 400;\n",
       "  src: local('Amiri Quran Colored'), local('AmiriQuranColored'),\n",
       "    url('/server/static/fonts/AmiriQuranColored.woff') format('woff'),\n",
       "    url('https://github.com/annotation/text-fabric/blob/master/tf/server/static/fonts/AmiriQuranColored.woff?raw=true') format('woff');\n",
       "}\n",
       "\n",
       "@font-face {\n",
       "  font-family: \"Santakku\";\n",
       "  src: local('Santakku'),\n",
       "    url('/server/static/fonts/Santakku.woff') format('woff'),\n",
       "    url('https://github.com/annotation/text-fabric/blob/master/tf/server/static/fonts/Santakku.woff?raw=true') format('woff');\n",
       "}\n",
       "\n",
       "@font-face {\n",
       "  font-family: \"SantakkuM\";\n",
       "  src: local('SantakkuM'),\n",
       "    url('/server/static/fonts/SantakkuM.woff') format('woff'),\n",
       "    url('https://github.com/annotation/text-fabric/blob/master/tf/server/static/fonts/SantakkuM.woff?raw=true') format('woff');\n",
       "}\n",
       "/* bypassing some classical notebook settings */\n",
       "div#notebook {\n",
       "  line-height: unset;\n",
       "}\n",
       "/* neutral text */\n",
       ".txtn,.txtn a:visited,.txtn a:link {\n",
       "    font-family: sans-serif;\n",
       "    font-size: medium;\n",
       "    direction: ltr;\n",
       "    unicode-bidi: embed;\n",
       "    text-decoration: none;\n",
       "    color: var(--text-color);\n",
       "}\n",
       "/* transcription text */\n",
       ".txtt,.txtt a:visited,.txtt a:link {\n",
       "    font-family: monospace;\n",
       "    font-size: medium;\n",
       "    direction: ltr;\n",
       "    unicode-bidi: embed;\n",
       "    text-decoration: none;\n",
       "    color: var(--text-color);\n",
       "}\n",
       "/* source text */\n",
       ".txto,.txto a:visited,.txto a:link {\n",
       "    font-family: serif;\n",
       "    font-size: medium;\n",
       "    direction: ltr;\n",
       "    unicode-bidi: embed;\n",
       "    text-decoration: none;\n",
       "    color: var(--text-color);\n",
       "}\n",
       "/* phonetic text */\n",
       ".txtp,.txtp a:visited,.txtp a:link {\n",
       "    font-family: Gentium, sans-serif;\n",
       "    font-size: medium;\n",
       "    direction: ltr;\n",
       "    unicode-bidi: embed;\n",
       "    text-decoration: none;\n",
       "    color: var(--text-color);\n",
       "}\n",
       "/* original script text */\n",
       ".txtu,.txtu a:visited,.txtu a:link {\n",
       "    font-family: Gentium, sans-serif;\n",
       "    font-size: medium;\n",
       "    text-decoration: none;\n",
       "    color: var(--text-color);\n",
       "}\n",
       "/* hebrew */\n",
       ".txtu.hbo,.lex.hbo {\n",
       "    font-family: \"Ezra SIL\", \"SBL Hebrew\", sans-serif;\n",
       "    font-size: large;\n",
       "    direction: rtl ! important;\n",
       "    unicode-bidi: embed;\n",
       "}\n",
       "/* syriac */\n",
       ".txtu.syc,.lex.syc {\n",
       "    font-family: \"Estrangelo Edessa\", sans-serif;\n",
       "    font-size: medium;\n",
       "    direction: rtl ! important;\n",
       "    unicode-bidi: embed;\n",
       "}\n",
       "/* neo aramaic */\n",
       ".txtu.cld,.lex.cld {\n",
       "    font-family: \"CharisSIL-R\", sans-serif;\n",
       "    font-size: medium;\n",
       "    direction: ltr ! important;\n",
       "    unicode-bidi: embed;\n",
       "}\n",
       "/* standard arabic */\n",
       ".txtu.ara,.lex.ara {\n",
       "    font-family: \"AmiriQuran\", sans-serif;\n",
       "    font-size: large;\n",
       "    direction: rtl ! important;\n",
       "    unicode-bidi: embed;\n",
       "}\n",
       "/* cuneiform */\n",
       ".txtu.akk,.lex.akk {\n",
       "    font-family: Santakku, sans-serif;\n",
       "    font-size: large;\n",
       "    direction: ltr ! important;\n",
       "    unicode-bidi: embed;\n",
       "}\n",
       "/* greek */\n",
       ".txtu.grc,.lex.grc a:link {\n",
       "    font-family: Gentium, sans-serif;\n",
       "    font-size: medium;\n",
       "    direction: ltr ! important;\n",
       "    unicode-bidi: embed;\n",
       "}\n",
       "a:hover {\n",
       "    text-decoration: underline | important;\n",
       "    color: #0000ff | important;\n",
       "}\n",
       ".ltr {\n",
       "    direction: ltr ! important;\n",
       "    unicode-bidi: embed;\n",
       "}\n",
       ".rtl {\n",
       "    direction: rtl ! important;\n",
       "    unicode-bidi: embed;\n",
       "}\n",
       ".ubd {\n",
       "    unicode-bidi: embed;\n",
       "}\n",
       ".col {\n",
       "   display: inline-block;\n",
       "}\n",
       ".features {\n",
       "    font-family: monospace;\n",
       "    font-size: medium;\n",
       "    font-weight: bold;\n",
       "    color: var(--features);\n",
       "    display: flex;\n",
       "    flex-flow: column nowrap;\n",
       "    justify-content: flex-start;\n",
       "    align-items: flex-start;\n",
       "    align-content: flex-start;\n",
       "    padding: 2px;\n",
       "    margin: 2px;\n",
       "    direction: ltr;\n",
       "    unicode-bidi: embed;\n",
       "    border: var(--meta-width) solid var(--meta-color);\n",
       "    border-radius: var(--meta-width);\n",
       "}\n",
       ".features div,.features span {\n",
       "    padding: 0;\n",
       "    margin: -2px 0;\n",
       "}\n",
       ".features .f {\n",
       "    font-family: sans-serif;\n",
       "    font-size: small;\n",
       "    font-weight: normal;\n",
       "    color: #5555bb;\n",
       "}\n",
       ".features .xft {\n",
       "  color: #000000;\n",
       "  background-color: #eeeeee;\n",
       "  font-size: medium;\n",
       "  margin: 2px 0px;\n",
       "}\n",
       ".features .xft .f {\n",
       "  color: #000000;\n",
       "  background-color: #eeeeee;\n",
       "  font-size: small;\n",
       "  font-weight: normal;\n",
       "}\n",
       ".tfsechead {\n",
       "    font-family: sans-serif;\n",
       "    font-size: small;\n",
       "    font-weight: bold;\n",
       "    color: var(--tfsechead);\n",
       "    unicode-bidi: embed;\n",
       "    text-align: start;\n",
       "}\n",
       ".structure {\n",
       "    font-family: sans-serif;\n",
       "    font-size: small;\n",
       "    font-weight: bold;\n",
       "    color: var(--structure);\n",
       "    unicode-bidi: embed;\n",
       "    text-align: start;\n",
       "}\n",
       ".comments {\n",
       "    display: flex;\n",
       "    justify-content: flex-start;\n",
       "    align-items: flex-start;\n",
       "    align-content: flex-start;\n",
       "    flex-flow: column nowrap;\n",
       "}\n",
       ".nd, a:link.nd {\n",
       "    font-family: sans-serif;\n",
       "    font-size: small;\n",
       "    color: var(--node);\n",
       "    vertical-align: super;\n",
       "    direction: ltr ! important;\n",
       "    unicode-bidi: embed;\n",
       "}\n",
       ".lex {\n",
       "  color: var(--lex-color);;\n",
       "}\n",
       ".children,.children.ltr {\n",
       "    display: flex;\n",
       "    border: 0;\n",
       "    background-color: #ffffff;\n",
       "    justify-content: flex-start;\n",
       "    align-items: flex-start;\n",
       "    align-content: flex-start;\n",
       "}\n",
       ".children.stretch {\n",
       "    align-items: stretch;\n",
       "}\n",
       ".children.hor {\n",
       "    flex-flow: row nowrap;\n",
       "}\n",
       ".children.hor.wrap {\n",
       "    flex-flow: row wrap;\n",
       "}\n",
       ".children.ver {\n",
       "    flex-flow: column nowrap;\n",
       "}\n",
       ".children.ver.wrap {\n",
       "    flex-flow: column wrap;\n",
       "}\n",
       ".contnr {\n",
       "    width: fit-content;\n",
       "    display: flex;\n",
       "    justify-content: flex-start;\n",
       "    align-items: flex-start;\n",
       "    align-content: flex-start;\n",
       "    flex-flow: column nowrap;\n",
       "    background: #ffffff none repeat scroll 0 0;\n",
       "    padding:  10px 2px 2px 2px;\n",
       "    margin: 16px 2px 2px 2px;\n",
       "    border-style: solid;\n",
       "    font-size: small;\n",
       "}\n",
       ".contnr.trm {\n",
       "    background-attachment: local;\n",
       "}\n",
       ".contnr.cnul {\n",
       "    padding:  0;\n",
       "    margin: 0;\n",
       "    border-style: solid;\n",
       "    font-size: xx-small;\n",
       "}\n",
       ".contnr.cnul,.lbl.cnul {\n",
       "    border-color: var(--border-color-nul);\n",
       "    border-width: var(--border-width-nul);\n",
       "    border-radius: var(--border-width-nul);\n",
       "}\n",
       ".contnr.c0,.lbl.c0 {\n",
       "    border-color: var(--border-color0);\n",
       "    border-width: var(--border-width0);\n",
       "    border-radius: var(--border-width0);\n",
       "}\n",
       ".contnr.c1,.lbl.c1 {\n",
       "    border-color: var(--border-color1);\n",
       "    border-width: var(--border-width1);\n",
       "    border-radius: var(--border-width1);\n",
       "}\n",
       ".contnr.c2,.lbl.c2 {\n",
       "    border-color: var(--border-color2);\n",
       "    border-width: var(--border-width2);\n",
       "    border-radius: var(--border-width2);\n",
       "}\n",
       ".contnr.c3,.lbl.c3 {\n",
       "    border-color: var(--border-color3);\n",
       "    border-width: var(--border-width3);\n",
       "    border-radius: var(--border-width3);\n",
       "}\n",
       ".contnr.c4,.lbl.c4 {\n",
       "    border-color: var(--border-color4);\n",
       "    border-width: var(--border-width4);\n",
       "    border-radius: var(--border-width4);\n",
       "}\n",
       "span.plain {\n",
       "    display: inline-block;\n",
       "    white-space: pre-wrap;\n",
       "}\n",
       ".plain {\n",
       "    background-color: #ffffff;\n",
       "}\n",
       ".plain.l,.contnr.l,.contnr.l>.lbl {\n",
       "    border-left-style: dotted\n",
       "}\n",
       ".plain.r,.contnr.r,.contnr.r>.lbl {\n",
       "    border-right-style: dotted\n",
       "}\n",
       ".plain.lno,.contnr.lno,.contnr.lno>.lbl {\n",
       "    border-left-style: none\n",
       "}\n",
       ".plain.rno,.contnr.rno,.contnr.rno>.lbl {\n",
       "    border-right-style: none\n",
       "}\n",
       ".plain.l {\n",
       "    padding-left: 4px;\n",
       "    margin-left: 2px;\n",
       "    border-width: var(--border-width-plain);\n",
       "}\n",
       ".plain.r {\n",
       "    padding-right: 4px;\n",
       "    margin-right: 2px;\n",
       "    border-width: var(--border-width-plain);\n",
       "}\n",
       ".lbl {\n",
       "    font-family: monospace;\n",
       "    margin-top: -24px;\n",
       "    margin-left: 20px;\n",
       "    background: #ffffff none repeat scroll 0 0;\n",
       "    padding: 0 6px;\n",
       "    border-style: solid;\n",
       "    display: block;\n",
       "    color: var(--label)\n",
       "}\n",
       ".lbl.trm {\n",
       "    background-attachment: local;\n",
       "    margin-top: 2px;\n",
       "    margin-left: 2px;\n",
       "    padding: 2px 2px;\n",
       "    border-style: none;\n",
       "}\n",
       ".lbl.cnul {\n",
       "    font-size: xx-small;\n",
       "}\n",
       ".lbl.c0 {\n",
       "    font-size: small;\n",
       "}\n",
       ".lbl.c1 {\n",
       "    font-size: small;\n",
       "}\n",
       ".lbl.c2 {\n",
       "    font-size: medium;\n",
       "}\n",
       ".lbl.c3 {\n",
       "    font-size: medium;\n",
       "}\n",
       ".lbl.c4 {\n",
       "    font-size: large;\n",
       "}\n",
       ".occs, a:link.occs {\n",
       "    font-size: small;\n",
       "}\n",
       "\n",
       "/* PROVENANCE */\n",
       "\n",
       "div.prov {\n",
       "\tmargin: 40px;\n",
       "\tpadding: 20px;\n",
       "\tborder: 2px solid var(--fog-rim);\n",
       "}\n",
       "div.pline {\n",
       "\tdisplay: flex;\n",
       "\tflex-flow: row nowrap;\n",
       "\tjustify-content: stretch;\n",
       "\talign-items: baseline;\n",
       "}\n",
       "div.p2line {\n",
       "\tmargin-left: 2em;\n",
       "\tdisplay: flex;\n",
       "\tflex-flow: row nowrap;\n",
       "\tjustify-content: stretch;\n",
       "\talign-items: baseline;\n",
       "}\n",
       "div.psline {\n",
       "\tdisplay: flex;\n",
       "\tflex-flow: row nowrap;\n",
       "\tjustify-content: stretch;\n",
       "\talign-items: baseline;\n",
       "\tbackground-color: var(--gold-mist-back);\n",
       "}\n",
       "div.pname {\n",
       "\tflex: 0 0 5rem;\n",
       "\tfont-weight: bold;\n",
       "}\n",
       "div.pval {\n",
       "    flex: 1 1 auto;\n",
       "}\n",
       "\n",
       ":root {\n",
       "\t--node:               hsla(120, 100%,  20%, 1.0  );\n",
       "\t--label:              hsla(  0, 100%,  20%, 1.0  );\n",
       "\t--tfsechead:          hsla(  0, 100%,  25%, 1.0  );\n",
       "\t--structure:          hsla(120, 100%,  25%, 1.0  );\n",
       "\t--features:           hsla(  0,   0%,  30%, 1.0  );\n",
       "  --text-color:         hsla( 60,  80%,  10%, 1.0  );\n",
       "  --lex-color:          hsla(220,  90%,  60%, 1.0  );\n",
       "  --meta-color:         hsla(  0,   0%,  90%, 0.7  );\n",
       "  --meta-width:         3px;\n",
       "  --border-color-nul:   hsla(  0,   0%,  90%, 0.5  );\n",
       "  --border-color0:      hsla(  0,   0%,  90%, 0.9  );\n",
       "  --border-color1:      hsla(  0,   0%,  80%, 0.9  );\n",
       "  --border-color2:      hsla(  0,   0%,  70%, 0.9  );\n",
       "  --border-color3:      hsla(  0,   0%,  80%, 0.8  );\n",
       "  --border-color4:      hsla(  0,   0%,  60%, 0.9  );\n",
       "  --border-width-nul:   2px;\n",
       "  --border-width0:      2px;\n",
       "  --border-width1:      3px;\n",
       "  --border-width2:      4px;\n",
       "  --border-width3:      6px;\n",
       "  --border-width4:      5px;\n",
       "  --border-width-plain: 2px;\n",
       "}\n",
       ".hl {\n",
       "  background-color: var(--hl-strong);\n",
       "}\n",
       "span.hl {\n",
       "\tbackground-color: var(--hl-strong);\n",
       "\tborder-width: 0;\n",
       "\tborder-radius: 2px;\n",
       "\tborder-style: solid;\n",
       "}\n",
       "div.contnr.hl,div.lbl.hl {\n",
       "  background-color: var(--hl-strong);\n",
       "}\n",
       "div.contnr.hl {\n",
       "  border-color: var(--hl-rim) ! important;\n",
       "\tborder-width: 4px ! important;\n",
       "}\n",
       "\n",
       "span.hlbx {\n",
       "\tborder-color: var(--hl-rim);\n",
       "\tborder-width: 4px ! important;\n",
       "\tborder-style: solid;\n",
       "\tborder-radius: 6px;\n",
       "  padding: 4px;\n",
       "  margin: 4px;\n",
       "}\n",
       "\n",
       "span.plain {\n",
       "  display: inline-block;\n",
       "  white-space: pre-wrap;\n",
       "}\n",
       "\n",
       ":root {\n",
       "\t--hl-strong:        hsla( 60, 100%,  70%, 0.9  );\n",
       "\t--hl-rim:           hsla( 55,  80%,  50%, 1.0  );\n",
       "}\n",
       "</style>"
      ],
      "text/plain": [
       "<IPython.core.display.HTML object>"
      ]
     },
     "metadata": {},
     "output_type": "display_data"
    },
    {
     "data": {
      "text/html": [
       "<div><b>Text-Fabric API:</b> names <a target=\"_blank\" href=\"https://annotation.github.io/text-fabric/tf/cheatsheet.html\" title=\"doc\">N F E L T S C TF</a> directly usable</div><hr>"
      ],
      "text/plain": [
       "<IPython.core.display.HTML object>"
      ]
     },
     "metadata": {},
     "output_type": "display_data"
    }
   ],
   "source": [
    "A = use(\"fususl:clone\", checkout=\"clone\", hoist=globals())\n",
    "# A = use('fususl:hot', checkout=\"hot\", hoist=globals())\n",
    "# A = use('sfususl:latest', checkout=\"latest\", hoist=globals())\n",
    "# A = use('fususl', hoist=globals())"
   ]
  },
  {
   "cell_type": "markdown",
   "metadata": {},
   "source": [
    "## API\n",
    "\n",
    "At this point it is helpful to throw a quick glance at the text-fabric API documentation\n",
    "(see the links under **API Members** above).\n",
    "\n",
    "The most essential thing for now is that we can use `F` to access the data in the features\n",
    "we've loaded.\n",
    "But there is more, such as `N`, which helps us to walk over the text, as we see in a minute."
   ]
  },
  {
   "cell_type": "markdown",
   "metadata": {},
   "source": [
    "# Counting\n",
    "\n",
    "In order to get acquainted with the data, we start with the simple task of counting.\n",
    "\n",
    "## Count all nodes\n",
    "We use the\n",
    "[`N.walk()` generator](https://annotation.github.io/text-fabric/tf/core/nodes.html#tf.core.nodes.Nodes.walk)\n",
    "to walk through the nodes.\n",
    "\n",
    "We compared corpus to a gigantic spreadsheet, where the rows correspond to the words.\n",
    "In Text-Fabric, we call the rows `slots`, because they are the textual positions that can be filled with words.\n",
    "\n",
    "We also mentioned that there are also more textual objects.\n",
    "They are the verses, chapters and books.\n",
    "They also correspond to rows in the big spreadsheet.\n",
    "\n",
    "In Text-Fabric we call all these rows *nodes*, and the `N()` generator\n",
    "carries us through those nodes in the textual order.\n",
    "\n",
    "Just one extra thing: the `info` statements generate timed messages.\n",
    "If you use them instead of `print` you'll get a sense of the amount of time that\n",
    "the various processing steps typically need."
   ]
  },
  {
   "cell_type": "code",
   "execution_count": 9,
   "metadata": {
    "ExecuteTime": {
     "end_time": "2018-03-08T10:13:01.501437Z",
     "start_time": "2018-03-08T10:13:01.452315Z"
    }
   },
   "outputs": [
    {
     "name": "stdout",
     "output_type": "stream",
     "text": [
      "  0.00s Counting nodes ...\n",
      "  0.02s 75854 nodes\n"
     ]
    }
   ],
   "source": [
    "A.indent(reset=True)\n",
    "A.info(\"Counting nodes ...\")\n",
    "\n",
    "i = 0\n",
    "for n in N.walk():\n",
    "    i += 1\n",
    "\n",
    "A.info(\"{} nodes\".format(i))"
   ]
  },
  {
   "cell_type": "markdown",
   "metadata": {},
   "source": [
    "## What are those nodes?\n",
    "Every node has a type, like word, or phrase, sentence.\n",
    "We know that we have approximately 100,000 words and a few other nodes.\n",
    "But what exactly are they?\n",
    "\n",
    "Text-Fabric has two special features, `otype` and `oslots`, that must occur in every Text-Fabric data set.\n",
    "`otype` tells you for each node its type, and you can ask for the number of `slot`s in the text.\n",
    "\n",
    "Here we go!"
   ]
  },
  {
   "cell_type": "code",
   "execution_count": 10,
   "metadata": {
    "ExecuteTime": {
     "end_time": "2018-03-08T10:13:05.040545Z",
     "start_time": "2018-03-08T10:13:05.019791Z"
    }
   },
   "outputs": [
    {
     "data": {
      "text/plain": [
       "'word'"
      ]
     },
     "execution_count": 10,
     "metadata": {},
     "output_type": "execute_result"
    }
   ],
   "source": [
    "F.otype.slotType"
   ]
  },
  {
   "cell_type": "code",
   "execution_count": 11,
   "metadata": {
    "ExecuteTime": {
     "end_time": "2018-03-08T10:13:05.855607Z",
     "start_time": "2018-03-08T10:13:05.849069Z"
    }
   },
   "outputs": [
    {
     "data": {
      "text/plain": [
       "57138"
      ]
     },
     "execution_count": 11,
     "metadata": {},
     "output_type": "execute_result"
    }
   ],
   "source": [
    "F.otype.maxSlot"
   ]
  },
  {
   "cell_type": "code",
   "execution_count": 12,
   "metadata": {
    "ExecuteTime": {
     "end_time": "2018-03-08T10:13:06.387787Z",
     "start_time": "2018-03-08T10:13:06.381228Z"
    }
   },
   "outputs": [
    {
     "data": {
      "text/plain": [
       "75854"
      ]
     },
     "execution_count": 12,
     "metadata": {},
     "output_type": "execute_result"
    }
   ],
   "source": [
    "F.otype.maxNode"
   ]
  },
  {
   "cell_type": "code",
   "execution_count": 13,
   "metadata": {
    "ExecuteTime": {
     "end_time": "2018-03-08T10:13:07.770989Z",
     "start_time": "2018-03-08T10:13:07.764917Z"
    }
   },
   "outputs": [
    {
     "data": {
      "text/plain": [
       "('piece', 'page', 'sentence', 'line', 'column', 'span', 'word')"
      ]
     },
     "execution_count": 13,
     "metadata": {},
     "output_type": "execute_result"
    }
   ],
   "source": [
    "F.otype.all"
   ]
  },
  {
   "cell_type": "code",
   "execution_count": 14,
   "metadata": {
    "ExecuteTime": {
     "end_time": "2018-03-08T10:13:11.588722Z",
     "start_time": "2018-03-08T10:13:11.581305Z"
    }
   },
   "outputs": [
    {
     "data": {
      "text/plain": [
       "(('piece', 1731.4545454545455, 67862, 67894),\n",
       " ('page', 130.45205479452054, 67424, 67861),\n",
       " ('sentence', 20.92200659099231, 67895, 70625),\n",
       " ('line', 11.285403910724867, 62361, 67423),\n",
       " ('column', 10.941784756798162, 57139, 62360),\n",
       " ('span', 10.927137119908204, 70626, 75854),\n",
       " ('word', 1, 1, 57138))"
      ]
     },
     "execution_count": 14,
     "metadata": {},
     "output_type": "execute_result"
    }
   ],
   "source": [
    "C.levels.data"
   ]
  },
  {
   "cell_type": "markdown",
   "metadata": {},
   "source": [
    "This is interesting: above you see all the textual objects, with the average size of their objects,\n",
    "the node where they start, and the node where they end."
   ]
  },
  {
   "cell_type": "markdown",
   "metadata": {},
   "source": [
    "## Count individual object types\n",
    "This is an intuitive way to count the number of nodes in each type.\n",
    "Note in passing, how we use the `indent` in conjunction with `info` to produce neat timed\n",
    "and indented progress messages."
   ]
  },
  {
   "cell_type": "code",
   "execution_count": 15,
   "metadata": {
    "ExecuteTime": {
     "end_time": "2018-03-08T10:13:21.547051Z",
     "start_time": "2018-03-08T10:13:21.498807Z"
    }
   },
   "outputs": [
    {
     "name": "stdout",
     "output_type": "stream",
     "text": [
      "  0.00s counting objects ...\n",
      "   |     0.00s      33 pieces\n",
      "   |     0.00s     438 pages\n",
      "   |     0.00s    2731 sentences\n",
      "   |     0.00s    5063 lines\n",
      "   |     0.00s    5222 columns\n",
      "   |     0.00s    5229 spans\n",
      "   |     0.01s   57138 words\n",
      "  0.02s Done\n"
     ]
    }
   ],
   "source": [
    "A.indent(reset=True)\n",
    "A.info(\"counting objects ...\")\n",
    "\n",
    "for otype in F.otype.all:\n",
    "    i = 0\n",
    "    A.indent(level=1, reset=True)\n",
    "\n",
    "    for n in F.otype.s(otype):\n",
    "        i += 1\n",
    "\n",
    "    A.info(\"{:>7} {}s\".format(i, otype))\n",
    "\n",
    "A.indent(level=0)\n",
    "A.info(\"Done\")"
   ]
  },
  {
   "cell_type": "markdown",
   "metadata": {},
   "source": [
    "# Viewing textual objects\n",
    "\n",
    "We use the A API (the extra power) to peek into the corpus."
   ]
  },
  {
   "cell_type": "markdown",
   "metadata": {},
   "source": [
    "Let's inspect some words."
   ]
  },
  {
   "cell_type": "code",
   "execution_count": 17,
   "metadata": {
    "ExecuteTime": {
     "end_time": "2018-05-18T09:18:02.282178Z",
     "start_time": "2018-05-18T09:18:02.274117Z"
    }
   },
   "outputs": [
    {
     "data": {
      "text/html": [
       "<div class=\"tfsechead rtl\"><span class=\"ltr\"><a target=\"_blank\" href=\"https://github.com/among/fusus/blob/master/ur/Lakhnawi/html/p15.html\" title=\"show this passage in the the original (html derived from pdf)\" sec=\"4 15:4\">4 15:4</a></span></div><div class=\"rtl children\"><div class=\"contnr c0 trm rtl  \" ><div class=\"lbl c0 trm \" ><span class=\"nd\">1000</span> <span class=\"txtu ara\">لَهُ. </span></div></div></div>"
      ],
      "text/plain": [
       "<IPython.core.display.HTML object>"
      ]
     },
     "metadata": {},
     "output_type": "display_data"
    },
    {
     "data": {
      "text/html": [
       "<div class=\"tfsechead rtl\"><span class=\"ltr\"><a target=\"_blank\" href=\"https://github.com/among/fusus/blob/master/ur/Lakhnawi/html/p88.html\" title=\"show this passage in the the original (html derived from pdf)\" sec=\"8 88:3\">8 88:3</a></span></div><div class=\"rtl children\"><div class=\"contnr c0 trm rtl  \" ><div class=\"lbl c0 trm \" ><span class=\"nd\">10000</span> <span class=\"txtu ara\">يَأتِي </span></div></div></div>"
      ],
      "text/plain": [
       "<IPython.core.display.HTML object>"
      ]
     },
     "metadata": {},
     "output_type": "display_data"
    },
    {
     "data": {
      "text/html": [
       "<div class=\"tfsechead rtl\"><span class=\"ltr\"><a target=\"_blank\" href=\"https://github.com/among/fusus/blob/master/ur/Lakhnawi/html/p402.html\" title=\"show this passage in the the original (html derived from pdf)\" sec=\"30 402:1\">30 402:1</a></span></div><div class=\"rtl children\"><div class=\"contnr c0 trm rtl  \" ><div class=\"lbl c0 trm \" ><span class=\"nd\">50000</span> <span class=\"txtu ara\">وَمَا </span></div></div></div>"
      ],
      "text/plain": [
       "<IPython.core.display.HTML object>"
      ]
     },
     "metadata": {},
     "output_type": "display_data"
    }
   ],
   "source": [
    "wordShow = (1000, 10000, 50000)\n",
    "for word in wordShow:\n",
    "    A.pretty(word, withNodes=True)"
   ]
  },
  {
   "cell_type": "markdown",
   "metadata": {},
   "source": [
    "# Feature statistics\n",
    "\n",
    "`F`\n",
    "gives access to all features.\n",
    "Every feature has a method\n",
    "`freqList()`\n",
    "to generate a frequency list of its values, higher frequencies first.\n",
    "Here are the words in beta code, a top 20:"
   ]
  },
  {
   "cell_type": "code",
   "execution_count": 19,
   "metadata": {
    "ExecuteTime": {
     "end_time": "2018-03-08T10:13:28.926742Z",
     "start_time": "2018-03-08T10:13:28.846500Z"
    }
   },
   "outputs": [
    {
     "data": {
      "text/plain": [
       "((' ', 3384),\n",
       " ('', 1770),\n",
       " ('fiy', 1227),\n",
       " ('mina', 862),\n",
       " ('swrŧ', 385),\n",
       " ('āʾilauā', 325),\n",
       " ('laā', 316),\n",
       " ('maā', 296),\n",
       " ('lahu', 285),\n",
       " ('ʿalaáã', 282),\n",
       " ('ḏãlika', 276),\n",
       " ('huwa', 256),\n",
       " ('bihi', 249),\n",
       " ('kaāna', 248),\n",
       " ('hãḏaā', 242),\n",
       " ('āllhi', 240),\n",
       " ('ʿalayhi', 238),\n",
       " ('āllhu', 235),\n",
       " ('ʿana', 190),\n",
       " ('fy', 174))"
      ]
     },
     "execution_count": 19,
     "metadata": {},
     "output_type": "execute_result"
    }
   ],
   "source": [
    "F.lettersn.freqList()[0:20]"
   ]
  },
  {
   "cell_type": "markdown",
   "metadata": {
    "tags": []
   },
   "source": [
    "## Word distribution\n",
    "\n",
    "Let's do a bit more fancy word stuff.\n",
    "\n",
    "### Hapaxes\n",
    "\n",
    "A hapax can be found by inspecting words and see how many occurrences they have.\n",
    "If that is number is one, we have a hapax.\n",
    "\n",
    "We work with the ascii transliteration.\n",
    "\n",
    "We print 10 hapaxes with their gloss."
   ]
  },
  {
   "cell_type": "code",
   "execution_count": 20,
   "metadata": {
    "ExecuteTime": {
     "end_time": "2018-03-08T10:13:58.376059Z",
     "start_time": "2018-03-08T10:13:58.247752Z"
    }
   },
   "outputs": [
    {
     "name": "stdout",
     "output_type": "stream",
     "text": [
      "  0.07s 14243 hapaxes found\n",
      "\t *ga_aya=ta\n",
      "\t *galauba\n",
      "\t *ganayu*nu\n",
      "\t *gay\n",
      "\t *gayaru\n",
      "\t *gayru\n",
      "\t *gu*sanu*n\n",
      "\t *h*dr=tu\n",
      "\t *h*ky*k=tu*n\n",
      "\t *ha*ka_a'i*ku\n"
     ]
    }
   ],
   "source": [
    "A.indent(reset=True)\n",
    "\n",
    "hapax = []\n",
    "lexIndex = collections.defaultdict(list)\n",
    "\n",
    "for n in F.otype.s(\"word\"):\n",
    "    lexIndex[F.lettersp.v(n)].append(n)\n",
    "\n",
    "hapax = dict((lex, occs) for (lex, occs) in lexIndex.items() if len(occs) == 1)\n",
    "\n",
    "A.info(\"{} hapaxes found\".format(len(hapax)))\n",
    "\n",
    "for h in sorted(hapax)[0:10]:\n",
    "    print(f\"\\t{h}\")"
   ]
  },
  {
   "cell_type": "markdown",
   "metadata": {},
   "source": [
    "If we want more info on the hapaxes, we get that by means of its *node*.\n",
    "The lexIndex dictionary stores the occurrences of a lexeme as a list of nodes.\n",
    "\n",
    "Let's get the latin beta code and the arabic form of those 10 hapaxes."
   ]
  },
  {
   "cell_type": "code",
   "execution_count": 22,
   "metadata": {
    "ExecuteTime": {
     "end_time": "2018-03-08T10:14:00.590376Z",
     "start_time": "2018-03-08T10:14:00.580157Z"
    }
   },
   "outputs": [
    {
     "name": "stdout",
     "output_type": "stream",
     "text": [
      "\t ġaāyaŧa      غَايَةَ\n",
      "\t ġalauba      غَلَّبَ\n",
      "\t ġanayuⁿu     غَنَيٌّ\n",
      "\t ġay          غَي\n",
      "\t ġayaru       غَيْـرُ\n",
      "\t ġayru        غَيرُ\n",
      "\t ġuṣanuⁿ      غُصْنٌ\n",
      "\t ḥḍrŧu        حضرةُ\n",
      "\t ḥḳyḳŧuⁿ      حقيقةٌ\n",
      "\t ḥaḳaāʾiḳu    حَقَائِقُ\n"
     ]
    }
   ],
   "source": [
    "for h in sorted(hapax)[0:10]:\n",
    "    node = hapax[h][0]\n",
    "    print(f\"\\t{F.lettersn.v(node):<12} {F.letters.v(node)}\")"
   ]
  },
  {
   "cell_type": "markdown",
   "metadata": {
    "tags": []
   },
   "source": [
    "### Small occurrence base\n",
    "\n",
    "The occurrence base of a word are the pieces in which it occurs.\n",
    "Let's look for words that occur in a single piece.\n",
    "\n",
    "Oh yes, we have already found the hapaxes, we will skip them here."
   ]
  },
  {
   "cell_type": "code",
   "execution_count": 27,
   "metadata": {
    "ExecuteTime": {
     "end_time": "2018-03-08T10:14:09.712557Z",
     "start_time": "2018-03-08T10:14:09.068800Z"
    }
   },
   "outputs": [
    {
     "name": "stdout",
     "output_type": "stream",
     "text": [
      "  0.00s Finding single piece words\n",
      "  0.31s found 15405 single piece words\n"
     ]
    }
   ],
   "source": [
    "A.indent(reset=True)\n",
    "A.info(\"Finding single piece words\")\n",
    "\n",
    "lexPieceIndex = {}\n",
    "\n",
    "for (lex, occs) in lexIndex.items():\n",
    "    lexPieceIndex[lex] = set(L.u(n, otype=\"piece\")[0] for n in occs)\n",
    "\n",
    "singlePieceLex = collections.defaultdict(set)\n",
    "for (lex, pieces) in lexPieceIndex.items():\n",
    "    if len(pieces) == 1:\n",
    "        singlePieceLex[list(pieces)[0]].add(lex)\n",
    "\n",
    "singlePiece = {piece: len(lexs) for (piece, lexs) in singlePieceLex.items()}\n",
    "\n",
    "A.info(\"found {} single piece words\".format(sum(singlePiece.values())))"
   ]
  },
  {
   "cell_type": "code",
   "execution_count": 29,
   "metadata": {
    "ExecuteTime": {
     "end_time": "2018-03-08T10:14:10.997607Z",
     "start_time": "2018-03-08T10:14:10.964980Z"
    }
   },
   "outputs": [
    {
     "name": "stdout",
     "output_type": "stream",
     "text": [
      "piece                #all #own %own\n",
      "-----------------------------------\n",
      "38                   1005  698 69.5%\n",
      "37                   1099  745 67.8%\n",
      "35                   1125  714 63.5%\n",
      "36                    471  276 58.6%\n",
      "1                     232  135 58.2%\n",
      "28                   2492 1289 51.7%\n",
      "18                   1867  915 49.0%\n",
      "30                   1924  938 48.8%\n",
      "3                     265  129 48.7%\n",
      "5                    1548  713 46.1%\n",
      "6                    1227  561 45.7%\n",
      "11                   1773  807 45.5%\n",
      "27                    974  434 44.6%\n",
      "21                    577  256 44.4%\n",
      "14                    602  264 43.9%\n",
      "20                   1150  504 43.8%\n",
      "19                   1548  673 43.5%\n",
      "13                   1410  612 43.4%\n",
      "17                   1144  488 42.7%\n",
      "4                    1362  580 42.6%\n",
      "16                    894  380 42.5%\n",
      "25                   1138  474 41.7%\n",
      "9                     949  394 41.5%\n",
      "24                    673  277 41.2%\n",
      "22                    858  353 41.1%\n",
      "2                     118   48 40.7%\n",
      "15                   1190  480 40.3%\n",
      "10                    618  248 40.1%\n",
      "8                     661  260 39.3%\n",
      "7                     837  328 39.2%\n",
      "23                    430  167 38.8%\n",
      "26                    687  238 34.6%\n",
      "34                     88   27 30.7%\n"
     ]
    }
   ],
   "source": [
    "print(\n",
    "    \"{:<20}{:>5}{:>5}{:>5}\\n{}\".format(\n",
    "        \"piece\",\n",
    "        \"#all\",\n",
    "        \"#own\",\n",
    "        \"%own\",\n",
    "        \"-\" * 35,\n",
    "    )\n",
    ")\n",
    "pieceList = []\n",
    "\n",
    "for p in F.otype.s(\"piece\"):\n",
    "    piece = T.pieceName(p)\n",
    "    a = len(allPiece[p])\n",
    "    o = singlePiece.get(p, 0)\n",
    "    pc = 100 * o / a\n",
    "    pieceList.append((piece, a, o, pc))\n",
    "\n",
    "for x in sorted(pieceList, key=lambda e: (-e[3], -e[1], e[0])):\n",
    "    print(\"{:<20} {:>4} {:>4} {:>4.1f}%\".format(*x))"
   ]
  },
  {
   "cell_type": "markdown",
   "metadata": {},
   "source": [
    "# Layer API\n",
    "We travel upwards and downwards, forwards and backwards through the nodes.\n",
    "The Layer-API (`L`) provides functions: `u()` for going up, and `d()` for going down,\n",
    "`n()` for going to next nodes and `p()` for going to previous nodes.\n",
    "\n",
    "These directions are indirect notions: nodes are just numbers, but by means of the\n",
    "`oslots` feature they are linked to slots. One node *contains* an other node, if the one is linked to a set of slots that contains the set of slots that the other is linked to.\n",
    "And one if next or previous to an other, if its slots follow of precede the slots of the other one.\n",
    "\n",
    "`L.u(node)` **Up** is going to nodes that embed `node`.\n",
    "\n",
    "`L.d(node)` **Down** is the opposite direction, to those that are contained in `node`.\n",
    "\n",
    "`L.n(node)` **Next** are the next *adjacent* nodes, i.e. nodes whose first slot comes immediately after the last slot of `node`.\n",
    "\n",
    "`L.p(node)` **Previous** are the previous *adjacent* nodes, i.e. nodes whose last slot comes immediately before the first slot of `node`.\n",
    "\n",
    "All these functions yield nodes of all possible otypes.\n",
    "By passing an optional parameter, you can restrict the results to nodes of that type.\n",
    "\n",
    "The result are ordered according to the order of things in the text.\n",
    "\n",
    "The functions return always a tuple, even if there is just one node in the result.\n",
    "\n",
    "## Going up\n",
    "We go from the first word to the book it contains.\n",
    "Note the `[0]` at the end. You expect one book, yet `L` returns a tuple.\n",
    "To get the only element of that tuple, you need to do that `[0]`.\n",
    "\n",
    "If you are like me, you keep forgetting it, and that will lead to weird error messages later on."
   ]
  },
  {
   "cell_type": "code",
   "execution_count": 24,
   "metadata": {
    "ExecuteTime": {
     "end_time": "2018-03-08T10:14:15.350367Z",
     "start_time": "2018-03-08T10:14:15.343039Z"
    }
   },
   "outputs": [
    {
     "name": "stdout",
     "output_type": "stream",
     "text": [
      "109641\n"
     ]
    }
   ],
   "source": [
    "firstBook = L.u(1, otype=\"book\")[0]\n",
    "print(firstBook)"
   ]
  },
  {
   "cell_type": "markdown",
   "metadata": {},
   "source": [
    "# Text API\n",
    "\n",
    "So far, we have mainly seen nodes and their numbers, and the names of node types.\n",
    "You would almost forget that we are dealing with text.\n",
    "So let's try to see some text.\n",
    "\n",
    "In the same way as `F` gives access to feature data,\n",
    "`T` gives access to the text.\n",
    "That is also feature data, but you can tell Text-Fabric which features are specifically\n",
    "carrying the text, and in return Text-Fabric offers you\n",
    "a Text API: `T`.\n",
    "\n",
    "## Formats\n",
    "Syriac text can be represented in a number of ways:\n",
    "\n",
    "* in transliteration, or in Syriac characters,\n",
    "* showing the actual text or only the lexemes,\n",
    "\n",
    "If you wonder where the information about text formats is stored:\n",
    "not in the program text-fabric, but in the data set.\n",
    "It has a feature `otext`, which specifies the formats and which features\n",
    "must be used to produce them. `otext` is the third special feature in a TF data set,\n",
    "next to `otype` and `oslots`.\n",
    "It is an optional feature.\n",
    "If it is absent, there will be no `T` API.\n",
    "\n",
    "Here is a list of all available formats in this data set."
   ]
  },
  {
   "cell_type": "code",
   "execution_count": 31,
   "metadata": {
    "ExecuteTime": {
     "end_time": "2018-03-08T10:14:31.965590Z",
     "start_time": "2018-03-08T10:14:31.955945Z"
    }
   },
   "outputs": [
    {
     "data": {
      "text/plain": [
       "['text-orig-full', 'text-orig-nice', 'text-orig-plain', 'text-orig-trans']"
      ]
     },
     "execution_count": 31,
     "metadata": {},
     "output_type": "execute_result"
    }
   ],
   "source": [
    "sorted(T.formats)"
   ]
  },
  {
   "cell_type": "markdown",
   "metadata": {},
   "source": [
    "## Using the formats\n",
    "\n",
    "We can pretty display in other formats:"
   ]
  },
  {
   "cell_type": "code",
   "execution_count": 33,
   "metadata": {},
   "outputs": [
    {
     "data": {
      "text/html": [
       "<div class=\"tfsechead rtl\"><span class=\"ltr\"><a target=\"_blank\" href=\"https://github.com/among/fusus/blob/master/ur/Lakhnawi/html/p15.html\" title=\"show this passage in the the original (html derived from pdf)\" sec=\"4 15:4\">4 15:4</a></span></div><div class=\"rtl children\"><div class=\"contnr c0 trm rtl  \" ><div class=\"lbl c0 trm \" ><span class=\"txtt\">lahu. </span></div></div></div>"
      ],
      "text/plain": [
       "<IPython.core.display.HTML object>"
      ]
     },
     "metadata": {},
     "output_type": "display_data"
    },
    {
     "data": {
      "text/html": [
       "<div class=\"tfsechead rtl\"><span class=\"ltr\"><a target=\"_blank\" href=\"https://github.com/among/fusus/blob/master/ur/Lakhnawi/html/p88.html\" title=\"show this passage in the the original (html derived from pdf)\" sec=\"8 88:3\">8 88:3</a></span></div><div class=\"rtl children\"><div class=\"contnr c0 trm rtl  \" ><div class=\"lbl c0 trm \" ><span class=\"txtt\">yaātiy </span></div></div></div>"
      ],
      "text/plain": [
       "<IPython.core.display.HTML object>"
      ]
     },
     "metadata": {},
     "output_type": "display_data"
    },
    {
     "data": {
      "text/html": [
       "<div class=\"tfsechead rtl\"><span class=\"ltr\"><a target=\"_blank\" href=\"https://github.com/among/fusus/blob/master/ur/Lakhnawi/html/p402.html\" title=\"show this passage in the the original (html derived from pdf)\" sec=\"30 402:1\">30 402:1</a></span></div><div class=\"rtl children\"><div class=\"contnr c0 trm rtl  \" ><div class=\"lbl c0 trm \" ><span class=\"txtt\">wamaā </span></div></div></div>"
      ],
      "text/plain": [
       "<IPython.core.display.HTML object>"
      ]
     },
     "metadata": {},
     "output_type": "display_data"
    }
   ],
   "source": [
    "for word in wordShow:\n",
    "    A.pretty(word, fmt=\"text-orig-trans\")"
   ]
  },
  {
   "cell_type": "markdown",
   "metadata": {},
   "source": [
    "Now let's use those formats to print out the first verse of the corpus."
   ]
  },
  {
   "cell_type": "code",
   "execution_count": 34,
   "metadata": {
    "ExecuteTime": {
     "end_time": "2018-03-08T10:14:35.240131Z",
     "start_time": "2018-03-08T10:14:35.231752Z"
    }
   },
   "outputs": [
    {
     "name": "stdout",
     "output_type": "stream",
     "text": [
      "text-orig-full:\n",
      "\tفصوص الحكم تأليف الشيخ الأكبروالكبريت الأحم محيي الدين محمدبن العربي قدسااللهسرّه\n",
      "text-orig-nice:\n",
      "\tfṣwṣ ālḥkm tālyf ālšyḫ ālākbrwālkbryt ālāḥm mḥyy āldyn mḥmdbn ālʿrby ḳdsāāllhsruh\n",
      "text-orig-plain:\n",
      "\tf*sw*s _al*hkm t_alyf _al^sy_h _al_akbrw_alkbryt _al_a*hm m*hyy _aldyn m*hmdbn _al`rby *kds_a_allhsruh\n",
      "text-orig-trans:\n",
      "\tfṣwṣ ālḥkm tālyf ālshykh ālākbrwālkbryt ālāḥm mḥyy āldyn mḥmdbn āl`rby qdsāāllhsrūwh\n"
     ]
    }
   ],
   "source": [
    "for fmt in sorted(T.formats):\n",
    "    print(\"{}:\\n\\t{}\".format(fmt, T.text(range(1, 12), fmt=fmt)))"
   ]
  },
  {
   "cell_type": "markdown",
   "metadata": {},
   "source": [
    "If we do not specify a format, the **default** format is used (`text-orig-full`)."
   ]
  },
  {
   "cell_type": "code",
   "execution_count": 35,
   "metadata": {
    "ExecuteTime": {
     "end_time": "2018-03-08T10:14:37.681491Z",
     "start_time": "2018-03-08T10:14:37.674538Z"
    }
   },
   "outputs": [
    {
     "name": "stdout",
     "output_type": "stream",
     "text": [
      "فصوص الحكم تأليف الشيخ الأكبروالكبريت الأحم محيي الدين محمدبن العربي قدسااللهسرّه\n"
     ]
    }
   ],
   "source": [
    "print(T.text(range(1, 12)))"
   ]
  },
  {
   "cell_type": "markdown",
   "metadata": {},
   "source": [
    "## Whole text in all formats in less than a second\n",
    "Part of the pleasure of working with computers is that they can crunch massive amounts of data.\n",
    "The text of this corpus is a piece of cake.\n",
    "\n",
    "It takes less than a second to have that cake and eat it."
   ]
  },
  {
   "cell_type": "code",
   "execution_count": 36,
   "metadata": {
    "ExecuteTime": {
     "end_time": "2018-03-08T10:14:40.870244Z",
     "start_time": "2018-03-08T10:14:39.998071Z"
    }
   },
   "outputs": [
    {
     "name": "stdout",
     "output_type": "stream",
     "text": [
      "  0.00s writing plain text of the Fusus in all formats\n",
      "  0.47s done 4 formats\n",
      "text-orig-full\n",
      "فصوص الحكم تأليف الشيخ الأكبروالكبريت الأحم محيي الدين محمدبن العربي قدسااللهسرّهالمتوفىسنة ٨٣٦هـ قاظامادن أای الویبيروت٤٣٤١هـ–٣١٠٢ميطلب من دار النشر كلاوس شفارتزبرلين \n",
      "جميع الحقوق محفوظة الطبعة الأولىٰ ٤١٠٢م\n",
      "بِسمِ اللهِ الرَّحْمٰـنِ الرَّحِيمِ قال الشيخ الأكبر في ديوانه ترجمان الأشواق:  أَحْبَابُ قَـلْبِي أَيْنَ هُمْ بِٱللهِ قُـولُو أَيْنَ هُــمْ كَمَــا رَأَيْتُ طَـيْفَهُــمْ فَهَلْ تُرِينِي عَيْـنَهُـم فَكَــمْ وَكَــمْ أَطْـلُبُهُــم وَكَــمْ سَـأَلْتُ بَيْنَهُمْ حَـتَّـىٰ أَمِـنْتُ بَيْنَهُــمْ وَمَا أَمِـنْتُ بَيْنَهُـــمْ لَعَـلَّ سَعْـدِي حَـائـلٌ بَيْنَ النَّوَىٰ وَ بَيْنَهُـمْ لِتَـنْعَــمَ العَيْــنُ بِهِــمْ فَـلَا أَقُـولَ أَيْنَ هُــمْ إلىٰ أستاذي عثمان يحيىٰرحمه الله \n",
      "الفهرست ١‐نماذج بعض الصفحات من مخطوط قونية ٣٣٩١……………………أ٢‐عنوان كتاب فصوص الحكم وخصوص الكلم………………………٦٣‐خطبة كتاب فصوص الحكم وخصوص الكلم………………………٨٤‐[١]فصّ حكمة إلٰهيّة في كلمة آدميّة.………………………………٤١٥‐[٢]فصّ حكمة نَفْثِيَّة في كلمة شِـيثِيّة……………………………٢٣٦‐[٣]فصّ حكمة سُـبُّوحِيّة في كلمة نوحيّة…………………………٢٥٧‐[٤]فصّ حكمة قُدُّوسِيّة في كلمة إدريسيّة…………………………١٧٨‐[٥]فصّ حكمة مُهَيْمِيّة في كلمة إبـراهيميّة…………………………٤٨٩‐[٦]فصّ حكمة حَقِـيّة في كلمة إسحاقـيّة…………………………٥٩٠١‐  [٧]فصّ حكمة عَلِيَّة في كلمة إسماعيلـيّة…………………………١١١١١‐  [٨]فصّ حكمة رُوحيّة في كلمة يعقوبـيّة…………………………١٢١٢١‐  [٩]فصّ حكمة نوريّة في كلمة يوسفيّة…………………………  ٠٣١٣١‐  [٠١]  فصّ حكمة أحديّة في كلمة هوديّة…………………………٧٤١٤١‐  [١١]  فصّ حكمة فاتحيّة في كلمة صالحيّة………………………٦٦١٥١‐  [٢١]  فصّ حكمة قـلبـيّة في كلمة شعيبيّة…………………………٣٧١٦١‐  [٣١]  فصّ حكمة مَلَـكِيّة في كلمة لوطيّة…………………………٩٨١٧١‐  [٤١]  فصّ حكمة قَدَرِيّة في كلمة عُـزيريّة…………………………٨٩١٨١‐  [٥١]  فصّ حكمة نبويّة في كلمة عيسويّة…………………………١١٢\n",
      "٩١‐  [٦١]  فصّ حكمة رحمانيّة في كلمة سليمانيّة……………………٢٤٢٠٢‐  [٧١]  فصّ حكمة وجوديّة في كلمة داوديّة………………………٢٦٢١٢‐  [٨١]  فصّ حكمة نَفْسِيّة في كلمة يونسيّة…………………………٨٧٢٢٢‐  [٩١]  فصّ حكمة غيبيّة في كلمة أيّوبيّة…………………………٧٨٢٣٢‐  [٠٢]  فصّ حكمة جلاليّة في كلمة يَحْـيَوِيَّة………………………٦٩٢٤٢‐  [١٢]  فصّ حكمة ما لكيّة في كلمة زكـريّاويّة………………………١٠٣٥٢‐  [٢٢]  فصّ حكمة إيـناسيّة في كلمة إلياسيّة………………………١١٣٦٢‐  [٣٢]  فصّ حكمة إحسانيّة في كلمة لقمانيّة………………………٤٢٣٧٢‐  [٤٢]  فصّ حكمة إماميّة في كلمة هارونيّة………………………١٣٣٨٢‐  [٥٢]  فصّ حكمة عُـلـويّة في كلمة موسويّة………………………٢٤٣٩٢‐  [٦٢]  فصّ حكمة صمديّة في كلمة خالديّة………………………  ٢٧٣٠٣‐  [٧٢]  فصّ حكمة فرديّة في كلمة محمديّة………………………٥٧٣٤٣‐  الملحقات…………………………………………………٨٠٤٥٣‐  ملحق ١:  تعليقات داخل المخطوط……………………………٩٠٤٦٣‐  ملحق ٢:  تحقيق في مسألة الذبيح……………………………١٢٤٧٣‐  ملحق ٣:  تحقيق في خالد بن سنان……………………………٦٢٤٨٣‐  ملحق ٤:  تخريج حديث التحول……………………………٣٣٤\n",
      "\n",
      "text-orig-nice\n",
      "fṣwṣ ālḥkm tālyf ālšyḫ ālākbrwālkbryt ālāḥm mḥyy āldyn mḥmdbn ālʿrby ḳdsāāllhsruhālmtwfásnŧ 836h ḳāẓāmādn āāY ālwYbyrwt4341h–3102myṭlb mn dār ālnšr klāws šfārtzbrlyn \n",
      "ǧmyʿ ālḥḳwḳ mḥfwẓŧ ālṭbʿŧ ālāwláã 4102m\n",
      "bismi āllhi ālrauḥamãni ālrauḥiymi ḳāl ālšyḫ ālākbr fy dywānh trǧmān ālāšwāḳ:  āaḥabaābu ḳalabiy āayana huma biallhi ḳuwluw āayana huma kamaā raāayatu ṭayafahuma fahala turiyniy ʿayanahum fakama wakama āaṭalubuhum wakama saāalatu bayanahuma ḥatauáã āaminatu bayanahuma wamaā āaminatu bayanahuma laʿalau saʿadiy ḥaāʾluⁿ bayana ālnauwaáã wa bayanahuma litanaʿama ālʿayanu bihima falaā āaḳuwla āayana huma āláã āstāḏy ʿṯmān yḥyáãrḥmh āllh \n",
      "ālfhrst 1‐nmāḏǧ bʿḍ ālṣfḥāt mn mḫṭwṭ ḳwnyŧ 3391……………………ā2‐ʿnwān ktāb fṣwṣ ālḥkm wḫṣwṣ ālklm………………………63‐ḫṭbŧ ktāb fṣwṣ ālḥkm wḫṣwṣ ālklm………………………84‐[1]fṣu ḥkmŧ ālãhyuŧ fy klmŧ ādmyuŧ.………………………………415‐[2]fṣu ḥkmŧ nafaṯiyauŧ fy klmŧ šiyṯiyuŧ……………………………236‐[3]fṣu ḥkmŧ subuuwḥiyuŧ fy klmŧ nwḥyuŧ…………………………257‐[4]fṣu ḥkmŧ ḳuduuwsiyuŧ fy klmŧ ādrysyuŧ…………………………178‐[5]fṣu ḥkmŧ muhayamiyuŧ fy klmŧ ābrāhymyuŧ…………………………489‐[6]fṣu ḥkmŧ ḥaḳiyuŧ fy klmŧ āsḥāḳyuŧ…………………………5901‐  [7]fṣu ḥkmŧ ʿaliyauŧ fy klmŧ āsmāʿylyuŧ…………………………11111‐  [8]fṣu ḥkmŧ ruwḥyuŧ fy klmŧ yʿḳwbyuŧ…………………………12121‐  [9]fṣu ḥkmŧ nwryuŧ fy klmŧ ywsfyuŧ…………………………  03131‐  [01]  fṣu ḥkmŧ āḥdyuŧ fy klmŧ hwdyuŧ…………………………74141‐  [11]  fṣu ḥkmŧ fātḥyuŧ fy klmŧ ṣālḥyuŧ………………………66151‐  [21]  fṣu ḥkmŧ ḳlbyuŧ fy klmŧ šʿybyuŧ…………………………37161‐  [31]  fṣu ḥkmŧ malakiyuŧ fy klmŧ lwṭyuŧ…………………………98171‐  [41]  fṣu ḥkmŧ ḳadariyuŧ fy klmŧ ʿuzyryuŧ…………………………89181‐  [51]  fṣu ḥkmŧ nbwyuŧ fy klmŧ ʿyswyuŧ…………………………112\n",
      "91‐  [61]  fṣu ḥkmŧ rḥmānyuŧ fy klmŧ slymānyuŧ……………………24202‐  [71]  fṣu ḥkmŧ wǧwdyuŧ fy klmŧ dāwdyuŧ………………………26212‐  [81]  fṣu ḥkmŧ nafasiyuŧ fy klmŧ ywnsyuŧ…………………………87222‐  [91]  fṣu ḥkmŧ ġybyuŧ fy klmŧ āyuwbyuŧ…………………………78232‐  [02]  fṣu ḥkmŧ ǧlālyuŧ fy klmŧ yaḥayawiyauŧ………………………69242‐  [12]  fṣu ḥkmŧ mā lkyuŧ fy klmŧ zkryuāwyuŧ………………………10352‐  [22]  fṣu ḥkmŧ āynāsyuŧ fy klmŧ ālyāsyuŧ………………………11362‐  [32]  fṣu ḥkmŧ āḥsānyuŧ fy klmŧ lḳmānyuŧ………………………42372‐  [42]  fṣu ḥkmŧ āmāmyuŧ fy klmŧ hārwnyuŧ………………………13382‐  [52]  fṣu ḥkmŧ ʿulwyuŧ fy klmŧ mwswyuŧ………………………24392‐  [62]  fṣu ḥkmŧ ṣmdyuŧ fy klmŧ ḫāldyuŧ………………………  27303‐  [72]  fṣu ḥkmŧ frdyuŧ fy klmŧ mḥmdyuŧ………………………57343‐  ālmlḥḳāt…………………………………………………80453‐  mlḥḳ 1:  tʿlyḳāt dāḫl ālmḫṭwṭ……………………………90463‐  mlḥḳ 2:  tḥḳyḳ fy msālŧ ālḏbyḥ……………………………12473‐  mlḥḳ 3:  tḥḳyḳ fy ḫāld bn snān……………………………62483‐  mlḥḳ 4:  tḫryǧ ḥdyṯ āltḥwl……………………………334\n",
      "\n",
      "text-orig-plain\n",
      "f*sw*s _al*hkm t_alyf _al^sy_h _al_akbrw_alkbryt _al_a*hm m*hyy _aldyn m*hmdbn _al`rby *kds_a_allhsruh_almtwf/asn=t 836h *k_a*z_am_adn _a_a#y _alw#ybyrwt4341h–3102my*tlb mn d_ar _aln^sr kl_aws ^sf_artzbrlyn \n",
      "jmy` _al*h*kw*k m*hfw*z=t _al*tb`=t _al_awl/a~a 4102m\n",
      "bismi _allhi _alrau*ham~ani _alrau*hiymi *k_al _al^sy_h _al_akbr fy dyw_anh trjm_an _al_a^sw_a*k:  _aa*haba_abu *kalabiy _aayana huma biallhi *kuwluw _aayana huma kama_a ra_aayatu *tayafahuma fahala turiyniy `ayanahum fakama wakama _aa*talubuhum wakama sa_aalatu bayanahuma *hatau/a~a _aaminatu bayanahuma wama_a _aaminatu bayanahuma la`alau sa`adiy *ha_a'lu*n bayana _alnauwa/a~a wa bayanahuma litana`ama _al`ayanu bihima fala_a _aa*kuwla _aayana huma _al/a~a _ast_a_dy `_tm_an y*hy/a~ar*hmh _allh \n",
      "_alfhrst 1‐nm_a_dj b`*d _al*sf*h_at mn m_h*tw*t *kwny=t 3391……………………_a2‐`nw_an kt_ab f*sw*s _al*hkm w_h*sw*s _alklm………………………63‐_h*tb=t kt_ab f*sw*s _al*hkm w_h*sw*s _alklm………………………84‐[1]f*su *hkm=t _al~ahyu=t fy klm=t _admyu=t.………………………………415‐[2]f*su *hkm=t nafa_tiyau=t fy klm=t ^siy_tiyu=t……………………………236‐[3]f*su *hkm=t subuuw*hiyu=t fy klm=t nw*hyu=t…………………………257‐[4]f*su *hkm=t *kuduuwsiyu=t fy klm=t _adrysyu=t…………………………178‐[5]f*su *hkm=t muhayamiyu=t fy klm=t _abr_ahymyu=t…………………………489‐[6]f*su *hkm=t *ha*kiyu=t fy klm=t _as*h_a*kyu=t…………………………5901‐  [7]f*su *hkm=t `aliyau=t fy klm=t _asm_a`ylyu=t…………………………11111‐  [8]f*su *hkm=t ruw*hyu=t fy klm=t y`*kwbyu=t…………………………12121‐  [9]f*su *hkm=t nwryu=t fy klm=t ywsfyu=t…………………………  03131‐  [01]  f*su *hkm=t _a*hdyu=t fy klm=t hwdyu=t…………………………74141‐  [11]  f*su *hkm=t f_at*hyu=t fy klm=t *s_al*hyu=t………………………66151‐  [21]  f*su *hkm=t *klbyu=t fy klm=t ^s`ybyu=t…………………………37161‐  [31]  f*su *hkm=t malakiyu=t fy klm=t lw*tyu=t…………………………98171‐  [41]  f*su *hkm=t *kadariyu=t fy klm=t `uzyryu=t…………………………89181‐  [51]  f*su *hkm=t nbwyu=t fy klm=t `yswyu=t…………………………112\n",
      "91‐  [61]  f*su *hkm=t r*hm_anyu=t fy klm=t slym_anyu=t……………………24202‐  [71]  f*su *hkm=t wjwdyu=t fy klm=t d_awdyu=t………………………26212‐  [81]  f*su *hkm=t nafasiyu=t fy klm=t ywnsyu=t…………………………87222‐  [91]  f*su *hkm=t *gybyu=t fy klm=t _ayuwbyu=t…………………………78232‐  [02]  f*su *hkm=t jl_alyu=t fy klm=t ya*hayawiyau=t………………………69242‐  [12]  f*su *hkm=t m_a lkyu=t fy klm=t zkryu_awyu=t………………………10352‐  [22]  f*su *hkm=t _ayn_asyu=t fy klm=t _aly_asyu=t………………………11362‐  [32]  f*su *hkm=t _a*hs_anyu=t fy klm=t l*km_anyu=t………………………42372‐  [42]  f*su *hkm=t _am_amyu=t fy klm=t h_arwnyu=t………………………13382‐  [52]  f*su *hkm=t `ulwyu=t fy klm=t mwswyu=t………………………24392‐  [62]  f*su *hkm=t *smdyu=t fy klm=t _h_aldyu=t………………………  27303‐  [72]  f*su *hkm=t frdyu=t fy klm=t m*hmdyu=t………………………57343‐  _alml*h*k_at…………………………………………………80453‐  ml*h*k 1:  t`ly*k_at d_a_hl _alm_h*tw*t……………………………90463‐  ml*h*k 2:  t*h*ky*k fy ms_al=t _al_dby*h……………………………12473‐  ml*h*k 3:  t*h*ky*k fy _h_ald bn sn_an……………………………62483‐  ml*h*k 4:  t_hryj *hdy_t _alt*hwl……………………………334\n",
      "\n",
      "text-orig-trans\n",
      "fṣwṣ ālḥkm tālyf ālshykh ālākbrwālkbryt ālāḥm mḥyy āldyn mḥmdbn āl`rby qdsāāllhsrūwhālmtwfāsnt 836h qāẓāmādn āāy ālwybyrwt4341h–3102myṭlb mn dār ālnshr klāws shfārtzbrlyn \n",
      "jmy` ālḥqwq mḥfwẓt ālṭb`t ālāwlā 4102m\n",
      "bismi āllhi ālraūwḥamni ālraūwḥiymi qāl ālshykh ālākbr fy dywānh trjmān ālāshwāq:  āaḥabaābu qalabiy āayana huma biallhi quwluw āayana huma kamaā raāayatu ṭayafahuma fahala turiyniy `ayanahum fakama wakama āaṭalubuhum wakama saāalatu bayanahuma ḥataūwā āaminatu bayanahuma wamaā āaminatu bayanahuma la`alaūw sa`adiy ḥaāylun bayana ālnaūwwaā wa bayanahuma litana`ama āl`ayanu bihima falaā āaquwla āayana huma ālā āstādhy `thmān yḥyārḥmh āllh \n",
      "ālfhrst 1‐nmādhj b`ḍ ālṣfḥāt mn mkhṭwṭ qwnyt 3391……………………ā2‐`nwān ktāb fṣwṣ ālḥkm wkhṣwṣ ālklm………………………63‐khṭbt ktāb fṣwṣ ālḥkm wkhṣwṣ ālklm………………………84‐[1]fṣūw ḥkmt ālhyūwt fy klmt ādmyūwt.………………………………415‐[2]fṣūw ḥkmt nafathiyaūwt fy klmt shiythiyūwt……………………………236‐[3]fṣūw ḥkmt subuūwwḥiyūwt fy klmt nwḥyūwt…………………………257‐[4]fṣūw ḥkmt quduūwwsiyūwt fy klmt ādrysyūwt…………………………178‐[5]fṣūw ḥkmt muhayamiyūwt fy klmt ābrāhymyūwt…………………………489‐[6]fṣūw ḥkmt ḥaqiyūwt fy klmt āsḥāqyūwt…………………………5901‐  [7]fṣūw ḥkmt `aliyaūwt fy klmt āsmā`ylyūwt…………………………11111‐  [8]fṣūw ḥkmt ruwḥyūwt fy klmt y`qwbyūwt…………………………12121‐  [9]fṣūw ḥkmt nwryūwt fy klmt ywsfyūwt…………………………  03131‐  [01]  fṣūw ḥkmt āḥdyūwt fy klmt hwdyūwt…………………………74141‐  [11]  fṣūw ḥkmt fātḥyūwt fy klmt ṣālḥyūwt………………………66151‐  [21]  fṣūw ḥkmt qlbyūwt fy klmt sh`ybyūwt…………………………37161‐  [31]  fṣūw ḥkmt malakiyūwt fy klmt lwṭyūwt…………………………98171‐  [41]  fṣūw ḥkmt qadariyūwt fy klmt `uzyryūwt…………………………89181‐  [51]  fṣūw ḥkmt nbwyūwt fy klmt `yswyūwt…………………………112\n",
      "91‐  [61]  fṣūw ḥkmt rḥmānyūwt fy klmt slymānyūwt……………………24202‐  [71]  fṣūw ḥkmt wjwdyūwt fy klmt dāwdyūwt………………………26212‐  [81]  fṣūw ḥkmt nafasiyūwt fy klmt ywnsyūwt…………………………87222‐  [91]  fṣūw ḥkmt ghybyūwt fy klmt āyūwwbyūwt…………………………78232‐  [02]  fṣūw ḥkmt jlālyūwt fy klmt yaḥayawiyaūwt………………………69242‐  [12]  fṣūw ḥkmt mā lkyūwt fy klmt zkryūwāwyūwt………………………10352‐  [22]  fṣūw ḥkmt āynāsyūwt fy klmt ālyāsyūwt………………………11362‐  [32]  fṣūw ḥkmt āḥsānyūwt fy klmt lqmānyūwt………………………42372‐  [42]  fṣūw ḥkmt āmāmyūwt fy klmt hārwnyūwt………………………13382‐  [52]  fṣūw ḥkmt `ulwyūwt fy klmt mwswyūwt………………………24392‐  [62]  fṣūw ḥkmt ṣmdyūwt fy klmt khāldyūwt………………………  27303‐  [72]  fṣūw ḥkmt frdyūwt fy klmt mḥmdyūwt………………………57343‐  ālmlḥqāt…………………………………………………80453‐  mlḥq 1:  t`lyqāt dākhl ālmkhṭwṭ……………………………90463‐  mlḥq 2:  tḥqyq fy msālt āldhbyḥ……………………………12473‐  mlḥq 3:  tḥqyq fy khāld bn snān……………………………62483‐  mlḥq 4:  tkhryj ḥdyth āltḥwl……………………………334\n",
      "\n"
     ]
    }
   ],
   "source": [
    "A.indent(reset=True)\n",
    "A.info(\"writing plain text of the Fusus in all formats\")\n",
    "\n",
    "text = collections.defaultdict(list)\n",
    "\n",
    "for v in F.otype.s(\"page\"):\n",
    "    words = L.d(v, \"word\")\n",
    "    for fmt in sorted(T.formats):\n",
    "        text[fmt].append(T.text(words, fmt=fmt))\n",
    "\n",
    "A.info(\"done {} formats\".format(len(text)))\n",
    "\n",
    "for fmt in sorted(text):\n",
    "    print(\"{}\\n{}\\n\".format(fmt, \"\\n\".join(text[fmt][0:5])))"
   ]
  },
  {
   "cell_type": "markdown",
   "metadata": {},
   "source": [
    "### The full plain text\n",
    "We write a few formats to file, in your `Downloads` folder."
   ]
  },
  {
   "cell_type": "code",
   "execution_count": 38,
   "metadata": {
    "ExecuteTime": {
     "end_time": "2018-03-08T10:14:43.743463Z",
     "start_time": "2018-03-08T10:14:43.726787Z"
    }
   },
   "outputs": [],
   "source": [
    "orig = \"text-orig-full\"\n",
    "trans = \"text-orig-trans\"\n",
    "for fmt in (orig, trans):\n",
    "    with open(os.path.expanduser(f\"~/Downloads/FususL-{fmt}.txt\"), \"w\") as f:\n",
    "        f.write(\"\\n\".join(text[fmt]))"
   ]
  },
  {
   "cell_type": "code",
   "execution_count": 39,
   "metadata": {
    "ExecuteTime": {
     "end_time": "2018-03-08T10:14:44.766248Z",
     "start_time": "2018-03-08T10:14:44.618476Z"
    }
   },
   "outputs": [
    {
     "name": "stdout",
     "output_type": "stream",
     "text": [
      "فصوص الحكم تأليف الشيخ الأكبروالكبريت الأحم محيي الدين محمدبن العربي قدسااللهسرّهالمتوفىسنة ٨٣٦هـ قاظامادن أای الویبيروت٤٣٤١هـ–٣١٠٢ميطلب من دار النشر كلاوس شفارتزبرلين \n",
      "جميع الحقوق محفوظة الطبعة الأولىٰ ٤١٠٢م\n",
      "بِسمِ اللهِ الرَّحْمٰـنِ الرَّحِيمِ قال الشيخ الأكبر في ديوانه ترجمان الأشواق:  أَحْبَابُ قَـلْبِي أَيْنَ هُمْ بِٱللهِ قُـولُو أَيْنَ هُــمْ كَمَــا رَأَيْتُ طَـيْفَهُــمْ فَهَلْ تُرِينِي عَيْـنَهُـم فَكَــمْ وَكَــمْ أَطْـلُبُهُــم وَكَــمْ سَـأَلْتُ بَيْنَهُمْ حَـتَّـىٰ أَمِـنْتُ بَيْنَهُــمْ وَمَا أَمِـنْتُ بَيْنَهُـــمْ لَعَـلَّ سَعْـدِي حَـائـلٌ بَيْنَ النَّوَىٰ وَ بَيْنَهُـمْ لِتَـنْعَــمَ العَيْــنُ بِهِــمْ فَـلَا أَقُـولَ أَيْنَ هُــمْ إلىٰ أستاذي عثمان يحيىٰرحمه الله \n",
      "الفهرست ١‐نماذج بعض الصفحات من مخطوط قونية ٣٣٩١……………………أ٢‐عنوان كتاب فصوص الحكم وخصوص الكلم………………………٦٣‐خطبة كتاب فصوص الحكم وخصوص الكلم………………………٨٤‐[١]فصّ حكمة إلٰهيّة في كلمة آدميّة.………………………………٤١٥‐[٢]فصّ حكمة نَفْثِيَّة في كلمة شِـيثِيّة……………………………٢٣٦‐[٣]فصّ حكمة سُـبُّوحِيّة في كلمة نوحيّة…………………………٢٥٧‐[٤]فصّ حكمة قُدُّوسِيّة في كلمة إدريسيّة…………………………١٧٨‐[٥]فصّ حكمة مُهَيْمِيّة في كلمة إبـراهيميّة…………………………٤٨٩‐[٦]فصّ حكمة حَقِـيّة في كلمة إسحاقـيّة…………………………٥٩٠١‐  [٧]فصّ حكمة عَلِيَّة في كلمة إسماعيلـيّة…………………………١١١١١‐  [٨]فصّ حكمة رُوحيّة في كلمة يعقوبـيّة…………………………١٢١٢١‐  [٩]فصّ حكمة نوريّة في كلمة يوسفيّة…………………………  ٠٣١٣١‐  [٠١]  فصّ حكمة أحديّة في كلمة هوديّة…………………………٧٤١٤١‐  [١١]  فصّ حكمة فاتحيّة في كلمة صالحيّة………………………٦٦١٥١‐  [٢١]  فصّ حكمة قـلبـيّة في كلمة شعيبيّة…………………………٣٧١٦١‐  [٣١]  فصّ حكمة مَلَـكِيّة في كلمة لوطيّة…………………………٩٨١٧١‐  [٤١]  فصّ حكمة قَدَرِيّة في كلمة عُـزيريّة…………………………٨٩١٨١‐  [٥١]  فصّ حكمة نبويّة في كلمة عيسويّة…………………………١١٢\n",
      "٩١‐  [٦١]  فصّ حكمة رحمانيّة في كلمة سليمانيّة……………………٢٤٢٠٢‐  [٧١]  فصّ حكمة وجوديّة في كلمة داوديّة………………………٢٦٢١٢‐  [٨١]  فصّ حكمة نَفْسِيّة في كلمة يونسيّة…………………………٨٧٢٢٢‐  [٩١]  فصّ حكمة غيبيّة في كلمة أيّوبيّة…………………………٧٨٢٣٢‐  [٠٢]  فصّ حكمة جلاليّة في كلمة يَحْـيَوِيَّة………………………٦٩٢٤٢‐  [١٢]  فصّ حكمة ما لكيّة في كلمة زكـريّاويّة………………………١٠٣٥٢‐  [٢٢]  فصّ حكمة إيـناسيّة في كلمة إلياسيّة………………………١١٣٦٢‐  [٣٢]  فصّ حكمة إحسانيّة في كلمة لقمانيّة………………………٤٢٣٧٢‐  [٤٢]  فصّ حكمة إماميّة في كلمة هارونيّة………………………١٣٣٨٢‐  [٥٢]  فصّ حكمة عُـلـويّة في كلمة موسويّة………………………٢٤٣٩٢‐  [٦٢]  فصّ حكمة صمديّة في كلمة خالديّة………………………  ٢٧٣٠٣‐  [٧٢]  فصّ حكمة فرديّة في كلمة محمديّة………………………٥٧٣٤٣‐  الملحقات…………………………………………………٨٠٤٥٣‐  ملحق ١:  تعليقات داخل المخطوط……………………………٩٠٤٦٣‐  ملحق ٢:  تحقيق في مسألة الذبيح……………………………١٢٤٧٣‐  ملحق ٣:  تحقيق في خالد بن سنان……………………………٦٢٤٨٣‐  ملحق ٤:  تخريج حديث التحول……………………………٣٣٤\n",
      "[١وجه]كِتَابُ فُصُوصِ الحِكَمِ وَخُصُوصِ الكَلِمِ إِنْشَاءُ سَيِّدِنَا وَشَيخِنَا،  الإِمَامِ العَالِمِ الرَّاسِخِ،  الفَـرْدِ المُحَقَّقِ مُحْيِي المِلَّةِ وَالدِّينِ أَبِي عَبدِ اللهِ مُحَمَّدِ بْنِ عَلَيِّ بْنِ العَـرَبِيِّ الطَّائِيِّ الحَاتِمِيِّ الأَنْدَلُسِيِّ [٠٦٥ –  ٨٣٦هـ]  رَضِيَ اللهُ عَنْهُ وَأَرْضَاهُ.  رِوَايَةُ صَدْرِ الدِّينِ مُحَمَّدِ بْنِ إِسْحَاقَ بْنِ مُحَمَّدٍ القُونَوِيِّ [٧٠٦ –٣٧٦هـ]  عَـنِّي.  قَرَأَ عَلَيَّ هٰذَا الكِتَابَ مِنْ أَوَّلِهِ إِلَىٰ آخِـرِهِ الوَلِيُّ العَارِفُ المُحَقَّقُ المَش ْـرُوحُ الصَدْ رُ الم ُنَوَّرُ الذَّاتُ مُحَمَّ دُ بْنُ إِسْحَاقَ بْنِ مُح َمَّدٍ القُونَوِيُّ مَالِكُ هٰذَا الكِتَابِ،  وَأُذِنَ لَهُ فِي الحَدِيثِ بِهِ عَنِّي.  وَكَتَبَ مُنْشِؤهُ مُحَمَّدُ بْنُ العَـرَبِيِّ،  فِي عَشْـ رِ جُمَادَىٰ الأُولَىٰ سَنَةَ ثَلَاثِينَ وَسِتِّمِاىَٔـةٍ [٠٣٦هـ].  \n",
      "[١ظهر]بِسْمِ اللهِ الرَّحْمٰـنِ الرَّحِيمِ وَعَلَيهِ أَتَوَكَّلُ وَبِهِ أَستَعِينُ وَصَلَّىٰ اللهُ عَلَىٰ مُحَمَّدٍ وَآلِهِ.  رَبِّ يَسِّـرْ وَتَمِّمْ.  قَالَ سَيِّدُنَا وَشَيْخُنَا الإِمَامُ العَالِمُ الـرَّاسِـخُ،  الفَـرْدُ المُحَقَّقُ،   مُحْيِي المِلَّةِ وَالدِّيْنِ،  أَبُو عَبْدِ اللهِ،  مُحَمَّدُ بْنُ عَلِيٍّ العَـرَبِيُّ الطَّائِيُّ الحَاتِمِيُّ الأَنْدَلُسِيُّ،  رَضِيَ اللهُ عَنْهُ:  \n",
      "[خُطْـبَةُ المُؤلِّفِ]الح َمْدُ لِلهِ مُـنَـ زِّلِ الحِكَمِ عَل َىٰ قُل ُوبِ الكَ لِمِ بِأَ حَدِيَّةِ الطَّـ رِيقِ الأَمَمِ  مِنَ المَقَامِ الأَقْدَمِ وَإِنِ ٱخْتَلَفَتِ النِّحَلُ وَالمِلَلُ لِٱخْتِلَافِ الأُمَمِ.  \n",
      "وَصَلَّىٰ اللهُ عَلَىٰ مُمِدِّ الهِمَمِ،   مِنْ خَـزَائِنِ الجُودِ وَالكَـرَمِ،   بِالقِيلِ الأَقْـوَمِ،   مُحَمَّدٍ وَعَلَىٰ آلِهِ وَسَلَّمَ.  أَمَّا بَعْدُ:  فَإِنِّي رَأَيْتُ رَسُولَ اللهِ صَلَّىٰ اللهُ عَلَيْهِ [وَ آلِهِ]  وَسَلَّمَ فِي مُـبَشِّـرَةٍ أُرِيتُهَافِي العَشْرِ الأُخَـرِ مِنْ المُحَـرَّمِ سَنَةَ سَبْعٍ وَعِشْرِينَ وَستِّمِاىَٔةٍ [٧٢٦ هـ]بِمَحْـرُوسَةِ دِمَشْقَ،  وَبِيِدِهِ صَلَّىٰ اللهُ عَلَيهِ [وَ آلِهِ]  وَسَلَّمَ كِتَابٌ.  فَقَالَ لِي:  «هٰذَا كِتَابُ فُصُوصِ الحِكَمِ.  خُذْهُ وَٱخْـرُجْ بِهِ إِلَىٰ النَّاسِيَنْـتَفِعُونَ بِهِ».  \n",
      "فَقُلْتُ:  «السَّمْعَ وَالطَّاعَةَ لِلهِ وَلِرَسُولِهِ وَأُولِي الأَمْرِ مِنَّا،  كَمَا أُمِرْنَا».  فَحَقَّقْتُ الأُمْـنِـيَّـةَ،  وَأَخْلَصْتُ النِّـ يَّةَ،  وَجَـرَّدْتُ الق َصْدَ وَالهِمَّةَ إِلَىٰ إِبْـ رَازِهٰذَا الكِ تَابِ كَمَا حَدَّهُ لِي رَسُولُ اللهِ صَلَّىٰ الل هُ عَلَيهِ وَسَلَّمَ مِنْ غَيرِ زِيَادَةٍ وَلَانُقْصَانٍ.  وَسَأَلْتُ اللهَ أَنْ يَجْعَلَنِي فِيهِ وَفِي جَمِيْعِ أَحْوَالِي مِنْ عِبَادِهِ الَّذِينَ لَيسَ لِلش َّيْط َانِ عَلَيْهِمْ سُلْطَانٌ،   وَأَنْ يَخ ُصَّن ِي فِي جَمِي عِ مَا يَرقُمُهُ  بَن َانِي،  وَيَنْطِقُ بِهِ لِسَانِي،  وَيَنْط َوِي عَلَي هِ جَن َانِي،   بِا لإِلْقَا ءِ الس ُّبُّو حِي وَالنَّف ْثِ الرُّوحِي فِي \n",
      "الرُّوعِ النَّفْسِي بِالتَّـأيِيْدِ الٱعْتِصَامِي،   حَتَّىٰ أَكُونَ مُتَرْجِمًا لَا مُتَحَكِّمًا،  لِيَتَحَـقَّقَ مَنْ يَقِفُ عَلَيْهِ مِنْ أَهْلِ اللهِ،  أَصْحَابِ القُلُوبِ،  أَنَّهُ مِنْ مَقَامِالتَّقْدِيْسِ المُنَزَّهِ عَنِ الأَغْرَاضِ النَّفْسِيَّةِ الَّتِي يَدْخُلُهَا التَّلْبِيسُ.  وَأَرْجُو أَنْ يَكُونَ الحَقُّ تَعَاَلىٰ لَمَّا سَمِعَ دُعَائِي،  قَدْ أَجَابَ [٢وجه]نِدَائِي،  فَمَا أُلْقِي إِلَّا مَا يُلْقَىٰ إِليَّ،  وَلَا أُنَزِّلُ فِي هٰذَا المَسْطُورِ إِلَّا مَا\n",
      "يُنْزَلُ بِهِ عَلَيَّ.  وَلَسْتُ بِنَبِيٍّ وَلَا رَسُولٍ،  وَلٰـكِنِّي وَارِثٌ،  وَلِآخِـرَتِي حَارِثٌ.  [مجـزوء الخفيف]١‐فَمِنَ اللهِ فَـٱسْمَعُوْا وَإَِلىٰ اللهِ فَارْجِعُـوْا٢‐فَإِذَا سَمِعْتُــمْ مَــا أَتَـيْـتُـــمْ بِـهِ،  فَعُـــوْا٣‐ثُمَّ بِالفَهْمِ فَصِّـلُوْا مُجْمَلَ القَولِ وَٱجْمَعُوْا٤‐ثُمَّ مُنُّوا بِـهِ عَلَىٰ طَــالِبِـــيْهِ لَا تَمْنَعُـــوْا٥‐هٰذِهِ الرَّحْمَةُ الَّتِي وَسِعَتْـكُــمُ فَـوَسِّعُــوا\n",
      "وَمِنَ اللهِ أَرْجُوْ أَنْ أَكُوْنَ مِمَّنْ أُيَّدَ فَتَـأَيَّدَ،   وَأُيَّدَ وَقُـيِّدَ بِالشَّرْعِالمُحَمَّدِيِّ المُطَهَّـرِ فَـتَقَـيَّدَ وَقُـيِّدَ.  وَحَشَرَنَا فِي زُمْـرَتِهِ،  كَمَا جَعَـلَـنَا مِنْ أُمَّـتِهِ.  فَـأَوَّلُ مَا أَلقَاهُ المَالِكُ عَلَىٰ العَبدِ مِنْ ذٰلِكَ:  [بقية النّص المكمّلة لهذه الصّفحة في الصّفحة التّالية]\n",
      "[١]﴿فَصُّ حِكْمَةٍ إِلٰهِيَّةٍ فِي كَلِمَةٍ آدَمِيَّةٍ﴾لَمَّا شَاءَ الحَقُّ سُبْحَانَهُ مِنْ حَيْثُ أَسْمَاؤهُ الحُسْنَىٰ الَّتِي لَا يَبْلُغُهَاالإِحْصَاءُ أَنْ يَـرَىٰ أَعْيَانَهَا،  وَإِنْ شِئتَ قُـلْتَ:  أَنْ يَـرَىٰ عَـيْنَهُ فِي كَـونٍ\n",
      "جَامِـعٍ يَحْصُرُ الأَمْـرَ لِكَونِهِ مُتَّصِفًا بِالوُجُودِ،  وَيَظْهَـرُ بِهِ سِـرُّهُ إِلَـيهِ.  فَإِنَّ رُؤيَةَ الشَّيءِ نَفْسَهُ بِنَفْسِهِ،  مَاهِيَ مِثْلَ رُؤيَـتِهِ نَفْسَهُ فِي أَمْـرٍ آخَـرَ،  يَكُ وْنُ لَهُ كَالمِـرآةِ،  فَإِنَّهُ تَظ ْهَـرُ لَهُ نَفْسُـهُ فِي صُورَةٍ يُعْطِيْهَا المَحَلُّ المَنْظُو رُفِيْهِ،  مِمَّا لَمْ يَكُنْ يَظْهَـرُ لَهُ مِنْ غَيرِ وُجُودِ هٰذَا المَحَلِّ،  وَلَا تَجَـلِّـيهِ لَهُ.  وَقَدْ كَانَ الحَقُّ أَوْجَدَ العَالَمَ كُلَّهُ وُجُودَ شَبَحٍ مُسَوَّىً،   لَا رُوحَ فِيهِ،  \n",
      "فَـكَانَ كَمِرآةٍ غَـيْرِ مَجْلُوَّةٍ.  وَمِنْ شَأنِ الحُـكْمِ الإِلـٰهِيِّ  أَنَّهُ مَا سَوَّ ىٰ مَحَلٍّا إِلَّاوَلَا بُدَّ أَنْ يَقْبَلَ رُوحًا إِلـٰهِيٍّا عَبَّرَ عَنهُ بِالنَّفْخِ فِيْهِ،  وَمَا هُوَ إِلَّا حُصُولُالٱسْتِعْدَادِ مِنْ تِلْكَ الصُّورَةِ المُسَوَّاةِ [٢ظهر]  لِقَـبُولِ الفَـيضِ المُتَجَلِّي الدَّائِمِ الَّذِي لَمْ يَـزَلْ وَلَا يَـزَالُ.  وَمَا بَقِيَ إِلَّا قَابِلٌ،  وَالقَابِلُ لَا يَكُونُ إِلَّا مِنْ فَيضِهِ الأَقْدَسِ.  فَالأَمْرُ كُلُّهُ :.  مِنْهُ :.  ٱبْتِدَاؤُهُ وَٱنْتِهَاؤُهُ ―  ﴿وَإِلَيهِ يُـرْجَعُ الأَمْـرُ كُلُّهُ﴾[هود :  ٣٢١]  ―  كَمَا ٱبْتَدَأَ مِنْهُ.  فٱقْتَضَىٰ الأَمْـرَُ جَلَاءَ مِـرآةِ العَالَمِ؛  فَـكَانَ آدَمُ عَينَ جَلَاءِ تِلْكَ المِـرآةِ،  وَرُوحَ تِلْكَ الصُّورَةِ.  وَكَانَتِ المَلَائِكَةُ مِنْ بَعْضِ قُوَىٰ تِلْكَ الصُّورَةِ الَّتِي هِيَ صُورَةُ العَالَمِ المُعَـبَّرِ عَنْهُ فِي ٱصْطِلَاحِ القَومِ بِالإِنْسَانِ الكَبِيْرِ.  \n",
      "فَـكَانَتِ المَلَائِكَةُ لَهُ كَالقُوَىٰ الرُّوحَانِيَّةِ وَالحِسِيَّةِ الَّتِي فِي النَّشْأَةِالإِنْسَانِيَّةِ.  وَ كُلُّ قُوَّةٍ مِن ْهَا مَحْج ُوبَةٌ بِنَف ْسِه َا،  لَا تَـ رَىٰ أَفْضَلَ مِنْ ذَاتِهَا،  وَأَنَّ فِي هَا ―فِيمَا تَـزْعُمُ ―  الأَهْلِيَّةَ لِكُلِّ مَنْصِبٍ عَالٍ،  وَمَـنْـزِلَةٍ رَفِيعَةٍ عِنْدَ اللهِ،  لِمَاعِنْدَهَا مِنَ الجَمْعِيَّةِ الإِلٰهِيَّةِ.  بَيْنَ مَا يَـرْجِعُ مِنْ ذٰلِكَ إِلَىٰ الجَنَابِ الإِلٰهِيِّ،  وَإِلَىٰ جَانِبِ حَقِيْقَةِ الحَقَائِقِ،  وَفِي النَّشْأَةِ الحَامِلَةِ لِهٰذِهِ الأَوصَافِ إِلَىٰ مَاتَقْتَضِيهِ الطَّبِيعَةُ لِلْـكُـلِّ الَّتِي حَصَـرَتْ قَوَابِلَ العَالَمِ كُـلِّهِ،  أَعْلَاهُ وَأَسْفَلِهُ.  \n",
      "وَهٰذَا لَا يَعْرِفُهُ عَقْلٌ،  بِطَـرِيقِ نَظْـرٍ فِـ كْـ رِيٍّ،  بَلْ هٰذَا الفَنُّ مِنَ الإِدْرَاكِلَا يَكُ ونُ إِلَّا عَنْ كَشْفٍ إٍلٰه ِيٍّ :.  مِن ْهُ :.  يُـعْـرَفُ مَا أَصْلُ صُوَرِ العَا لَمِ الق َابِل َةِ لِأَرْوَاحِهِ،  فَس َمَّىٰ هٰذَا الم َذْكُورَ إِنْسَانًا وَخَلِيفَةً؛  فَـأَمَّا إِنْسَانِيَّت ُهُ فَلِعُمُومِ نَشْـ أَتِهِ،  وَحَص ْـرِهِ الحَقَائِقَ كُـلَّهَا،  وَهُوَ لِلْحَقِّ بِم َنْـزِلَةِ إِنْسَانِ العَينِ مِنَ العَينِ الَّذِي بِهِ يَكُونُ النَّظَـرُ،  وَهُوَ المُعَبَّـرُ عَنْهُ بِالبَصَـرِ.  فَلِهٰذَا سُمِّيَ إِنْسَانًا،  فَإِنَّهُ بِهِ نَظَـرَ الحَقُّ إِلَىٰ خَـلْقِهِ فَـرَحِمَهُمْ.  فَهُوَ الإِنْس َانُ الحَادِثُ الأَزَلِيُّ،  وَالنَشْءُ الدَّائِمُ الأَبَدِيُّ،  وَالكَلِمَةُ الفَاصِلَةُ الجَامِعَةُ.  فَتَمَّ العَالَمُ بِوُجُوْدِهِ.  فَهُوَ مِنَ العَالَمِ كَفَصِّ الخَاتَمِ مِنَ الخَاتَمِ،  هُوَ مَحَلُّ النَّقْشِ:.  وَالعَلَامَةُ:.  الَّتِي بِهَا يَخْتِمُ المَلِكُ عَلَىٰ خِـزَانَتِهِ.  وَسَمَّاهُ خَلِيفَةً مِنْ أَجْلِ هٰذَا.  لَأَنَّهُ تَعَالَىٰ الحَافِظُ خَل ْقَهُ كَمَا يَحْفَظُ الخَتْمُ [٣وجه]  الخَزَ ائِنَ.  فَمَا دَامَخَتْمُ الم َلِكِ عَل َيهَا،  لَا يَجْ سُـرُ أَحَدٌ عَلَىٰ فَتْحِهَا إِلَّا بِـإِذْنِهِ.  فَـ ٱسْتَخْ لَفَهُ فِي حِفْظِ العَالَمِ،  فَلَا يَـزَالُ العَالَمُ مَحْفُوظًا،  مَا دَامَ فِيهِ هٰذَا الإِنْسَانُ الـكَامِلُ.  \n",
      "أَلَا تَـرَاهُ إِذَا زَالَ،  وَفُكَّ مِنْ خِـ زَانَةِ الدُّنْـيَا،  لَمْ يَبْقَ فِيه َا مَا ٱخْتَـزَنَهُ الحَقُّ فِيهَا،  وَخَـرَجَ مَا كَانَ فِيهَا،  وَٱلْتَحَقَ بَعْضُهُ بِبَعْضِهِ،   وَٱنْتَقَلَ الأَمْـرُ إِلَىٰ الآخِـرَةِ،  فَـكَانَ خَتْمًا عَلَىٰ خِـزَانَةِ الآخِـرَةِ خَتْمًا أَبَدِيٍّا.  فَظَهَـرَ جَمِيعُ مَا فِي الصُّورَةِ الإِلٰهِيَّةِ مِنَ الأَسْمَاءِ فِي هٰذِهِ النَّشْـأَةِالإِنْس َانِيَّةِ.  فَحَازَتْ رُتْبَةَ الإِحَاطَةِ وَالجَمْعِ،  بِهٰذَا الوُجُودِ،  وَبِهِ قَامَتِ الحُجَّةُ لِلهِ تَعَالَىٰ عَلَىٰ المَلَائِكَةِ.  فَـتَحَفَّظْ،  فَقَدْ وَعَظَكَ اللهُ بِغَيْـرِكَ،  وَٱنْظُـرْ مِنْ أَيْنَ أُتِيَ عَلَىٰ مَنْ أُتِيَ عَلَيهِ.  فَإِنَّ المَلَائِكَةَ لَمْ تَقِفْ مَعَ مَا تُعْطِيهِ نَشَـأَةُ هٰذَا الخَلِيفَةِ،  وَلَاوَقَفَتْ مَعَ مَا تَقَـتَضِيهِ حَضْـرَةُ الحَقِّ مِنَ العِبَادَةِ الذَّاتِـيَّـةِ.  \n",
      "فَإِنَّهُ مَا يَعْـ رِفُ أَحَدٌ مِنَ الحَقِّ إِلَّا مَا تُع ْطِيهِ ذَاتُهُ .  وَلَـ يسَ لِلْمَ لَ ائِكَةِ جَم ْعِيَّةُ آدَمَ،   وَلَا وَقَفَتْ مَعَ الأَسْمَاءِ الإِلٰهِيَّةِ الَّتِي تَخُصُّهَا،  وَسَبَّحَتِ الحَقَّ بِهَاوَقَدَّسَتْهُ،  وَمَا عَلِمَتْ أَنَّ لِلهِ أَسْمَا ءً،  مَا وَصَلَ عِل ْمُهَا إِلَي هَا،  فَم َا سَبَّحَتْهُ بِهَا وَلَاقَدَّسَتْهُ،  فَغَلَبَ عَلَيهَا مَا ذَكَـرْنَاهُ،  وَحَكَمَ عَلَيهَا هٰذَا الحَالُ،  فَقَالَتْ ―  مِنْ حَيثُ النَّشْـأةُ ―  :  ﴿أَتَجْعَلُ فِيهَا مَنْ يُـفْسِدُ فِيهَا﴾،  [سورة البقرة :  ٠٣].  وَلَيْسَ إِلَّا الن ِّـزَاعُ وَهُوَ عَينُ مَا وَقَعَ مِنْهُمْ،  فَمَا قَالُو هُ فِي حَقِّ آدَمَ،  هُوَ عَينُ مَاهُمْ فِيهِ مَعَ الحَقِّ.  فَلَولَا أَنَّ نَشْـأَتَهُمْ تُعْطِي ذٰلِكَ،  مَا قَالُوا فِي حَقِّ آدَمَ مَا قَالُوهُ،  وَهُمْ لَايَشْع ُـرُونَ.  فَلَو عَـ رَفُوا نُفُوْسَهُمْ لَعَلِمُوا،  وَلَوْ عَلِمُوا لعُصِمُوا.  ثُمََّ لَمْ يَقِفُوا مَعَ التَّجْـرِيحِ،  حَتَّىٰ زَادُوا فِي الدَّعْوَىٰ بِمَا هُمْ عَلَيهِ مِنَ التَّقْدِيسِ وَالتَّسْبِيحِ.  وَعِنْدَ آدَمَ مِنَ الأَسْمَاءِ الإِلٰهِي َّةِ مَا لَمْ تَـكُنِ الم َلَائِكَ ةُ عَل َيْهَا،  [٣ظه ر]فَمَاسَبَّحَتْ رَبَّهَا بِهَا،  وَلَا قَدَّسَتْهُ عَنْهَا تَقْدَيْسَ آدَمَ وَتَسْبِيْحَهُ.  فَوَصَفَ الحَقُّ لَنَا مَا جَـ رَىٰ لِنَقِفَ عِنْدَهُ،  وَنَتَعَلَّمَ الأَدَبَ مَعَ اللهِ تَعَالَىٰ،  \n"
     ]
    }
   ],
   "source": [
    "!head -n 20 ~/Downloads/FususL-{orig}.txt"
   ]
  },
  {
   "cell_type": "markdown",
   "metadata": {},
   "source": [
    "## Sections\n",
    "\n",
    "A section is a piece, a page or a line.\n",
    "Knowledge of sections is not baked into Text-Fabric.\n",
    "The config feature `otext.tf` may specify three section levels, and tell\n",
    "what the corresponding node types and features are.\n",
    "\n",
    "From that knowledge it can construct mappings from nodes to sections, e.g. from verse\n",
    "nodes to tuples of the form:\n",
    "\n",
    "    (piece number, page number, line number)\n",
    "\n",
    "Here are examples of getting the section that corresponds to a node and vice versa.\n",
    "\n",
    "**NB:** `sectionFromNode` always delivers a verse specification, either from the\n",
    "first slot belonging to that node, or, if `lastSlot`, from the last slot\n",
    "belonging to that node."
   ]
  },
  {
   "cell_type": "code",
   "execution_count": 42,
   "metadata": {
    "ExecuteTime": {
     "end_time": "2018-03-08T10:14:49.175819Z",
     "start_time": "2018-03-08T10:14:49.151007Z"
    }
   },
   "outputs": [
    {
     "name": "stdout",
     "output_type": "stream",
     "text": [
      "section of first word          (1, 1, 1)\n",
      "node of piece 8, page 88, line 3 63298\n"
     ]
    }
   ],
   "source": [
    "for x in (\n",
    "    (\"section of first word\", T.sectionFromNode(1)),\n",
    "    (\"node of piece 8, page 88, line 3\", T.nodeFromSection((8, 88, 3))),\n",
    "):\n",
    "    print(\"{:<30} {}\".format(*x))"
   ]
  },
  {
   "cell_type": "markdown",
   "metadata": {},
   "source": [
    "# Next steps\n",
    "\n",
    "By now you have an impression how to compute around in the text.\n",
    "While this is still the beginning, I hope you already sense the power of unlimited programmatic access\n",
    "to all the bits and bytes in the data set.\n",
    "\n",
    "Here are a few directions for unleashing that power.\n",
    "\n",
    "## Search\n",
    "Text-Fabric contains a flexible search engine, that does not only work for this data,\n",
    "but also for data that you add to it.\n",
    "There is a tutorial dedicated to [search](search.ipynb).\n",
    "\n",
    "## Add your own data\n",
    "If you study the additional data, you can observe how that data is created and also\n",
    "how it is turned into a text-fabric data module.\n",
    "The last step is incredibly easy. You can write out every Python dictionary where the keys are numbers\n",
    "and the values string or numbers as a Text-Fabric feature.\n",
    "When you are creating data, you have already constructed those dictionaries, so writing\n",
    "them out is just one method call.\n",
    "\n",
    "You can then easily share your new features on GitHub, so that your colleagues everywhere\n",
    "can try it out for themselves."
   ]
  },
  {
   "cell_type": "markdown",
   "metadata": {},
   "source": [
    "---\n",
    "\n",
    "CC-BY Dirk Roorda"
   ]
  }
 ],
 "metadata": {
  "kernelspec": {
   "display_name": "Python 3 (ipykernel)",
   "language": "python",
   "name": "python3"
  },
  "language_info": {
   "codemirror_mode": {
    "name": "ipython",
    "version": 3
   },
   "file_extension": ".py",
   "mimetype": "text/x-python",
   "name": "python",
   "nbconvert_exporter": "python",
   "pygments_lexer": "ipython3",
   "version": "3.9.7"
  },
  "toc": {
   "nav_menu": {},
   "number_sections": true,
   "sideBar": true,
   "skip_h1_title": false,
   "toc_cell": false,
   "toc_position": {},
   "toc_section_display": "block",
   "toc_window_display": false
  },
  "widgets": {
   "application/vnd.jupyter.widget-state+json": {
    "state": {},
    "version_major": 2,
    "version_minor": 0
   }
  }
 },
 "nbformat": 4,
 "nbformat_minor": 4
}
